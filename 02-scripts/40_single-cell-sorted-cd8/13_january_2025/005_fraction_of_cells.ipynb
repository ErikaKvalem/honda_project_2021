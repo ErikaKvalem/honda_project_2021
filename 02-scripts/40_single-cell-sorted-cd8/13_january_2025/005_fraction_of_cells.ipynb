{
 "cells": [
  {
   "cell_type": "markdown",
   "id": "e8a3c995-e305-4312-a6e3-10e75c2c624b",
   "metadata": {},
   "source": [
    "## 01.Plotting "
   ]
  },
  {
   "cell_type": "markdown",
   "id": "eb329137-db1d-412a-9f1d-9af6add10428",
   "metadata": {},
   "source": [
    "### Import libraries"
   ]
  },
  {
   "cell_type": "code",
   "execution_count": 1,
   "id": "22f47a42-42bc-4b65-b01d-f4e1472915fd",
   "metadata": {},
   "outputs": [],
   "source": [
    "import pandas as pd\n",
    "import scanpy as sc\n",
    "import seaborn as sns"
   ]
  },
  {
   "cell_type": "code",
   "execution_count": 2,
   "id": "cbf0dbc9-b433-4656-9340-f2f659115601",
   "metadata": {},
   "outputs": [],
   "source": [
    "from statannot import add_stat_annotation\n",
    "from statannotations.Annotator import Annotator"
   ]
  },
  {
   "cell_type": "code",
   "execution_count": 3,
   "id": "5d290611-453f-405a-86d5-54ca1c1211d3",
   "metadata": {},
   "outputs": [],
   "source": [
    "import matplotlib.pyplot as plt"
   ]
  },
  {
   "cell_type": "markdown",
   "id": "e4af8405-14c8-473d-b10f-0b3e4e668ae9",
   "metadata": {},
   "source": [
    "### Data loading"
   ]
  },
  {
   "cell_type": "code",
   "execution_count": 11,
   "id": "e7a9d285-70b1-4e3a-8348-26af17972a66",
   "metadata": {},
   "outputs": [],
   "source": [
    "adata = sc.read_h5ad(\n",
    "    \"/data/projects/2021/MicrobialMetabolites/single-cell-sorted-cd8/results/40_gex_surface_prot/13_january_2025/mapped_data/mapped_til_colon.h5ad\"\n",
    ")"
   ]
  },
  {
   "cell_type": "markdown",
   "id": "df87a94a-1a98-473c-80da-dd2cf1dae964",
   "metadata": {},
   "source": [
    "### Markers from \n",
    "- https://doi.org/10.1038/s41467-021-23324-4\n",
    "- \"Interpretation of T cell states from single-cell transcriptomics data using reference atlases\""
   ]
  },
  {
   "cell_type": "code",
   "execution_count": null,
   "id": "72dc3a8a-64bf-4d1f-84a3-a6dacbd01f86",
   "metadata": {},
   "outputs": [],
   "source": [
    "marker_dict_small = {\n",
    "    \"CD8_NaiveLike\": [\n",
    "        \"Ccr7\",\n",
    "        \"Il7r\",\n",
    "        \"Sell\",\n",
    "        \"Tcf7\",\n",
    "        \"Txk\",\n",
    "        \"S1pr1\",\n",
    "        \"Lef1\",\n",
    "        \"Satb1\",\n",
    "    ],\n",
    "    \"CD8_EarlyActiv\": [\"Fosb\", \"Gzmm\", \"Samd3\", \"Cxcr4\", \"Btg2\"],\n",
    "    \"CD8_EffectorMemory\": [\n",
    "        \"Gzma\",\n",
    "        \"Gzmk\",\n",
    "        \"Gzmb\",\n",
    "        \"Ccl5\",\n",
    "    ],\n",
    "    \"CD8_Tpex\": [\n",
    "        \"Xcl1\",\n",
    "        \"Crtam\",\n",
    "        \"Ifng\",\n",
    "        \"Ccl4\",\n",
    "        \"Dusp4\",\n",
    "        \"Zeb2\",\n",
    "        \"Nr4a2\",\n",
    "        \"Sla\",\n",
    "    ],\n",
    "    \"CD8_Tex\": [\n",
    "        \"Pdcd1\",\n",
    "        \"Prf1\",\n",
    "        \"Havcr2\",\n",
    "    ],\n",
    "}"
   ]
  },
  {
   "cell_type": "markdown",
   "id": "3e9aa448-8d3c-4264-86a8-9bc4c9507712",
   "metadata": {},
   "source": [
    "### Data processing"
   ]
  },
  {
   "cell_type": "code",
   "execution_count": null,
   "id": "7757f446-4f6c-4377-93a2-9c11dea3cf59",
   "metadata": {},
   "outputs": [],
   "source": [
    "adata.obs.cell_type = adata.obs.cell_type.replace(\"nan\", \"CD8_NaiveLike\")"
   ]
  },
  {
   "cell_type": "code",
   "execution_count": null,
   "id": "8b5b7c7e-e19a-4cce-a544-62b88b046256",
   "metadata": {},
   "outputs": [],
   "source": [
    "adata.obs.origin = adata.obs.origin.replace(\"colon\", \"normal\")"
   ]
  },
  {
   "cell_type": "code",
   "execution_count": null,
   "id": "0d786784-8021-43e0-9a24-2a16f2f4f489",
   "metadata": {},
   "outputs": [],
   "source": [
    "adata.obs.origin = adata.obs.origin.replace(\"til\", \"tumor\")"
   ]
  },
  {
   "cell_type": "code",
   "execution_count": null,
   "id": "33fcda3a-0044-468d-91e3-5506db1c91bf",
   "metadata": {},
   "outputs": [],
   "source": [
    "adata_normal = adata[adata.obs[\"origin\"] == \"normal\"]"
   ]
  },
  {
   "cell_type": "code",
   "execution_count": null,
   "id": "aabe3104-655d-444c-a392-1fa2cd0aebf5",
   "metadata": {},
   "outputs": [],
   "source": [
    "adata_tumor = adata[adata.obs[\"origin\"] == \"tumor\"]"
   ]
  },
  {
   "cell_type": "markdown",
   "id": "ef0630af-1551-4207-9230-7556434274cd",
   "metadata": {},
   "source": [
    "#### Create a new column with Ifng expression bigger than 6"
   ]
  },
  {
   "cell_type": "code",
   "execution_count": 12,
   "id": "a32dc3e6-6fbc-4bbc-9aa3-33708dba1fdf",
   "metadata": {},
   "outputs": [],
   "source": [
    "# Check if 'Ifng' is in the variable names\n",
    "if \"ENSMUSG00000055170\" in adata.var_names:\n",
    "    # Safely extract the expression values for 'Ifng'\n",
    "    ifng_expression = (\n",
    "        adata[:, \"ENSMUSG00000055170\"].X.toarray().flatten()\n",
    "        if hasattr(adata[:, \"ENSMUSG00000055170\"].X, \"toarray\")\n",
    "        else adata[:, \"ENSMUSG00000055170\"].X.flatten()\n",
    "    )\n",
    "\n",
    "    # Add Ifng expression status to adata.obs\n",
    "    adata.obs[\"Ifng_expression\"] = (ifng_expression > 6).astype(int)\n",
    "\n",
    "    # Create a new column 'ifng' based on 'Ifng_expression'\n",
    "    adata.obs[\"ifng\"] = adata.obs[\"Ifng_expression\"].apply(\n",
    "        lambda x: \"pos\" if x == 1 else \"neg\"\n",
    "    )\n",
    "else:\n",
    "    print(\"Gene 'Ifng' not found in adata.var_names\")"
   ]
  },
  {
   "cell_type": "markdown",
   "id": "055866ed-ce0c-493f-a6af-bf6985126639",
   "metadata": {},
   "source": [
    "#### Filter only for 10mix and 11mix"
   ]
  },
  {
   "cell_type": "code",
   "execution_count": null,
   "id": "480fdd95-fd76-4ec1-8eb6-ae6430e84fba",
   "metadata": {},
   "outputs": [],
   "source": [
    "adata = adata[\n",
    "    adata.obs[\"sample_id\"].isin(\n",
    "        [\n",
    "            \"10mix1\",\n",
    "            \"10mix2\",\n",
    "            \"11mix1\",\n",
    "            \"11mix2\",\n",
    "            \"10mix_ICI1\",\n",
    "            \"10mix_ICI2\",\n",
    "            \"11mix_ICI1\",\n",
    "            \"11mix_ICI2\",\n",
    "        ]\n",
    "    )\n",
    "]"
   ]
  },
  {
   "cell_type": "markdown",
   "id": "43740e9d-e40d-47d6-8f6f-871e6a21f32d",
   "metadata": {},
   "source": [
    "#### New column combining cell type and origin"
   ]
  },
  {
   "cell_type": "code",
   "execution_count": null,
   "id": "acc62624-a6fa-4dd4-bfd4-7280da99047b",
   "metadata": {},
   "outputs": [],
   "source": [
    "adata.obs[\"cell_type_2\"] = (\n",
    "    adata.obs[\"cell_type\"].astype(str) + \"_\" + adata.obs[\"origin\"].astype(str)\n",
    ")"
   ]
  },
  {
   "cell_type": "code",
   "execution_count": null,
   "id": "1c184950-066c-4fe5-a226-3985fb56089d",
   "metadata": {},
   "outputs": [],
   "source": [
    "adata.obs[\"cell_type_2\"].value_counts()"
   ]
  },
  {
   "cell_type": "markdown",
   "id": "74d4fd59-2c09-47ba-971d-ff6e56d8b19d",
   "metadata": {},
   "source": [
    "##### Reannotating some categories in the normal groups"
   ]
  },
  {
   "cell_type": "code",
   "execution_count": null,
   "id": "510eefcc-cd5a-40c7-ba28-01fe21ca534c",
   "metadata": {},
   "outputs": [],
   "source": [
    "annotation_dict = {\n",
    "    \"CD8_Tex_tumor\": \"CD8_Tex_tumor\",\n",
    "    \"CD8_NaiveLike_tumor\": \"CD8_NaiveLike_tumor\",\n",
    "    \"CD8_EffectorMemory_tumor\": \"CD8_EffectorMemory_tumor\",\n",
    "    \"CD8_NaiveLike_normal\": \"CD8_NaiveLike_normal\",\n",
    "    \"CD8_Tex_normal\": \"CD8_EffectorMemory_normal\",\n",
    "    \"CD8_EarlyActiv_normal\": \"CD8_EffectorMemory_normal\",\n",
    "    \"CD8_EarlyActiv_tumor\": \"CD8_EarlyActiv_tumor\",\n",
    "    \"CD8_Tpex_tumor\": \"CD8_Tpex_tumor\",\n",
    "}\n",
    "## Add cell type column based on annotation\n",
    "adata.obs[\"cell_type_2\"] = [\n",
    "    annotation_dict[clust] for clust in adata.obs[\"cell_type_2\"]\n",
    "]"
   ]
  },
  {
   "cell_type": "code",
   "execution_count": null,
   "id": "98e71fa1-8512-426e-a70a-2376dbda3cd7",
   "metadata": {},
   "outputs": [],
   "source": [
    "# Specify the desired order of the categories\n",
    "desired_order = [\n",
    "    \"CD8_NaiveLike_normal\",\n",
    "    \"CD8_EarlyActiv_normal\",\n",
    "    \"CD8_Tex_normal\",\n",
    "    \"CD8_NaiveLike_tumor\",\n",
    "    \"CD8_EarlyActiv_tumor\",\n",
    "    \"CD8_EffectorMemory_tumor\",\n",
    "    \"CD8_Tpex_tumor\",\n",
    "    \"CD8_Tex_tumor\",\n",
    "]\n",
    "\n",
    "# Reorder the categories in adata.obs['leiden_res0_25']\n",
    "adata.obs[\"cell_type_2\"] = pd.Categorical(\n",
    "    adata.obs[\"cell_type_2\"], categories=desired_order, ordered=True\n",
    ")"
   ]
  },
  {
   "cell_type": "markdown",
   "id": "3403be6a-c24f-4033-876c-f5b7e0590024",
   "metadata": {},
   "source": [
    "#### Creating dataframe to plot fraction of cells "
   ]
  },
  {
   "cell_type": "code",
   "execution_count": null,
   "id": "0facb930-506d-4d62-8b6f-6c4826de7ff1",
   "metadata": {},
   "outputs": [],
   "source": [
    "# Group by 'sample_id' and 'cell_type', and count the number of cells in each group\n",
    "cell_counts = (\n",
    "    adata.obs.groupby([\"sample_id\",\"ifng\", \"condition\"])\n",
    "    .size()\n",
    "    .reset_index(name=\"counts\")\n",
    ")\n",
    "\n",
    "# Calculate the total number of cells per sample_id\n",
    "total_counts_per_sample = cell_counts.groupby(\"sample_id\")[\"counts\"].transform(\"sum\")\n",
    "\n",
    "# Calculate the percentage of each cell type within each sample_id\n",
    "cell_counts[\"percent\"] = cell_counts[\"counts\"] / total_counts_per_sample\n",
    "\n",
    "# Convert to a DataFrame (if needed)\n",
    "cell_counts_df = pd.DataFrame(cell_counts)"
   ]
  },
  {
   "cell_type": "code",
   "execution_count": null,
   "id": "77337f68-d666-4ea1-9dcb-8a4620684a33",
   "metadata": {},
   "outputs": [],
   "source": [
    "data = cell_counts_df"
   ]
  },
  {
   "cell_type": "code",
   "execution_count": null,
   "id": "d08aa99a-065e-4023-a7bc-9c9ec532f8b9",
   "metadata": {},
   "outputs": [],
   "source": [
    "x = \"cell_condition\"\n",
    "y = \"percent\"\n",
    "hue = \"condition\""
   ]
  },
  {
   "cell_type": "markdown",
   "id": "c3485d23-b08d-4661-a681-150f3a513b22",
   "metadata": {},
   "source": [
    "##### Filtering for ifng positive cases"
   ]
  },
  {
   "cell_type": "code",
   "execution_count": null,
   "id": "507c98fb-7b25-4938-9d3f-20ec5bb85406",
   "metadata": {},
   "outputs": [],
   "source": [
    "data = cell_counts_df[\n",
    "    [\"undefined\" not in x for x in cell_counts_df.sample_id]\n",
    "    & (cell_counts_df[\"ifng\"] == \"pos\")\n",
    "]\n",
    "data.sort_values(by=\"sample_id\", inplace=True)"
   ]
  },
  {
   "cell_type": "markdown",
   "id": "983e21b9-dc99-47d7-96cd-7771c8362e62",
   "metadata": {},
   "source": [
    "### Boxplot between conditions 10mix vs 11mix"
   ]
  },
  {
   "cell_type": "code",
   "execution_count": null,
   "id": "52b3c3a6-37b4-473c-8ade-ec436f35a589",
   "metadata": {},
   "outputs": [],
   "source": [
    "g = sns.boxplot(y=y, x=x, data=data, palette=[\"orange\", \"lightblue\"])  # kind=\"box\",\n",
    "sns.stripplot(\n",
    "    y=y,\n",
    "    x=x,\n",
    "    data=data,\n",
    "    palette=[\"orange\", \"lightblue\"],\n",
    "    dodge=True,\n",
    "    alpha=0.6,\n",
    "    edgecolor=\"black\",\n",
    "    linewidth=0.5,\n",
    ")\n",
    "\n",
    "add_stat_annotation(\n",
    "    g,\n",
    "    data=data,\n",
    "    x=x,\n",
    "    y=y,\n",
    "    box_pairs=[\n",
    "        (\"10mix\", \"11mix\"),\n",
    "    ],\n",
    "    test=\"Mann-Whitney\",\n",
    "    text_format=\"simple\",\n",
    "    loc=\"inside\",\n",
    "    verbose=0,\n",
    ")  # , comparisons_correction='bonferroni')\n",
    "\n",
    "\n",
    "g.figure.set_figwidth(5)\n",
    "g.figure.set_figheight(4)\n",
    "g.set_title(\"\")\n",
    "g.set_xticklabels(g.get_xticklabels(), rotation=90)\n",
    "g.set_ylabel(\"Fraction Ifng+ CD8 T cells (% of total)\")\n",
    "g.set_xlabel(\"\")"
   ]
  },
  {
   "cell_type": "code",
   "execution_count": null,
   "id": "b49fff6f-e74f-4468-93ce-a32fd2c17c05",
   "metadata": {},
   "outputs": [],
   "source": [
    "#data[\"cell_condition\"] = (\n",
    "#    data[\"cell_type\"].astype(str) + \"_\" + data[\"condition\"].astype(str)\n",
    "#)"
   ]
  },
  {
   "cell_type": "markdown",
   "id": "0d16945c-4e82-4fe3-9e01-be75ee063d92",
   "metadata": {},
   "source": [
    "### Histogram"
   ]
  },
  {
   "cell_type": "code",
   "execution_count": null,
   "id": "a89f36f3-c3c9-43f1-8012-2e281b529a3f",
   "metadata": {
    "scrolled": true
   },
   "outputs": [],
   "source": [
    "import matplotlib.pyplot as plt\n",
    "\n",
    "\n",
    "# Define a function to extract Ifng expression levels for a given dataset\n",
    "def extract_ifng_expression(adata, gene=\"ENSMUSG00000055170\", threshold=0):\n",
    "    if gene in adata.var_names:\n",
    "        ifng_expression = (\n",
    "            adata[:, gene].X.toarray().flatten()\n",
    "            if hasattr(adata[:, gene].X, \"toarray\")\n",
    "            else adata[:, gene].X.flatten()\n",
    "        )\n",
    "        # Filter cells that express Ifng based on the threshold\n",
    "        return (\n",
    "            ifng_expression[ifng_expression > threshold],\n",
    "            adata.obs[\"condition\"][ifng_expression > threshold],\n",
    "        )\n",
    "    else:\n",
    "        return None, None\n",
    "\n",
    "\n",
    "# Extract Ifng expression levels and conditions for each dataset\n",
    "ifng_expression_adata, condition_adata = extract_ifng_expression(adata)\n",
    "ifng_expression_normal, condition_normal = extract_ifng_expression(\n",
    "    adata[adata.obs[\"sample_id\"].isin([\"10mix1\", \"11mix1\", \"10mix2\", \"11mix2\"])]\n",
    ")\n",
    "ifng_expression_tumor, condition_tumor = extract_ifng_expression(\n",
    "    adata[\n",
    "        adata.obs[\"sample_id\"].isin(\n",
    "            [\"10mix_ICI1\", \"11mix_ICI1\", \"10mix_ICI2\", \"11mix_ICI2\"]\n",
    "        )\n",
    "    ]\n",
    ")\n",
    "\n",
    "# Create a figure with 3 subplots\n",
    "plt.figure(figsize=(18, 6))\n",
    "\n",
    "# Plot histogram for adata, colored by condition\n",
    "plt.subplot(1, 3, 1)\n",
    "plt.hist(\n",
    "    ifng_expression_adata[condition_adata == \"10mix\"],\n",
    "    bins=30,\n",
    "    edgecolor=\"black\",\n",
    "    alpha=0.7,\n",
    "    label=\"10mix\",\n",
    "    color=\"blue\",\n",
    ")\n",
    "plt.hist(\n",
    "    ifng_expression_adata[condition_adata == \"11mix\"],\n",
    "    bins=30,\n",
    "    edgecolor=\"black\",\n",
    "    alpha=0.7,\n",
    "    label=\"11mix\",\n",
    "    color=\"orange\",\n",
    ")\n",
    "plt.title(\"Ifng Expression (Tumor & Normal)\")\n",
    "plt.xlabel(\"Ifng Expression Level\")\n",
    "plt.ylabel(\"Number of Cells\")\n",
    "plt.legend(title=\"Condition\")\n",
    "\n",
    "# Plot histogram for adata_normal, colored by condition\n",
    "plt.subplot(1, 3, 2)\n",
    "plt.hist(\n",
    "    ifng_expression_normal[condition_normal == \"10mix\"],\n",
    "    bins=30,\n",
    "    edgecolor=\"black\",\n",
    "    alpha=0.7,\n",
    "    label=\"10mix\",\n",
    "    color=\"blue\",\n",
    ")\n",
    "plt.hist(\n",
    "    ifng_expression_normal[condition_normal == \"11mix\"],\n",
    "    bins=30,\n",
    "    edgecolor=\"black\",\n",
    "    alpha=0.7,\n",
    "    label=\"11mix\",\n",
    "    color=\"orange\",\n",
    ")\n",
    "plt.title(\"Ifng Expression (Normal)\")\n",
    "plt.xlabel(\"Ifng Expression Level\")\n",
    "plt.ylabel(\"Number of Cells\")\n",
    "plt.legend(title=\"Condition\")\n",
    "\n",
    "# Plot histogram for adata_tumor, colored by condition\n",
    "plt.subplot(1, 3, 3)\n",
    "plt.hist(\n",
    "    ifng_expression_tumor[condition_tumor == \"10mix\"],\n",
    "    bins=30,\n",
    "    edgecolor=\"black\",\n",
    "    alpha=0.7,\n",
    "    label=\"10mix\",\n",
    "    color=\"blue\",\n",
    ")\n",
    "plt.hist(\n",
    "    ifng_expression_tumor[condition_tumor == \"11mix\"],\n",
    "    bins=30,\n",
    "    edgecolor=\"black\",\n",
    "    alpha=0.7,\n",
    "    label=\"11mix\",\n",
    "    color=\"orange\",\n",
    ")\n",
    "plt.title(\"Ifng Expression (Tumor)\")\n",
    "plt.xlabel(\"Ifng Expression Level\")\n",
    "plt.ylabel(\"Number of Cells\")\n",
    "plt.legend(title=\"Condition\")\n",
    "\n",
    "# Adjust layout to prevent overlap\n",
    "plt.tight_layout()\n",
    "\n",
    "# Show the plot\n",
    "plt.show()"
   ]
  },
  {
   "cell_type": "markdown",
   "id": "0c39b996-6226-4d2d-bd74-78784dd89d3d",
   "metadata": {},
   "source": [
    "### Heatmaps "
   ]
  },
  {
   "cell_type": "code",
   "execution_count": null,
   "id": "59f81265-c3df-49e9-9011-1226d511397d",
   "metadata": {},
   "outputs": [],
   "source": [
    "sc.pl.dotplot(\n",
    "    adata,\n",
    "    marker_dict_small,\n",
    "    groupby=\"cell_type_2\",\n",
    "    gene_symbols=\"gene_name\",\n",
    "    dendrogram=False,\n",
    "    standard_scale=\"var\",\n",
    "    cmap=\"viridis\",\n",
    ")  # , save =\"mapped_annotation_tumor_normal.svg\")"
   ]
  },
  {
   "cell_type": "code",
   "execution_count": null,
   "id": "bd518971-8c39-4637-a7d5-c2ee32117ac0",
   "metadata": {
    "scrolled": true
   },
   "outputs": [],
   "source": [
    "sc.pl.matrixplot(\n",
    "    adata,\n",
    "    marker_dict_small,\n",
    "    groupby=\"cell_type\",\n",
    "    gene_symbols=\"gene_name\",\n",
    "    dendrogram=False,\n",
    "    standard_scale=\"var\",\n",
    "    cmap=\"viridis\",\n",
    ")  # , save =\"mapped_annotation_tumor_normal.svg\")"
   ]
  },
  {
   "cell_type": "code",
   "execution_count": null,
   "id": "b4fd85cc-bc0c-4204-b7bc-44effb866af6",
   "metadata": {},
   "outputs": [],
   "source": [
    "sc.pl.matrixplot(\n",
    "    adata,\n",
    "    marker_dict_small,\n",
    "    groupby=\"cell_type\",\n",
    "    gene_symbols=\"gene_name\",\n",
    "    dendrogram=False,\n",
    "    standard_scale=\"var\",\n",
    "    cmap=\"viridis\",\n",
    ")  # , save =\"mapped_annotation_tumor_normal.svg\")"
   ]
  },
  {
   "cell_type": "markdown",
   "id": "b7a68d36-af6a-4eeb-b88e-0d86aa66af17",
   "metadata": {},
   "source": [
    "### Plotting fraction of cells for adata original "
   ]
  },
  {
   "cell_type": "markdown",
   "id": "fe03a0e1-17c3-4027-9de8-b1f2d27dc029",
   "metadata": {},
   "source": [
    "#### Creating dataframe to plot fraction of cells "
   ]
  },
  {
   "cell_type": "code",
   "execution_count": null,
   "id": "456635e2-1089-48b1-bc55-3a1afb2557a7",
   "metadata": {},
   "outputs": [],
   "source": [
    "adata_10 = adata[\n",
    "    adata.obs[\"sample_id\"].isin([\"10mix1\", \"10mix2\", \"10mix_ICI1\", \"10mix_ICI2\"])\n",
    "]"
   ]
  },
  {
   "cell_type": "code",
   "execution_count": null,
   "id": "6d0ca831-209d-4d2a-8a7f-7c2ebc336f09",
   "metadata": {},
   "outputs": [],
   "source": [
    "adata_11 = adata[\n",
    "    adata.obs[\"sample_id\"].isin([\"11mix1\", \"11mix2\", \"11mix_ICI1\", \"11mix_ICI2\"])\n",
    "]"
   ]
  },
  {
   "cell_type": "code",
   "execution_count": null,
   "id": "821aeb6e-1af6-47e0-9ec5-644013b6d8b0",
   "metadata": {},
   "outputs": [],
   "source": [
    "test = pd.DataFrame(adata_10.obs.value_counts(subset=[\"cell_type\", \"sample_id\"]))\n",
    "testp = adata_10.obs.value_counts(subset=[\"sample_id\"])\n",
    "test.columns = [\"counts\"]\n",
    "test[\"percent\"] = test.counts\n",
    "for p in set(adata_10.obs.sample_id):\n",
    "    test.loc[test.index.get_level_values(\"sample_id\") == p, \"percent\"] = (\n",
    "        test.loc[test.index.get_level_values(\"sample_id\") == p, \"percent\"] / testp[p]\n",
    "    )\n",
    "test[\"percent\"] = [float(x) for x in test[\"percent\"]]\n",
    "test[\"sample_id\"] = [str(x) for x in test.index.get_level_values(\"sample_id\")]\n",
    "test[\"cell_type\"] = [str(x) for x in test.index.get_level_values(\"cell_type\")]\n",
    "# test[\"IFNG+\"]=[str(x) for x in test.index.get_level_values(\"IFNG_0.2\")]\n",
    "test[\"status\"] = \"10mix\""
   ]
  },
  {
   "cell_type": "code",
   "execution_count": null,
   "id": "4a19bf2c-07a4-4705-aa1f-757c4674cd85",
   "metadata": {},
   "outputs": [],
   "source": [
    "patientProps = test"
   ]
  },
  {
   "cell_type": "code",
   "execution_count": null,
   "id": "7e8be333-57b8-4eb3-ba77-ac093fa127f9",
   "metadata": {},
   "outputs": [],
   "source": [
    "test = pd.DataFrame(adata_11.obs.value_counts(subset=[\"cell_type\", \"sample_id\"]))\n",
    "testp = adata_11.obs.value_counts(subset=[\"sample_id\"])\n",
    "test.columns = [\"counts\"]\n",
    "test[\"percent\"] = test.counts\n",
    "for p in set(adata_11.obs.sample_id):\n",
    "    test.loc[test.index.get_level_values(\"sample_id\") == p, \"percent\"] = (\n",
    "        test.loc[test.index.get_level_values(\"sample_id\") == p, \"percent\"] / testp[p]\n",
    "    )\n",
    "test[\"percent\"] = [float(x) for x in test[\"percent\"]]\n",
    "test[\"sample_id\"] = [str(x) for x in test.index.get_level_values(\"sample_id\")]\n",
    "test[\"cell_type\"] = [str(x) for x in test.index.get_level_values(\"cell_type\")]\n",
    "# test[\"IFNG+\"]=[str(x) for x in test.index.get_level_values(\"IFNG_0.2\")]\n",
    "test[\"status\"] = \"11mix\""
   ]
  },
  {
   "cell_type": "code",
   "execution_count": null,
   "id": "df37bc88-1654-480c-af10-c97d93a7c822",
   "metadata": {},
   "outputs": [],
   "source": [
    "patientProps"
   ]
  },
  {
   "cell_type": "code",
   "execution_count": null,
   "id": "3c55e9bb-08af-49e4-83cd-2d92d6717954",
   "metadata": {},
   "outputs": [],
   "source": [
    "patientProps = pd.concat([patientProps, test], ignore_index=True, axis=0, join=\"outer\")\n",
    "patientProps[\"statuscell_type\"] = patientProps.status + \"_\" + patientProps.cell_type\n",
    "patientProps[\"samplelabels\"] = patientProps.status + \"_\" + patientProps.sample_id\n"
   ]
  },
  {
   "cell_type": "code",
   "execution_count": null,
   "id": "23b10c46-b5ba-45c1-8668-aa38b43d0e77",
   "metadata": {},
   "outputs": [],
   "source": [
    "x = \"cell_type\"\n",
    "y = \"percent\"\n",
    "hue = \"status\"\n",
    "data = patientProps"
   ]
  },
  {
   "cell_type": "code",
   "execution_count": null,
   "id": "ff1cb566-1f2a-493d-8df1-2ceb9250ff74",
   "metadata": {},
   "outputs": [],
   "source": [
    "# Specify the desired order of the categories\n",
    "desired_order = [\n",
    "    \"CD8_NaiveLike\",\n",
    "    \"CD8_EarlyActiv\",\n",
    "    \"CD8_EffectorMemory\",\n",
    "    \"CD8_Tpex\",\n",
    "    \"CD8_Tex\",\n",
    "]\n",
    "# Reorder the categories in adata.obs['leiden_res0_25']\n",
    "data[\"cell_type\"] = pd.Categorical(\n",
    "    data[\"cell_type\"], categories=desired_order, ordered=True\n",
    ")"
   ]
  },
  {
   "cell_type": "markdown",
   "id": "39047fdd-c978-4d80-b0bd-24532fa507fe",
   "metadata": {},
   "source": [
    "#### Subplots cell type vs condition (11mix, 10mix)"
   ]
  },
  {
   "cell_type": "code",
   "execution_count": null,
   "id": "7437bb9b-9ef6-45da-8ad4-2e2d58801220",
   "metadata": {},
   "outputs": [],
   "source": [
    "f, (ax1, ax2) = plt.subplots(1, 2, figsize=(6, 2))"
   ]
  },
  {
   "cell_type": "code",
   "execution_count": null,
   "id": "a17bb8f2-b6fe-4974-ac32-738cd6212e2f",
   "metadata": {},
   "outputs": [],
   "source": [
    "data = patientProps[patientProps.status == \"10mix\"]\n",
    "# Specify the desired order of the categories\n",
    "desired_order = [\n",
    "    \"CD8_NaiveLike\",\n",
    "    \"CD8_EarlyActiv\",\n",
    "    \"CD8_EffectorMemory\",\n",
    "    \"CD8_Tpex\",\n",
    "    \"CD8_Tex\",\n",
    "]\n",
    "# Reorder the categories in adata.obs['leiden_res0_25']\n",
    "data[\"cell_type\"] = pd.Categorical(\n",
    "    data[\"cell_type\"], categories=desired_order, ordered=True\n",
    ")\n",
    "x = \"cell_type\"\n",
    "hue = \"cell_type\"\n",
    "palette = [\n",
    "    \"tab:green\",\n",
    "    \"tab:blue\",\n",
    "    \"tab:orange\",\n",
    "    \"tab:purple\",\n",
    "    \"tab:red\",\n",
    "    \"tab:purple\",\n",
    "    \"tab:green\",\n",
    "    \"tab:blue\",\n",
    "    \"tab:red\",\n",
    "    \"tab:orange\",\n",
    "    \"tab:green\",\n",
    "    \"tab:green\",\n",
    "]\n",
    "order = list(\n",
    "    data.loc[data.status == \"10mix\", [\"percent\", \"sample_id\", \"cell_type\"]]\n",
    "    .groupby(by=\"cell_type\")\n",
    "    .median()\n",
    "    .sort_values(by=\"percent\", ascending=False)\n",
    "    .index\n",
    ")\n",
    "sns.boxplot(x=y, y=x, data=data, ax=ax1, palette=palette, order=desired_order)\n",
    "sns.stripplot(\n",
    "    x=y,\n",
    "    y=x,\n",
    "    data=data,\n",
    "    ax=ax1,\n",
    "    palette=palette,\n",
    "    order=desired_order,\n",
    "    dodge=True,\n",
    "    alpha=0.3,\n",
    "    edgecolor=\"black\",\n",
    "    linewidth=0.5,\n",
    ")\n",
    "ax1.set_ylabel(\"\")\n",
    "ax1.invert_xaxis()\n",
    "ax1.set_title(\"10mix\")"
   ]
  },
  {
   "cell_type": "code",
   "execution_count": null,
   "id": "9dcb82ad-2f28-42d2-93f8-06fb90e61502",
   "metadata": {},
   "outputs": [],
   "source": [
    "data = patientProps[(patientProps.status == \"11mix\")]\n",
    "desired_order = [\n",
    "    \"CD8_NaiveLike\",\n",
    "    \"CD8_EarlyActiv\",\n",
    "    \"CD8_EffectorMemory\",\n",
    "    \"CD8_Tpex\",\n",
    "    \"CD8_Tex\",\n",
    "]\n",
    "x = \"cell_type\"\n",
    "hue = \"cell_type\"\n",
    "palette = [\n",
    "    \"tab:green\",\n",
    "    \"tab:blue\",\n",
    "    \"tab:orange\",\n",
    "    \"tab:purple\",\n",
    "    \"tab:red\",\n",
    "    \"tab:purple\",\n",
    "    \"tab:green\",\n",
    "    \"tab:blue\",\n",
    "    \"tab:red\",\n",
    "    \"tab:orange\",\n",
    "    \"tab:green\",\n",
    "    \"tab:green\",\n",
    "]\n",
    "order = list(\n",
    "    data.loc[data.status == \"11mix\", [\"percent\", \"sample_id\", \"cell_type\"]]\n",
    "    .groupby(by=\"cell_type\")\n",
    "    .median()\n",
    "    .sort_values(by=\"percent\", ascending=False)\n",
    "    .index\n",
    ")\n",
    "sns.boxplot(x=y, y=x, data=data, ax=ax2, palette=palette, order=desired_order)\n",
    "sns.stripplot(\n",
    "    x=y,\n",
    "    y=x,\n",
    "    data=data,\n",
    "    ax=ax2,\n",
    "    palette=palette,\n",
    "    order=desired_order,\n",
    "    dodge=True,\n",
    "    alpha=0.3,\n",
    "    edgecolor=\"black\",\n",
    "    linewidth=0.5,\n",
    ")\n",
    "ax2.tick_params(\n",
    "    axis=\"y\", which=\"both\", left=False, right=True, labelleft=False, labelright=True\n",
    ")\n",
    "ax2.set_ylabel(\"\")\n",
    "ax2.set_title(\"11mix\")"
   ]
  },
  {
   "cell_type": "code",
   "execution_count": null,
   "id": "2479dc1e-2272-4c73-9d59-bd8709617aa3",
   "metadata": {},
   "outputs": [],
   "source": [
    "f.savefig(\n",
    "    fname=\"./figures/barplots_patient_percents_CD8annotation.png\",\n",
    "    dpi=300,\n",
    "    bbox_inches=\"tight\",\n",
    ")\n",
    "f.savefig(\n",
    "    fname=\"./figures/barplots_patient_percents_CD8annotation.svg\", bbox_inches=\"tight\"\n",
    ")\n",
    "f"
   ]
  },
  {
   "cell_type": "markdown",
   "id": "6928e22c-f565-4a5e-a6e7-b13b1e65d71b",
   "metadata": {},
   "source": [
    "### Plotting fraction of cells for adata FILTERED ifng > 6"
   ]
  },
  {
   "cell_type": "markdown",
   "id": "e3ced89e-9960-420d-b030-c7c899316065",
   "metadata": {},
   "source": [
    "#### Creating new adata adata_ifng "
   ]
  },
  {
   "cell_type": "code",
   "execution_count": null,
   "id": "6c6049d9-da0e-41b1-b249-25d627626d32",
   "metadata": {},
   "outputs": [],
   "source": [
    "import scanpy as sc\n",
    "\n",
    "# Check if the gene is in adata.var_names\n",
    "gene_id = \"ENSMUSG00000055170\"\n",
    "\n",
    "if gene_id in adata.var_names:\n",
    "    # Extract the expression values for the gene\n",
    "    gene_expression = (\n",
    "        adata[:, gene_id].X.toarray().flatten()\n",
    "        if hasattr(adata[:, gene_id].X, \"toarray\")\n",
    "        else adata[:, gene_id].X.flatten()\n",
    "    )\n",
    "\n",
    "    # Filter adata to keep only cells where gene expression > 0\n",
    "    adata_ifng = adata[gene_expression > 6].copy()\n",
    "\n",
    "    print(f\"New adata created with {adata_ifng.n_obs} cells expressing {gene_id}.\")\n",
    "else:\n",
    "    print(f\"Gene '{gene_id}' not found in adata.var_names\")"
   ]
  },
  {
   "cell_type": "markdown",
   "id": "39efc159-c4f3-4f12-b024-c75f567b9978",
   "metadata": {},
   "source": [
    "#### Creating dataframe to plot fraction of cells "
   ]
  },
  {
   "cell_type": "code",
   "execution_count": null,
   "id": "8528ddec-8a0a-43ce-abde-f350158ba1ed",
   "metadata": {},
   "outputs": [],
   "source": [
    "adata_10 = adata_ifng[\n",
    "    adata_ifng.obs[\"sample_id\"].isin([\"10mix1\", \"10mix2\", \"10mix_ICI1\", \"10mix_ICI2\"])\n",
    "]"
   ]
  },
  {
   "cell_type": "code",
   "execution_count": null,
   "id": "a5f2087a-3083-4bf7-a657-b3b41041e243",
   "metadata": {},
   "outputs": [],
   "source": [
    "adata_11 = adata_ifng[\n",
    "    adata_ifng.obs[\"sample_id\"].isin([\"11mix1\", \"11mix2\", \"11mix_ICI1\", \"11mix_ICI2\"])\n",
    "]"
   ]
  },
  {
   "cell_type": "code",
   "execution_count": null,
   "id": "3899309f-8a63-498e-93e6-b37d72d4623b",
   "metadata": {},
   "outputs": [],
   "source": [
    "test = pd.DataFrame(adata_10.obs.value_counts(subset=[\"cell_type\", \"sample_id\"]))\n",
    "testp = adata_10.obs.value_counts(subset=[\"sample_id\"])\n",
    "test.columns = [\"counts\"]\n",
    "test[\"percent\"] = test.counts\n",
    "for p in set(adata_10.obs.sample_id):\n",
    "    test.loc[test.index.get_level_values(\"sample_id\") == p, \"percent\"] = (\n",
    "        test.loc[test.index.get_level_values(\"sample_id\") == p, \"percent\"] / testp[p]\n",
    "    )\n",
    "test[\"percent\"] = [float(x) for x in test[\"percent\"]]\n",
    "test[\"sample_id\"] = [str(x) for x in test.index.get_level_values(\"sample_id\")]\n",
    "test[\"cell_type\"] = [str(x) for x in test.index.get_level_values(\"cell_type\")]\n",
    "# test[\"IFNG+\"]=[str(x) for x in test.index.get_level_values(\"IFNG_0.2\")]\n",
    "test[\"status\"] = \"10mix\""
   ]
  },
  {
   "cell_type": "code",
   "execution_count": null,
   "id": "ccc53c8d-ae15-4e98-a65d-63a10e1534d3",
   "metadata": {},
   "outputs": [],
   "source": [
    "patientProps = test"
   ]
  },
  {
   "cell_type": "code",
   "execution_count": null,
   "id": "99043189-1378-4676-b4e2-446e55afb5ea",
   "metadata": {},
   "outputs": [],
   "source": [
    "test = pd.DataFrame(adata_11.obs.value_counts(subset=[\"cell_type\", \"sample_id\"]))\n",
    "testp = adata_11.obs.value_counts(subset=[\"sample_id\"])\n",
    "test.columns = [\"counts\"]\n",
    "test[\"percent\"] = test.counts\n",
    "for p in set(adata_11.obs.sample_id):\n",
    "    test.loc[test.index.get_level_values(\"sample_id\") == p, \"percent\"] = (\n",
    "        test.loc[test.index.get_level_values(\"sample_id\") == p, \"percent\"] / testp[p]\n",
    "    )\n",
    "test[\"percent\"] = [float(x) for x in test[\"percent\"]]\n",
    "test[\"sample_id\"] = [str(x) for x in test.index.get_level_values(\"sample_id\")]\n",
    "test[\"cell_type\"] = [str(x) for x in test.index.get_level_values(\"cell_type\")]\n",
    "# test[\"IFNG+\"]=[str(x) for x in test.index.get_level_values(\"IFNG_0.2\")]\n",
    "test[\"status\"] = \"11mix\""
   ]
  },
  {
   "cell_type": "code",
   "execution_count": null,
   "id": "bc529915-d5a7-4193-86e3-2e4f36981fc0",
   "metadata": {},
   "outputs": [],
   "source": [
    "patientProps"
   ]
  },
  {
   "cell_type": "code",
   "execution_count": null,
   "id": "7f1b02fe-43c7-4c79-ac17-0880437a2060",
   "metadata": {},
   "outputs": [],
   "source": [
    "patientProps = pd.concat([patientProps, test], ignore_index=True, axis=0, join=\"outer\")\n",
    "patientProps[\"statuscell_type\"] = patientProps.status + \"_\" + patientProps.cell_type\n",
    "patientProps[\"samplelabels\"] = patientProps.status + \"_\" + patientProps.sample_id\n"
   ]
  },
  {
   "cell_type": "code",
   "execution_count": null,
   "id": "c875e6c3-aa3c-496b-af3e-46e86cf6c143",
   "metadata": {},
   "outputs": [],
   "source": [
    "x = \"cell_type\"\n",
    "y = \"percent\"\n",
    "hue = \"status\"\n",
    "data = patientProps"
   ]
  },
  {
   "cell_type": "code",
   "execution_count": null,
   "id": "cea56ae7-204f-4a7b-b222-d43903990150",
   "metadata": {},
   "outputs": [],
   "source": [
    "from scipy.special import logit"
   ]
  },
  {
   "cell_type": "code",
   "execution_count": null,
   "id": "3dfafa85-91b3-4ad8-adce-fbc74e06024c",
   "metadata": {},
   "outputs": [],
   "source": [
    "f, (ax1, ax2) = plt.subplots(1, 2, figsize=(6, 2))"
   ]
  },
  {
   "cell_type": "code",
   "execution_count": null,
   "id": "454389e1-39af-4a74-a069-d43f9d3a2917",
   "metadata": {},
   "outputs": [],
   "source": [
    "import numpy as np"
   ]
  },
  {
   "cell_type": "code",
   "execution_count": null,
   "id": "7179f359-7038-4f0a-b00f-f9fe00b6985f",
   "metadata": {},
   "outputs": [],
   "source": [
    "data = patientProps[patientProps.status == \"10mix\"]\n",
    "# Specify the desired order of the categories\n",
    "desired_order = [\n",
    "    \"CD8_NaiveLike\",\n",
    "    \"CD8_EarlyActiv\",\n",
    "    \"CD8_EffectorMemory\",\n",
    "    \"CD8_Tpex\",\n",
    "    \"CD8_Tex\",\n",
    "]\n",
    "# Reorder the categories in adata.obs['leiden_res0_25']\n",
    "data[\"cell_type\"] = pd.Categorical(\n",
    "    data[\"cell_type\"], categories=desired_order, ordered=True\n",
    ")\n",
    "x = \"cell_type\"\n",
    "hue = \"cell_type\"\n",
    "palette = [\n",
    "    \"tab:green\",\n",
    "    \"tab:blue\",\n",
    "    \"tab:orange\",\n",
    "    \"tab:purple\",\n",
    "    \"tab:red\",\n",
    "    \"tab:purple\",\n",
    "    \"tab:green\",\n",
    "    \"tab:blue\",\n",
    "    \"tab:red\",\n",
    "    \"tab:orange\",\n",
    "    \"tab:green\",\n",
    "    \"tab:green\",\n",
    "]\n",
    "order = list(\n",
    "    data.loc[data.status == \"10mix\", [\"percent\", \"sample_id\", \"cell_type\"]]\n",
    "    .groupby(by=\"cell_type\")\n",
    "    .median()\n",
    "    .sort_values(by=\"percent\", ascending=False)\n",
    "    .index\n",
    ")\n",
    "sns.boxplot(x=y, y=x, data=data, ax=ax1, palette=palette, order=desired_order)\n",
    "sns.stripplot(\n",
    "    x=y,\n",
    "    y=x,\n",
    "    data=data,\n",
    "    ax=ax1,\n",
    "    palette=palette,\n",
    "    order=desired_order,\n",
    "    dodge=True,\n",
    "    alpha=0.3,\n",
    "    edgecolor=\"black\",\n",
    "    linewidth=0.5,\n",
    ")\n",
    "ax1.set_ylabel(\"\")\n",
    "ax1.set_xlabel(\"Fraction of cells\")\n",
    "ax1.invert_xaxis()\n",
    "ax1.set_title(\"10mix\")"
   ]
  },
  {
   "cell_type": "code",
   "execution_count": null,
   "id": "678c9c0d-c0b8-4927-8bdf-a90758038325",
   "metadata": {},
   "outputs": [],
   "source": [
    "data = patientProps[(patientProps.status == \"11mix\")]\n",
    "desired_order = [\n",
    "    \"CD8_NaiveLike\",\n",
    "    \"CD8_EarlyActiv\",\n",
    "    \"CD8_EffectorMemory\",\n",
    "    \"CD8_Tpex\",\n",
    "    \"CD8_Tex\",\n",
    "]\n",
    "x = \"cell_type\"\n",
    "hue = \"cell_type\"\n",
    "palette = [\n",
    "    \"tab:green\",\n",
    "    \"tab:blue\",\n",
    "    \"tab:orange\",\n",
    "    \"tab:purple\",\n",
    "    \"tab:red\",\n",
    "    \"tab:purple\",\n",
    "    \"tab:green\",\n",
    "    \"tab:blue\",\n",
    "    \"tab:red\",\n",
    "    \"tab:orange\",\n",
    "    \"tab:green\",\n",
    "    \"tab:green\",\n",
    "]\n",
    "order = list(\n",
    "    data.loc[data.status == \"11mix\", [\"percent\", \"sample_id\", \"cell_type\"]]\n",
    "    .groupby(by=\"cell_type\")\n",
    "    .median()\n",
    "    .sort_values(by=\"percent\", ascending=False)\n",
    "    .index\n",
    ")\n",
    "sns.boxplot(x=y, y=x, data=data, ax=ax2, palette=palette, order=desired_order)\n",
    "sns.stripplot(\n",
    "    x=y,\n",
    "    y=x,\n",
    "    data=data,\n",
    "    ax=ax2,\n",
    "    palette=palette,\n",
    "    order=desired_order,\n",
    "    dodge=True,\n",
    "    alpha=0.3,\n",
    "    edgecolor=\"black\",\n",
    "    linewidth=0.5,\n",
    ")\n",
    "ax2.tick_params(\n",
    "    axis=\"y\", which=\"both\", left=False, right=True, labelleft=False, labelright=True\n",
    ")\n",
    "ax2.set_ylabel(\"\")\n",
    "ax2.set_xlabel(\"Fraction of cells\")\n",
    "# ax2.invert_xaxis()\n",
    "ax2.set_title(\"11mix\")"
   ]
  },
  {
   "cell_type": "code",
   "execution_count": null,
   "id": "efed69fa-675b-40f4-b56c-9134978c2f45",
   "metadata": {},
   "outputs": [],
   "source": [
    "f.savefig(\n",
    "    fname=\"./figures/barplots_patient_percents_CD8annotation.png\",\n",
    "    dpi=300,\n",
    "    bbox_inches=\"tight\",\n",
    ")\n",
    "f.savefig(\n",
    "    fname=\"./figures/barplots_patient_percents_CD8annotation.svg\", bbox_inches=\"tight\"\n",
    ")\n",
    "f"
   ]
  },
  {
   "cell_type": "markdown",
   "id": "e57e9eb2-fd34-43fa-bf78-5edf2ede48b6",
   "metadata": {},
   "source": [
    "#### Ifng > 6 plotting umap "
   ]
  },
  {
   "cell_type": "code",
   "execution_count": null,
   "id": "827ab9b1-7264-41ad-80df-2a0f79411509",
   "metadata": {},
   "outputs": [],
   "source": [
    "# Specify the desired order of the categories\n",
    "desired_order = [\n",
    "    \"CD8_NaiveLike\",\n",
    "    \"CD8_EarlyActiv\",\n",
    "    \"CD8_EffectorMemory\",\n",
    "    \"CD8_Tpex\",\n",
    "    \"CD8_Tex\",\n",
    "]\n",
    "# Reorder the categories in adata.obs['leiden_res0_25']\n",
    "adata_ifng.obs[\"cell_type\"] = pd.Categorical(\n",
    "    adata_ifng.obs[\"cell_type\"], categories=desired_order, ordered=True\n",
    ")"
   ]
  },
  {
   "cell_type": "code",
   "execution_count": null,
   "id": "8059f442-a24b-440e-8e0e-c5d0351a73a0",
   "metadata": {},
   "outputs": [],
   "source": [
    "# Visualize\n",
    "custom_colors = [\n",
    "    \"#3A923A\",\n",
    "    \"#146aff\",\n",
    "    \"#ff8113\",\n",
    "    \"#fff314\",\n",
    "    \"#D8393A\",\n",
    "]  # Example colors\n",
    "\n",
    "# Add these colors to the `adata_og.uns` dictionary for the `cell_type` category\n",
    "adata_ifng.uns[\"cell_type_colors\"] = custom_colors\n",
    "\n",
    "sc.pl.umap(\n",
    "    adata_ifng,\n",
    "    color=[\"ENSMUSG00000055170\", \"condition\"],\n",
    "    frameon=False,\n",
    "    vmax=\"p99\",\n",
    "    cmap=\"viridis\",\n",
    "    title=\"Ifng\",\n",
    "    size=45,\n",
    "    save=\"ifng_bigger6.png\",\n",
    ")"
   ]
  },
  {
   "cell_type": "markdown",
   "id": "ae98ceea-58c5-41e9-954d-39a87efe5704",
   "metadata": {},
   "source": [
    "#### Ifng > 6: Plotting fraction of cells. All in one plot cell type vs condition (11mix, 10mix)"
   ]
  },
  {
   "cell_type": "code",
   "execution_count": null,
   "id": "a33c50a4-708e-4d98-ad42-0965e1b294a0",
   "metadata": {},
   "outputs": [],
   "source": [
    "f = sns.boxplot(y=y, x=x, data=data, hue=hue, palette=\"viridis\")\n",
    "f.set_xticklabels(f.get_xticklabels(), rotation=\"vertical\")\n",
    "f.figure.set_size_inches(5, 6)\n",
    "sns.stripplot(y=y, hue=hue, x=x,  data=data,palette=\"viridis\", dodge=True, alpha=0.6, edgecolor=\"black\", linewidth=0.5)\n",
    "plt.pyplot.legend(bbox_to_anchor=(1.01, 1), loc=\"upper left\", borderaxespad=0)\n",
    "add_stat_annotation(\n",
    "    f,\n",
    "    data=data,\n",
    "    x=x,\n",
    "    y=y,\n",
    "    hue=hue,\n",
    " box_pairs=[((\"CD8_NaiveLike\", \"10mix\"), (\"CD8_NaiveLike\", \"11mix\"))\n",
    "],\n",
    "    test=\"Wilcoxon\",\n",
    "    text_format=\"simple\",\n",
    "    loc=\"inside\",\n",
    "    verbose=0,\n",
    "    comparisons_correction=\"bonferroni\",\n",
    ")\n",
    "add_stat_annotation(\n",
    "    f,\n",
    "    data=data,\n",
    "    x=x,\n",
    "    y=y,\n",
    "    hue=hue,\n",
    " box_pairs=[((\"CD8_EarlyActiv\", \"10mix\"), (\"CD8_EarlyActiv\", \"11mix\")),\n",
    "],\n",
    "    test=\"Wilcoxon\",\n",
    "    text_format=\"simple\",\n",
    "    loc=\"inside\",\n",
    "    verbose=0,\n",
    "    comparisons_correction=\"bonferroni\",\n",
    ")\n",
    "add_stat_annotation(\n",
    "    f,\n",
    "    data=data,\n",
    "    x=x,\n",
    "    y=y,\n",
    "    hue=hue,\n",
    " box_pairs=[((\"CD8_EffectorMemory\", \"10mix\"), (\"CD8_EffectorMemory\", \"11mix\")),\n",
    "],\n",
    "    test=\"Wilcoxon\",\n",
    "    text_format=\"simple\",\n",
    "    loc=\"inside\",\n",
    "    verbose=0,\n",
    "    comparisons_correction=\"bonferroni\",\n",
    ")\n",
    "\n",
    "add_stat_annotation(\n",
    "    f,\n",
    "    data=data,\n",
    "    x=x,\n",
    "    y=y,\n",
    "    hue=hue,\n",
    " box_pairs=[((\"CD8_Tpex\", \"10mix\"), (\"CD8_Tpex\", \"11mix\"))\n",
    "],\n",
    "    test=\"Wilcoxon\",\n",
    "    text_format=\"simple\",\n",
    "    loc=\"inside\",\n",
    "    verbose=0,\n",
    "    comparisons_correction=\"bonferroni\",\n",
    ")\n",
    "add_stat_annotation(\n",
    "    f,\n",
    "    data=data,\n",
    "    x=x,\n",
    "    y=y,\n",
    "    hue=hue,\n",
    " box_pairs=[((\"CD8_Tex\", \"10mix\"), (\"CD8_Tex\", \"11mix\")),\n",
    "],\n",
    "    test=\"Wilcoxon\",\n",
    "    text_format=\"simple\",\n",
    "    loc=\"inside\",\n",
    "    verbose=0,\n",
    "    comparisons_correction=\"bonferroni\",\n",
    ")\n",
    "f.set_ylabel(\"Fraction of Ifng+ CD8 T cellls (% of total\")\n",
    "\n"
   ]
  },
  {
   "cell_type": "code",
   "execution_count": null,
   "id": "5beac7cd-5397-4b86-aa00-71d27ee1f0cd",
   "metadata": {},
   "outputs": [],
   "source": []
  },
  {
   "cell_type": "markdown",
   "id": "680f08a2-e893-4a92-91a2-30ec446b4320",
   "metadata": {},
   "source": [
    "## plot from tcr integration"
   ]
  },
  {
   "cell_type": "code",
   "execution_count": 4,
   "id": "7eac9367-aa84-4966-ae9f-963b4c792f97",
   "metadata": {},
   "outputs": [],
   "source": [
    "metricsPS = pd.read_csv(\"metricsPS.csv\", index_col=0)"
   ]
  },
  {
   "cell_type": "code",
   "execution_count": 5,
   "id": "e4659bc9-4784-4ec3-a9d6-8ee86eb5f11f",
   "metadata": {},
   "outputs": [
    {
     "data": {
      "text/html": [
       "<div>\n",
       "<style scoped>\n",
       "    .dataframe tbody tr th:only-of-type {\n",
       "        vertical-align: middle;\n",
       "    }\n",
       "\n",
       "    .dataframe tbody tr th {\n",
       "        vertical-align: top;\n",
       "    }\n",
       "\n",
       "    .dataframe thead th {\n",
       "        text-align: right;\n",
       "    }\n",
       "</style>\n",
       "<table border=\"1\" class=\"dataframe\">\n",
       "  <thead>\n",
       "    <tr style=\"text-align: right;\">\n",
       "      <th></th>\n",
       "      <th>group</th>\n",
       "      <th>Richness</th>\n",
       "      <th>x</th>\n",
       "      <th>condition</th>\n",
       "    </tr>\n",
       "  </thead>\n",
       "  <tbody>\n",
       "    <tr>\n",
       "      <th>0</th>\n",
       "      <td>11mix1</td>\n",
       "      <td>0.887539</td>\n",
       "      <td>CRC</td>\n",
       "      <td>11mix</td>\n",
       "    </tr>\n",
       "    <tr>\n",
       "      <th>1</th>\n",
       "      <td>11mix2</td>\n",
       "      <td>0.848834</td>\n",
       "      <td>CRC</td>\n",
       "      <td>11mix</td>\n",
       "    </tr>\n",
       "    <tr>\n",
       "      <th>2</th>\n",
       "      <td>11mix-ICI1</td>\n",
       "      <td>0.946395</td>\n",
       "      <td>CRC</td>\n",
       "      <td>11mix</td>\n",
       "    </tr>\n",
       "    <tr>\n",
       "      <th>3</th>\n",
       "      <td>11mix-ICI2</td>\n",
       "      <td>1.000000</td>\n",
       "      <td>CRC</td>\n",
       "      <td>11mix</td>\n",
       "    </tr>\n",
       "    <tr>\n",
       "      <th>4</th>\n",
       "      <td>10mix1</td>\n",
       "      <td>0.859211</td>\n",
       "      <td>CRC</td>\n",
       "      <td>10mix</td>\n",
       "    </tr>\n",
       "    <tr>\n",
       "      <th>5</th>\n",
       "      <td>10mix2</td>\n",
       "      <td>0.863146</td>\n",
       "      <td>CRC</td>\n",
       "      <td>10mix</td>\n",
       "    </tr>\n",
       "    <tr>\n",
       "      <th>6</th>\n",
       "      <td>10mix-ICI1</td>\n",
       "      <td>0.923143</td>\n",
       "      <td>CRC</td>\n",
       "      <td>10mix</td>\n",
       "    </tr>\n",
       "    <tr>\n",
       "      <th>7</th>\n",
       "      <td>10mix-ICI2</td>\n",
       "      <td>0.886860</td>\n",
       "      <td>CRC</td>\n",
       "      <td>10mix</td>\n",
       "    </tr>\n",
       "  </tbody>\n",
       "</table>\n",
       "</div>"
      ],
      "text/plain": [
       "        group  Richness    x condition\n",
       "0      11mix1  0.887539  CRC     11mix\n",
       "1      11mix2  0.848834  CRC     11mix\n",
       "2  11mix-ICI1  0.946395  CRC     11mix\n",
       "3  11mix-ICI2  1.000000  CRC     11mix\n",
       "4      10mix1  0.859211  CRC     10mix\n",
       "5      10mix2  0.863146  CRC     10mix\n",
       "6  10mix-ICI1  0.923143  CRC     10mix\n",
       "7  10mix-ICI2  0.886860  CRC     10mix"
      ]
     },
     "execution_count": 5,
     "metadata": {},
     "output_type": "execute_result"
    }
   ],
   "source": [
    "metricsPS"
   ]
  },
  {
   "cell_type": "code",
   "execution_count": 12,
   "id": "4feefd6a-53ba-4781-aba1-160eb3fc106a",
   "metadata": {},
   "outputs": [
    {
     "name": "stdout",
     "output_type": "stream",
     "text": [
      "Using zero_method  pratt\n"
     ]
    },
    {
     "data": {
      "image/png": "[encoded data removed]",
      "text/plain": [
       "<Figure size 200x200 with 1 Axes>"
      ]
     },
     "metadata": {},
     "output_type": "display_data"
    }
   ],
   "source": [
    "import matplotlib.pyplot as plt\n",
    "custom_palette = {\"11mix\": \"#E1812C\", \"10mix\": \"#3374A1\"}\n",
    "\n",
    "plt.figure(figsize=(2, 2))  #\n",
    "\n",
    "g = sns.boxplot(data=metricsPS, x=\"x\", y=\"Richness\", hue=\"condition\", palette=custom_palette)\n",
    "\n",
    "sns.stripplot(data=metricsPS, x=\"x\", y=\"Richness\", hue=\"condition\", dodge=True,  palette=custom_palette,\n",
    "              jitter=True, alpha=0.6, marker=\"o\", edgecolor=\"gray\", linewidth=0.5)\n",
    "\n",
    "g.legend(loc='upper left', bbox_to_anchor=(1.26, 0.9))\n",
    "g.set_ylabel(\"Richness\")\n",
    "#annotator = Annotator(data=metricsPS, ax=g, pairs=[((\"CRC\",\"11mix\"),(\"CRC\",\"10mix\")) ],  x=\"x\", y=\"Richness\", hue= \"condition\")\n",
    "#annotator.configure(test='Mann-Whitney-gt', text_format='full', loc='inside')\n",
    "#annotator.apply_and_annotate()\n",
    "add_stat_annotation(g, data=metricsPS, x=\"x\", y=\"Richness\", hue=\"condition\", width=0.4,\n",
    "                    box_pairs=[((\"CRC\",\"11mix\"),(\"CRC\",\"10mix\")) ],\n",
    "                    test='Wilcoxon', text_format='full', loc='inside', verbose=0, comparisons_correction='bonferroni')\n",
    "\n",
    "plt.setp(g.texts, fontsize=8)\n",
    "g.grid(False)\n",
    "plt.show()\n",
    "#g.figure.savefig(\"./figures/richness_11mix_vs_10mix_ifng.svg\", bbox_inches=\"tight\")\n",
    "#g.figure.savefig(\"./figures/richness_11mix_vs_10mix_ifng.png\", bbox_inches=\"tight\")\n",
    "#g.figure.savefig(resultsDir+\"/TCR_cd8_perPatient_richness.svg\", bbox_inches=\"tight\")"
   ]
  },
  {
   "cell_type": "code",
   "execution_count": null,
   "id": "b605e5ac-b3ea-4512-8f69-60751bee0f9b",
   "metadata": {},
   "outputs": [],
   "source": []
  },
  {
   "cell_type": "code",
   "execution_count": null,
   "id": "ce22deb4-271e-494a-b41a-83a779044b27",
   "metadata": {},
   "outputs": [],
   "source": []
  }
 ],
 "metadata": {
  "kernelspec": {
   "display_name": "scanpy",
   "language": "python",
   "name": "scanpy"
  },
  "language_info": {
   "codemirror_mode": {
    "name": "ipython",
    "version": 3
   },
   "file_extension": ".py",
   "mimetype": "text/x-python",
   "name": "python",
   "nbconvert_exporter": "python",
   "pygments_lexer": "ipython3",
   "version": "3.12.3"
  }
 },
 "nbformat": 4,
 "nbformat_minor": 5
}
