{
 "cells": [
  {
   "cell_type": "markdown",
   "id": "9f0f3d65-cb82-49d1-adce-0a2ab14f6305",
   "metadata": {},
   "source": [
    "# Integrate annotated TIL & COLON"
   ]
  },
  {
   "cell_type": "markdown",
   "id": "f1eec119-4e34-4725-bdb7-466a00ffc60c",
   "metadata": {},
   "source": [
    "## Load adata annotated "
   ]
  },
  {
   "cell_type": "code",
   "execution_count": null,
   "id": "d1c4cf27-559b-4644-bc27-f2e0fc68339a",
   "metadata": {},
   "outputs": [],
   "source": [
    "# Libraries\n",
    "import anndata as ad\n",
    "import matplotlib as plt\n",
    "import numpy as np\n",
    "import pandas as pd\n",
    "import sc_atlas_helpers as ah\n",
    "import scanpy as sc\n",
    "from matplotlib.pyplot import rc_context\n",
    "from scipy.stats import median_abs_deviation"
   ]
  },
  {
   "cell_type": "code",
   "execution_count": null,
   "id": "d81a2e6f-4471-42a8-8be3-64b4bad09294",
   "metadata": {},
   "outputs": [],
   "source": [
    "from functools import partial\n",
    "\n",
    "import altair as alt"
   ]
  },
  {
   "cell_type": "code",
   "execution_count": null,
   "id": "13330462-666b-4f66-82c2-1f1fb747ce86",
   "metadata": {},
   "outputs": [],
   "source": [
    "import seaborn as sns"
   ]
  },
  {
   "cell_type": "code",
   "execution_count": null,
   "id": "a5fd69f3-c249-4bf1-b030-53b8b7eec0ff",
   "metadata": {},
   "outputs": [],
   "source": [
    "import decoupler as dc"
   ]
  },
  {
   "cell_type": "code",
   "execution_count": null,
   "id": "d11f80c2-3958-46c5-83ba-0928d731385c",
   "metadata": {
    "scrolled": true
   },
   "outputs": [],
   "source": [
    "adata = sc.read_h5ad(\"../adata_solo_re_annotated_all.h5ad\")"
   ]
  },
  {
   "cell_type": "code",
   "execution_count": null,
   "id": "e13b448d-cef9-4fa2-aa91-dcc893b70e0b",
   "metadata": {},
   "outputs": [],
   "source": [
    "adata = sc.read_h5ad(\"../18nov_analysis/adata_solo_18nov_annotation.h5ad\")"
   ]
  },
  {
   "cell_type": "code",
   "execution_count": null,
   "id": "ed028311-3815-4de4-bf27-4f07ce0b5787",
   "metadata": {},
   "outputs": [],
   "source": [
    "adata = adata[~adata.obs[\"leiden_res0_25\"].isin([\"5\"])]"
   ]
  },
  {
   "cell_type": "code",
   "execution_count": null,
   "id": "9d3ae800-6e3e-43fa-95c8-8d37c1745028",
   "metadata": {
    "scrolled": true
   },
   "outputs": [],
   "source": [
    "adata = sc.read_h5ad(\"mapped_til_colon.h5ad\")"
   ]
  },
  {
   "cell_type": "code",
   "execution_count": null,
   "id": "15a545df-48cd-4b30-940c-ef200941558b",
   "metadata": {},
   "outputs": [],
   "source": [
    "adata"
   ]
  },
  {
   "cell_type": "code",
   "execution_count": null,
   "id": "3ae5c962-1703-4b0e-a51f-21ab51c3c191",
   "metadata": {},
   "outputs": [],
   "source": [
    "adata.obs[\"origin\"] = adata.obs[\"origin\"].replace(\"colon\",\"Normal\")"
   ]
  },
  {
   "cell_type": "code",
   "execution_count": null,
   "id": "f28eadb9-eb3b-43b1-9e28-7b4aea0a3e59",
   "metadata": {},
   "outputs": [],
   "source": [
    "adata.obs[\"origin\"] = adata.obs[\"origin\"].replace(\"til\",\"Tumor\")"
   ]
  },
  {
   "cell_type": "code",
   "execution_count": null,
   "id": "075fe454-a796-470d-8bd0-59cfa1b493ca",
   "metadata": {},
   "outputs": [],
   "source": [
    "sc.pl.umap(adata, color=[\"origin\"], save = \"umap_origin_relabeled.pdf\")"
   ]
  },
  {
   "cell_type": "code",
   "execution_count": null,
   "id": "38d9a524-4779-4f32-800b-101de211b822",
   "metadata": {},
   "outputs": [],
   "source": [
    "specific_order = [ \"CD8_NaiveLike\", \"CD8_EarlyActiv\", \"CD8_EffectorMemory\", \"CD8_Tpex\",\"CD8_Tex\"]  # Replace with your desired order\n",
    "adata.obs['cell_type'] = pd.Categorical(adata.obs['cell_type'], categories=specific_order, ordered=True)"
   ]
  },
  {
   "cell_type": "code",
   "execution_count": null,
   "id": "1c05f8e1-296a-41e3-a208-42cfe1e42432",
   "metadata": {},
   "outputs": [],
   "source": [
    "# Visualize\n",
    "custom_colors = [\"#3A923A\", \"#146aff\", \"#ff8113\", \"#fff314\", \"#D8393A\"]  # Example colors\n",
    "\n",
    "# Add these colors to the `adata_og.uns` dictionary for the `cell_type` category\n",
    "adata.uns['cell_type_colors'] = custom_colors\n",
    "\n",
    "sc.pl.umap(\n",
    "    adata,\n",
    "    color=[ \"cell_type\"],  # Add other variables you want to visualize\n",
    "    legend_fontsize=8,\n",
    "    frameon=False, save = \"cell_type.pdf\"\n",
    ")"
   ]
  },
  {
   "cell_type": "code",
   "execution_count": null,
   "id": "85b4d52b-9829-43e3-8b93-727f85a772ba",
   "metadata": {},
   "outputs": [],
   "source": [
    "marker_dict  = {\"CD8_NaiveLike\":[\n",
    "    \"Ccr7\",\n",
    "\"Il7r\",\n",
    "\"Sell\",\n",
    "\"Tcf7\",\n",
    "\"Txk\",\n",
    "\"S1pr1\",\n",
    "\"Lef1\",\n",
    "\"Satb1\",\n",
    "],\"CD8_EffectorMemory\":[\"Gzma\",\n",
    "\"Gzmk\",\n",
    "\"Nkg7\",\n",
    "\"Cd8a\",\n",
    "\"Cd8b1\",\n",
    "\"Ctsw\",\n",
    "\"Gzmb\",\n",
    "\"Ccl5\",\n",
    "\"Cst7\",\n",
    "\"Prf1\",\n",
    "\"Abi3\",\n",
    "\"Fasl\",\n",
    "\"Itm2c\",\n",
    "\"1500009L16Rik\",\n",
    "\"Eomes\",\n",
    "\"Chst12\",\n",
    "\"Ccr5\",\n",
    "\"Hcst\",\n",
    "\"Aoah\",\n",
    "\"Hopx\",\n",
    "\"Slamf7\",\n",
    "\"Cxcr3\",\n",
    "\"Oasl1\",\n",
    "\"F2r\",\n",
    "\"Cxcr6\"],\"CD8_EarlyActiv\":[\"Gzmk\",\n",
    "\"Fos\",\n",
    "\"Cd69\",\n",
    "\"Zfp36\",\n",
    "\"Fosb\",\n",
    "\"Ccl5\",\n",
    "\"Gzmm\",\n",
    "\"Dusp2\",\n",
    "\"Lyar\",\n",
    "\"Samd3\",\n",
    "\"Cxcr4\",\n",
    "\"Ctsw\",\n",
    "\"Cd8a\",\n",
    "\"Anxa1\",\n",
    "\"Klrg1\",\n",
    "\"Cd8b1\",\n",
    "\"Aoah\",\n",
    "\"Tagap\",\n",
    "\"Klrd1\",\n",
    "\"Ier2\",\n",
    "\"Gzma\",\n",
    "\"Cst7\",\n",
    "\"Itm2c\",\n",
    "\"Parp8\",\n",
    "\"Btg2\"], \"CD8_Tpex\":[\"Lag3\",\n",
    "\"Xcl1\",\n",
    "\"Crtam\",\n",
    "\"Ifng\",\n",
    "\"Ccl4\",\n",
    "\"Pdcd1\",\n",
    "\"Dusp4\",\n",
    "\"Cd8a\",\n",
    "\"Zeb2\",\n",
    "\"Nr4a2\",\n",
    "\"Sla\",\n",
    "\"Nkg7\",\n",
    "\"Tigit\",\n",
    "\"Ctsw\",\n",
    "\"Tnfrsf9\",\n",
    "\"Tox\",\n",
    "\"Lyst\",\n",
    "\"Tnfsf4\",\n",
    "\"Ccl3\",\n",
    "\"Gzmb\",\n",
    "\"Rab27a\",\n",
    "\"Prf1\",\n",
    "\"Cd70\",\n",
    "\"Plscr1\",],\"CD8_Tex\":[\"Lag3\",\n",
    "\"Prf1\",\n",
    "\"Cd8a\",\n",
    "\"Havcr2\",\n",
    "\"Gzmb\",\n",
    "\"Nkg7\",\n",
    "\"Cd8b1\",\n",
    "\"Ctsd\",\n",
    "\"Klrd1\",\n",
    "\"Id2\",\n",
    "\"Cst7\",\n",
    "\"Pdcd1\",\n",
    "\"Tnfrsf9\",\n",
    "\"Tigit\",\n",
    "\"Ctsw\",\n",
    "\"Ccl4\",\n",
    "\"Ccl3\",\n",
    "\"Ifng\",\n",
    "\"Cxcr6\",\n",
    "\"Fasl\",\n",
    "\"Rbpj\",\n",
    "\"Chst12\",\n",
    "\"Fam3c\",\n",
    "\"Csf1\"] }"
   ]
  },
  {
   "cell_type": "code",
   "execution_count": null,
   "id": "3f7ea289-d714-43b8-8e12-a41e23413e78",
   "metadata": {},
   "outputs": [],
   "source": [
    "marker_list  = [\n",
    "    \"Ccr7\",\n",
    "\"Il7r\",\n",
    "\"Sell\",\n",
    "\"Tcf7\",\n",
    "\"Txk\",\n",
    "\"S1pr1\",\n",
    "\"Lef1\",\n",
    "\"Satb1\",\n",
    "\"Gzma\",\n",
    "\"Gzmk\",\n",
    "\"Nkg7\",\n",
    "\"Cd8a\",\n",
    "\"Cd8b1\",\n",
    "\"Ctsw\",\n",
    "\"Gzmb\",\n",
    "\"Ccl5\",\n",
    "\"Cst7\",\n",
    "\"Prf1\",\n",
    "\"Abi3\",\n",
    "\"Fasl\",\n",
    "\"Itm2c\",\n",
    "\"1500009L16Rik\",\n",
    "\"Eomes\",\n",
    "\"Chst12\",\n",
    "\"Ccr5\",\n",
    "\"Hcst\",\n",
    "\"Aoah\",\n",
    "\"Hopx\",\n",
    "\"Slamf7\",\n",
    "\"Cxcr3\",\n",
    "\"Oasl1\",\n",
    "\"F2r\",\n",
    "\"Cxcr6\",\"Gzmk\",\n",
    "\"Fos\",\n",
    "\"Cd69\",\n",
    "\"Zfp36\",\n",
    "\"Fosb\",\n",
    "\"Ccl5\",\n",
    "\"Gzmm\",\n",
    "\"Dusp2\",\n",
    "\"Lyar\",\n",
    "\"Samd3\",\n",
    "\"Cxcr4\",\n",
    "\"Ctsw\",\n",
    "\"Cd8a\",\n",
    "\"Anxa1\",\n",
    "\"Klrg1\",\n",
    "\"Cd8b1\",\n",
    "\"Aoah\",\n",
    "\"Tagap\",\n",
    "\"Klrd1\",\n",
    "\"Ier2\",\n",
    "\"Gzma\",\n",
    "\"Cst7\",\n",
    "\"Itm2c\",\n",
    "\"Parp8\",\n",
    "\"Btg2\",\"Lag3\",\n",
    "\"Xcl1\",\n",
    "\"Crtam\",\n",
    "\"Ifng\",\n",
    "\"Ccl4\",\n",
    "\"Pdcd1\",\n",
    "\"Dusp4\",\n",
    "\"Cd8a\",\n",
    "\"Zeb2\",\n",
    "\"Nr4a2\",\n",
    "\"Sla\",\n",
    "\"Nkg7\",\n",
    "\"Tigit\",\n",
    "\"Ctsw\",\n",
    "\"Tnfrsf9\",\n",
    "\"Tox\",\n",
    "\"Lyst\",\n",
    "\"Tnfsf4\",\n",
    "\"Ccl3\",\n",
    "\"Gzmb\",\n",
    "\"Rab27a\",\n",
    "\"Prf1\",\n",
    "\"Cd70\",\n",
    "\"Plscr1\",\"Lag3\",\n",
    "\"Prf1\",\n",
    "\"Cd8a\",\n",
    "\"Havcr2\",\n",
    "\"Gzmb\",\n",
    "\"Nkg7\",\n",
    "\"Cd8b1\",\n",
    "\"Ctsd\",\n",
    "\"Klrd1\",\n",
    "\"Id2\",\n",
    "\"Cst7\",\n",
    "\"Pdcd1\",\n",
    "\"Tnfrsf9\",\n",
    "\"Tigit\",\n",
    "\"Ctsw\",\n",
    "\"Ccl4\",\n",
    "\"Ccl3\",\n",
    "\"Ifng\",\n",
    "\"Cxcr6\",\n",
    "\"Fasl\",\n",
    "\"Rbpj\",\n",
    "\"Chst12\",\n",
    "\"Fam3c\",\n",
    "\"Csf1\"] "
   ]
  },
  {
   "cell_type": "code",
   "execution_count": null,
   "id": "68a8edf4-ffd3-4ff8-932d-5064ff24a10a",
   "metadata": {},
   "outputs": [],
   "source": [
    "sc.pl.dotplot(adata, marker_dict, groupby='cell_type',gene_symbols=\"gene_name\",dendrogram=False,  standard_scale ='var', save =\"markers_s41467-021-23324-4.png\")"
   ]
  },
  {
   "cell_type": "code",
   "execution_count": null,
   "id": "45c61ee4-d119-4683-9cab-b8b89727c7b4",
   "metadata": {},
   "outputs": [],
   "source": [
    "adata_colon = adata[adata.obs[\"origin\"]==\"colon\"]"
   ]
  },
  {
   "cell_type": "code",
   "execution_count": null,
   "id": "9ca4f0bf-c0aa-4e4c-9180-5f041e2c0f82",
   "metadata": {},
   "outputs": [],
   "source": [
    "adata_colon"
   ]
  },
  {
   "cell_type": "code",
   "execution_count": null,
   "id": "a3d8e89e-5343-45d3-9169-0f9af17edf5d",
   "metadata": {},
   "outputs": [],
   "source": [
    "#adata_colon.var[\"gene_symbols\"]=adata_colon.var[\"gene_name\"]"
   ]
  },
  {
   "cell_type": "code",
   "execution_count": null,
   "id": "807a90c6-da19-4fe8-ab3c-531ea866da2b",
   "metadata": {},
   "outputs": [],
   "source": [
    "adata_colon.var.set_index(\"gene_name\", inplace=True)"
   ]
  },
  {
   "cell_type": "code",
   "execution_count": null,
   "id": "554f48ce-e43f-40d6-9a19-73eb8c404001",
   "metadata": {},
   "outputs": [],
   "source": [
    "adata_colon =  adata_colon[~adata_colon.obs[\"cell_type\"].isin([\"TIL_DYSFUNCTIONAL\",\"TIL_NAIVE_LIKE\",\"TIL_PRE_DYSFUNCTIONAL\"])]"
   ]
  },
  {
   "cell_type": "code",
   "execution_count": null,
   "id": "80aa119a-7e61-4b75-b71b-8e60bf1f4e34",
   "metadata": {},
   "outputs": [],
   "source": [
    "adata_colon.obs.cell_type.value_counts()"
   ]
  },
  {
   "cell_type": "code",
   "execution_count": null,
   "id": "8320a75b-b696-4811-a702-2cbe8a06e1c5",
   "metadata": {},
   "outputs": [],
   "source": [
    "sc.pp.neighbors(adata_colon, n_neighbors=20)  \n",
    "sc.tl.leiden(adata_colon, resolution=0.5, flavor=\"igraph\", n_iterations=-1)\n",
    "sc.tl.paga(adata_colon)\n",
    "sc.pl.paga(adata_colon, plot=False)\n",
    "sc.tl.umap(adata_colon, init_pos='paga')\n"
   ]
  },
  {
   "cell_type": "code",
   "execution_count": null,
   "id": "e3962465-9e73-4444-8e5e-f3263ef40320",
   "metadata": {},
   "outputs": [],
   "source": [
    "sc.pl.umap(adata_colon, color=[\"leiden\"])"
   ]
  },
  {
   "cell_type": "code",
   "execution_count": null,
   "id": "bee8a9f5-7fc1-456d-8e96-464f6d55fa1b",
   "metadata": {},
   "outputs": [],
   "source": [
    "import scanpy as sc\n",
    "import matplotlib.pyplot as plt\n",
    "from matplotlib.backends.backend_pdf import PdfPages\n",
    "\n",
    "# Load your AnnData object\n",
    "\n",
    "\n",
    "# Define the number of rows and columns per page\n",
    "n_rows = 4\n",
    "n_cols = 4\n",
    "plots_per_page = n_rows * n_cols\n",
    "\n",
    "# Create a single PDF file to save all UMAP plots\n",
    "output_pdf = \"umap_markers_multiple_per_page.pdf\"\n",
    "\n",
    "with PdfPages(output_pdf) as pdf:\n",
    "    num_markers = len(marker_list)\n",
    "    num_pages = (num_markers + plots_per_page - 1) // plots_per_page  # Calculate total pages needed\n",
    "\n",
    "    for page in range(num_pages):\n",
    "        # Create a new figure for each page\n",
    "        fig, axes = plt.subplots(n_rows, n_cols, figsize=(n_cols * 5, n_rows * 5))\n",
    "        axes = axes.flatten()  # Flatten the grid for easy indexing\n",
    "\n",
    "        for i in range(plots_per_page):\n",
    "            marker_idx = page * plots_per_page + i\n",
    "            if marker_idx >= num_markers:\n",
    "                axes[i].axis(\"off\")  # Turn off unused axes\n",
    "                continue\n",
    "\n",
    "            marker = marker_list[marker_idx]\n",
    "            if marker in adata.var_names:  # Check if the marker exists\n",
    "                sc.pl.umap(\n",
    "                    adata_colon,\n",
    "                    color=marker,\n",
    "                    gene_symbols=\"gene_name\",\n",
    "                    ax=axes[i],\n",
    "                    show=False,\n",
    "                    title=marker,\n",
    "                    cmap=\"viridis\",\n",
    "                    vmax=\"p99\"\n",
    "                )\n",
    "            else:\n",
    "                axes[i].text(0.5, 0.5, f\"'{marker}' not found\", \n",
    "                             ha=\"center\", va=\"center\", fontsize=12)\n",
    "                axes[i].axis(\"off\")\n",
    "\n",
    "        # Adjust layout and save the current page to the PDF\n",
    "        plt.tight_layout()\n",
    "        pdf.savefig(fig)\n",
    "        plt.close(fig)\n",
    "\n",
    "print(f\"UMAP plots saved to '{output_pdf}'.\")\n"
   ]
  },
  {
   "cell_type": "code",
   "execution_count": null,
   "id": "7ec4c856-a5ea-4dfc-91ef-5d6612ca67e3",
   "metadata": {},
   "outputs": [],
   "source": [
    "adata_colon.var"
   ]
  },
  {
   "cell_type": "code",
   "execution_count": null,
   "id": "b3f80bef-8927-4313-b32d-724082193b70",
   "metadata": {},
   "outputs": [],
   "source": [
    "sc.pl.dotplot(adata_colon, marker_dict, groupby='leiden',gene_symbols=\"gene_name\",dendrogram=False,  standard_scale ='var', save =\"colon_markers_s41467-021-23324-4.png\")"
   ]
  },
  {
   "cell_type": "code",
   "execution_count": null,
   "id": "7b702b84-6ecf-4411-b519-829c3164ccdd",
   "metadata": {},
   "outputs": [],
   "source": []
  },
  {
   "cell_type": "code",
   "execution_count": null,
   "id": "84e131cb-2144-47ae-a857-6375613b293b",
   "metadata": {},
   "outputs": [],
   "source": [
    "adata_til = adata[adata.obs[\"origin\"]==\"til\"]"
   ]
  },
  {
   "cell_type": "code",
   "execution_count": null,
   "id": "ad127efe-61c6-4c60-bf99-ee9e6adf48c5",
   "metadata": {},
   "outputs": [],
   "source": [
    "adata_til =  adata_til[~adata_til.obs[\"cell_type\"].isin([\"COLON_DYSFUNCTIONAL\",\"COLON_NAIVE_LIKE\"])]"
   ]
  },
  {
   "cell_type": "code",
   "execution_count": null,
   "id": "946a34e6-2d93-472d-be2c-c044289a6ca9",
   "metadata": {},
   "outputs": [],
   "source": [
    "adata_til.obs.cell_type.value_counts()"
   ]
  },
  {
   "cell_type": "code",
   "execution_count": null,
   "id": "64a12cba-bf16-4748-b44b-2c34672513f4",
   "metadata": {},
   "outputs": [],
   "source": [
    "adata_til.var"
   ]
  },
  {
   "cell_type": "code",
   "execution_count": null,
   "id": "535b4345-2fdd-4874-aaee-68277dc7ca6f",
   "metadata": {},
   "outputs": [],
   "source": [
    "sc.pp.neighbors(adata_til, n_neighbors=20)  \n",
    "sc.tl.leiden(adata_til, resolution=0.5, flavor=\"igraph\", n_iterations=-1)\n",
    "sc.tl.paga(adata_til)\n",
    "sc.pl.paga(adata_til, plot=False)\n",
    "sc.tl.umap(adata_til, init_pos='paga')\n"
   ]
  },
  {
   "cell_type": "code",
   "execution_count": null,
   "id": "4be5d8b9-0ccd-4062-b2eb-a0fa855a69ec",
   "metadata": {},
   "outputs": [],
   "source": [
    "sc.pl.umap(adata_til, color=[\"leiden\"])"
   ]
  },
  {
   "cell_type": "code",
   "execution_count": null,
   "id": "eb4875ee-aa49-4472-a701-22db0c649c25",
   "metadata": {},
   "outputs": [],
   "source": [
    "sc.pl.dotplot(adata_til, marker_dict, groupby='leiden',gene_symbols=\"gene_name\",dendrogram=False,  standard_scale ='var', save =\"til_markers_s41467-021-23324-4.png\")"
   ]
  },
  {
   "cell_type": "code",
   "execution_count": null,
   "id": "f9c2f42b-3891-4192-829c-af173580a7f2",
   "metadata": {},
   "outputs": [],
   "source": [
    "adata_til.var[\"gene_symbols\"]=adata_til.var[\"gene_name\"]"
   ]
  },
  {
   "cell_type": "code",
   "execution_count": null,
   "id": "96322e96-090a-442c-a7e3-e518d23237c5",
   "metadata": {},
   "outputs": [],
   "source": [
    "adata_til.var.set_index(\"gene_name\", inplace=True)"
   ]
  },
  {
   "cell_type": "code",
   "execution_count": null,
   "id": "f0ea0f6f-8058-4556-91b3-a2c4bb3abd1d",
   "metadata": {},
   "outputs": [],
   "source": [
    "import scanpy as sc\n",
    "import matplotlib.pyplot as plt\n",
    "from matplotlib.backends.backend_pdf import PdfPages\n",
    "\n",
    "# Load your AnnData object\n",
    "adata = adata_til  # Ensure adata_colon is already loaded\n",
    "\n",
    "# Define the number of rows and columns per page\n",
    "n_rows = 4\n",
    "n_cols = 4\n",
    "plots_per_page = n_rows * n_cols\n",
    "\n",
    "# Create a single PDF file to save all UMAP plots\n",
    "output_pdf = \"umap_markers_multiple_per_page.pdf\"\n",
    "\n",
    "with PdfPages(output_pdf) as pdf:\n",
    "    num_markers = len(marker_list)\n",
    "    num_pages = (num_markers + plots_per_page - 1) // plots_per_page  # Calculate total pages needed\n",
    "\n",
    "    for page in range(num_pages):\n",
    "        # Create a new figure for each page\n",
    "        fig, axes = plt.subplots(n_rows, n_cols, figsize=(n_cols * 5, n_rows * 5))\n",
    "        axes = axes.flatten()  # Flatten the grid for easy indexing\n",
    "\n",
    "        for i in range(plots_per_page):\n",
    "            marker_idx = page * plots_per_page + i\n",
    "            if marker_idx >= num_markers:\n",
    "                axes[i].axis(\"off\")  # Turn off unused axes\n",
    "                continue\n",
    "\n",
    "            marker = marker_list[marker_idx]\n",
    "            if marker in adata.var_names:  # Check if the marker exists\n",
    "                sc.pl.umap(\n",
    "                    adata,\n",
    "                    color=marker,\n",
    "                    ax=axes[i],\n",
    "                    show=False,\n",
    "                    title=marker,\n",
    "                    cmap=\"viridis\",\n",
    "                    vmax=\"p99\"\n",
    "                )\n",
    "            else:\n",
    "                axes[i].text(0.5, 0.5, f\"'{marker}' not found\", \n",
    "                             ha=\"center\", va=\"center\", fontsize=12)\n",
    "                axes[i].axis(\"off\")\n",
    "\n",
    "        # Adjust layout and save the current page to the PDF\n",
    "        plt.tight_layout()\n",
    "        pdf.savefig(fig)\n",
    "        plt.close(fig)\n",
    "\n",
    "print(f\"UMAP plots saved to '{output_pdf}'.\")\n"
   ]
  },
  {
   "cell_type": "code",
   "execution_count": null,
   "id": "aaa3efd2-4bce-4d54-8077-a1ca145e14b3",
   "metadata": {},
   "outputs": [],
   "source": [
    "adata_til_exhausted = adata_til[adata_til.obs[\"leiden\"].isin([\"0\",\"1\",\"2\",\"3\",\"4\"])]"
   ]
  },
  {
   "cell_type": "code",
   "execution_count": null,
   "id": "7b81739e-359c-486c-8840-fb2c558efb53",
   "metadata": {},
   "outputs": [],
   "source": [
    "sc.pp.neighbors(adata_til_exhausted, n_neighbors=20)  \n",
    "sc.tl.leiden(adata_til_exhausted, resolution=0.5, flavor=\"igraph\", n_iterations=-1)\n",
    "sc.tl.paga(adata_til_exhausted)\n",
    "sc.pl.paga(adata_til_exhausted, plot=False)\n",
    "sc.tl.umap(adata_til_exhausted, init_pos='paga')\n"
   ]
  },
  {
   "cell_type": "code",
   "execution_count": null,
   "id": "40364f5e-0178-463c-8a7e-64d5a312b5cb",
   "metadata": {},
   "outputs": [],
   "source": [
    "sc.pl.umap(adata_til_exhausted, color=[\"leiden\"])"
   ]
  },
  {
   "cell_type": "code",
   "execution_count": null,
   "id": "10f94996-055a-474d-8513-6c20abc48102",
   "metadata": {},
   "outputs": [],
   "source": [
    "adata"
   ]
  },
  {
   "cell_type": "code",
   "execution_count": null,
   "id": "a219b52b-b9df-4301-827d-a8992a75f805",
   "metadata": {},
   "outputs": [],
   "source": [
    "sc.pl.dotplot(adata_til_exhausted, marker_dict, groupby='leiden',gene_symbols=\"gene_name\",dendrogram=False,  standard_scale ='var', save =\"til_exhausted_markers_s41467-021-23324-4.png\")"
   ]
  },
  {
   "cell_type": "code",
   "execution_count": null,
   "id": "d8e5d5ab-5106-4208-8bac-debaac70a124",
   "metadata": {},
   "outputs": [],
   "source": []
  },
  {
   "cell_type": "code",
   "execution_count": null,
   "id": "0dfa4848-78ff-4825-9941-418c29304aed",
   "metadata": {},
   "outputs": [],
   "source": [
    "sc.pl.umap(adata, color=[\"Il7r\",\"Ccr7\",\"Tcf7\"],gene_symbols=\"gene_name\", vmax=\"p99\", cmap=\"viridis\") #naive like "
   ]
  },
  {
   "cell_type": "code",
   "execution_count": null,
   "id": "b55e1572-e00c-4f64-b080-940594099d75",
   "metadata": {},
   "outputs": [],
   "source": [
    "sc.pl.umap(adata, color=[\"Gzmk\"],gene_symbols=\"gene_name\", vmax=\"p99\", cmap=\"viridis\") #predysfuntional"
   ]
  },
  {
   "cell_type": "code",
   "execution_count": null,
   "id": "b4d7e576-f0d5-4354-ab59-ada52a2f24d8",
   "metadata": {},
   "outputs": [],
   "source": [
    "sc.pl.umap(adata, color=[\"Klrg1\",\"Prf1\",\"Cx3cr1\"],gene_symbols=\"gene_name\", vmax=\"p99\", cmap=\"viridis\") #cytotoxic"
   ]
  },
  {
   "cell_type": "code",
   "execution_count": null,
   "id": "47d3d4a6-8956-4440-89e0-4232f3265258",
   "metadata": {},
   "outputs": [],
   "source": [
    "sc.pl.umap(adata, color=[\"Lag3\",\"Pdcd1\",\"Havcr2\",\"Ctla4\"],gene_symbols=\"gene_name\", vmax=\"p99\", cmap=\"viridis\") #dysfuncitonal"
   ]
  },
  {
   "cell_type": "code",
   "execution_count": null,
   "id": "0004e8e9-8f0b-4f46-a79b-4a2810732390",
   "metadata": {},
   "outputs": [],
   "source": [
    "adata_colon = adata[adata.obs[\"origin\"]==\"colon\"]"
   ]
  },
  {
   "cell_type": "code",
   "execution_count": null,
   "id": "904ea3d4-f901-42da-9704-65ea527b5f7f",
   "metadata": {},
   "outputs": [],
   "source": [
    "adata_til = adata[adata.obs[\"origin\"]==\"til\"]"
   ]
  },
  {
   "cell_type": "code",
   "execution_count": null,
   "id": "ec2fd90e-30bd-4ae4-9935-be8c09de0861",
   "metadata": {},
   "outputs": [],
   "source": [
    "sc.pl.umap(adata_colon, color=[\"origin\",\"leiden_res0_25\"])"
   ]
  },
  {
   "cell_type": "code",
   "execution_count": null,
   "id": "45e2efe9-5714-42e6-b4cc-4fcdb8b7d89d",
   "metadata": {},
   "outputs": [],
   "source": [
    "sc.pl.umap(adata_til, color=[\"origin\",\"leiden_res0_25\"])"
   ]
  },
  {
   "cell_type": "code",
   "execution_count": null,
   "id": "2acd8adc-8b33-4186-b34c-78c5abcd40ce",
   "metadata": {},
   "outputs": [],
   "source": [
    "sc.pl.umap(adata_colon, color=[\"Sell\",\"Cd44\",\"Ccr7\",\"Cd69\"],gene_symbols=\"gene_name\", vmax=\"p99\", cmap=\"viridis\", save =\"naive_like_colon.png\") #naive like "
   ]
  },
  {
   "cell_type": "code",
   "execution_count": null,
   "id": "d762115f-6ea2-4ca8-a9af-5cfc2672eb8b",
   "metadata": {},
   "outputs": [],
   "source": [
    "sc.pl.umap(adata_colon, color = [\"Sell\",\"Cd69\",\"Cd44\",\"Cd28\",\"Itgae\",\"Icos\",\"Cxcr3\",\"Casp3\",\"Pdcd1\",\"Itga4\",\"Cxcr6\",\"Itgae\",\"H2-T23\",\"Cd28\"],gene_symbols=\"gene_name\", cmap=\"viridis\")#, save=\"markers.pdf\")"
   ]
  },
  {
   "cell_type": "code",
   "execution_count": null,
   "id": "fb3ae4d0-76d7-478d-ad13-edafd00eadac",
   "metadata": {},
   "outputs": [],
   "source": [
    "sc.pl.umap(adata_colon, color=[\"Il7r\",\"Ccr7\",\"Tcf7\"],gene_symbols=\"gene_name\", vmax=\"p99\", cmap=\"viridis\") #naive like "
   ]
  },
  {
   "cell_type": "code",
   "execution_count": null,
   "id": "e0f0ecc3-8c55-4516-8a43-1f66e0f11981",
   "metadata": {},
   "outputs": [],
   "source": [
    "sc.pl.umap(adata_colon, color=[\"Gzmk\"],gene_symbols=\"gene_name\", vmax=\"p99\", cmap=\"viridis\") #predysfuntional"
   ]
  },
  {
   "cell_type": "code",
   "execution_count": null,
   "id": "3e995563-5afc-48cf-b5db-b4086060be24",
   "metadata": {},
   "outputs": [],
   "source": [
    "sc.pl.umap(adata_colon, color=[\"Klrg1\",\"Prf1\",\"Cx3cr1\"],gene_symbols=\"gene_name\", vmax=\"p99\", cmap=\"viridis\") #cytotoxic"
   ]
  },
  {
   "cell_type": "code",
   "execution_count": null,
   "id": "e1c110c5-3a4b-4306-bedd-7a5cf61ba732",
   "metadata": {},
   "outputs": [],
   "source": [
    "sc.pl.umap(adata_colon, color=[\"Lag3\",\"Pdcd1\",\"Ctla4\",\"Gzmk\"],gene_symbols=\"gene_name\", vmax=\"p99\", cmap=\"viridis\",save =\"dysfunctional_colon.png\") #dysfuncitonal"
   ]
  },
  {
   "cell_type": "code",
   "execution_count": null,
   "id": "f876eb28-3cc9-44fa-bdd6-ac5a25168bec",
   "metadata": {},
   "outputs": [],
   "source": [
    "adata"
   ]
  },
  {
   "cell_type": "code",
   "execution_count": null,
   "id": "968e4cdb-a921-4f60-8e2d-cddc4f7848bc",
   "metadata": {},
   "outputs": [],
   "source": [
    "specific_order = [ \"N_LIKE\", \"PRE_DYSF\", \"DYSF\"]  # Replace with your desired order\n",
    "adata.obs['cell_type'] = pd.Categorical(adata.obs['cell_type'], categories=specific_order, ordered=True)"
   ]
  },
  {
   "cell_type": "code",
   "execution_count": null,
   "id": "ecb2dbec-2be3-4043-9bcc-128da1207ab2",
   "metadata": {},
   "outputs": [],
   "source": [
    "sc.pl.umap(adata, color=\"cell_type\",legend_fontsize=\"small\" ,save=\"umap_new_annotation_abv_legen_side.png\")"
   ]
  },
  {
   "cell_type": "code",
   "execution_count": null,
   "id": "e39db0ec-da65-42c7-8246-8bd3ecd2867f",
   "metadata": {},
   "outputs": [],
   "source": [
    "annotation_dict = {\n",
    "    \"0\": \"DYSF\",\n",
    "    \"1\": \"N_LIKE\",\n",
    "    \"2\": \"PRE_DYSF\",\n",
    "    \"3\": \"DYSF\",\n",
    "    \"4\": \"N_LIKE\",\n",
    "    \"5\": \"DYSF\",\n",
    "    \"6\": \"DYSF\",\n",
    "}\n",
    "\n"
   ]
  },
  {
   "cell_type": "code",
   "execution_count": null,
   "id": "310f0884-3fc5-42f9-8e60-f90616ddb520",
   "metadata": {},
   "outputs": [],
   "source": [
    "## Add cell type column based on annotation\n",
    "adata.obs[\"cell_type\"] = [\n",
    "    annotation_dict[clust] for clust in adata.obs[\"leiden_res0_25\"]\n",
    "]\n",
    "\n",
    "\n",
    "# Visualize\n",
    "sc.pl.umap(\n",
    "    adata,\n",
    "    color=[\"cell_type\", \"leiden_res0_25\"],\n",
    "\n",
    "    legend_fontsize=8,\n",
    ")"
   ]
  },
  {
   "cell_type": "code",
   "execution_count": null,
   "id": "2b662400-5df5-42bb-b3d2-93b07835a162",
   "metadata": {},
   "outputs": [],
   "source": [
    "sc.pl.umap(adata_til, color=[\"Sell\",\"Cd44\",\"Il7r\",\"Ccr7\",\"Tcf7\"],gene_symbols=\"gene_name\", vmax=\"p99\", cmap=\"viridis\", save =\"til_naive_like\") #naive like "
   ]
  },
  {
   "cell_type": "code",
   "execution_count": null,
   "id": "b5e3ca8d-821b-4537-ae6b-228419508959",
   "metadata": {},
   "outputs": [],
   "source": [
    "sc.pl.umap(adata_til, color = [\"Sell\",\"Cd69\",\"Cd44\",\"Cd28\",\"Itgae\",\"Icos\",\"Cxcr3\",\"Casp3\",\"Pdcd1\",\"Itga4\",\"Cxcr6\",\"Itgae\",\"H2-T23\",\"Cd28\"],gene_symbols=\"gene_name\", cmap=\"viridis\")#, save=\"markers.pdf\")"
   ]
  },
  {
   "cell_type": "code",
   "execution_count": null,
   "id": "53c58949-8f67-4f00-b8fc-03fe4dc662ba",
   "metadata": {},
   "outputs": [],
   "source": [
    "sc.pl.umap(adata_til, color=[\"Il7r\",\"Ccr7\",\"Tcf7\"],gene_symbols=\"gene_name\", vmax=\"p99\", cmap=\"viridis\", save =\"til_naive.png\") #naive like "
   ]
  },
  {
   "cell_type": "code",
   "execution_count": null,
   "id": "ca4426d0-a013-4aa4-9782-9db2b89cfb23",
   "metadata": {},
   "outputs": [],
   "source": [
    "sc.pl.umap(adata_til, color=[\"Sell\",\"Cd44\",\"Ccr7\"],gene_symbols=\"gene_name\", vmax=\"p99\", cmap=\"viridis\", save =\"til_naive.png\") #naive like "
   ]
  },
  {
   "cell_type": "code",
   "execution_count": null,
   "id": "adbc0aab-27fe-484d-930b-ffc5f703bee6",
   "metadata": {},
   "outputs": [],
   "source": [
    "sc.pl.umap(adata_til, color=[\"Gzmk\",\"Cd28\",\"Cxcr3\"],gene_symbols=\"gene_name\", vmax=\"p99\", cmap=\"viridis\", save =\"til_predysfunctional.png\") #predysfuntional"
   ]
  },
  {
   "cell_type": "code",
   "execution_count": null,
   "id": "b28a328b-938c-46c5-a541-e7c2001d9c25",
   "metadata": {},
   "outputs": [],
   "source": [
    "sc.pl.umap(adata_til, color=[\"Prf1\",\"Cx3cr1\",\"Ifng\"],gene_symbols=\"gene_name\", vmax=\"p99\", cmap=\"viridis\", save = \"til_cytotoxic.png\") #cytotoxic"
   ]
  },
  {
   "cell_type": "code",
   "execution_count": null,
   "id": "ad750085-5fbb-442b-9dad-28c8d521edcb",
   "metadata": {},
   "outputs": [],
   "source": [
    "sc.pl.umap(adata_til, color=[\"Lag3\",\"Pdcd1\",\"Havcr2\",\"Ctla4\",\"Icos\",\"Casp3\", \"Cxcr6\"],gene_symbols=\"gene_name\", vmax=\"p99\", cmap=\"viridis\", save =\"til_dysfunctional.png\") #dysfuncitonal"
   ]
  },
  {
   "cell_type": "code",
   "execution_count": null,
   "id": "923ead68-da96-42ef-825e-a110572e7dc1",
   "metadata": {},
   "outputs": [],
   "source": [
    "sc.pl.umap(adata_til, color=[\"Lag3\",\"Pdcd1\",\"Ctla4\",\"Gzmk\"],gene_symbols=\"gene_name\", vmax=\"p99\", cmap=\"viridis\", save =\"til_dysfunctional_same_markers.png\") #dysfuncitonal"
   ]
  },
  {
   "cell_type": "code",
   "execution_count": null,
   "id": "aafc8adc-6df7-4b29-bae5-49066b0955a6",
   "metadata": {},
   "outputs": [],
   "source": [
    "sc.pl.umap(adata, color = [\"Ifng\"],gene_symbols=\"gene_name\", vmax=\"p99\", cmap=\"Reds\")"
   ]
  },
  {
   "cell_type": "code",
   "execution_count": null,
   "id": "6afc0dda-125c-4bf8-94d0-44a85814e74e",
   "metadata": {},
   "outputs": [],
   "source": [
    "annotation_dict = {\n",
    "    \"0\": \"TIL_EXHAUSTED\",\n",
    "    \"1\": \"TIL_NAIVE\",\n",
    "    \"2\": \"TIL_EM\",\n",
    "    \"3\": \"COLON_RM\",\n",
    "    \"4\": \"COLON_NAIVE\",\n",
    "    \"5\": \"\",\n",
    "    \"6\": \"TIL_EXHAUSTED\",\n",
    "}\n",
    "\n"
   ]
  },
  {
   "cell_type": "code",
   "execution_count": null,
   "id": "11969e11-d67b-4531-a4c6-bcbb806664b7",
   "metadata": {
    "scrolled": true
   },
   "outputs": [],
   "source": [
    "## Add cell type column based on annotation\n",
    "adata.obs[\"cell_type\"] = [\n",
    "    annotation_dict[clust] for clust in adata.obs[\"leiden_res0_25\"]\n",
    "]\n",
    "\n",
    "\n",
    "# Visualize\n",
    "sc.pl.umap(\n",
    "    adata,\n",
    "    color=[\"cell_type\", \"leiden_res0_25\"],\n",
    "\n",
    "    legend_fontsize=8,\n",
    ")"
   ]
  },
  {
   "cell_type": "code",
   "execution_count": null,
   "id": "3908aec0-1853-481c-aea9-7be9228a0abc",
   "metadata": {},
   "outputs": [],
   "source": [
    "sc.pl.umap(\n",
    "adata,\n",
    "color=[ \"leiden_res0_25\",\"cell_type\"],\n",
    "\n",
    "legend_fontsize=8,\n",
    "save=\"cell_type_anno_27nov.png\")"
   ]
  },
  {
   "cell_type": "code",
   "execution_count": null,
   "id": "9cf9c623-91bc-401d-b273-f78ea84074b8",
   "metadata": {},
   "outputs": [],
   "source": [
    "specific_order = [ \"COLON_NAIVE\", \"COLON_RM\", \"TIL_NAIVE\",\"TIL_EM\",\"TIL_EXHAUSTED\",]  # Replace with your desired order\n",
    "adata.obs['cell_type'] = pd.Categorical(adata.obs['cell_type'], categories=specific_order, ordered=True)"
   ]
  },
  {
   "cell_type": "code",
   "execution_count": null,
   "id": "11f52d80-e6a2-4626-bb24-83154e6c3c6d",
   "metadata": {
    "scrolled": true
   },
   "outputs": [],
   "source": [
    "sc.pl.umap(\n",
    "    adata,\n",
    "    color=[\"origin\",\"sample_id\",\"condition\"],\n",
    "\n",
    "    legend_fontsize=8)#,save=\"sample_18nov.png\"\n",
    "#)"
   ]
  },
  {
   "cell_type": "code",
   "execution_count": null,
   "id": "577b4b38-957e-48c2-b637-f2eab16be5d8",
   "metadata": {},
   "outputs": [],
   "source": [
    "sc.tl.diffmap(adata_no5)"
   ]
  },
  {
   "cell_type": "code",
   "execution_count": null,
   "id": "928f1200-02a2-4aab-bae9-4ed70d00bcfe",
   "metadata": {},
   "outputs": [],
   "source": [
    "adata"
   ]
  },
  {
   "cell_type": "code",
   "execution_count": null,
   "id": "432ca6e4-7f4e-4234-addc-852434155348",
   "metadata": {},
   "outputs": [],
   "source": [
    "# Setting root cell as described above\n",
    "root_ixs = adata_no5.obsm[\"X_diffmap\"][:, 3].argmin()\n",
    "sc.pl.scatter(\n",
    "    adata_no5,\n",
    "    basis=\"diffmap\",\n",
    "    color=[\"leiden_res0_25\"],\n",
    "    components=[2, 3],\n",
    ")\n",
    "\n",
    "adata.uns[\"iroot\"] = root_ixs"
   ]
  },
  {
   "cell_type": "code",
   "execution_count": null,
   "id": "82bd4d4d-6546-4bb0-9cbe-3c734de4c36f",
   "metadata": {},
   "outputs": [],
   "source": [
    "adata_no5.uns[\"iroot\"] = np.flatnonzero(adata_no5.obs['cell_type'] == 'COLON_NAIVE')[0]\n"
   ]
  },
  {
   "cell_type": "code",
   "execution_count": null,
   "id": "3490d948-5c23-4d00-b89c-5b4d7f9485ac",
   "metadata": {},
   "outputs": [],
   "source": [
    "sc.tl.dpt(adata_no5)"
   ]
  },
  {
   "cell_type": "code",
   "execution_count": null,
   "id": "e740a020-d3d1-46f1-9e60-2d688b5d7212",
   "metadata": {},
   "outputs": [],
   "source": [
    "adata"
   ]
  },
  {
   "cell_type": "code",
   "execution_count": null,
   "id": "d4428507-939b-4a8a-a430-26cec32a7fb0",
   "metadata": {},
   "outputs": [],
   "source": [
    "sc.pl.scatter(\n",
    "    adata_no5,\n",
    "    basis=\"umap\",\n",
    "    color=[\"cell_type\",\"dpt_pseudotime\"],\n",
    "    color_map=\"gnuplot2\", save = \"pseudotime_no5.png\"\n",
    ")"
   ]
  },
  {
   "cell_type": "code",
   "execution_count": null,
   "id": "47802791-523f-427d-b2d3-61924dd1ba22",
   "metadata": {},
   "outputs": [],
   "source": [
    "adata.uns['iroot'] = np.flatnonzero(adata.obs['cell_type'] == 'COLON_NAIVE')[0]"
   ]
  },
  {
   "cell_type": "code",
   "execution_count": null,
   "id": "00593052-9952-4b9e-b466-90891b5072e1",
   "metadata": {},
   "outputs": [],
   "source": [
    "sc.tl.dpt(adata)"
   ]
  },
  {
   "cell_type": "code",
   "execution_count": null,
   "id": "67dfa284-e136-4cde-bff6-a5f6d634a1df",
   "metadata": {},
   "outputs": [],
   "source": [
    "    color_map=\"gnuplot2\","
   ]
  },
  {
   "cell_type": "code",
   "execution_count": null,
   "id": "88146bda-c4a5-44e6-aab4-b784539eb6a6",
   "metadata": {},
   "outputs": [],
   "source": [
    "sc.pl.umap(adata, color=['dpt_pseudotime'], vmax=\"p99\", cmap = \"gnuplot2\",legend_fontsize=8, save=\"pseudotime_cell_type.png\"  )"
   ]
  },
  {
   "cell_type": "code",
   "execution_count": null,
   "id": "9a7af676-1d88-42f2-8c75-412b03face73",
   "metadata": {},
   "outputs": [],
   "source": []
  },
  {
   "cell_type": "code",
   "execution_count": null,
   "id": "9d36eb9f-82b0-45be-861c-bbefcdaedda1",
   "metadata": {},
   "outputs": [],
   "source": []
  },
  {
   "cell_type": "code",
   "execution_count": null,
   "id": "b7e362a8-4fc5-4340-abd2-b3652db4f8a1",
   "metadata": {},
   "outputs": [],
   "source": [
    "sc.pl.umap(adata, color=['cell_type'], vmax=\"p99\", cmap = \"gnuplot2\",legend_fontsize=8)#, save=\"onlycell_type.png\"  )"
   ]
  },
  {
   "cell_type": "code",
   "execution_count": null,
   "id": "f8c86b80-7bbb-4007-91e0-99abf1165b0b",
   "metadata": {},
   "outputs": [],
   "source": [
    "## paga"
   ]
  },
  {
   "cell_type": "code",
   "execution_count": null,
   "id": "ff423d0c-415c-47c2-9a6e-1b6683dc33db",
   "metadata": {},
   "outputs": [],
   "source": [
    "adata.write_h5ad(\"adata_solo_18nov_annotation.h5ad\")"
   ]
  },
  {
   "cell_type": "code",
   "execution_count": null,
   "id": "8ba57522-4faa-424a-b008-dee9389fadb1",
   "metadata": {},
   "outputs": [],
   "source": [
    "adata = sc.read_h5ad(\"adata_solo_18nov_annotation.h5ad\")"
   ]
  },
  {
   "cell_type": "code",
   "execution_count": null,
   "id": "a4ec6454-53da-47d4-a5b7-53d4573fc2ff",
   "metadata": {},
   "outputs": [],
   "source": [
    "adata.obs.columns"
   ]
  },
  {
   "cell_type": "code",
   "execution_count": null,
   "id": "bcc045fc-d3e8-4cba-ad59-04956484ddae",
   "metadata": {},
   "outputs": [],
   "source": [
    "sc.pl.dotplot( adata,\n",
    "    groupby=\"sample_id\",\n",
    "    use_raw=False,\n",
    "    var_names=[\"Cxcr3\"],\n",
    "    dendrogram=False,\n",
    "    log=True,\n",
    "    gene_symbols=\"gene_name\")"
   ]
  },
  {
   "cell_type": "code",
   "execution_count": null,
   "id": "55e2b136-4c83-42bb-8729-c4171eecb5f2",
   "metadata": {},
   "outputs": [],
   "source": [
    "sc.pl.dotplot(\n",
    "    adata,\n",
    "    groupby=\"condition\",\n",
    "    use_raw=False,\n",
    "    var_names=[\"Cxcr3\"],\n",
    "    dendrogram=False,\n",
    "    log=True,\n",
    "    gene_symbols=\"gene_name\",\n",
    ")"
   ]
  },
  {
   "cell_type": "code",
   "execution_count": null,
   "id": "6306aa3b-2c49-4d45-a673-d47c3036170e",
   "metadata": {},
   "outputs": [],
   "source": [
    "adata.obs"
   ]
  },
  {
   "cell_type": "code",
   "execution_count": null,
   "id": "1a77db85-e2e8-401e-b550-b449570eaebd",
   "metadata": {},
   "outputs": [],
   "source": [
    "sc.pl.umap(adata, color = \"sample_id\")"
   ]
  },
  {
   "cell_type": "markdown",
   "id": "17c9f207-842e-4e6a-8853-10daa224f454",
   "metadata": {},
   "source": [
    "### Functions"
   ]
  },
  {
   "cell_type": "code",
   "execution_count": null,
   "id": "eab18898-a30d-4979-97f1-d09141883374",
   "metadata": {},
   "outputs": [],
   "source": [
    "def update_columns_origin(row):\n",
    "\n",
    "    if \"ICI\" not in row[\"sample_id\"]:\n",
    "        row[\"origin\"] = \"colon\"\n",
    "    else:\n",
    "        row[\"origin\"] = \"til\"\n",
    "\n",
    "    return row"
   ]
  },
  {
   "cell_type": "code",
   "execution_count": null,
   "id": "2b72a82d-7ed9-462a-b320-ad7fd58985ba",
   "metadata": {},
   "outputs": [],
   "source": [
    "def update_columns_batch(row):\n",
    "\n",
    "    if \"ICI1\" in row[\"sample_id\"]:\n",
    "        row[\"batch_id\"] = \"ICI1\"\n",
    "    elif \"ICI2\" in row[\"sample_id\"]:\n",
    "        row[\"batch_id\"] = \"ICI2\"\n",
    "    elif row[\"sample_id\"] == \"10mix1\":\n",
    "        row[\"batch_id\"] = \"1\"\n",
    "    elif row[\"sample_id\"] == \"10mix2\":\n",
    "        row[\"batch_id\"] = \"2\"\n",
    "\n",
    "    return row"
   ]
  },
  {
   "cell_type": "code",
   "execution_count": null,
   "id": "0978b684-da10-4327-98fa-6442f3f4b3ba",
   "metadata": {
    "tags": []
   },
   "outputs": [],
   "source": [
    "def update_columns_condition(row):\n",
    "\n",
    "    if row[\"sample_id\"] == \"10mix1\":\n",
    "        row[\"condition\"] = \"10mix\"\n",
    "    elif row[\"sample_id\"] == \"10mix2\":\n",
    "        row[\"condition\"] = \"10mix\"\n",
    "    elif row[\"sample_id\"] == \"11mix1\":\n",
    "        row[\"condition\"] = \"11mix\"\n",
    "    elif row[\"sample_id\"] == \"11mix2\":\n",
    "        row[\"condition\"] = \"11mix\"\n",
    "    elif row[\"sample_id\"] == \"GF1\":\n",
    "        row[\"condition\"] = \"GF\"\n",
    "    elif row[\"sample_id\"] == \"GF2\":\n",
    "        row[\"condition\"] = \"GF\"\n",
    "    elif row[\"sample_id\"] == \"GF_ICI2_plus\":\n",
    "        row[\"condition\"] = \"GF-plus\"\n",
    "    elif row[\"sample_id\"] == \"GF_ICI1_plus\":\n",
    "        row[\"condition\"] = \"GF-plus\"\n",
    "    elif row[\"sample_id\"] == \"GF_ICI2\":\n",
    "        row[\"condition\"] = \"GF\"\n",
    "    elif row[\"sample_id\"] == \"GF_ICI1\":\n",
    "        row[\"condition\"] = \"GF\"\n",
    "    elif row[\"sample_id\"] == \"10mix_ICI1\":\n",
    "        row[\"condition\"] = \"10mix\"\n",
    "    elif row[\"sample_id\"] == \"10mix_ICI2\":\n",
    "        row[\"condition\"] = \"10mix\"\n",
    "    elif row[\"sample_id\"] == \"11mix_ICI1\":\n",
    "        row[\"condition\"] = \"11mix\"\n",
    "    elif row[\"sample_id\"] == \"11mix_ICI2\":\n",
    "        row[\"condition\"] = \"11mix\"\n",
    "\n",
    "    return row"
   ]
  },
  {
   "cell_type": "code",
   "execution_count": null,
   "id": "a7c6ad10-4cf8-42e0-915b-a04970ddf2e4",
   "metadata": {},
   "outputs": [],
   "source": [
    "# %%\n",
    "from typing import Dict\n",
    "\n",
    "import numpy as np\n",
    "import pandas as pd\n",
    "from anndata import AnnData\n",
    "\n",
    "\n",
    "def score_seeds(\n",
    "    adata: AnnData,\n",
    "    seed_marker_genes: Dict[str, Dict[str, list]],\n",
    "    layer: str = \"log1p_norm\",\n",
    "    cutoff_sum_pos_marker_expression: float = 0.1,\n",
    "    cutoff_sum_neg_marker_expression: float = 0,\n",
    ") -> pd.Series:\n",
    "    \"\"\"Label seed cell types based on input pos/neg marker gene expression\"\"\"\n",
    "    \n",
    "    def _score_ct(adata, seed_marker_genes, layer, cutoff_sum_pos_marker_expression):\n",
    "        tmp_df = pd.DataFrame(index=adata.obs_names)\n",
    "        \n",
    "        for cell_type, markers in seed_marker_genes.items():\n",
    "            positive_conditions = []\n",
    "            negative_conditions = []\n",
    "            \n",
    "            for positive_markers_list in markers['positive']:\n",
    "                positive_condition = np.ravel(adata[:, adata.var_names.isin(positive_markers_list)].layers[layer].sum(1)) > cutoff_sum_pos_marker_expression\n",
    "                positive_conditions.append(positive_condition)\n",
    "            \n",
    "            for negative_markers_list in markers['negative']:\n",
    "                negative_condition = ~(np.ravel(adata[:, adata.var_names.isin(negative_markers_list)].layers[layer].sum(1)) > cutoff_sum_neg_marker_expression)\n",
    "                negative_conditions.append(negative_condition)\n",
    "            \n",
    "            combined_positive_condition = np.all(positive_conditions, axis=0)\n",
    "            combined_negative_condition = np.all(negative_conditions, axis=0)\n",
    "            \n",
    "            condition = combined_positive_condition & combined_negative_condition\n",
    "            tmp_df[f\"tmp_{cell_type}\"] = np.where(condition, cell_type, \"unknown\")\n",
    "        \n",
    "        return tmp_df\n",
    "\n",
    "    \n",
    "    def _combine_ct(row):\n",
    "        for ct in seed_ct:\n",
    "            if row[ct] != 'unknown':\n",
    "                return row[ct]\n",
    "        return 'unknown'\n",
    "\n",
    "    seed_df = _score_ct(adata, seed_marker_genes, layer, cutoff_sum_pos_marker_expression)\n",
    "    seed_ct = [f\"tmp_{ct}\" for ct in seed_marker_genes.keys()]\n",
    "    \n",
    "    return seed_df.apply(_combine_ct, axis=1)"
   ]
  },
  {
   "cell_type": "code",
   "execution_count": null,
   "id": "1665a6a2-8c6f-4c98-b04d-dc629165f16c",
   "metadata": {},
   "outputs": [],
   "source": [
    "set(adata.obs.sample_id)"
   ]
  },
  {
   "cell_type": "code",
   "execution_count": null,
   "id": "1e03ce14-01cb-411a-805d-c3d94cdd4b81",
   "metadata": {},
   "outputs": [],
   "source": [
    "def is_outlier(adata, metric: str, nmads: int):\n",
    "    M = adata.obs[metric]\n",
    "    outlier = (M < np.median(M) - nmads * median_abs_deviation(M)) | (\n",
    "        np.median(M) + nmads * median_abs_deviation(M) < M\n",
    "    )\n",
    "    return outlier"
   ]
  },
  {
   "cell_type": "markdown",
   "id": "b52f1a82-c72e-437f-9301-024037bbb346",
   "metadata": {},
   "source": [
    "### Map adata cell type column to adata_solo based on cell barcodes "
   ]
  },
  {
   "cell_type": "code",
   "execution_count": null,
   "id": "c9d0d0f7-043b-46ca-a430-bf4893677e46",
   "metadata": {},
   "outputs": [],
   "source": [
    "adata_solo.obs[\"sample_id\"] = adata_solo.obs[\"sample_id\"].str.replace(\"-\", \"_\")"
   ]
  },
  {
   "cell_type": "code",
   "execution_count": null,
   "id": "e71fb043-c757-42c3-9eef-2e6ad6ba6b59",
   "metadata": {},
   "outputs": [],
   "source": [
    "new_obs_names = adata_solo.obs_names.str.replace(r\"-.+\", \"-1\", regex=True)\n",
    "\n",
    "# Step 2: Concatenate with \"_\" and adata_solo.obs[\"sample_id\"]\n",
    "new_obs_names += \"_\" + adata_solo.obs[\"sample_id\"].astype(str)\n",
    "\n",
    "# Assign the new values back to adata_solo.obs_names\n",
    "adata_solo.obs_names = new_obs_names"
   ]
  },
  {
   "cell_type": "code",
   "execution_count": null,
   "id": "376b3767-d291-46fd-9924-93fb775548c8",
   "metadata": {},
   "outputs": [],
   "source": [
    "cell_type_data = adata.obs[\"cell_type\"]\n",
    "adata_solo.obs[\"cell_type\"] = adata_solo.obs.index.map(cell_type_data)"
   ]
  },
  {
   "cell_type": "code",
   "execution_count": null,
   "id": "59f5f842-5bba-41ae-9343-a2977b25042e",
   "metadata": {},
   "outputs": [],
   "source": [
    "sc.pl.umap(adata_solo, color=[\"cell_type\"], vmax=\"p99\", cmap=\"Reds\")"
   ]
  },
  {
   "cell_type": "code",
   "execution_count": null,
   "id": "d0385b4d-29d9-4786-a588-8b2d98017c72",
   "metadata": {},
   "outputs": [],
   "source": [
    "# Apply the function to each row in the DataFrame\n",
    "adata_solo.obs = adata_solo.obs.apply(update_columns_origin, axis=1)"
   ]
  },
  {
   "cell_type": "code",
   "execution_count": null,
   "id": "638b3b9c-e5ba-4139-af74-96bfb67e4589",
   "metadata": {},
   "outputs": [],
   "source": [
    "# Apply the function to each row in the DataFrame\n",
    "adata_solo.obs = adata_solo.obs.apply(update_columns_batch, axis=1)"
   ]
  },
  {
   "cell_type": "code",
   "execution_count": null,
   "id": "fe958344-0bfb-4927-b063-6d478a79ed39",
   "metadata": {},
   "outputs": [],
   "source": [
    "# Apply the function to each row in the DataFrame\n",
    "adata_solo.obs = adata_solo.obs.apply(update_columns_condition, axis=1)"
   ]
  },
  {
   "cell_type": "code",
   "execution_count": null,
   "id": "758c9212-21ff-4e14-ba5d-dff43284de09",
   "metadata": {},
   "outputs": [],
   "source": [
    "sc.pl.umap(adata_solo, color=[\"cell_type\"])"
   ]
  },
  {
   "cell_type": "markdown",
   "id": "16b3e15f-0158-458c-99b1-70270452ec5d",
   "metadata": {},
   "source": [
    "## QC "
   ]
  },
  {
   "cell_type": "code",
   "execution_count": null,
   "id": "ee55c735-43b8-4754-8c32-62e1727f758b",
   "metadata": {},
   "outputs": [],
   "source": [
    "# mitochondrial genes\n",
    "adata_solo.var[\"mt\"] = adata_solo.var_names.str.startswith(\"mt-\")\n",
    "# ribosomal genes\n",
    "adata_solo.var[\"ribo\"] = adata_solo.var_names.str.startswith((\"Rps\", \"Rpl\"))"
   ]
  },
  {
   "cell_type": "code",
   "execution_count": null,
   "id": "cdfa80f1-4f13-4dad-aea7-eed2b22127c2",
   "metadata": {},
   "outputs": [],
   "source": [
    "sc.pp.calculate_qc_metrics(\n",
    "    adata_solo, qc_vars=[\"mt\", \"ribo\"], inplace=True, percent_top=[20], log1p=True\n",
    ")\n",
    "adata_solo"
   ]
  },
  {
   "cell_type": "code",
   "execution_count": null,
   "id": "144d180c-ac9f-4d82-9c97-bad001b573ff",
   "metadata": {},
   "outputs": [],
   "source": [
    "adata_solo.var_names_make_unique()"
   ]
  },
  {
   "cell_type": "code",
   "execution_count": null,
   "id": "35ecae41-d114-4a42-8169-53522755dd75",
   "metadata": {},
   "outputs": [],
   "source": [
    "#adata_solo.var"
   ]
  },
  {
   "cell_type": "code",
   "execution_count": null,
   "id": "745fe685-3b43-4477-bc70-002176b71814",
   "metadata": {},
   "outputs": [],
   "source": [
    "#sc.pl.violin(adata_solo, \"pct_counts_mt\", use_raw=False)"
   ]
  },
  {
   "cell_type": "code",
   "execution_count": null,
   "id": "41fb8372-abe7-43ca-afa1-5e6ad1dcd4b1",
   "metadata": {},
   "outputs": [],
   "source": [
    "#sc.pl.violin(adata_solo, \"pct_counts_ribo\", use_raw=False)"
   ]
  },
  {
   "cell_type": "code",
   "execution_count": null,
   "id": "29e6df81-6b92-4682-be77-3c558cd83296",
   "metadata": {},
   "outputs": [],
   "source": [
    "adata_solo.obs[\"outlier\"] = (\n",
    "    is_outlier(adata_solo, \"log1p_total_counts\", 5)\n",
    "    | is_outlier(adata_solo, \"log1p_n_genes_by_counts\", 5)\n",
    "    | is_outlier(adata_solo, \"pct_counts_in_top_20_genes\", 5)\n",
    ")\n",
    "adata_solo.obs.outlier.value_counts()"
   ]
  },
  {
   "cell_type": "code",
   "execution_count": null,
   "id": "b1b6876c-2ca1-4424-ace5-d6cc5aecdd7c",
   "metadata": {},
   "outputs": [],
   "source": [
    "adata_solo.obs[\"mt_outlier\"] = is_outlier(adata_solo, \"pct_counts_mt\", 3) | (\n",
    "    adata_solo.obs[\"pct_counts_mt\"] > 10\n",
    ")\n",
    "adata_solo.obs.mt_outlier.value_counts()"
   ]
  },
  {
   "cell_type": "code",
   "execution_count": null,
   "id": "fa04eca6-a80f-454e-b89e-1d7cab261241",
   "metadata": {},
   "outputs": [],
   "source": [
    "adata_solo.obs[\"ribo_outlier\"] = is_outlier(adata_solo, \"pct_counts_ribo\", 3) | (\n",
    "    adata_solo.obs[\"pct_counts_ribo\"] > 15\n",
    ")\n",
    "adata_solo.obs.mt_outlier.value_counts()"
   ]
  },
  {
   "cell_type": "code",
   "execution_count": null,
   "id": "f8e8b814-989d-4a07-bda9-c140b521c092",
   "metadata": {},
   "outputs": [],
   "source": [
    "print(f\"Total number of cells: {adata_solo.n_obs}\")\n",
    "adata_solo = adata_solo[(~adata_solo.obs.outlier) & (~adata_solo.obs.mt_outlier)].copy()\n",
    "\n",
    "print(f\"Number of cells after filtering of low quality cells: {adata_solo.n_obs}\")"
   ]
  },
  {
   "cell_type": "code",
   "execution_count": null,
   "id": "c588068c-d52a-4546-a9ca-aa14880ae29c",
   "metadata": {},
   "outputs": [],
   "source": [
    "print(f\"Total number of cells: {adata_solo.n_obs}\")\n",
    "adata_solo = adata_solo[\n",
    "    (~adata_solo.obs.outlier) & (~adata_solo.obs.ribo_outlier)\n",
    "].copy()\n",
    "\n",
    "print(f\"Number of cells after filtering of low quality cells: {adata_solo.n_obs}\")"
   ]
  },
  {
   "cell_type": "code",
   "execution_count": null,
   "id": "d86b7634-4b15-4126-ade9-e5fa0a6ee1d3",
   "metadata": {},
   "outputs": [],
   "source": [
    "#sc.pl.violin(adata_solo, \"pct_counts_mt\", use_raw=False)"
   ]
  },
  {
   "cell_type": "code",
   "execution_count": null,
   "id": "df967062-4461-4a27-a7f5-730ded4f0c55",
   "metadata": {},
   "outputs": [],
   "source": [
    "#sc.pl.violin(adata_solo, \"pct_counts_ribo\", use_raw=False)"
   ]
  },
  {
   "cell_type": "code",
   "execution_count": null,
   "id": "c3cd7b57-e77d-40a2-85b8-735d659df490",
   "metadata": {},
   "outputs": [],
   "source": [
    "adata_solo.var[\"ribo\"] = adata_solo.var_names.str.startswith((\"Rps\", \"Rpl\"))"
   ]
  },
  {
   "cell_type": "code",
   "execution_count": null,
   "id": "8d4660df-6305-487a-96ff-4882baa55b9e",
   "metadata": {},
   "outputs": [],
   "source": [
    "# adata_solo.var.ribo.value_counts()"
   ]
  },
  {
   "cell_type": "code",
   "execution_count": null,
   "id": "4b4b1329-f087-4a0e-a22e-ad8c9a135172",
   "metadata": {},
   "outputs": [],
   "source": [
    "adata_solo = adata_solo[:, adata_solo.var[\"ribo\"] == False].copy()"
   ]
  },
  {
   "cell_type": "code",
   "execution_count": null,
   "id": "18b53813-6c35-4bee-a1e3-60ed6638fd8f",
   "metadata": {},
   "outputs": [],
   "source": [
    "adata_solo.var[\"mt\"] = adata_solo.var_names.str.startswith((\"mt-\", \"mt-\"))"
   ]
  },
  {
   "cell_type": "code",
   "execution_count": null,
   "id": "4a7ce851-900b-4567-a8b8-b5742ebe3e06",
   "metadata": {},
   "outputs": [],
   "source": [
    "# adata_solo.var.mt.value_counts()"
   ]
  },
  {
   "cell_type": "code",
   "execution_count": null,
   "id": "980826d4-25ab-446d-899c-16c1743ef1c8",
   "metadata": {},
   "outputs": [],
   "source": [
    "adata_solo = adata_solo[:, adata_solo.var[\"mt\"] == False].copy()"
   ]
  },
  {
   "cell_type": "code",
   "execution_count": null,
   "id": "6bb76ae7-0c96-491a-9cd8-6bf34c293d34",
   "metadata": {},
   "outputs": [],
   "source": [
    "# Visualize\n",
    "# adata_solo\n",
    "#sc.pl.umap(\n",
    "#    adata_solo,\n",
    "#    color=[\"pct_counts_mt\", \"total_counts\", \"n_genes_by_counts\"],\n",
    "#    vmax=\"p99\",\n",
    "#    cmap=\"inferno\",\n",
    "#)"
   ]
  },
  {
   "cell_type": "code",
   "execution_count": null,
   "id": "834f754f-0992-480f-a49f-56b5d58f554f",
   "metadata": {},
   "outputs": [],
   "source": [
    "#sc.tl.rank_genes_groups(adata_solo, \"leiden\", method=\"wilcoxon\")"
   ]
  },
  {
   "cell_type": "code",
   "execution_count": null,
   "id": "8d13852a-16f0-4027-a8c3-93f335608cd3",
   "metadata": {},
   "outputs": [],
   "source": [
    "#pd.DataFrame(adata_solo.uns[\"rank_genes_groups\"][\"names\"]).head(20)"
   ]
  },
  {
   "cell_type": "code",
   "execution_count": null,
   "id": "fbb1ae60-a373-4314-8003-0106670dc4d7",
   "metadata": {},
   "outputs": [],
   "source": [
    "#sc.pl.highest_expr_genes(adata_solo, n_top=40, gene_symbols=\"gene_name\")"
   ]
  },
  {
   "cell_type": "markdown",
   "id": "847a54cb-8f4b-4578-9b83-d98ea51b139f",
   "metadata": {},
   "source": [
    "### Split adata"
   ]
  },
  {
   "cell_type": "code",
   "execution_count": null,
   "id": "f634441f-37fd-4b50-b797-9fe3aed380e7",
   "metadata": {},
   "outputs": [],
   "source": [
    "adata_solo.var.index = adata_solo.var[\"ensembl_id\"]"
   ]
  },
  {
   "cell_type": "code",
   "execution_count": null,
   "id": "d4a3fdc1-a806-49cd-9a3e-fac800bc58ac",
   "metadata": {},
   "outputs": [],
   "source": [
    "adata_solo_til = adata_solo[adata_solo.obs[\"origin\"] == \"til\"]"
   ]
  },
  {
   "cell_type": "code",
   "execution_count": null,
   "id": "fcb0cb16-13e3-4d81-9a71-3635244bc5a7",
   "metadata": {},
   "outputs": [],
   "source": [
    "#sc.tl.rank_genes_groups(adata_solo_til, \"cell_type\", method=\"wilcoxon\")"
   ]
  },
  {
   "cell_type": "code",
   "execution_count": null,
   "id": "74834e29-ca98-420f-accb-88f0ff83aa20",
   "metadata": {},
   "outputs": [],
   "source": [
    "#pd.DataFrame(adata_solo_til.uns[\"rank_genes_groups\"][\"names\"]).head(20)"
   ]
  },
  {
   "cell_type": "code",
   "execution_count": null,
   "id": "6b0e7bb6-5e0e-48cb-b527-3c39a2eda276",
   "metadata": {},
   "outputs": [],
   "source": [
    "#sc.pl.highest_expr_genes(adata_solo_til, n_top=20, gene_symbols=\"gene_name\")"
   ]
  },
  {
   "cell_type": "code",
   "execution_count": null,
   "id": "27f93138-6710-4741-bf81-283895e330ac",
   "metadata": {},
   "outputs": [],
   "source": [
    "adata_solo_colon = adata_solo[adata_solo.obs[\"origin\"] == \"colon\"]"
   ]
  },
  {
   "cell_type": "markdown",
   "id": "8ecc0cd9-26a2-467b-8483-71554c4666c8",
   "metadata": {},
   "source": [
    "### Annotate colon"
   ]
  },
  {
   "cell_type": "code",
   "execution_count": null,
   "id": "a5a01bd7-2228-4497-b684-9472255bfbf9",
   "metadata": {},
   "outputs": [],
   "source": [
    "sc.pl.umap(adata_solo_colon, color=[\"condition\", \"sample_id\", \"leiden\"])"
   ]
  },
  {
   "cell_type": "code",
   "execution_count": null,
   "id": "a50662a9-ecf9-46e3-a1bc-3b408cf9f499",
   "metadata": {},
   "outputs": [],
   "source": [
    "#sc.tl.rank_genes_groups(adata_solo_colon, \"leiden\", method=\"wilcoxon\")"
   ]
  },
  {
   "cell_type": "code",
   "execution_count": null,
   "id": "bbd03dfb-285e-4020-af09-8d87546ca1d7",
   "metadata": {},
   "outputs": [],
   "source": [
    "#pd.DataFrame(adata_solo_colon.uns[\"rank_genes_groups\"][\"names\"]).head(20)"
   ]
  },
  {
   "cell_type": "code",
   "execution_count": null,
   "id": "16d1a965-6404-42d2-8d87-ce982665bf91",
   "metadata": {},
   "outputs": [],
   "source": [
    "adata_solo_colon.var[\"ribo\"] = adata_solo_colon.var_names.str.startswith((\"Rps\", \"Rpl\"))"
   ]
  },
  {
   "cell_type": "code",
   "execution_count": null,
   "id": "2663ce85-7387-402a-be0a-a6d950ba192e",
   "metadata": {},
   "outputs": [],
   "source": [
    "adata_solo_colon = adata_solo_colon[:, adata_solo_colon.var[\"ribo\"] == False].copy()"
   ]
  },
  {
   "cell_type": "code",
   "execution_count": null,
   "id": "653bcf86-9e5c-4a81-99ed-e43364f68a21",
   "metadata": {},
   "outputs": [],
   "source": [
    "sc.pp.neighbors(adata_solo_colon, n_neighbors=10)\n",
    "sc.tl.leiden(adata_solo_colon, resolution=0.5, n_iterations=-1)"
   ]
  },
  {
   "cell_type": "code",
   "execution_count": null,
   "id": "cacd7d2c-f3d6-4d45-b8ac-d1e9f78651a1",
   "metadata": {},
   "outputs": [],
   "source": [
    "#sc.pl.umap(adata_solo_colon, color=[\"leiden\"], vmax=\"p99\", cmap=\"Reds\")"
   ]
  },
  {
   "cell_type": "code",
   "execution_count": null,
   "id": "1fae9b49-f78d-4746-b7c5-c512c432565f",
   "metadata": {},
   "outputs": [],
   "source": [
    "markers = {\n",
    "    \"Naive\": [\"Lef1\", \"Sell\", \"Ccr7\", \"Tcf7\",\"Il7r\"],\n",
    "    \"Effector M.\": [\"Gzmk\", \"Cxcr4\", \"Cxcr3\", \"Cd44\"], # Predysfunctional\n",
    "    \"Exhausted\": [\"Havcr2\", \"Pdcd1\", \"Ifng\", \"Itgae\",\"Lag3\",\"Ctla4\"], # Dysfunctional\n",
    "    \"Cytotoxic\": [\"Cx3cr1\", \"Klrg1\", \"Prf1\"],\n",
    "}"
   ]
  },
  {
   "cell_type": "code",
   "execution_count": null,
   "id": "4111debe-c77b-4f66-8572-192f2937f2ba",
   "metadata": {},
   "outputs": [],
   "source": [
    "sc.pl.dotplot(\n",
    "    adata_solo_colon,\n",
    "    groupby=\"leiden\",\n",
    "    use_raw=False,\n",
    "    var_names=markers,\n",
    "    dendrogram=False,\n",
    "    log=True,\n",
    "    gene_symbols=\"gene_name\",\n",
    ")\n"
   ]
  },
  {
   "cell_type": "code",
   "execution_count": null,
   "id": "e3f63c64-0915-4fb3-aadd-aa6206827001",
   "metadata": {},
   "outputs": [],
   "source": [
    "sc.pl.umap(\n",
    "    adata_solo_colon,\n",
    "    color=[\n",
    "        \"Lef1\",\n",
    "        \"Sell\",\n",
    "        \"Ccr7\",\n",
    "        \"Tcf7\",\n",
    "        \"Gzmk\",\n",
    "        \"Cxcr4\",\n",
    "        \"Cxcr3\",\n",
    "        \"Cd44\",\n",
    "        \"Havcr2\",\n",
    "        \"Pdcd1\",\n",
    "        \"Ifng\",\n",
    "        \"Itgae\",\n",
    "        \"Cx3cr1\",\n",
    "        \"Klrg1\",\n",
    "        \"Prf1\",\n",
    "        \"Mki67\",\n",
    "        \"Ccl5\",\n",
    "        \"H2-K1\",\n",
    "        \"H2-Q4\",\n",
    "        \"H2-Q7\",\n",
    "    ],\n",
    "    vmax=\"p99\",\n",
    "    cmap=\"Reds\",\n",
    "    add_outline=True,\n",
    ")"
   ]
  },
  {
   "cell_type": "code",
   "execution_count": null,
   "id": "0fae1d0e-b585-4898-97dc-dd31a2257aeb",
   "metadata": {},
   "outputs": [],
   "source": [
    "sc.pl.umap(\n",
    "    adata_solo_colon, color=[\"leiden\"], vmax=\"p99\", cmap=\"Reds\", legend_loc=\"on data\"\n",
    ")"
   ]
  },
  {
   "cell_type": "code",
   "execution_count": null,
   "id": "8fea3c7b-0a7f-44ad-831b-0607260f1929",
   "metadata": {},
   "outputs": [],
   "source": [
    "annotation_dict = {\n",
    "    \"0\": \"COLON_Exhausted\",\n",
    "    \"1\": \"COLON_Exhausted\",\n",
    "    \"2\": \"COLON_Naive\",\n",
    "    \"3\": \"COLON_Naive\",\n",
    "    \"4\": \"COLON_Naive\",\n",
    "    \"5\": \"COLON_Exhausted\",\n",
    "    \"6\": \"COLON_Intermediate\",\n",
    "    \"7\": \"COLON_Exhausted\",\n",
    "    \"8\": \"COLON_Naive\",\n",
    "    \"9\": \"COLON_Exhausted\",\n",
    "}\n",
    "\n"
   ]
  },
  {
   "cell_type": "code",
   "execution_count": null,
   "id": "4e4a2c61-f433-43c7-bc94-460bc0e71650",
   "metadata": {},
   "outputs": [],
   "source": [
    "## Add cell type column based on annotation\n",
    "adata_solo_colon.obs[\"cell_type\"] = [\n",
    "    annotation_dict[clust] for clust in adata_solo_colon.obs[\"leiden\"]\n",
    "]\n",
    "# Visualize\n",
    "sc.pl.umap(\n",
    "    adata_solo_colon,\n",
    "    color=[\"cell_type\", \"leiden\"],\n",
    "\n",
    "    legend_fontsize=8,\n",
    ")"
   ]
  },
  {
   "cell_type": "code",
   "execution_count": null,
   "id": "d66d7c7f-8155-48a1-92d5-0c8210861eca",
   "metadata": {},
   "outputs": [],
   "source": [
    "#sc.tl.rank_genes_groups(adata_solo_colon, \"cell_type\", method=\"wilcoxon\")"
   ]
  },
  {
   "cell_type": "code",
   "execution_count": null,
   "id": "dc54be99-7972-49b0-9819-c67ab64e9bec",
   "metadata": {},
   "outputs": [],
   "source": [
    "#pd.DataFrame(adata_solo_colon.uns[\"rank_genes_groups\"][\"names\"]).head(20)"
   ]
  },
  {
   "cell_type": "markdown",
   "id": "5ec599ca-065b-42f3-a41c-4e80625a4532",
   "metadata": {},
   "source": [
    "## Exhausted subtypes"
   ]
  },
  {
   "cell_type": "code",
   "execution_count": null,
   "id": "aacff986-dc85-407d-aa62-7968524193dd",
   "metadata": {},
   "outputs": [],
   "source": [
    "adata_solo_colon_ex = adata_solo_colon[\n",
    "    adata_solo_colon.obs[\"cell_type\"] == \"COLON_Exhausted\"\n",
    "]"
   ]
  },
  {
   "cell_type": "code",
   "execution_count": null,
   "id": "126ea0bd-ffe9-4884-b791-da663f652018",
   "metadata": {},
   "outputs": [],
   "source": [
    "sc.pp.neighbors(adata_solo_colon_ex, n_neighbors=10)\n",
    "sc.tl.leiden(adata_solo_colon_ex, resolution=0.3, n_iterations=-1)"
   ]
  },
  {
   "cell_type": "code",
   "execution_count": null,
   "id": "5128a5ee-c5fd-4285-92a9-20ac270da52c",
   "metadata": {},
   "outputs": [],
   "source": [
    "sc.pl.umap(\n",
    "    adata_solo_colon_ex,\n",
    "    color=[\"Il7r\",\"Ccr7\",\"Ifng\",\"Tbx21\",\"Lag3\",\"Cxcr6\",\"Gzmb\",\"Gzmk\"],\n",
    "    vmax=\"p99\",\n",
    "    cmap=\"Reds\",\n",
    "    add_outline=True,\n",
    ")"
   ]
  },
  {
   "cell_type": "code",
   "execution_count": null,
   "id": "ccb829ed-eb03-428f-9cb0-9425d2be4060",
   "metadata": {},
   "outputs": [],
   "source": [
    "sc.pl.umap(adata_solo_colon_ex, color=[\"leiden\"], vmax=\"p99\")"
   ]
  },
  {
   "cell_type": "code",
   "execution_count": null,
   "id": "0a104947-bdfe-483c-be24-52db48749ab4",
   "metadata": {},
   "outputs": [],
   "source": [
    "#sc.tl.rank_genes_groups(adata_solo_colon_ex, \"leiden\", method=\"wilcoxon\")"
   ]
  },
  {
   "cell_type": "code",
   "execution_count": null,
   "id": "06d5d594-7897-4998-947b-e13a290301a9",
   "metadata": {},
   "outputs": [],
   "source": [
    "#pd.DataFrame(adata_solo_colon_ex.uns[\"rank_genes_groups\"][\"names\"]).head(20)"
   ]
  },
  {
   "cell_type": "code",
   "execution_count": null,
   "id": "3457d0b7-d6d3-4307-88a4-6e955f4bde26",
   "metadata": {},
   "outputs": [],
   "source": [
    "annotation_dict = {\n",
    "    \"0\": \"COLON_Exhausted\",\n",
    "    \"1\": \"COLON_Infg\",  # Ifng\n",
    "    \"2\": \"COLON_Exhausted\",\n",
    "    \"3\": \"COLON_Exhausted\",\n",
    "    \"4\": \"COLON_Exhausted\",\n",
    "}\n"
   ]
  },
  {
   "cell_type": "code",
   "execution_count": null,
   "id": "2db2a3ec-af07-4d9b-993a-af597fff5537",
   "metadata": {},
   "outputs": [],
   "source": [
    "## Add cell type column based on annotation\n",
    "adata_solo_colon_ex.obs[\"cell_type\"] = [\n",
    "    annotation_dict[clust] for clust in adata_solo_colon_ex.obs[\"leiden\"]\n",
    "]\n",
    "# Visualize\n",
    "sc.pl.umap(\n",
    "    adata_solo_colon_ex,\n",
    "    color=[\"cell_type\", \"leiden\"],\n",
    "\n",
    "    legend_fontsize=8,\n",
    ")"
   ]
  },
  {
   "cell_type": "markdown",
   "id": "d2ebc2ee-b705-4f45-b893-d006bfea3058",
   "metadata": {},
   "source": [
    "### Reintegrate annotated subsets"
   ]
  },
  {
   "cell_type": "code",
   "execution_count": null,
   "id": "78bf10aa-9997-4a22-a23d-99b2299fb33c",
   "metadata": {},
   "outputs": [],
   "source": [
    "adata_solo_colon_rest = adata_solo_colon[\n",
    "    adata_solo_colon.obs[\"cell_type\"].isin([\"COLON_Naive\",\"COLON_Intermediate\"])\n",
    "]"
   ]
  },
  {
   "cell_type": "code",
   "execution_count": null,
   "id": "22a40b2e-b9d1-4850-93df-fe1831b9ffba",
   "metadata": {},
   "outputs": [],
   "source": [
    "# Visualize\n",
    "sc.pl.umap(\n",
    "    adata_solo_colon_rest,\n",
    "    color=[\"cell_type\", \"leiden\"],\n",
    "\n",
    "    legend_fontsize=8,\n",
    ")"
   ]
  },
  {
   "cell_type": "code",
   "execution_count": null,
   "id": "85f8a378-3548-46f3-ac40-78bc01e9f064",
   "metadata": {},
   "outputs": [],
   "source": [
    "adata_solo_colon.obs[\"cell_type\"] = adata_solo_colon.obs[\"cell_type\"].astype(\"str\")#\n",
    "adata_solo_colon.obs.loc[adata_solo_colon_ex.obs.index, \"cell_type\"] = adata_solo_colon_ex.obs[\"cell_type\"].astype(\"str\")"
   ]
  },
  {
   "cell_type": "code",
   "execution_count": null,
   "id": "bf0edd9a-531b-450c-8c8a-2f85eb020175",
   "metadata": {},
   "outputs": [],
   "source": [
    "adata_solo_colon.obs[\"cell_type\"] = adata_solo_colon.obs[\"cell_type\"].astype(\"str\")#\n",
    "adata_solo_colon.obs.loc[adata_solo_colon_rest.obs.index, \"cell_type\"] = adata_solo_colon_rest.obs[\"cell_type\"].astype(\"str\")"
   ]
  },
  {
   "cell_type": "code",
   "execution_count": null,
   "id": "6e24a677-584a-46cd-b3cd-70ee9f0a6c1d",
   "metadata": {},
   "outputs": [],
   "source": [
    "# Visualize\n",
    "sc.pl.umap(\n",
    "    adata_solo_colon,\n",
    "    color=[\"cell_type\", \"leiden\"],\n",
    "\n",
    "    legend_fontsize=8,\n",
    ")"
   ]
  },
  {
   "cell_type": "code",
   "execution_count": null,
   "id": "f0b75144-2121-44cd-9290-66b1e8f28fb6",
   "metadata": {},
   "outputs": [],
   "source": [
    "markers = {\n",
    "    \"Naive\": [\"Lef1\", \"Sell\", \"Ccr7\"],\n",
    "    \"Effector M.\": [\"Gzmk\", \"Cxcr4\", \"Cxcr3\", \"Cd44\"], # Predysfunctional\n",
    "    \"Exhausted\": [\"Pdcd1\", \"Ifng\", \"Itgae\",\"Lag3\",\"Ctla4\"], # Dysfunctional\n",
    "}"
   ]
  },
  {
   "cell_type": "code",
   "execution_count": null,
   "id": "f76cd259-7ba7-4355-9bda-592c5dbc916e",
   "metadata": {},
   "outputs": [],
   "source": [
    "sc.pl.dotplot(\n",
    "    adata_solo_colon,\n",
    "    groupby=\"cell_type\",\n",
    "    use_raw=False,\n",
    "    var_names=markers,\n",
    "    dendrogram=False,\n",
    "    categories_order = [ 'COLON_Naive',\"COLON_Intermediate\",\"COLON_Infg\",\"COLON_Exhausted\"],\n",
    "    log=True,\n",
    "    gene_symbols=\"gene_name\",\n",
    ")\n"
   ]
  },
  {
   "cell_type": "markdown",
   "id": "67c00c01-de18-468b-9b8c-b6219a2becf2",
   "metadata": {},
   "source": [
    "## Reintegrate with adata_solo til & colon"
   ]
  },
  {
   "cell_type": "code",
   "execution_count": null,
   "id": "728d1145-5242-4b72-bc38-537c281651be",
   "metadata": {},
   "outputs": [],
   "source": [
    "adata_solo.obs[\"cell_type\"] = adata_solo.obs[\"cell_type\"].astype(\"str\")#\n",
    "adata_solo.obs.loc[adata_solo_colon.obs.index, \"cell_type\"] = adata_solo_colon.obs[\"cell_type\"].astype(\"str\")"
   ]
  },
  {
   "cell_type": "code",
   "execution_count": null,
   "id": "5c5bf124-78a3-4235-9fcd-2b342076642d",
   "metadata": {
    "scrolled": true
   },
   "outputs": [],
   "source": [
    "set(adata_solo.obs[\"cell_type\"])"
   ]
  },
  {
   "cell_type": "code",
   "execution_count": null,
   "id": "6c1d4a5a-67a2-40b1-af5a-552f53659f79",
   "metadata": {},
   "outputs": [],
   "source": [
    "# Visualize\n",
    "sc.pl.umap(\n",
    "    adata_solo,\n",
    "    color=[\"cell_type\"], legend_loc=\"on data\", legend_fontsize=7,\n",
    "\n",
    ")"
   ]
  },
  {
   "cell_type": "code",
   "execution_count": null,
   "id": "3851ff54-fef8-41d7-ab93-f7ede395065a",
   "metadata": {},
   "outputs": [],
   "source": [
    "# Visualize\n",
    "sc.pl.umap(\n",
    "    adata_solo,\n",
    "    color=[\"cell_type\"],groups=['COLON_Naive',\"COLON_Intermediate\",\"COLON_Infg\",\"COLON_Exhausted\"],\n",
    "legend_loc=\"on data\", legend_fontsize=7,\n",
    "\n",
    ")"
   ]
  },
  {
   "cell_type": "code",
   "execution_count": null,
   "id": "2a3068f3-d0f7-4380-b339-3a13def45c36",
   "metadata": {},
   "outputs": [],
   "source": [
    "# Visualize\n",
    "sc.pl.umap(\n",
    "    adata_solo,\n",
    "    color=[\"cell_type\"],groups=['MPEC_Effector',\n",
    " 'MPEC_Intermediate',\n",
    " 'MPEC_Progenitor',\n",
    " 'SLEC_Effector',\n",
    " 'SLEC_Inf',\n",
    " 'SLEC_Intermediate',\n",
    " 'SLEC_Plastic',\n",
    " 'SLEC_Progenitor',\n",
    " 'SLEC_Terminal'],legend_loc=\"on data\", legend_fontsize=7,\n",
    "\n",
    ")"
   ]
  },
  {
   "cell_type": "code",
   "execution_count": null,
   "id": "54e4d7d9-1d7e-4b67-9d5c-be2ee453b593",
   "metadata": {},
   "outputs": [],
   "source": [
    "## Annotated unknown cells "
   ]
  },
  {
   "cell_type": "code",
   "execution_count": null,
   "id": "f12c2750-8772-4fe5-bc3a-1eb9cad7e9d5",
   "metadata": {},
   "outputs": [],
   "source": [
    "# Apply the function to each row in the DataFrame\n",
    "adata.obs = adata.obs.apply(update_columns_origin, axis=1)"
   ]
  },
  {
   "cell_type": "code",
   "execution_count": null,
   "id": "f753fa99-9946-4a37-a1bb-ea9108d010b0",
   "metadata": {},
   "outputs": [],
   "source": [
    "# Apply the function to each row in the DataFrame\n",
    "adata.obs = adata.obs.apply(update_columns_batch, axis=1)"
   ]
  },
  {
   "cell_type": "code",
   "execution_count": null,
   "id": "469513a6-a863-44d5-ae11-eea8d858da73",
   "metadata": {},
   "outputs": [],
   "source": [
    "# Apply the function to each row in the DataFrame\n",
    "adata.obs = adata.obs.apply(update_columns_condition, axis=1)"
   ]
  },
  {
   "cell_type": "code",
   "execution_count": null,
   "id": "ea12905f-800d-47b4-9f15-97e9c9738672",
   "metadata": {},
   "outputs": [],
   "source": [
    "adata.obs"
   ]
  },
  {
   "cell_type": "code",
   "execution_count": null,
   "id": "4f424761-e0f1-4e7e-9683-c87a4f6dde1f",
   "metadata": {},
   "outputs": [],
   "source": [
    "adata_u = adata[adata.obs[\"cell_type\"]==\"nan\"]"
   ]
  },
  {
   "cell_type": "code",
   "execution_count": null,
   "id": "367610ce-8415-42aa-953c-8810604c5668",
   "metadata": {},
   "outputs": [],
   "source": [
    "adata_u"
   ]
  },
  {
   "cell_type": "code",
   "execution_count": null,
   "id": "fd68618a-00a1-4f51-9eff-3e28fcc70a97",
   "metadata": {},
   "outputs": [],
   "source": [
    "sc.pl.umap(adata_u, color=[\"cell_type\",\"leiden\",\"origin\"])"
   ]
  },
  {
   "cell_type": "code",
   "execution_count": null,
   "id": "1f08650f-32eb-4599-a8c0-89963bf0fa39",
   "metadata": {},
   "outputs": [],
   "source": [
    "sc.pl.umap(adata, color=[\"cell_type\",\"origin\",\"leiden\"], legend_loc=\"on data\", legend_fontsize=7)"
   ]
  },
  {
   "cell_type": "code",
   "execution_count": null,
   "id": "e772d5d8-a839-428f-8da9-367aba175386",
   "metadata": {},
   "outputs": [],
   "source": [
    "markers = {\n",
    "    \"Early A.\": [\"Cd69\"],\n",
    "    \"Late A.\": [\"Il2ra\"],\n",
    "        \"Naive\": [\"Sell\"],\n",
    "        \"E.Memory\": [\"Cd44\"],\n",
    "\n",
    "       \"MPEC\": [\"Il7r\"],#Memory Precursor Effector Cells\n",
    "       \"SLEC\": [\"Klrg1\",\"Tbx21\"], #Short Lived Effector Cells\n",
    " \n",
    "    \"Exhaustion\":[\"Havcr2\",\"Entpd1\",\"Tox\"],\n",
    "    \"Cytotoxic\":[\"Gzmb\",\"Gzmk\",\"Ifng\"],\n",
    "    \"Sel-renewal\":[\"Cxcr3\",\"Casp3\"],\n",
    "    }"
   ]
  },
  {
   "cell_type": "code",
   "execution_count": null,
   "id": "61bf031d-b5b0-45e0-a834-a277d68542f1",
   "metadata": {},
   "outputs": [],
   "source": [
    "sc.pl.dotplot(adata_u, groupby=\"leiden\",var_names=markers, dendrogram=False,log=True, gene_symbols=\"gene_name\")"
   ]
  },
  {
   "cell_type": "code",
   "execution_count": null,
   "id": "b127d34a-1179-4fa7-9b92-a659640746c3",
   "metadata": {},
   "outputs": [],
   "source": [
    "marker_list = [\"Cd69\",\"Il2ra\",\"Sell\",\"Cd44\",\"Il7r\",\"Klrg1\",\"Tbx21\",\"Havcr2\",\"Entpd1\",\"Tox\",\"Gzmb\",\"Gzmk\",\"Ifng\",\"Cxcr3\",\"Casp3\"]"
   ]
  },
  {
   "cell_type": "code",
   "execution_count": null,
   "id": "ad50bee2-cf9d-4085-9ed0-00acb1e72ccc",
   "metadata": {},
   "outputs": [],
   "source": [
    "sc.pl.umap(\n",
    "    adata_u,\n",
    "    color=marker_list,\n",
    "    cmap=\"Reds\",\n",
    "    frameon=False,add_outline=True, vmax=\"p99\", gene_symbols=\"gene_name\"\n",
    ")"
   ]
  },
  {
   "cell_type": "code",
   "execution_count": null,
   "id": "036c1a58-4119-4145-8701-4dd20e80563e",
   "metadata": {},
   "outputs": [],
   "source": [
    "sc.pl.umap(\n",
    "    adata_u,\n",
    "    color=[\"Ifng\",\"Cxcr3\"],\n",
    "    cmap=\"Reds\",\n",
    "    frameon=False,add_outline=True, vmax=\"p99\", gene_symbols=\"gene_name\"\n",
    ")"
   ]
  },
  {
   "cell_type": "code",
   "execution_count": null,
   "id": "cd7c1390-8dc2-4bc5-b29d-f32391654a9d",
   "metadata": {},
   "outputs": [],
   "source": [
    "sc.pl.umap(\n",
    "    adata_u,\n",
    "    color=[\"Tox\",\"Casp3\"],\n",
    "    cmap=\"Reds\",\n",
    "    frameon=False,add_outline=True, vmax=\"p99\", gene_symbols=\"gene_name\"\n",
    ")"
   ]
  },
  {
   "cell_type": "code",
   "execution_count": null,
   "id": "5a21cf0e-df10-4248-9d13-22c4fb28b731",
   "metadata": {},
   "outputs": [],
   "source": [
    "sc.pl.umap(\n",
    "    adata,\n",
    "    color=[\"cell_type\"],groups=['MPEC_Effector',\n",
    " 'MPEC_Intermediate',\n",
    " 'MPEC_Progenitor',\n",
    "],\n",
    "    cmap=\"Reds\",\n",
    "    frameon=False,add_outline=True, vmax=\"p99\", gene_symbols=\"gene_name\"\n",
    ")"
   ]
  },
  {
   "cell_type": "code",
   "execution_count": null,
   "id": "888d569b-8bcc-4ac8-838c-f493f5ec31f4",
   "metadata": {},
   "outputs": [],
   "source": [
    "sc.pl.umap(\n",
    "    adata,\n",
    "    color=[\"cell_type\"],groups=[ 'SLEC_Effector',\n",
    " 'SLEC_Inf',\n",
    " 'SLEC_Intermediate',\n",
    " 'SLEC_Plastic',\n",
    " 'SLEC_Progenitor',\n",
    " 'SLEC_Terminal'\n",
    "],\n",
    "    cmap=\"Reds\",\n",
    "    frameon=False,add_outline=True, vmax=\"p99\", gene_symbols=\"gene_name\"\n",
    ")"
   ]
  },
  {
   "cell_type": "code",
   "execution_count": null,
   "id": "cb02e6dc-7732-43b5-8d95-a08b6164a392",
   "metadata": {},
   "outputs": [],
   "source": [
    "sc.pl.umap(adata_u, color=[\"leiden\"])"
   ]
  },
  {
   "cell_type": "code",
   "execution_count": null,
   "id": "77dfe503-e640-43a9-9441-f61337025e83",
   "metadata": {},
   "outputs": [],
   "source": [
    "sc.pp.neighbors(adata_u, n_neighbors=10)\n",
    "sc.tl.leiden(adata_u, resolution=0.5,  n_iterations=-1)\n",
    "sc.tl.umap(adata_u)"
   ]
  },
  {
   "cell_type": "code",
   "execution_count": null,
   "id": "845c39d4-3d97-4850-90b2-f96c833c8121",
   "metadata": {},
   "outputs": [],
   "source": [
    "sc.pl.umap(adata_u, color=[\"leiden\"])"
   ]
  },
  {
   "cell_type": "code",
   "execution_count": null,
   "id": "9aec2d62-911a-4d77-946c-90373d4a8700",
   "metadata": {},
   "outputs": [],
   "source": [
    "sc.pl.dotplot(adata_u, groupby=\"leiden\",var_names=markers, dendrogram=False,log=True, gene_symbols=\"gene_name\")"
   ]
  },
  {
   "cell_type": "code",
   "execution_count": null,
   "id": "174652bb-77d0-49fb-94a2-132a20dbc52b",
   "metadata": {},
   "outputs": [],
   "source": [
    "marker_list = [\"Cd69\",\"Il2ra\",\"Sell\",\"Cd44\",\"Il7r\",\"Klrg1\",\"Tbx21\",\"Havcr2\",\"Entpd1\",\"Tox\",\"Gzmb\",\"Gzmk\",\"Ifng\",\"Cxcr3\",\"Casp3\"]"
   ]
  },
  {
   "cell_type": "code",
   "execution_count": null,
   "id": "03597c85-05f9-4e25-93a6-e6a84ad0b475",
   "metadata": {},
   "outputs": [],
   "source": [
    "sc.pl.umap(\n",
    "    adata_u,\n",
    "    color=marker_list,\n",
    "    cmap=\"Reds\",\n",
    "    frameon=False,add_outline=True, vmax=\"p99\", gene_symbols=\"gene_name\"\n",
    ")"
   ]
  },
  {
   "cell_type": "code",
   "execution_count": null,
   "id": "47d70758-0c3d-4327-be69-c66242a1b13e",
   "metadata": {},
   "outputs": [],
   "source": [
    "sc.pl.umap(\n",
    "    adata_u,\n",
    "    color=[\"Ifng\",\"Cxcr3\"],\n",
    "    cmap=\"Reds\",\n",
    "    frameon=False,add_outline=True, vmax=\"p99\", gene_symbols=\"gene_name\"\n",
    ")"
   ]
  },
  {
   "cell_type": "code",
   "execution_count": null,
   "id": "5780d47b-13e8-4b74-8349-cceccf542a2b",
   "metadata": {},
   "outputs": [],
   "source": [
    "sc.pl.umap(\n",
    "    adata_u,\n",
    "    color=[\"Tox\",\"Casp3\"],\n",
    "    cmap=\"Reds\",\n",
    "    frameon=False,add_outline=True, vmax=\"p99\", gene_symbols=\"gene_name\"\n",
    ")"
   ]
  },
  {
   "cell_type": "code",
   "execution_count": null,
   "id": "e5dfcf41-ff6e-4e8a-a512-b0b6a494051c",
   "metadata": {},
   "outputs": [],
   "source": [
    "annotation_dict = {\n",
    "    '0':'MPEC_Effector',\n",
    "    '1':'SLEC_Terminal',\n",
    "    '2':'MPEC_Effector',\n",
    "    '3':'SLEC_Effector',\n",
    "    '4':'SLEC_Terminal',\n",
    "    '5':'SLEC_Effector',\n",
    "    '6':\"MPEC_Effector\",\n",
    "    \"7\":\"SLEC_Terminal\",\n",
    "    \"8\":\"SLEC_Plastic\"\n",
    "  }"
   ]
  },
  {
   "cell_type": "code",
   "execution_count": null,
   "id": "a0435c15-2fbf-4d34-9265-8c34ea4808d6",
   "metadata": {},
   "outputs": [],
   "source": [
    "## Add cell type column based on annotation\n",
    "adata_u.obs['cell_type'] = [annotation_dict[clust] for clust in adata_u.obs['leiden']]\n",
    "\n",
    "# Visualize\n",
    "sc.pl.umap(adata_u, color='cell_type')"
   ]
  },
  {
   "cell_type": "code",
   "execution_count": null,
   "id": "e8e66c67-92b6-4458-9b79-9805fe0bb783",
   "metadata": {},
   "outputs": [],
   "source": [
    "sc.pl.dotplot(adata_u, groupby=\"cell_type\",var_names=markers, dendrogram=False,log=True, gene_symbols=\"gene_name\")"
   ]
  },
  {
   "cell_type": "code",
   "execution_count": null,
   "id": "7fab6812-ac15-48b4-8648-cb87363a04a9",
   "metadata": {},
   "outputs": [],
   "source": [
    "adata.obs[\"cell_type\"] = adata.obs[\"cell_type\"].astype(\"str\")\n",
    "adata.obs.loc[adata_u.obs.index, \"cell_type\"] = adata_u.obs[\"cell_type\"].astype(\"str\")"
   ]
  },
  {
   "cell_type": "code",
   "execution_count": null,
   "id": "19887c4d-5919-4dd0-b08b-c3291a48961f",
   "metadata": {
    "scrolled": true
   },
   "outputs": [],
   "source": [
    "sc.pl.umap(\n",
    "    adata,\n",
    "    color=[\"cell_type\"],groups=[ 'SLEC_Effector',\n",
    " 'SLEC_Inf',\n",
    " 'SLEC_Intermediate',\n",
    " 'SLEC_Plastic',\n",
    " 'SLEC_Progenitor',\n",
    " 'SLEC_Terminal','MPEC_Effector',\n",
    " 'MPEC_Intermediate',\n",
    " 'MPEC_Progenitor',\n",
    "],\n",
    "    cmap=\"Reds\",\n",
    "    frameon=False,add_outline=True, vmax=\"p99\", gene_symbols=\"gene_name\"\n",
    ")"
   ]
  },
  {
   "cell_type": "code",
   "execution_count": null,
   "id": "91532b1a-92ba-4dfa-ab45-2113ca2ea58c",
   "metadata": {},
   "outputs": [],
   "source": [
    "adata.obs.cell_type.value_counts()"
   ]
  },
  {
   "cell_type": "code",
   "execution_count": null,
   "id": "f9decb1a-9a03-4411-b243-c41ea8df2486",
   "metadata": {},
   "outputs": [],
   "source": [
    "set(adata.obs.cell_type)"
   ]
  },
  {
   "cell_type": "code",
   "execution_count": null,
   "id": "621373d5-5177-4061-82b2-48863d81fc41",
   "metadata": {},
   "outputs": [],
   "source": [
    "#adata.write_h5ad(\"adata_solo_annotated_all.h5ad\")"
   ]
  },
  {
   "cell_type": "markdown",
   "id": "4c4c9387-03e8-43f7-b20f-bed297c2875c",
   "metadata": {},
   "source": [
    "## Create gene counts and samplesheet for DS analysis"
   ]
  },
  {
   "cell_type": "code",
   "execution_count": null,
   "id": "54a50555-bc37-4a6a-bf93-a062c713d875",
   "metadata": {},
   "outputs": [],
   "source": [
    "adata.var"
   ]
  },
  {
   "cell_type": "code",
   "execution_count": null,
   "id": "9ef4c75c-39b5-4a69-851d-f487511a4ddc",
   "metadata": {},
   "outputs": [],
   "source": [
    "adata.var.rename(columns={\"gene_name\": \"gene_id\"}, inplace=True)"
   ]
  },
  {
   "cell_type": "code",
   "execution_count": null,
   "id": "241a5302-7f99-486d-bc9c-1ff60accd246",
   "metadata": {},
   "outputs": [],
   "source": [
    "adata.raw = None"
   ]
  },
  {
   "cell_type": "code",
   "execution_count": null,
   "id": "ef44c350-0753-4781-a995-95d233fc8ed7",
   "metadata": {},
   "outputs": [],
   "source": [
    "path = \"/data/scratch/kvalem/projects/2021/honda_microbial_metabolites_2021/40_tables/40_single-cell-sorted-cd8/40_gex_surface_prot\""
   ]
  },
  {
   "cell_type": "code",
   "execution_count": null,
   "id": "78ee8104-0f70-43f9-945c-a40d78d4b4d0",
   "metadata": {},
   "outputs": [],
   "source": [
    "### Samplesheet\n",
    "samplesheet = adata.obs.copy()\n",
    "#samplesheet[\"sample_id\"]=samplesheet.index\n",
    "samplesheet.reset_index(inplace=True)"
   ]
  },
  {
   "cell_type": "code",
   "execution_count": null,
   "id": "0e1645c9-1d2b-46d0-b5a6-8c1f420ac057",
   "metadata": {},
   "outputs": [],
   "source": [
    "samplesheet.to_csv(f\"{path}/samplesheet.csv\", index=False)\n",
    "samplesheet.to_csv(f\"{path}/samplesheet.tsv\", index=False, sep = \"\\t\")"
   ]
  },
  {
   "cell_type": "code",
   "execution_count": null,
   "id": "b7df3741-9c2f-454f-9eb0-e5f2abf8c05d",
   "metadata": {},
   "outputs": [],
   "source": [
    "bulk_df = adata.to_df().T"
   ]
  },
  {
   "cell_type": "code",
   "execution_count": null,
   "id": "4c947950-9a2d-4299-a7a4-7c1901c95809",
   "metadata": {},
   "outputs": [],
   "source": [
    "### Raw counts\n",
    "bulk_df = adata.to_df().T\n",
    "bulk_df[\"gene_id\"]=bulk_df.index\n",
    "bulk_df.columns = bulk_df.columns.str.replace(\"[.-]\", \"_\").str.replace(\" \", \"_\")"
   ]
  },
  {
   "cell_type": "code",
   "execution_count": null,
   "id": "245197a0-4fa9-4384-8a49-f375d86f20c3",
   "metadata": {},
   "outputs": [],
   "source": [
    "bulk_df.to_csv(f\"{path}/counts.csv\")"
   ]
  },
  {
   "cell_type": "code",
   "execution_count": null,
   "id": "de6cee7a-eafe-4218-8527-8b6303294de6",
   "metadata": {},
   "outputs": [],
   "source": [
    "scales_counts = sc.pp.normalize_total(adata, target_sum=None, inplace=False)\n",
    "# log1p transform\n",
    "adata.layers[\"log1p_norm\"] = sc.pp.log1p(scales_counts[\"X\"], copy=True)"
   ]
  },
  {
   "cell_type": "code",
   "execution_count": null,
   "id": "c4192078-36d3-41f9-b71b-4c62474f2a59",
   "metadata": {},
   "outputs": [],
   "source": [
    "sc.pp.log1p()"
   ]
  },
  {
   "cell_type": "code",
   "execution_count": null,
   "id": "eb5cacc6-ab3f-4fd6-84cc-b9f24052575e",
   "metadata": {},
   "outputs": [],
   "source": [
    "### log1p_norm counts\n",
    "adata_log1p_norm = pd.DataFrame(adata.layers[\"log1p_norm\"], \n",
    "    adata.to_df().index, \n",
    "    adata.to_df().columns)\n",
    "bulk_df = adata_log1p_norm.T\n",
    "bulk_df[\"gene_id\"]=bulk_df.index\n",
    "bulk_df.columns = bulk_df.columns.str.replace(\"[.-]\", \"_\").str.replace(\" \", \"_\")\n",
    "bulk_df.to_csv(f\"{path}/log1p_norm_counts.csv\")   "
   ]
  },
  {
   "cell_type": "markdown",
   "id": "d16d3770-cfb8-4b08-8bf5-8a2422c0aed7",
   "metadata": {},
   "source": [
    "## Cells expressing Ifng , Cxcr3, "
   ]
  },
  {
   "cell_type": "code",
   "execution_count": null,
   "id": "095b28ed-62a0-42e4-8094-572942175601",
   "metadata": {},
   "outputs": [],
   "source": [
    "adata.obs[\"cell_type_seed\"] = score_seeds(\n",
    "    adata,\n",
    "    {\n",
    "        \"Interferon\": {\n",
    "            \"positive\": [['Ifng']],\n",
    "            \"negative\": [[\"\"]],\n",
    "        },\n",
    "        \"Cxcr3\": {\n",
    "            \"positive\": [['Cxcr3']],\n",
    "            \"negative\": [[\"\"]],\n",
    "        }\n",
    "   },\n",
    "    cutoff_sum_pos_marker_expression=0.25,\n",
    ")"
   ]
  },
  {
   "cell_type": "code",
   "execution_count": null,
   "id": "a15a4f86-fcbe-4cae-92f5-209bbe573818",
   "metadata": {},
   "outputs": [],
   "source": [
    "adata.obs.cell_type_seed"
   ]
  },
  {
   "cell_type": "code",
   "execution_count": null,
   "id": "a2c008e2-61db-4f13-a9bc-8db51efbed9a",
   "metadata": {},
   "outputs": [],
   "source": [
    "adata.obs.cell_type_seed.value_counts()"
   ]
  },
  {
   "cell_type": "code",
   "execution_count": null,
   "id": "64d05345-4aa4-4e61-99e0-4ca9b48347b6",
   "metadata": {},
   "outputs": [],
   "source": [
    "sc.pl.umap(adata, color=\"cell_type_seed\", groups=\"Interferon\")"
   ]
  },
  {
   "cell_type": "code",
   "execution_count": null,
   "id": "f92d7330-1d06-4aa3-bcd5-f43d671c90ba",
   "metadata": {},
   "outputs": [],
   "source": [
    "sc.pl.umap(\n",
    "    adata,\n",
    "    color=[\"cell_type_seed\"],\n",
    "    cmap=\"Reds\",\n",
    "    frameon=False,add_outline=True, vmax=\"p99\", gene_symbols=\"gene_id\"\n",
    ")"
   ]
  },
  {
   "cell_type": "markdown",
   "id": "a7d4e770-8046-4eb5-bbf9-9607f799bb9c",
   "metadata": {},
   "source": [
    "## Highest expressed genes"
   ]
  },
  {
   "cell_type": "code",
   "execution_count": null,
   "id": "812d733e-67a6-425c-bb52-96e98855159e",
   "metadata": {},
   "outputs": [],
   "source": [
    "adata"
   ]
  },
  {
   "cell_type": "code",
   "execution_count": null,
   "id": "0bf8cc45-170c-42ac-a51c-2c1875d5fc4e",
   "metadata": {},
   "outputs": [],
   "source": [
    "sc.tl.rank_genes_groups(\n",
    "    adata, groupby=\"leiden\", method=\"wilcoxon\", key_added=\"dea_leiden\"\n",
    ")"
   ]
  },
  {
   "cell_type": "code",
   "execution_count": null,
   "id": "08506b86-598c-479d-9fae-63c8b511c50b",
   "metadata": {},
   "outputs": [],
   "source": [
    "sc.pl.rank_genes_groups_dotplot(\n",
    "    adata, groupby=\"leiden\", standard_scale=\"var\", n_genes=5, key=\"dea_leiden\",gene_symbols=\"gene_name\"\n",
    ")"
   ]
  },
  {
   "cell_type": "code",
   "execution_count": null,
   "id": "9a52e13c-21f4-4f73-8b44-da11fa3d66a7",
   "metadata": {},
   "outputs": [],
   "source": [
    "sc.tl.rank_genes_groups(\n",
    "    adata, groupby=\"cell_type\", method=\"wilcoxon\", key_added=\"dea_cell_type\"\n",
    ")"
   ]
  },
  {
   "cell_type": "code",
   "execution_count": null,
   "id": "45df1184-ef25-4e0b-afba-a431908fa4e1",
   "metadata": {},
   "outputs": [],
   "source": [
    "sc.pl.rank_genes_groups_dotplot(\n",
    "    adata, groupby=\"cell_type\", standard_scale=\"var\", n_genes=5, key=\"dea_cell_type\",gene_symbols=\"gene_name\", cmap=\"seismic\")#, save=\"rank_genes_groups_dotplot\")\n"
   ]
  },
  {
   "cell_type": "code",
   "execution_count": null,
   "id": "d07d7485-4c70-4d38-b402-558f14013bd0",
   "metadata": {},
   "outputs": [],
   "source": [
    "sc.pl.rank_genes_groups_dotplot(\n",
    "    adata, groupby=\"leiden\", standard_scale=\"var\", n_genes=5, key=\"dea_cell_type\",gene_symbols=\"gene_name\", cmap=\"seismic\")#, save=\"rank_genes_groups_dotplot\")\n"
   ]
  },
  {
   "cell_type": "code",
   "execution_count": null,
   "id": "616dfb3d-b355-4d54-80a5-666193eacdda",
   "metadata": {},
   "outputs": [],
   "source": [
    "adata.obs.cell_type"
   ]
  },
  {
   "cell_type": "code",
   "execution_count": null,
   "id": "2d8397fd-3e32-45c5-8cac-b4dfdf74e0b5",
   "metadata": {},
   "outputs": [],
   "source": [
    "adata.var.set_index= \"gene_name\""
   ]
  },
  {
   "cell_type": "code",
   "execution_count": null,
   "id": "4babaf44-8402-4a41-8593-64a73122a8a6",
   "metadata": {},
   "outputs": [],
   "source": [
    "sc.tl.rank_genes_groups(adata, \"leiden\",  method=\"wilcoxon\", gene_symbols=\"gene_name\")"
   ]
  },
  {
   "cell_type": "code",
   "execution_count": null,
   "id": "0acc3f75-0b73-4f68-98d0-8bfd61a2edde",
   "metadata": {},
   "outputs": [],
   "source": [
    "adata_colon = adata[adata.obs[\"origin\"]==\"colon\"]"
   ]
  },
  {
   "cell_type": "code",
   "execution_count": null,
   "id": "f3ecc0cb-6884-4dd3-b323-943777a786ed",
   "metadata": {},
   "outputs": [],
   "source": [
    "adata_til = adata[adata.obs[\"origin\"]==\"til\"]"
   ]
  },
  {
   "cell_type": "code",
   "execution_count": null,
   "id": "405cd407-a38e-42e1-943d-72be68af75ef",
   "metadata": {},
   "outputs": [],
   "source": [
    "sc.pl.highest_expr_genes(adata_colon, n_top=20,gene_symbols=\"gene_name\")"
   ]
  },
  {
   "cell_type": "code",
   "execution_count": null,
   "id": "76056888-8fd9-40c3-85b7-7948d8d44da8",
   "metadata": {},
   "outputs": [],
   "source": [
    "sc.pl.highest_expr_genes(adata_til, n_top=20,gene_symbols=\"gene_name\")"
   ]
  },
  {
   "cell_type": "code",
   "execution_count": null,
   "id": "8f896a06-9217-4ba5-8fcd-b7070b52d2fd",
   "metadata": {},
   "outputs": [],
   "source": [
    "adata_11mix = adata[adata.obs[\"condition\"]==\"11mix\"]"
   ]
  },
  {
   "cell_type": "code",
   "execution_count": null,
   "id": "7253d75f-2f61-43a0-beec-67ea170ac841",
   "metadata": {},
   "outputs": [],
   "source": [
    "adata10mix = adata[adata.obs[\"condition\"]==\"10mix\"]"
   ]
  },
  {
   "cell_type": "code",
   "execution_count": null,
   "id": "d4dfba14-176b-4bec-99a4-e9b61da5edce",
   "metadata": {},
   "outputs": [],
   "source": [
    "adataGF= adata[adata.obs[\"condition\"]==\"GF\"]"
   ]
  },
  {
   "cell_type": "code",
   "execution_count": null,
   "id": "55424952-2f7c-404c-8d35-e1c881ab7926",
   "metadata": {},
   "outputs": [],
   "source": [
    "adata.obs[\"condition\"].value_counts()"
   ]
  },
  {
   "cell_type": "code",
   "execution_count": null,
   "id": "c07dda18-0616-4bb2-8222-732034bf8dd9",
   "metadata": {},
   "outputs": [],
   "source": [
    "adataGFplus= adata[adata.obs[\"condition\"]==\"GF-plus\"]"
   ]
  },
  {
   "cell_type": "code",
   "execution_count": null,
   "id": "76f7dea4-34f7-41b1-a2c1-a93e13a75473",
   "metadata": {},
   "outputs": [],
   "source": [
    "sc.pl.highest_expr_genes(adata_11mix, n_top=20,gene_symbols=\"gene_name\")"
   ]
  },
  {
   "cell_type": "code",
   "execution_count": null,
   "id": "435526f7-c080-4589-ab16-b1b986906b27",
   "metadata": {},
   "outputs": [],
   "source": [
    "sc.pl.highest_expr_genes(adata10mix, n_top=20,gene_symbols=\"gene_name\")"
   ]
  },
  {
   "cell_type": "code",
   "execution_count": null,
   "id": "39d91bad-45d4-418d-8552-7b9cd3c9636b",
   "metadata": {},
   "outputs": [],
   "source": [
    "sc.pl.highest_expr_genes(adataGF, n_top=20,gene_symbols=\"gene_name\")"
   ]
  },
  {
   "cell_type": "code",
   "execution_count": null,
   "id": "37bac666-deb7-4690-9110-74f7ff0e37c7",
   "metadata": {},
   "outputs": [],
   "source": [
    "sc.pl.highest_expr_genes(adataGFplus, n_top=20,gene_symbols=\"gene_name\")\n"
   ]
  },
  {
   "cell_type": "code",
   "execution_count": null,
   "id": "8f8a97d0-08df-491b-8ae9-9c7358a87a7e",
   "metadata": {},
   "outputs": [],
   "source": []
  },
  {
   "cell_type": "markdown",
   "id": "d0e0e23e-6726-4af4-a953-c3eccb49bffb",
   "metadata": {},
   "source": [
    "## Treg exploration"
   ]
  },
  {
   "cell_type": "code",
   "execution_count": null,
   "id": "681e009e-b901-4c8a-bb54-e34cfac3b5b0",
   "metadata": {},
   "outputs": [],
   "source": [
    "adata = sc.read_h5ad(\"adata_solo_18nov_annotation.h5ad\")"
   ]
  },
  {
   "cell_type": "code",
   "execution_count": null,
   "id": "8e1917eb-c6b1-4630-b99a-30e608384419",
   "metadata": {
    "scrolled": true
   },
   "outputs": [],
   "source": [
    "sc.pl.umap(\n",
    "    adata,\n",
    "    color=[\"origin\",\"sample_id\",\"condition\",\"cell_type\"],\n",
    "    legend_fontsize=8,save=\"umap_new_anno.png\"\n",
    ")"
   ]
  },
  {
   "cell_type": "code",
   "execution_count": null,
   "id": "7af5f77a-6dec-4953-8bf2-5ed5ea83db37",
   "metadata": {},
   "outputs": [],
   "source": [
    "sc.pl.umap(adata, color=['cell_type'], vmax=\"p99\", cmap = \"gnuplot2\",legend_fontsize=8)#, save=\"onlycell_type.png\"  )"
   ]
  },
  {
   "cell_type": "code",
   "execution_count": null,
   "id": "719fc320-9799-4e55-b684-0038aab1ca64",
   "metadata": {},
   "outputs": [],
   "source": [
    "sc.pl.umap(adata, color = [\"Foxp3\",\"Il2rb\",\"H2-T23\",\"Ptprc\",\"Cd28\"],gene_symbols=\"gene_name\", vmax=\"p99\", cmap=\"Reds\")"
   ]
  },
  {
   "cell_type": "code",
   "execution_count": null,
   "id": "c145458c-53df-4fcf-b871-e4b11967f765",
   "metadata": {},
   "outputs": [],
   "source": [
    "adata"
   ]
  },
  {
   "cell_type": "code",
   "execution_count": null,
   "id": "5bac17e5-7752-45bb-b50f-54cc34041b2f",
   "metadata": {},
   "outputs": [],
   "source": [
    "sc.pl.umap(adata, color=\"leiden_res0_25\")"
   ]
  },
  {
   "cell_type": "code",
   "execution_count": null,
   "id": "4feb8fed-7e5d-420b-bc21-34cdf0f48cbd",
   "metadata": {},
   "outputs": [],
   "source": [
    "annotation_dict = {\n",
    "    \"0\": \"TIL_DYSFUNCTIONAL\",\n",
    "    \"1\": \"TIL_NAIVE_LIKE\",\n",
    "    \"2\": \"TIL_PRE_DYSFUNCTIONAL\",\n",
    "    \"3\": \"COLON_DYSFUNCTIONAL\",\n",
    "    \"4\": \"COLON_NAIVE_LIKE\",\n",
    "    \"5\": \"TIL_DYSFUNCTIONAL\",\n",
    "    \"6\": \"TIL_DYSFUNCTIONAL\",\n",
    "}\n",
    "\n"
   ]
  },
  {
   "cell_type": "code",
   "execution_count": null,
   "id": "649e2fa6-a473-4d14-b2f5-2d047144e50f",
   "metadata": {
    "scrolled": true
   },
   "outputs": [],
   "source": [
    "## Add cell type column based on annotation\n",
    "adata.obs[\"cell_type\"] = [\n",
    "    annotation_dict[clust] for clust in adata.obs[\"leiden_res0_25\"]\n",
    "]\n",
    "\n",
    "\n",
    "# Visualize\n",
    "sc.pl.umap(\n",
    "    adata,\n",
    "    color=[\"cell_type\", \"leiden_res0_25\"],\n",
    "\n",
    "    legend_fontsize=8,\n",
    ")"
   ]
  },
  {
   "cell_type": "code",
   "execution_count": null,
   "id": "21271c1e-632d-4af4-b8a3-c30c54dfefba",
   "metadata": {},
   "outputs": [],
   "source": [
    "markers = [\"Sell\",\"Cd44\",\"Il7r\",\"Ccr7\",\"Tcf7\",\"Gzmk\",\"Cd28\",\"Cxcr3\",\"Prf1\",\"Cx3cr1\",\"Ifng\",\"Lag3\",\"Pdcd1\",\"Havcr2\",\"Ctla4\",\"Icos\",\"Casp3\", \"Cxcr6\"]"
   ]
  },
  {
   "cell_type": "code",
   "execution_count": null,
   "id": "f7e36d11-d839-4ae8-9c02-230a9f912233",
   "metadata": {},
   "outputs": [],
   "source": [
    "# t memory\n",
    "\n",
    "sc.pl.matrixplot(adata, markers, groupby='cell_type',gene_symbols=\"gene_name\",dendrogram=False,  standard_scale ='var', save =\"new_annotation_abvr\")"
   ]
  },
  {
   "cell_type": "code",
   "execution_count": null,
   "id": "3e7377e1-d4da-4024-8c74-26ec2d1504de",
   "metadata": {},
   "outputs": [],
   "source": [
    "specific_order = [ \"COLON_NAIVE_LIKE\", \"COLON_DYSFUNCTIONAL\", \"TIL_NAIVE_LIKE\", \"TIL_PRE_DYSFUNCTIONAL\",\"TIL_DYSFUNCTIONAL\"]  # Replace with your desired order\n",
    "adata.obs['cell_type'] = pd.Categorical(adata.obs['cell_type'], categories=specific_order, ordered=True)"
   ]
  },
  {
   "cell_type": "code",
   "execution_count": null,
   "id": "ebd9ad5a-5faa-4b90-948d-22171d86367d",
   "metadata": {},
   "outputs": [],
   "source": [
    "# t memory\n",
    "\n",
    "sc.pl.matrixplot(adata, markers, groupby='cell_type',gene_symbols=\"gene_name\",dendrogram=False,  standard_scale ='var', save =\"new_annotation.png\")"
   ]
  },
  {
   "cell_type": "code",
   "execution_count": null,
   "id": "d1d77752-1f4c-45b2-bc33-793ed959b01e",
   "metadata": {},
   "outputs": [],
   "source": [
    "# t memory\n",
    "\n",
    "sc.pl.dotplot(adata, markers, groupby='cell_type',gene_symbols=\"gene_name\",dendrogram=False,  standard_scale ='var', save =\"new_annotation.png\")"
   ]
  },
  {
   "cell_type": "code",
   "execution_count": null,
   "id": "e1126d87-be9a-4d16-9da3-8bf6d2755d6b",
   "metadata": {},
   "outputs": [],
   "source": [
    "adata.write_h5ad(\"adata_solo_18nov_annotation.h5ad\")"
   ]
  },
  {
   "cell_type": "code",
   "execution_count": null,
   "id": "737fd0d6-a2da-48bf-9234-f3d66d572738",
   "metadata": {},
   "outputs": [],
   "source": []
  }
 ],
 "metadata": {
  "kernelspec": {
   "display_name": "scanpy",
   "language": "python",
   "name": "scanpy"
  },
  "language_info": {
   "codemirror_mode": {
    "name": "ipython",
    "version": 3
   },
   "file_extension": ".py",
   "mimetype": "text/x-python",
   "name": "python",
   "nbconvert_exporter": "python",
   "pygments_lexer": "ipython3",
   "version": "3.12.3"
  }
 },
 "nbformat": 4,
 "nbformat_minor": 5
}
