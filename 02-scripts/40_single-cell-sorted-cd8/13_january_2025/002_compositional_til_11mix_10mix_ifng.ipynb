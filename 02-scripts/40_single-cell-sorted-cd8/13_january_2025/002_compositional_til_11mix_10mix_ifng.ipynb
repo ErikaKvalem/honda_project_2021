{
 "cells": [
  {
   "cell_type": "code",
   "execution_count": null,
   "id": "3181741e-5240-4b78-8e6d-5d430c234b56",
   "metadata": {},
   "outputs": [],
   "source": [
    "import numpy as np"
   ]
  },
  {
   "cell_type": "code",
   "execution_count": null,
   "id": "6a942054-10b2-44bb-9ad5-d3ad4bcc561c",
   "metadata": {
    "scrolled": true
   },
   "outputs": [],
   "source": [
    "import pertpy as pt"
   ]
  },
  {
   "cell_type": "code",
   "execution_count": null,
   "id": "72d65625-e302-40b2-b76e-ffce2486da9a",
   "metadata": {},
   "outputs": [],
   "source": [
    "import scanpy as sc"
   ]
  },
  {
   "cell_type": "code",
   "execution_count": null,
   "id": "df475ff3-a398-4df8-87e7-df589faadbc8",
   "metadata": {},
   "outputs": [],
   "source": [
    "import warnings\n",
    "\n",
    "warnings.filterwarnings(\"ignore\")\n",
    "\n",
    "import matplotlib.pyplot as plt\n",
    "import mudata as mu"
   ]
  },
  {
   "cell_type": "code",
   "execution_count": null,
   "id": "86c64921-5fda-4532-bf77-2de0fd9e29c9",
   "metadata": {},
   "outputs": [],
   "source": [
    "import sccoda.util.cell_composition_data as scc_dat\n",
    "import sccoda.util.comp_ana as scc_ana\n",
    "import sccoda.util.data_visualization as scc_viz"
   ]
  },
  {
   "cell_type": "code",
   "execution_count": null,
   "id": "5a301a8b-dda3-4599-91dd-51778d3b0d2b",
   "metadata": {},
   "outputs": [],
   "source": [
    "import altair as alt"
   ]
  },
  {
   "cell_type": "code",
   "execution_count": null,
   "id": "e6836a2a-9bf4-449a-b271-e0dd70303a92",
   "metadata": {},
   "outputs": [],
   "source": [
    "import pandas as pd"
   ]
  },
  {
   "cell_type": "code",
   "execution_count": null,
   "id": "a43e5eea-e891-49be-8364-66bd2f3977fa",
   "metadata": {},
   "outputs": [],
   "source": [
    "import tensorflow as tf"
   ]
  },
  {
   "cell_type": "code",
   "execution_count": null,
   "id": "f459e515-61e0-4bb1-ad3f-84d1dfd97727",
   "metadata": {},
   "outputs": [],
   "source": [
    "tf.random.set_seed(0)"
   ]
  },
  {
   "cell_type": "code",
   "execution_count": null,
   "id": "4a0f37cd-c00c-48a4-8025-99d1ce0052e4",
   "metadata": {},
   "outputs": [],
   "source": [
    "sc.settings.set_figure_params(\n",
    "    dpi=200,\n",
    "    facecolor=\"white\",\n",
    "    frameon=False,\n",
    ")"
   ]
  },
  {
   "cell_type": "code",
   "execution_count": null,
   "id": "d81daf60-eec7-468e-847c-4413acb6d23a",
   "metadata": {},
   "outputs": [],
   "source": [
    "adata = sc.read_h5ad(\"mapped_til_colon.h5ad\")"
   ]
  },
  {
   "cell_type": "code",
   "execution_count": null,
   "id": "409ebf9b-c9a4-4730-a742-e54f8357a4b9",
   "metadata": {},
   "outputs": [],
   "source": [
    "marker_dict_small  = {\"CD8_NaiveLike\":[\n",
    "    \"Ccr7\",\n",
    "\"Il7r\",\n",
    "\"Sell\",\n",
    "\"Tcf7\",\n",
    "\"Txk\",\n",
    "\"S1pr1\",\n",
    "\"Lef1\",\n",
    "\"Satb1\",\n",
    "],\"CD8_EarlyActiv\":[\n",
    "\"Fos\",\n",
    "\"Cd69\",\n",
    "\"Zfp36\",\n",
    "\"Fosb\",\n",
    "\"Gzmm\",\n",
    "\"Dusp2\",\n",
    "], \"CD8_EffectorMemory\":[\"Gzma\",\n",
    "\"Gzmk\",\n",
    "\"Cd8b1\",\n",
    "\"Ctsw\",\n",
    "\"Gzmb\",\n",
    "\"Ccl5\",\n",
    "],\"CD8_Tpex\":[\n",
    "\"Xcl1\",\n",
    "\"Crtam\",\n",
    "\"Ifng\",\n",
    "\"Ccl4\",\n",
    "\"Dusp4\",\n",
    "\"Zeb2\",\n",
    "\"Nr4a2\",\n",
    "\"Sla\",\n",
    "],\"CD8_Tex\":[\"Lag3\",\n",
    "\"Prf1\",\n",
    "\"Havcr2\",\n",
    "\"Nkg7\",\n",
    "\"Cd8b1\",\n",
    "\"Ctsd\",\n",
    "\"Klrd1\",\n",
    "\"Id2\",\n",
    "\"Cst7\",\n",
    "\"Pdcd1\",\n",
    "\"Tnfrsf9\",\n",
    "\"Tigit\"] }"
   ]
  },
  {
   "cell_type": "code",
   "execution_count": null,
   "id": "92e9077f-15b0-4c3b-9429-5ce07250c4ff",
   "metadata": {},
   "outputs": [],
   "source": [
    "sc.pl.umap(adata, color = [\"origin\",\"condition\",\"sample_id\",\"cell_type\",], legend_fontsize=7)"
   ]
  },
  {
   "cell_type": "code",
   "execution_count": null,
   "id": "e8590fe4-6c6d-41a3-bab2-e8c4be4d649c",
   "metadata": {},
   "outputs": [],
   "source": [
    "sc.pl.matrixplot(adata, marker_dict_small, groupby='cell_type',gene_symbols=\"gene_name\",dendrogram=True,  standard_scale ='var', cmap = \"Reds\" , save =\"mapped_annotation_tumor_normal.svg\")"
   ]
  },
  {
   "cell_type": "code",
   "execution_count": null,
   "id": "3bbfbf63-ef37-48df-bf38-364fd6ff7db3",
   "metadata": {},
   "outputs": [],
   "source": [
    "import os\n",
    "os.getcwd()"
   ]
  },
  {
   "cell_type": "code",
   "execution_count": null,
   "id": "cda8993f-ffda-49f6-86f5-0763ed9a4eb2",
   "metadata": {},
   "outputs": [],
   "source": [
    "gtf = pd.read_csv(\"/data/scratch/kvalem/projects/2021/honda_microbial_metabolites_2021/20_scripts/40_single-cell-sorted-cd8/40_gex_surface_prot/18nov_analysis/tables/Mus_musculus.GRCm39.113.csv\")\n",
    "gtf = gtf.drop_duplicates(subset=\"gene_id\")\n",
    "gtf.rename(columns={\"gene_id\":\"ensembl_id\"}, inplace=True)\n",
    "gtf.index =gtf.ensembl_id"
   ]
  },
  {
   "cell_type": "code",
   "execution_count": null,
   "id": "0d1952ec-e434-46bb-be86-84e6b25bdc94",
   "metadata": {},
   "outputs": [],
   "source": [
    "#adata.var = pd.merge(\n",
    "#    adata.var, \n",
    "#    gtf, \n",
    "#    left_index=True,  # Use the index of adata.var\n",
    "#    right_index=True, # Use the index of gtf_pc\n",
    "#    how=\"left\"        # Retain all rows from adata.var\n",
    "#)\n",
    "#adata.var = adata.var.rename(columns={\n",
    "#    \"ensembl_id_x\": \"ensembl_id\", \n",
    "#    \"gene_name_x\": \"gene_name\"\n",
    "#})\n",
    "#\n",
    "## Remove columns ensembl_id_y and gene_name_y\n",
    "#adata.var = adata.var.drop(columns=[\"ensembl_id_y\", \"gene_name_y\"], errors=\"ignore\")\n",
    "#subset = adata[:, adata.var[\"gene_biotype\"]==\"protein_coding\"]"
   ]
  },
  {
   "cell_type": "code",
   "execution_count": null,
   "id": "f44d0775-684f-48dd-8e3d-90e7e1c923fb",
   "metadata": {},
   "outputs": [],
   "source": [
    "adata"
   ]
  },
  {
   "cell_type": "code",
   "execution_count": null,
   "id": "19c82bae-2b79-4846-b860-fa991a032144",
   "metadata": {},
   "outputs": [],
   "source": [
    "adata_og = adata.copy()"
   ]
  },
  {
   "cell_type": "code",
   "execution_count": null,
   "id": "c47788f3-ff8f-4364-a573-0662067bbe39",
   "metadata": {},
   "outputs": [],
   "source": [
    "adata_og"
   ]
  },
  {
   "cell_type": "code",
   "execution_count": null,
   "id": "5aa6c813-92a2-4f06-a6a9-003dd1a448e4",
   "metadata": {},
   "outputs": [],
   "source": [
    "import numpy as np\n",
    "\n",
    "# Check if 'Ifng' is in the variable names\n",
    "if 'ENSMUSG00000055170' in adata_og.var_names:\n",
    "    # Create a new column in adata.obs to store the expression status of Ifng\n",
    "    adata_og.obs['Ifng_expression'] = adata_og[:, 'ENSMUSG00000055170'].X > 0\n",
    "else:\n",
    "    print(\"Gene 'Ifng' not found in adata.var_names\")"
   ]
  },
  {
   "cell_type": "code",
   "execution_count": null,
   "id": "492d7a00-04ee-492b-a0f4-9c11ddd03cc9",
   "metadata": {},
   "outputs": [],
   "source": [
    "if 'ENSMUSG00000055170' in adata.var_names:\n",
    "    # Create a new column in adata.obs to store the expression status of Ifng\n",
    "    adata_og.obs['Ifng_expression'] = (adata_og[:, 'ENSMUSG00000055170'].X > 0).astype(int)\n",
    "else:\n",
    "    print(\"Gene 'Ifng' not found in adata.var_names\")"
   ]
  },
  {
   "cell_type": "code",
   "execution_count": null,
   "id": "bc7304af-8253-44fd-91cb-dc0466c048cd",
   "metadata": {},
   "outputs": [],
   "source": []
  },
  {
   "cell_type": "code",
   "execution_count": null,
   "id": "e98e5779-6031-491b-a29d-ab2439e6e354",
   "metadata": {},
   "outputs": [],
   "source": [
    "specific_order = [ \"CD8_NaiveLike\", \"CD8_EarlyActiv\", \"CD8_EffectorMemory\", \"CD8_Tpex\",\"CD8_Tex\"]  # Replace with your desired order\n",
    "adata_og.obs['cell_type'] = pd.Categorical(adata_og.obs['cell_type'], categories=specific_order, ordered=True)"
   ]
  },
  {
   "cell_type": "code",
   "execution_count": null,
   "id": "e502b8ca-c091-438d-a72a-d33fc105e2a0",
   "metadata": {},
   "outputs": [],
   "source": [
    "# Visualize\n",
    "custom_colors = [\"#3A923A\", \"#146aff\", \"#ff8113\", \"#fff314\", \"#D8393A\"]  # Example colors\n",
    "\n",
    "# Add these colors to the `adata_og.uns` dictionary for the `cell_type` category\n",
    "adata_og.uns['cell_type_colors'] = custom_colors\n",
    "\n",
    "sc.pl.umap(\n",
    "    adata_og,\n",
    "    color=[\"origin\", \"cell_type\"],  # Add other variables you want to visualize\n",
    "    legend_fontsize=8,\n",
    "    frameon=False, save = \"umap=colon_Til.svg\"\n",
    ")"
   ]
  },
  {
   "cell_type": "code",
   "execution_count": null,
   "id": "35fea665-b55b-4be4-b4f1-2c2be3f02561",
   "metadata": {
    "scrolled": true
   },
   "outputs": [],
   "source": [
    "sc.pl.umap(\n",
    "    adata_og,\n",
    "    color=[\"condition\", \"sample_id\",\"cell_type\",],\n",
    "\n",
    "    legend_fontsize=8,save = \"umap_all.png\"\n",
    ")"
   ]
  },
  {
   "cell_type": "code",
   "execution_count": null,
   "id": "6b66f9aa-374f-4143-81f2-f832dbe22d1b",
   "metadata": {},
   "outputs": [],
   "source": [
    "adata.obs.cell_type.value_counts()"
   ]
  },
  {
   "cell_type": "code",
   "execution_count": null,
   "id": "670736ca-6a3c-415a-9897-32c23a28420f",
   "metadata": {},
   "outputs": [],
   "source": [
    "adata = adata[~adata.obs[\"cell_type\"].isin([\"nan\"])]"
   ]
  },
  {
   "cell_type": "code",
   "execution_count": null,
   "id": "e2e7f507-9241-4e84-8227-16cb59c5ad98",
   "metadata": {},
   "outputs": [],
   "source": [
    "# Obtain cluster-specific differentially expressed genes\n",
    "sc.tl.rank_genes_groups(adata, groupby=\"cell_type\", method=\"wilcoxon\")"
   ]
  },
  {
   "cell_type": "code",
   "execution_count": null,
   "id": "e4eb6761-6eb7-4334-a557-ebf716f280c0",
   "metadata": {},
   "outputs": [],
   "source": [
    "# Plot the dotplot\n",
    "sc.pl.rank_genes_groups_dotplot(\n",
    "    adata,\n",
    "    groupby=\"cell_type\",\n",
    "    standard_scale=\"var\",\n",
    "    n_genes=5,\n",
    "    gene_symbols=\"gene_name\",\n",
    "   dendrogram=False,save=\"leiden_dotplot.png\"\n",
    ")\n"
   ]
  },
  {
   "cell_type": "code",
   "execution_count": null,
   "id": "e4bac317-c233-48ad-8a03-f53daca253fe",
   "metadata": {},
   "outputs": [],
   "source": [
    "import scanpy as sc\n",
    "\n",
    "# Ensure that 'Ifng' exists in the data\n",
    "if 'ENSMUSG00000055170' in adata.var_names:\n",
    "    # Create a mask for cells with non-zero Ifng expression\n",
    "    ifng_expressing_cells = adata[:, 'ENSMUSG00000055170'].X > 0\n",
    "    \n",
    "    # Subset the AnnData object\n",
    "    adata = adata[ifng_expressing_cells].copy()\n",
    "    \n",
    "    print(f\"Subset created with {adata.n_obs} cells expressing 'Ifng'.\")\n",
    "else:\n",
    "    print(\"'Ifng' is not present in the dataset.\")\n"
   ]
  },
  {
   "cell_type": "code",
   "execution_count": null,
   "id": "4ccc34fb-3cbb-4da3-8a89-3b94926f768b",
   "metadata": {},
   "outputs": [],
   "source": [
    "adata.obs"
   ]
  },
  {
   "cell_type": "code",
   "execution_count": null,
   "id": "f6f992fc-dabd-4631-8e70-caec59f22823",
   "metadata": {},
   "outputs": [],
   "source": [
    "# Visualize\n",
    "sc.pl.umap(\n",
    "    adata,\n",
    "    color=[\"Ifng\",\"cell_type\", ],gene_symbols=\"gene_name\",cmap=\"Reds\",\n",
    "\n",
    "    legend_fontsize=7,frameon=False\n",
    ")"
   ]
  },
  {
   "cell_type": "code",
   "execution_count": null,
   "id": "72b58651-50f9-433b-960c-361ad024c8c4",
   "metadata": {},
   "outputs": [],
   "source": [
    "categories_order= [\"10mix1\",\"10mix2\",\"11mix1\",\"11mix2\",\"10mix_ICI1\",\"10mix_ICI2\",\"11mix_ICI1\",\"11mix_ICI2\"]"
   ]
  },
  {
   "cell_type": "code",
   "execution_count": null,
   "id": "eb77b96e-469c-473f-9a79-2b13c2893e93",
   "metadata": {},
   "outputs": [],
   "source": [
    "sc.pl.dotplot(adata, \"Ifng\", \"sample_id\",gene_symbols=\"gene_name\",log=True)"
   ]
  },
  {
   "cell_type": "code",
   "execution_count": null,
   "id": "c7127ae8-406c-4313-9121-917a0aa17320",
   "metadata": {},
   "outputs": [],
   "source": [
    "# Visualize\n",
    "sc.pl.umap(\n",
    "    adata,\n",
    "    color=[\"Ifng\"],\n",
    "vmax =\"p99\",gene_symbols=\"gene_name\", cmap=\"Reds\",\n",
    "    legend_fontsize=8,frameon=False)#, save = \"ifng_expressing_cells.png\")"
   ]
  },
  {
   "cell_type": "code",
   "execution_count": null,
   "id": "8a9b696b-23dc-4fe6-b8be-268853827632",
   "metadata": {},
   "outputs": [],
   "source": [
    "adata_til = adata[adata.obs[\"origin\"]==\"til\"]"
   ]
  },
  {
   "cell_type": "code",
   "execution_count": null,
   "id": "d76c6f1e-0488-44c6-a518-69f2f9d5db67",
   "metadata": {},
   "outputs": [],
   "source": [
    "adata_til.obs.cell_type.value_counts()"
   ]
  },
  {
   "cell_type": "code",
   "execution_count": null,
   "id": "8a1b588e-14cc-4223-8f87-9b0a4022b174",
   "metadata": {},
   "outputs": [],
   "source": [
    "adata_til.obs.sample_id.value_counts()"
   ]
  },
  {
   "cell_type": "code",
   "execution_count": null,
   "id": "9e24bd9b-1d95-4e5c-bfbf-99eeacd320e6",
   "metadata": {},
   "outputs": [],
   "source": [
    "adata_til.obs.condition.value_counts()"
   ]
  },
  {
   "cell_type": "code",
   "execution_count": null,
   "id": "998d059c-a53a-439a-bfab-319e28e27138",
   "metadata": {},
   "outputs": [],
   "source": [
    "adata_colon = adata[adata.obs[\"origin\"]==\"colon\"]"
   ]
  },
  {
   "cell_type": "code",
   "execution_count": null,
   "id": "276593cf-07ac-4355-95eb-382522cf6c9c",
   "metadata": {},
   "outputs": [],
   "source": [
    "adata = adata[adata.obs[\"sample_id\"].isin([\"10mix1\",\"10mix2\",\"11mix1\",\"11mix2\",\"10mix_ICI1\",\"10mix_ICI2\",\"11mix_ICI1\",\"11mix_ICI2\"])]"
   ]
  },
  {
   "cell_type": "code",
   "execution_count": null,
   "id": "1b5c397e-c8e1-4368-b069-884afab6a158",
   "metadata": {},
   "outputs": [],
   "source": [
    "#adata_colon.obs.cell_type.value_counts()"
   ]
  },
  {
   "cell_type": "code",
   "execution_count": null,
   "id": "3820a2aa-3ca4-46d0-93c9-77a8d5035f56",
   "metadata": {},
   "outputs": [],
   "source": [
    "adata.obs.sample_id.value_counts()"
   ]
  },
  {
   "cell_type": "code",
   "execution_count": null,
   "id": "ded229c7-d24b-4d07-af67-6a874f4c5d82",
   "metadata": {},
   "outputs": [],
   "source": [
    "adata.obs.condition.value_counts()"
   ]
  },
  {
   "cell_type": "code",
   "execution_count": null,
   "id": "2ed98ba1-994b-42c7-a89f-2addc13e77cb",
   "metadata": {},
   "outputs": [],
   "source": []
  },
  {
   "cell_type": "code",
   "execution_count": null,
   "id": "454f6fa7-fa32-41c0-a33e-dfeb83b7350d",
   "metadata": {},
   "outputs": [],
   "source": [
    "adata.obs.origin.value_counts()"
   ]
  },
  {
   "cell_type": "code",
   "execution_count": null,
   "id": "6082d19a-229c-4d94-b9b8-7afcc4b47080",
   "metadata": {},
   "outputs": [],
   "source": [
    "adata.obs.cell_type.value_counts()"
   ]
  },
  {
   "cell_type": "code",
   "execution_count": null,
   "id": "ae542908-62ed-40a6-882b-0b081c45eb6a",
   "metadata": {},
   "outputs": [],
   "source": [
    "adata.obs.sample_id.value_counts()"
   ]
  },
  {
   "cell_type": "code",
   "execution_count": null,
   "id": "4560fa52-295b-4bf3-b439-35efb531a97a",
   "metadata": {},
   "outputs": [],
   "source": [
    "categories_order= [\"10mix1\",\"10mix2\",\"11mix1\",\"11mix2\",\"10mix_ICI1\",\"10mix_ICI2\",\"11mix_ICI1\",\"11mix_ICI2\"]"
   ]
  },
  {
   "cell_type": "code",
   "execution_count": null,
   "id": "6e7aaab3-8ba1-4f5f-98bb-699e09827075",
   "metadata": {},
   "outputs": [],
   "source": [
    "sc.pl.matrixplot(adata, \"Ifng\", \"sample_id\",gene_symbols=\"gene_name\",log=True,cmap=\"Reds\")#, save =\"10mix_11mix_expression.png\")#,categories_order=categories_order)"
   ]
  },
  {
   "cell_type": "code",
   "execution_count": null,
   "id": "c7b7902b-cc94-42aa-bdd2-6d383fa13f00",
   "metadata": {},
   "outputs": [],
   "source": [
    "sc.pl.dotplot(adata, \"Ifng\", \"sample_id\",gene_symbols=\"gene_name\",log=True,swap_axes=True,cmap=\"Reds\")"
   ]
  },
  {
   "cell_type": "code",
   "execution_count": null,
   "id": "226b7365-2890-4ff3-a6bc-54d712af0567",
   "metadata": {},
   "outputs": [],
   "source": [
    "sc.pl.matrixplot(adata, \"Ifng\", \"condition\",gene_symbols=\"gene_name\",log=True,swap_axes=True,cmap=\"Reds\")#, save =\"condition_xpression.png\")#,categories_order=categories_order)"
   ]
  },
  {
   "cell_type": "code",
   "execution_count": null,
   "id": "72dfe11e-6135-4ed9-9e6d-8c712495917f",
   "metadata": {},
   "outputs": [],
   "source": [
    "specific_order = [ \"CD8_NaiveLike\", \"CD8_EarlyActiv\", \"CD8_EffectorMemory\", \"CD8_Tpex\",\"CD8_Tex\"]  # Replace with your desired order\n",
    "adata.obs['cell_type'] = pd.Categorical(adata.obs['cell_type'], categories=specific_order, ordered=True)\n",
    "custom_colors = [\"#3A923A\", \"#146aff\", \"#ff8113\", \"#fff314\", \"#D8393A\"]  # Example colors\n",
    "\n",
    "# Add these colors to the `adata_og.uns` dictionary for the `cell_type` category\n",
    "adata.uns['cell_type_colors'] = custom_colors\n",
    "\n",
    "sc.pl.umap(\n",
    "    adata,\n",
    "    color=[\"Ifng\",\"sample_id\"], groups = [\"10mix1\"],gene_symbols=\"gene_name\",\n",
    "\n",
    "    legend_fontsize=8,frameon=False)#, save = \"ifng_new_anno.png\")"
   ]
  },
  {
   "cell_type": "code",
   "execution_count": null,
   "id": "0bb6e866-8c51-4a7c-ba12-1eba96577c33",
   "metadata": {},
   "outputs": [],
   "source": [
    "adata.obs.sample_id.value_counts()"
   ]
  },
  {
   "cell_type": "code",
   "execution_count": null,
   "id": "422997c9-28f4-4649-aaec-0b43a4d5d7f3",
   "metadata": {},
   "outputs": [],
   "source": [
    "# Specify the desired order of the categories\n",
    "desired_order = [\"10mix1\",\"10mix2\",\"11mix1\",\"11mix2\",\"10mix_ICI1\",\"10mix_ICI2\",\"11mix_ICI1\",\"11mix_ICI2\"]\n",
    "\n",
    "# Reorder the categories in adata.obs['leiden_res0_25']\n",
    "adata.obs[\"sample_id\"] = pd.Categorical(\n",
    "    adata.obs[\"sample_id\"],\n",
    "    categories=desired_order,\n",
    "    ordered=True\n",
    ")\n"
   ]
  },
  {
   "cell_type": "code",
   "execution_count": null,
   "id": "4cd16b01-51cb-4dad-b9f4-08240fcc0271",
   "metadata": {},
   "outputs": [],
   "source": [
    "adata"
   ]
  },
  {
   "cell_type": "code",
   "execution_count": null,
   "id": "9c79f833-7e88-4ffb-98f6-97f56471a378",
   "metadata": {},
   "outputs": [],
   "source": [
    "adata_healty"
   ]
  },
  {
   "cell_type": "code",
   "execution_count": null,
   "id": "b206a347-96a2-4f21-9e4c-5b1b5ad8cefd",
   "metadata": {},
   "outputs": [],
   "source": [
    "adata"
   ]
  },
  {
   "cell_type": "code",
   "execution_count": null,
   "id": "b4c0c4bf-7706-4547-a502-60a4ecbeb000",
   "metadata": {},
   "outputs": [],
   "source": [
    "adata_healty = adata[adata.obs[\"sample_id\"].isin([\"10mix1\",\"10mix2\",\"11mix1\",\"11mix2\",])]\n",
    "adata_tumor = adata[adata.obs[\"sample_id\"].isin([\"10mix_ICI1\",\"10mix_ICI2\",\"11mix_ICI1\",\"11mix_ICI2\"])]\n"
   ]
  },
  {
   "cell_type": "code",
   "execution_count": null,
   "id": "76072b4c-877f-46e5-865a-57fcc986b808",
   "metadata": {},
   "outputs": [],
   "source": [
    "\n",
    "# Convert data to mudata object\n",
    "sccoda_model = pt.tl.Sccoda()\n",
    "sccoda_data = sccoda_model.load(\n",
    "    adata_og,\n",
    "    type=\"cell_level\",\n",
    "    generate_sample_level=True,\n",
    "    cell_type_identifier=\"cell_type\",\n",
    "    sample_identifier=\"sample_id\",\n",
    "    covariate_obs=[\"condition\",\"origin\"],\n",
    ")\n",
    "\n",
    "# Select control and salmonella data as one modality\n",
    "sccoda_data.mod[\"coda_til_11mix\"] = sccoda_data[\"coda\"][\n",
    "    sccoda_data[\"coda\"].obs[\"condition\"].isin([\"10mix\", \"11mix\"])\n",
    "].copy()\n",
    "print(sccoda_data)\n",
    "\n"
   ]
  },
  {
   "cell_type": "code",
   "execution_count": null,
   "id": "8c035fed-5e06-4190-bbc4-c7d5ce99225b",
   "metadata": {},
   "outputs": [],
   "source": [
    "sccoda_model.plot_boxplots(sccoda_data, modality_key=\"coda_til_11mix\", feature_name=\"condition\", add_dots=True)\n",
    "plt.show()"
   ]
  },
  {
   "cell_type": "code",
   "execution_count": null,
   "id": "e01752c9-8284-4db8-95e5-b3e9bc71a30e",
   "metadata": {},
   "outputs": [],
   "source": [
    "from matplotlib.colors import ListedColormap  # Import ListedColormap\n",
    "\n",
    "custom_colors = [\"#E45756\", \"#4C78A8\", \"#F58518\", \"#54A24B\", \"#72b7b2\",\"#cdff72\"]\n",
    "\n",
    "# Create a ListedColormap object\n",
    "custom_cmap = ListedColormap(custom_colors)\n",
    "# Create a ListedColormap object\n",
    "custom_cmap = ListedColormap(custom_colors)\n",
    "fig = sccoda_model.plot_stacked_barplot(\n",
    "    sccoda_data,\n",
    "    modality_key=\"coda_til_11mix\",#,figsize=(2, 8),\n",
    "    feature_name=\"condition\",  palette=custom_cmap \n",
    "\n",
    ")"
   ]
  },
  {
   "cell_type": "code",
   "execution_count": null,
   "id": "bfe5b0bd-9e88-4642-be5d-66df3b556c4d",
   "metadata": {},
   "outputs": [],
   "source": [
    "from matplotlib.colors import ListedColormap  # Import ListedColormap\n",
    "\n",
    "custom_colors = [\"#1a9641\", \"#a6d96a\", \"#ffffbf\", \"#fdae61\", \"#d7191c\", \"#cdff72\"]\n",
    "\n",
    "sccoda_model.plot_stacked_barplot(sccoda_data, modality_key=\"coda_til_11mix\", feature_name=\"sample_id\",    figsize=(3, 8),  palette=custom_cmap )\n",
    "plt.show()\n",
    "#plt.savefig(\"./figures/barplot_ifng_all_sample_id.png\", dpi=300, bbox_inches=\"tight\")       "
   ]
  },
  {
   "cell_type": "code",
   "execution_count": null,
   "id": "a7a6efab-dd1e-4079-9c71-78398c4cd90f",
   "metadata": {},
   "outputs": [],
   "source": [
    "from matplotlib.colors import ListedColormap  # Import ListedColormap\n",
    "\n",
    "custom_colors = [\"#1a9641\", \"#a6d96a\", \"#ffffbf\", \"#fdae61\", \"#d7191c\",\"#cdff72\"]\n",
    "\n",
    "sccoda_model.plot_stacked_barplot(sccoda_data, modality_key=\"coda_til_11mix\", feature_name=\"sample_id\",    figsize=(3, 8),  palette=custom_cmap )\n",
    "plt.show()\n",
    "#plt.savefig(\"./figures/barplot_ifng_all_sample_id.png\", dpi=300, bbox_inches=\"tight\")       "
   ]
  },
  {
   "cell_type": "code",
   "execution_count": null,
   "id": "af4e6ed8-ac4d-42a4-b38b-d08b11a85660",
   "metadata": {},
   "outputs": [],
   "source": [
    "from matplotlib.colors import ListedColormap  # Import ListedColormap\n",
    "\n",
    "custom_colors = [\"#1a9641\", \"#a6d96a\", \"#ffffbf\", \"#fdae61\", \"#d7191c\",\"#cdff72\"]\n",
    "\n",
    "sccoda_model.plot_stacked_barplot(sccoda_data, modality_key=\"coda_til_11mix\", feature_name=\"origin\",    figsize=(2, 8), palette=custom_cmap )\n",
    "plt.show()\n",
    "#plt.savefig(\"./figures/barplot_ifng_all_origin.png\", dpi=300, bbox_inches=\"tight\")       "
   ]
  },
  {
   "cell_type": "code",
   "execution_count": null,
   "id": "17844e2b-06b6-4897-91d2-12115307d526",
   "metadata": {},
   "outputs": [],
   "source": [
    "from matplotlib.colors import ListedColormap  # Import ListedColormap\n",
    "\n",
    "custom_colors = [\"yellow\", \"#4C78A8\", \"#F58518\", \"#54A24B\", \"#72b7b2\",\"#cdff72\"]\n",
    "sccoda_model.plot_stacked_barplot(sccoda_data, modality_key=\"coda_til_11mix\", feature_name=\"condition\",    figsize=(2, 8), palette=custom_cmap )\n",
    "plt.show()\n",
    "#plt.savefig(\"./figures/barplot_ifng_all_origin.png\", dpi=300, bbox_inches=\"tight\")       "
   ]
  },
  {
   "cell_type": "code",
   "execution_count": null,
   "id": "8e71ed2e-def1-40f4-9508-94a00f8bd4ac",
   "metadata": {},
   "outputs": [],
   "source": [
    "sccoda_model.plot_rel_abundance_dispersion_plot(sccoda_data, modality_key=\"coda_til_11mix\", abundant_threshold=0.9)"
   ]
  },
  {
   "cell_type": "code",
   "execution_count": null,
   "id": "4b910068-a2a2-441e-a434-3c037a40d200",
   "metadata": {},
   "outputs": [],
   "source": [
    "sccoda_data = sccoda_model.prepare(\n",
    "    sccoda_data,\n",
    "    modality_key=\"coda_til_11mix\",\n",
    "    formula=\"condition + origin\",\n",
    "    reference_cell_type=\"automatic\",\n",
    "    automatic_reference_absence_threshold=1\n",
    ")\n",
    "sccoda_data[\"coda_til_11mix\"]"
   ]
  },
  {
   "cell_type": "code",
   "execution_count": null,
   "id": "4e283be5-e5aa-42ce-be35-47b372715efb",
   "metadata": {},
   "outputs": [],
   "source": [
    "# Run MCMC\n",
    "sccoda_model.run_nuts(sccoda_data, modality_key=\"coda_til_11mix\")\n",
    "sccoda_data[\"coda_til_11mix\"]"
   ]
  },
  {
   "cell_type": "code",
   "execution_count": null,
   "id": "2ce1f819-bc2e-4952-bc4b-57ebdf8d392b",
   "metadata": {},
   "outputs": [],
   "source": [
    "adata.obs.sample_id.value_counts()"
   ]
  },
  {
   "cell_type": "code",
   "execution_count": null,
   "id": "2a0e9303-f4c9-4af1-8180-61aad631a709",
   "metadata": {},
   "outputs": [],
   "source": [
    "sccoda_model.set_fdr(sccoda_data, modality_key=\"coda_til_11mix\", est_fdr=0.3)"
   ]
  },
  {
   "cell_type": "code",
   "execution_count": null,
   "id": "1f77a4d3-1e38-44a0-a944-a43d57c6e4a4",
   "metadata": {},
   "outputs": [],
   "source": [
    "sccoda_model.summary(sccoda_data, modality_key=\"coda_til_11mix\")"
   ]
  },
  {
   "cell_type": "code",
   "execution_count": null,
   "id": "60677332-bb63-49df-b05e-2aedfabec9e2",
   "metadata": {},
   "outputs": [],
   "source": [
    "sccoda_model.plot_effects_barplot(sccoda_data, modality_key=\"coda_til_11mix\", parameter=\"log2-fold change\",figsize=(10,5))"
   ]
  },
  {
   "cell_type": "code",
   "execution_count": null,
   "id": "ad09925a-66fb-402e-98fd-808e0b6d9c86",
   "metadata": {},
   "outputs": [],
   "source": [
    "sccoda_model.get_effect_df(sccoda_data, modality_key=\"coda_til_11mix\")"
   ]
  },
  {
   "cell_type": "code",
   "execution_count": null,
   "id": "cf1e3c8b-5c33-487d-930a-135a161f6a96",
   "metadata": {},
   "outputs": [],
   "source": [
    "alt.Chart(sccoda_model.get_effect_df(sccoda_data, modality_key=\"coda_til_11mix\").loc[\"conditionT.11mix\"]\n",
    "    #.loc[credible_effects_condition]\n",
    "    .reset_index(),\n",
    "    title=\"11mix vs 10mix\",\n",
    ").mark_bar().encode(\n",
    "    x=\"log2-fold change\",\n",
    "    y=alt.X(\"Cell Type\", sort=\"y\"),\n",
    "    color=alt.Color(\"Cell Type\"),\n",
    ")"
   ]
  },
  {
   "cell_type": "code",
   "execution_count": null,
   "id": "da86a705-ecc0-4482-9a2d-e1a9371d7aaa",
   "metadata": {},
   "outputs": [],
   "source": [
    "from matplotlib.colors import ListedColormap  # Import ListedColormap\n",
    "\n",
    "custom_colors = [\"#E45756\",\"#4C78A8\",\"#F58518\",\"#54A24B\", \"#72b7b2\",]\n",
    "\n",
    "# Create a ListedColormap object\n",
    "custom_cmap = ListedColormap(custom_colors)\n",
    "# Create a ListedColormap object\n",
    "custom_cmap = ListedColormap(custom_colors)\n",
    "fig = sccoda_model.plot_stacked_barplot(\n",
    "    sccoda_data,\n",
    "    modality_key=\"coda_til_11mix\",figsize=(2, 8),\n",
    "    feature_name=\"condition\",  palette=custom_cmap \n",
    "\n",
    ")"
   ]
  },
  {
   "cell_type": "code",
   "execution_count": null,
   "id": "a4449a8a-fc68-4c5d-b99d-5dd969d39b77",
   "metadata": {},
   "outputs": [],
   "source": [
    "alt.Chart(sccoda_model.get_effect_df(sccoda_data, modality_key=\"coda_til_11mix\").loc[\"originT.til\"]\n",
    "    #.loc[credible_effects_condition]\n",
    "    .reset_index(),\n",
    "    title=\"Tumor vs Normal\",\n",
    ").mark_bar().encode(\n",
    "    x=\"log2-fold change\",\n",
    "    y=alt.X(\"Cell Type\", sort=\"y\"),\n",
    "   # color=alt.Color(\"Cell Type\"),\n",
    ")"
   ]
  },
  {
   "cell_type": "code",
   "execution_count": null,
   "id": "8fd7a081-8e2a-49bd-9497-841d67f83b33",
   "metadata": {},
   "outputs": [],
   "source": [
    "## comparison ifng vs no ifng in 11mix 10mix "
   ]
  },
  {
   "cell_type": "code",
   "execution_count": null,
   "id": "ba242131-e918-42bb-b0cb-323488d250a3",
   "metadata": {},
   "outputs": [],
   "source": [
    "adata_subset = adata_og[adata_og.obs[\"sample_id\"].isin([\"10mix1\",\"10mix2\",\"11mix1\",\"11mix2\",\"10mix_ICI1\",\"10mix_ICI2\",\"11mix_ICI1\",\"11mix_ICI2\"])]"
   ]
  },
  {
   "cell_type": "code",
   "execution_count": null,
   "id": "080c3cbe-5f7f-4dee-98e8-d6f92d08857b",
   "metadata": {},
   "outputs": [],
   "source": [
    "if 'ENSMUSG00000055170' in adata_subset.var_names:\n",
    "    # Safely extract the expression values for 'Ifng' and ensure alignment with `adata.obs`\n",
    "    ifng_expression = (\n",
    "        adata_subset[:, 'ENSMUSG00000055170'].X.toarray().flatten()\n",
    "        if hasattr(adata_subset[:, 'ENSMUSG00000055170'].X, \"toarray\")\n",
    "        else adadata_subsetata[:, 'ENSMUSG00000055170'].X.flatten()\n",
    "    )\n",
    "       # Add Ifng expression status to adata.obs\n",
    "    adata_subset.obs['Ifng_expression'] = (ifng_expression > 0).astype(int)\n",
    "\n",
    "     # Create a DataFrame for plotting\n",
    "    plot_df = adata.obs.copy()\n",
    "    plot_df['Ifng_expression'] = plot_df['Ifng_expression'].map({1: 'Expressing Ifng', 0: 'Not Expressing Ifng'})\n",
    "\n",
    "    \n",
    "    # Ensure `cell_type` is in adata.obs (or adjust based on your column name)\n",
    "    if 'cell_type' not in adata_subset.obs:\n",
    "        raise ValueError(\"`cell_type` column not found in adata.obs. Please ensure it exists.\")\n",
    "\n",
    "    # Count the proportions of each cell type in the two groups\n",
    "    comp_df = (\n",
    "        plot_df.groupby(['Ifng_expression', 'cell_type'])\n",
    "        .size()\n",
    "        .reset_index(name='count')\n",
    "    )\n",
    "    #comp_df['proportion'] = comp_df.groupby('Ifng_expression')['count'].apply(lambda x: x / x.sum())\n",
    "\n",
    "\n"
   ]
  },
  {
   "cell_type": "code",
   "execution_count": null,
   "id": "eb472e1d-377b-4957-9d6e-0c82c0e2f008",
   "metadata": {},
   "outputs": [],
   "source": [
    "comp_df"
   ]
  },
  {
   "cell_type": "code",
   "execution_count": null,
   "id": "6a362d13-9e28-4706-82f0-59138c4c4dd7",
   "metadata": {},
   "outputs": [],
   "source": [
    "#comp_df['proportion'] = comp_df.groupby('Ifng_expression')['count']"
   ]
  },
  {
   "cell_type": "code",
   "execution_count": null,
   "id": "f1c189ce-bd42-408c-8919-6e4d760f39c0",
   "metadata": {},
   "outputs": [],
   "source": [
    "import pandas as pd\n",
    "import seaborn as sns\n",
    "import matplotlib.pyplot as plt\n",
    "import numpy as np\n",
    "\n",
    "# Check if 'Ifng' is in the variable names\n",
    "if 'ENSMUSG00000055170' in adata_subset.var_names:\n",
    "    # Safely extract the expression values for 'Ifng' and ensure alignment with `adata.obs`\n",
    "    ifng_expression = (\n",
    "        adata_subset[:, 'ENSMUSG00000055170'].X.toarray().flatten()\n",
    "        if hasattr(adata_subset[:, 'ENSMUSG00000055170'].X, \"toarray\")\n",
    "        else adadata_subsetata[:, 'ENSMUSG00000055170'].X.flatten()\n",
    "    )\n",
    "    \n",
    "    # Add Ifng expression status to adata.obs\n",
    "    adata_subset.obs['Ifng_expression'] = (ifng_expression > 0).astype(int)\n",
    "\n",
    "    # Create a DataFrame for plotting\n",
    "    plot_df = adata_subset.obs.copy()\n",
    "    plot_df['Ifng_expression'] = plot_df['Ifng_expression'].map({1: 'Expressing Ifng', 0: 'Not Expressing Ifng'})\n",
    "\n",
    "    # Ensure `cell_type` is in adata.obs (or adjust based on your column name)\n",
    "    if 'cell_type' not in adata_subset.obs:\n",
    "        raise ValueError(\"`cell_type` column not found in adata.obs. Please ensure it exists.\")\n",
    "\n",
    "    # Count the proportions of each cell type in the two groups\n",
    "    comp_df = (\n",
    "        plot_df.groupby(['Ifng_expression', 'cell_type_2'])\n",
    "        .size()\n",
    "        .reset_index(name='count')\n",
    "    )\n",
    "    #comp_df['proportion'] = comp_df.groupby('Ifng_expression')['count'].apply(lambda x: x / x.sum())\n",
    "\n",
    "    # Create the compositional bar plot\n",
    "    plt.figure(figsize=(10, 6))\n",
    "    sns.barplot(\n",
    "        data=comp_df,\n",
    "        x='Ifng_expression',\n",
    "        y='count',\n",
    "        hue='cell_type_2',\n",
    "        palette='tab10'\n",
    "    )\n",
    "    plt.title('Compositional Bar Plot of Cell Types by Ifng Expression', fontsize=14)\n",
    "    plt.xlabel('Ifng Expression', fontsize=12)\n",
    "    plt.ylabel('Count', fontsize=12)\n",
    "    plt.legend(title='Cell Type', bbox_to_anchor=(1.05, 1), loc='upper left')\n",
    "    plt.tight_layout()\n",
    "    plt.show()\n",
    "else:\n",
    "    print(\"Gene 'Ifng' not found in adata.var_names\")\n"
   ]
  },
  {
   "cell_type": "code",
   "execution_count": null,
   "id": "a5f22211-3cc1-4c35-8211-0c5ed3a9498f",
   "metadata": {},
   "outputs": [],
   "source": [
    "import pandas as pd\n",
    "import seaborn as sns\n",
    "import matplotlib.pyplot as plt\n",
    "import numpy as np\n",
    "\n",
    "# Check if 'Ifng' is in the variable names\n",
    "if 'ENSMUSG00000055170' in adata_subset.var_names:\n",
    "    # Safely extract the expression values for 'Ifng' and ensure alignment with `adata.obs`\n",
    "    ifng_expression = (\n",
    "        adata_subset[:, 'ENSMUSG00000055170'].X.toarray().flatten()\n",
    "        if hasattr(adata_subset[:, 'ENSMUSG00000055170'].X, \"toarray\")\n",
    "        else adadata_subsetata[:, 'ENSMUSG00000055170'].X.flatten()\n",
    "    )\n",
    "    \n",
    "    # Add Ifng expression status to adata.obs\n",
    "    adata_subset.obs['Ifng_expression'] = (ifng_expression > 0).astype(int)\n",
    "\n",
    "    # Create a DataFrame for plotting\n",
    "    plot_df = adata.obs.copy()\n",
    "    plot_df['Ifng_expression'] = plot_df['Ifng_expression'].map({1: 'Expressing Ifng', 0: 'Not Expressing Ifng'})\n",
    "\n",
    "    # Ensure `cell_type` is in adata.obs (or adjust based on your column name)\n",
    "    if 'cell_type' not in adata_subset.obs:\n",
    "        raise ValueError(\"`cell_type` column not found in adata.obs. Please ensure it exists.\")\n",
    "\n",
    "    # Count the proportions of each cell type in the two groups\n",
    "    comp_df = (\n",
    "        plot_df.groupby(['Ifng_expression', 'condition'])\n",
    "        .size()\n",
    "        .reset_index(name='count')\n",
    "    )\n",
    "    #comp_df['proportion'] = comp_df.groupby('Ifng_expression')['count'].apply(lambda x: x / x.sum())\n",
    "\n",
    "    # Create the compositional bar plot\n",
    "    plt.figure(figsize=(10, 6))\n",
    "    sns.barplot(\n",
    "        data=comp_df,\n",
    "        x='Ifng_expression',\n",
    "        y='count',\n",
    "        hue='condition',\n",
    "        palette='tab10'\n",
    "    )\n",
    "    plt.title('Compositional Bar Plot of Cell Types by Ifng Expression', fontsize=14)\n",
    "    plt.xlabel('Ifng Expression', fontsize=12)\n",
    "    plt.ylabel('Count', fontsize=12)\n",
    "    plt.legend(title='Cell Type', bbox_to_anchor=(1.05, 1), loc='upper left')\n",
    "    plt.tight_layout()\n",
    "    plt.show()\n",
    "else:\n",
    "    print(\"Gene 'Ifng' not found in adata.var_names\")\n"
   ]
  },
  {
   "cell_type": "code",
   "execution_count": null,
   "id": "055bc0f6-768d-4df5-b877-997558660b74",
   "metadata": {},
   "outputs": [],
   "source": [
    "adata_og.obs"
   ]
  },
  {
   "cell_type": "code",
   "execution_count": null,
   "id": "371be261-bda6-4ff5-baad-55fecc301130",
   "metadata": {},
   "outputs": [],
   "source": [
    "sc.pl.umap(adata_og, color =[\"cell_type_2\"], gene_symbols=\"gene_name\")"
   ]
  },
  {
   "cell_type": "code",
   "execution_count": null,
   "id": "a3e16792-c626-4952-970f-d211165dd0a7",
   "metadata": {},
   "outputs": [],
   "source": []
  },
  {
   "cell_type": "code",
   "execution_count": null,
   "id": "9ca780ec-e362-411a-914f-421881efde2d",
   "metadata": {},
   "outputs": [],
   "source": [
    "# Check if 'Ifng' is in the variable names\n",
    "if 'ENSMUSG00000055170'in adata.var_names:\n",
    "    # Safely extract the expression values for 'Ifng'\n",
    "    ifng_expression = (\n",
    "        adata[:, 'ENSMUSG00000055170'].X.toarray().flatten()\n",
    "        if hasattr(adata[:, 'ENSMUSG00000055170'].X, \"toarray\")\n",
    "        else adata[:, 'ENSMUSG00000055170'].X.flatten()\n",
    "    )\n",
    "    \n",
    "    # Add Ifng expression status to adata.obs\n",
    "    adata.obs['Ifng_expression'] = (ifng_expression > 6).astype(int)\n",
    "    \n",
    "    # Create a new column 'cell_type_2' based on 'Ifng_expression' and 'cell_type'\n",
    "    adata.obs['cell_type_2'] = adata.obs.apply(\n",
    "        lambda row: 'Ifng+' if row['Ifng_expression'] == 1 else row['cell_type'], axis=1\n",
    "    )\n",
    "else:\n",
    "    print(\"Gene 'Ifng' not found in adata.var_names\")\n"
   ]
  },
  {
   "cell_type": "code",
   "execution_count": null,
   "id": "95e2a08a-9577-4f4e-9f50-795c752eaf99",
   "metadata": {},
   "outputs": [],
   "source": [
    "# Check if 'Ifng' is in the variable names\n",
    "if  'ENSMUSG00000055170' in adata_og.var_names:\n",
    "    # Safely extract the expression values for 'Ifng'\n",
    "    ifng_expression = (\n",
    "        adata_og[:,  'ENSMUSG00000055170'].X.toarray().flatten()\n",
    "        if hasattr(adata_og[:,  'ENSMUSG00000055170'].X, \"toarray\")\n",
    "        else adata_og[:,  'ENSMUSG00000055170'].X.flatten()\n",
    "    )\n",
    "    \n",
    "    # Add Ifng expression status to adata.obs\n",
    "    adata_og.obs['Ifng_expression'] = (ifng_expression > 4).astype(int)\n",
    "    # Create a new column 'cell_type_2' based on 'Ifng_expression' and 'cell_type'\n",
    "    adata_og.obs['cell_type_2'] = adata_og.obs.apply(\n",
    "        lambda row: 'Ifng+' if row['Ifng_expression'] == 1 else row['cell_type'], axis=1)\n",
    "else:\n",
    "    print(\"Gene 'Ifng' not found in adata.var_names\")\n"
   ]
  },
  {
   "cell_type": "code",
   "execution_count": null,
   "id": "048f9cd1-403f-4a84-a449-189247c39d0c",
   "metadata": {},
   "outputs": [],
   "source": [
    "adata_og.obs.cell_type_2.value_counts()"
   ]
  },
  {
   "cell_type": "code",
   "execution_count": null,
   "id": "4eecb8ad-0204-43d7-819e-3313d9d55f8f",
   "metadata": {},
   "outputs": [],
   "source": [
    "# Visualize\n",
    "sc.pl.umap(\n",
    "    adata_og,\n",
    "    color=[\"cell_type_2\"], groups = [\"Ifng+\"],\n",
    "vmax =\"p99\",gene_symbols=\"gene_name\", cmap=\"Reds\",\n",
    "    legend_fontsize=8,frameon=False)#, save = \"ifng_expressing_cells.png\")"
   ]
  },
  {
   "cell_type": "code",
   "execution_count": null,
   "id": "866d629e-ff68-47ee-8c1e-f46e05c6dc79",
   "metadata": {},
   "outputs": [],
   "source": [
    "adata"
   ]
  },
  {
   "cell_type": "code",
   "execution_count": null,
   "id": "0b85ae92-e3eb-42f0-afa3-8ed9507a8b5d",
   "metadata": {},
   "outputs": [],
   "source": [
    "sccoda_data"
   ]
  },
  {
   "cell_type": "code",
   "execution_count": null,
   "id": "990adf78-0f7e-4306-b2e4-b1b00ee869ce",
   "metadata": {},
   "outputs": [],
   "source": []
  }
 ],
 "metadata": {
  "kernelspec": {
   "display_name": "pertpy-env",
   "language": "python",
   "name": "pertpy-env"
  },
  "language_info": {
   "codemirror_mode": {
    "name": "ipython",
    "version": 3
   },
   "file_extension": ".py",
   "mimetype": "text/x-python",
   "name": "python",
   "nbconvert_exporter": "python",
   "pygments_lexer": "ipython3",
   "version": "3.10.0"
  }
 },
 "nbformat": 4,
 "nbformat_minor": 5
}
