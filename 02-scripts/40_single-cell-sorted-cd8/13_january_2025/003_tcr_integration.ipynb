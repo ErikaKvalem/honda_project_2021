{
 "cells": [
  {
   "cell_type": "code",
   "execution_count": null,
   "id": "29b44345-2e2a-406d-8914-bdd43b6a6fd0",
   "metadata": {},
   "outputs": [],
   "source": [
    "import scirpy as ir"
   ]
  },
  {
   "cell_type": "code",
   "execution_count": null,
   "id": "827d71b7-2511-4794-9645-fae71980fde2",
   "metadata": {},
   "outputs": [],
   "source": [
    "ir.__version__"
   ]
  },
  {
   "cell_type": "code",
   "execution_count": null,
   "id": "099deac6-a035-46f8-8bb1-16fe0f4433c4",
   "metadata": {},
   "outputs": [],
   "source": [
    "import scanpy as sc"
   ]
  },
  {
   "cell_type": "code",
   "execution_count": null,
   "id": "ef26172b-dc44-4b66-9473-b65a1817f5fc",
   "metadata": {},
   "outputs": [],
   "source": [
    "from glob import glob\n",
    "import warnings\n",
    "import tarfile\n",
    "\n",
    "import anndata\n",
    "import matplotlib.pyplot as plt\n",
    "import pandas as pd\n",
    "import scanpy as sc"
   ]
  },
  {
   "cell_type": "code",
   "execution_count": null,
   "id": "866191c0-8f30-4e3e-bd87-db79d1d5a994",
   "metadata": {},
   "outputs": [],
   "source": [
    "import muon as mu"
   ]
  },
  {
   "cell_type": "code",
   "execution_count": null,
   "id": "3f65c3ec-dfcf-4485-a48b-10f8affc8dcd",
   "metadata": {},
   "outputs": [],
   "source": [
    "import numpy as np"
   ]
  },
  {
   "cell_type": "code",
   "execution_count": null,
   "id": "3f422db7-79be-4756-b8ea-98dc53340c92",
   "metadata": {},
   "outputs": [],
   "source": [
    "samples = {\n",
    "    \"10mix1\": {\"group\": \"10mix\"},\n",
    "    \"10mix2\": {\"group\": \"10mix\"},\n",
    "    \"11mix1\": {\"group\": \"11mix\"},\n",
    "    \"11mix2\": {\"group\": \"11mix\"},\n",
    "    \"GF1\": {\"group\": \"GF\"},\n",
    "    \"GF2\": {\"group\": \"GF\"},\n",
    "\n",
    "}    \n",
    "    \n",
    "# Create a list of AnnData objects (one for each sample)\n",
    "adatas_tcr = {}\n",
    "adatas_gex = {}\n",
    "for sample, sample_meta in samples.items():\n",
    "    #adata_gex = sc.read_10x_h5(f\"/data/projects/2021/MicrobialMetabolites/single-cell-sorted-cd8/2019-10-29_sorted_cd8/analyses_icbi/{sample}/outs/per_sample_outs/{sample}/count/sample_filtered_feature_bc_matrix.h5\")\n",
    "    adata_tcr = ir.io.read_10x_vdj(f\"/data/projects/2021/MicrobialMetabolites/single-cell-sorted-cd8/2019-10-29_sorted_cd8/analyses_icbi/{sample}/outs/per_sample_outs/{sample}/vdj_t/filtered_contig_annotations.csv\")\n",
    "    # concatenation only works with unique gene names\n",
    "    #adata_gex.var_names_make_unique()\n",
    "    adatas_tcr[sample] = adata_tcr\n",
    "    #adatas_gex[sample] = adata_gex"
   ]
  },
  {
   "cell_type": "code",
   "execution_count": null,
   "id": "c2b7a9b1-290d-423a-a89e-8ed3311392b5",
   "metadata": {},
   "outputs": [],
   "source": [
    "samples = {\n",
    "    \"10mix-ICI1\": {\"group\": \"10mix\", \"condition\":\"ICI\"},\n",
    "    \"10mix-ICI2\": {\"group\": \"10mix\",\"condition\":\"ICI\"},\n",
    "    \"11mix-ICI1\": {\"group\": \"11mix\",\"condition\":\"ICI\"},\n",
    "    \"11mix-ICI2\": {\"group\": \"11mix\",\"condition\":\"ICI\"},\n",
    "    \"GF-ICI1\": {\"group\": \"GF\",\"condition\":\"No ICI\"},\n",
    "    \"GF-ICI2\": {\"group\": \"GF\",\"condition\":\"No ICI\"},\n",
    "    \"GF-ICI1-plus\": {\"group\": \"GF-plus\",\"condition\":\"ICI\"},\n",
    "    \"GF-ICI2-plus\": {\"group\": \"GF-plus\",\"condition\":\"ICI\"},\n",
    "\n",
    "\n",
    "}    \n",
    "    \n",
    "# Create a list of AnnData objects (one for each sample)\n",
    "adatas_tcr_2021 = {}\n",
    "#adatas_gex_2021 = {}\n",
    "for sample, sample_meta in samples.items():\n",
    "    #adata_gex_2021 = sc.read_10x_h5(f\"/data/projects/2021/MicrobialMetabolites/single-cell-sorted-cd8/2021-02-01_sorted_cd8_til/analyses_icbi/{sample}/outs/per_sample_outs/{sample}/count/sample_filtered_feature_bc_matrix.h5\")\n",
    "    adata_tcr_2021 = ir.io.read_10x_vdj(f\"/data/projects/2021/MicrobialMetabolites/single-cell-sorted-cd8/2021-02-01_sorted_cd8_til/analyses_icbi/{sample}/outs/per_sample_outs/{sample}/vdj_t/filtered_contig_annotations.csv\")\n",
    "    # concatenation only works with unique gene names\n",
    "    #adata_gex_2021.var_names_make_unique()\n",
    "    adatas_tcr_2021[sample] = adata_tcr_2021\n",
    "    #adatas_gex_2021[sample] = adata_gex_2021"
   ]
  },
  {
   "cell_type": "code",
   "execution_count": null,
   "id": "e5b73278-5532-4914-afd1-5c641b211a02",
   "metadata": {},
   "outputs": [],
   "source": [
    "samples = {\n",
    "    \"10mix-ICI1\": {\"group\": \"10mix\", \"condition\":\"ICI\"},\n",
    "    \"10mix-ICI2\": {\"group\": \"10mix\",\"condition\":\"ICI\"},\n",
    "    \"11mix-ICI1\": {\"group\": \"11mix\",\"condition\":\"ICI\"},\n",
    "    \"11mix-ICI2\": {\"group\": \"11mix\",\"condition\":\"ICI\"},\n",
    "    \"GF-ICI1\": {\"group\": \"GF\",\"condition\":\"No ICI\"},\n",
    "    \"GF-ICI2\": {\"group\": \"GF\",\"condition\":\"No ICI\"},\n",
    "    \"GF-ICI1-plus\": {\"group\": \"GF-plus\",\"condition\":\"ICI\"},\n",
    "    \"GF-ICI2-plus\": {\"group\": \"GF-plus\",\"condition\":\"ICI\"},\n",
    "    \"10mix1\": {\"group\": \"10mix\", \"condition\":\"naive\"},\n",
    "    \"10mix2\": {\"group\": \"10mix\", \"condition\":\"naive\"},\n",
    "    \"11mix1\": {\"group\": \"11mix\", \"condition\":\"naive\"},\n",
    "    \"11mix2\": {\"group\": \"11mix\", \"condition\":\"naive\"},\n",
    "    \"GF1\": {\"group\": \"GF\", \"condition\":\"naive\"},\n",
    "    \"GF2\": {\"group\": \"GF\", \"condition\":\"naive\"},\n",
    "}    "
   ]
  },
  {
   "cell_type": "markdown",
   "id": "e58fb2f5-ca10-46f8-b547-75d54b6674aa",
   "metadata": {},
   "source": [
    "### TCR 2019 NORMAL"
   ]
  },
  {
   "cell_type": "code",
   "execution_count": null,
   "id": "29dad767-2efe-4a89-a122-ca527f945faf",
   "metadata": {},
   "outputs": [],
   "source": [
    "adata_tcr"
   ]
  },
  {
   "cell_type": "code",
   "execution_count": null,
   "id": "66931fc6-3494-48c3-8284-51c99b6dc9e1",
   "metadata": {},
   "outputs": [],
   "source": [
    "# Merge anndata objects\n",
    "adata_tcr = anndata.concat(adatas_tcr, index_unique=\"_\")"
   ]
  },
  {
   "cell_type": "code",
   "execution_count": null,
   "id": "e2c46f7c-84f4-40d2-bdcd-84cf61c32e8c",
   "metadata": {
    "scrolled": true
   },
   "outputs": [],
   "source": [
    "adata_tcr.obs"
   ]
  },
  {
   "cell_type": "markdown",
   "id": "565471b0-4797-4f53-b05f-785ffb978c70",
   "metadata": {},
   "source": [
    "### TCR 2021 TUMOR"
   ]
  },
  {
   "cell_type": "code",
   "execution_count": null,
   "id": "6b312684-19e8-4a39-8302-12f8cf188566",
   "metadata": {},
   "outputs": [],
   "source": [
    "adata_tcr_2021"
   ]
  },
  {
   "cell_type": "code",
   "execution_count": null,
   "id": "936b3fa3-48f6-44b3-96e3-f63f35fd2de7",
   "metadata": {},
   "outputs": [],
   "source": [
    "# Merge anndata objects\n",
    "adata_tcr_2021 = anndata.concat(adatas_tcr_2021, index_unique=\"_\")"
   ]
  },
  {
   "cell_type": "code",
   "execution_count": null,
   "id": "3d090faa-1c49-43ea-9763-263e43e7ecf5",
   "metadata": {},
   "outputs": [],
   "source": [
    "adata_tcr_2021.obs"
   ]
  },
  {
   "cell_type": "markdown",
   "id": "3397c4fe-b183-4f68-bff7-8bfb2be2dce7",
   "metadata": {},
   "source": [
    "### Load GEX"
   ]
  },
  {
   "cell_type": "code",
   "execution_count": null,
   "id": "af27e5d2-5e6f-4619-b524-415b266317f4",
   "metadata": {},
   "outputs": [],
   "source": [
    "adata = sc.read_h5ad(\"/data/projects/2021/MicrobialMetabolites/single-cell-sorted-cd8/results/40_gex_surface_prot/13_january_2025/mapped_data/mapped_til_colon.h5ad\")"
   ]
  },
  {
   "cell_type": "code",
   "execution_count": null,
   "id": "ebfa28cf-3df3-411c-8d46-05263dcd2aa8",
   "metadata": {},
   "outputs": [],
   "source": [
    "adata.var"
   ]
  },
  {
   "cell_type": "code",
   "execution_count": null,
   "id": "aae79b39-1322-4415-a89e-b77d04b75fbd",
   "metadata": {},
   "outputs": [],
   "source": [
    "adata.obs.origin =  adata.obs.origin.replace(\"colon\",\"normal\")"
   ]
  },
  {
   "cell_type": "code",
   "execution_count": null,
   "id": "6b88ac8b-e446-4e4c-a8b1-6c385093fc26",
   "metadata": {},
   "outputs": [],
   "source": [
    "adata.obs.origin =  adata.obs.origin.replace(\"til\",\"tumor\")"
   ]
  },
  {
   "cell_type": "code",
   "execution_count": null,
   "id": "6e0b8ffe-e54e-4187-871a-e6b371d1a777",
   "metadata": {},
   "outputs": [],
   "source": [
    "adata_normal = adata[adata.obs[\"origin\"]==\"normal\"]"
   ]
  },
  {
   "cell_type": "code",
   "execution_count": null,
   "id": "f1ca252e-b7af-472f-95c2-2ce14ae5415a",
   "metadata": {},
   "outputs": [],
   "source": [
    "adata_tumor = adata[adata.obs[\"origin\"]==\"tumor\"]"
   ]
  },
  {
   "cell_type": "markdown",
   "id": "8a023059-9d1f-4112-b62c-370911d8380d",
   "metadata": {},
   "source": [
    "### Transform TCR 2019 NORMAL"
   ]
  },
  {
   "cell_type": "code",
   "execution_count": null,
   "id": "e9385fd7-143d-4606-bdab-52ffd801a2e0",
   "metadata": {},
   "outputs": [],
   "source": [
    "adata_tcr.obs[\"sample_id\"] = adata_tcr.obs_names.to_series().str.split(\"_\", expand=True)[1]"
   ]
  },
  {
   "cell_type": "code",
   "execution_count": null,
   "id": "dee5f9b2-7e01-47dc-ae7a-b071de0b777e",
   "metadata": {},
   "outputs": [],
   "source": [
    "adata_tcr.obs[\"group\"] = adata_tcr.obs[\"sample_id\"].map(lambda x: samples[x][\"group\"])\n",
    "adata_tcr.obs[\"condition\"] = adata_tcr.obs[\"sample_id\"].map(lambda x: samples[x][\"condition\"])"
   ]
  },
  {
   "cell_type": "code",
   "execution_count": null,
   "id": "093b1221-5d26-4989-ae1e-7667561bfdb5",
   "metadata": {
    "scrolled": true
   },
   "outputs": [],
   "source": [
    "adata_tcr.obs"
   ]
  },
  {
   "cell_type": "markdown",
   "id": "27ed892a-91aa-40d1-826e-471f15cd3b70",
   "metadata": {},
   "source": [
    "### Transform TCR 2021 TUMOR"
   ]
  },
  {
   "cell_type": "code",
   "execution_count": null,
   "id": "e54e5096-5289-4a3e-ac89-87b6b59c3c68",
   "metadata": {},
   "outputs": [],
   "source": [
    "adata_tcr_2021.obs[\"sample_id\"] = adata_tcr_2021.obs_names.to_series().str.split(\"_\", expand=True)[1]"
   ]
  },
  {
   "cell_type": "code",
   "execution_count": null,
   "id": "47669ec0-f240-4b24-b277-da76c1561242",
   "metadata": {},
   "outputs": [],
   "source": [
    "adata_tcr_2021.obs[\"group\"] = adata_tcr_2021.obs[\"sample_id\"].map(lambda x: samples[x][\"group\"])\n",
    "adata_tcr_2021.obs[\"condition\"] = adata_tcr_2021.obs[\"sample_id\"].map(lambda x: samples[x][\"condition\"])"
   ]
  },
  {
   "cell_type": "code",
   "execution_count": null,
   "id": "852d38a1-db4c-447c-a697-7a422c19f12b",
   "metadata": {
    "scrolled": true
   },
   "outputs": [],
   "source": [
    "adata_tcr_2021.obs"
   ]
  },
  {
   "cell_type": "markdown",
   "id": "6922e725-d405-4b65-b59f-8fbae18c57d5",
   "metadata": {},
   "source": [
    "### Merge TCR TUMOR & NORMAL"
   ]
  },
  {
   "cell_type": "code",
   "execution_count": null,
   "id": "1cb9257c-822d-471e-a67d-b5b7fce95143",
   "metadata": {},
   "outputs": [],
   "source": [
    "adata_tcr_merge = anndata.concat([adata_tcr,adata_tcr_2021], index_unique=\"_\")"
   ]
  },
  {
   "cell_type": "code",
   "execution_count": null,
   "id": "c905296e-e74d-40d1-a00d-2e091e949c7e",
   "metadata": {},
   "outputs": [],
   "source": [
    "adata_tcr_merge.obs"
   ]
  },
  {
   "cell_type": "markdown",
   "id": "149334ae-2d61-4f3d-ba35-deab7f7375d7",
   "metadata": {},
   "source": [
    "### Merge GEX TUMOR & NORMAL"
   ]
  },
  {
   "cell_type": "code",
   "execution_count": null,
   "id": "07826db7-3547-4bff-a96a-bb358f988184",
   "metadata": {},
   "outputs": [],
   "source": [
    "adata_gex_merge = anndata.concat([adata_normal,adata_tumor], index_unique=\"_\")"
   ]
  },
  {
   "cell_type": "code",
   "execution_count": null,
   "id": "31eb9c51-0374-4f8a-87b3-1e5e5aff5aad",
   "metadata": {
    "scrolled": true
   },
   "outputs": [],
   "source": [
    "adata_gex_merge.obs"
   ]
  },
  {
   "cell_type": "code",
   "execution_count": null,
   "id": "0c87d893-26ff-4318-b1a1-f9576c4b52fb",
   "metadata": {},
   "outputs": [],
   "source": [
    "adata_gex_merge"
   ]
  },
  {
   "cell_type": "code",
   "execution_count": null,
   "id": "5bb38edf-969e-44b5-bea6-ad0dddc84658",
   "metadata": {},
   "outputs": [],
   "source": [
    "# Check if 'Ifng' is in the variable names\n",
    "if \"ENSMUSG00000055170\" in adata_gex_merge.var_names:\n",
    "    # Safely extract the expression values for 'Ifng'\n",
    "    ifng_expression = (\n",
    "        adata_gex_merge[:, \"ENSMUSG00000055170\"].X.toarray().flatten()\n",
    "        if hasattr(adata_gex_merge[:, \"ENSMUSG00000055170\"].X, \"toarray\")\n",
    "        else adata[:, \"ENSMUSG00000055170\"].X.flatten()\n",
    "    )\n",
    "\n",
    "    # Add Ifng expression status to adata.obs\n",
    "    adata_gex_merge.obs[\"Ifng_expression\"] = (ifng_expression > 6).astype(int)\n",
    "\n",
    "    # Create a new column 'ifng' based on 'Ifng_expression'\n",
    "    adata_gex_merge.obs[\"ifng\"] = adata_gex_merge.obs[\"Ifng_expression\"].apply(\n",
    "        lambda x: \"pos\" if x == 1 else \"neg\"\n",
    "    )\n",
    "else:\n",
    "    print(\"Gene 'Ifng' not found in adata.var_names\")"
   ]
  },
  {
   "cell_type": "code",
   "execution_count": null,
   "id": "47f5fbdd-1472-47c7-a433-d7fb592631e1",
   "metadata": {},
   "outputs": [],
   "source": [
    "adata_tcr_merge"
   ]
  },
  {
   "cell_type": "code",
   "execution_count": null,
   "id": "99276efb-87cd-4afc-a515-5c18b50d8912",
   "metadata": {},
   "outputs": [],
   "source": [
    "# Check if 'Ifng' is in the variable names\n",
    "if \"ENSMUSG00000055170\" in adata_tcr_merge.var_names:\n",
    "    # Safely extract the expression values for 'Ifng'\n",
    "    ifng_expression = (\n",
    "        adata_tcr_merge[:, \"ENSMUSG00000055170\"].X.toarray().flatten()\n",
    "        if hasattr(adata_tcr_merge[:, \"ENSMUSG00000055170\"].X, \"toarray\")\n",
    "        else adata[:, \"ENSMUSG00000055170\"].X.flatten()\n",
    "    )\n",
    "\n",
    "    # Add Ifng expression status to adata.obs\n",
    "    adata_tcr_merge.obs[\"Ifng_expression\"] = (ifng_expression > 6).astype(int)\n",
    "\n",
    "    # Create a new column 'ifng' based on 'Ifng_expression'\n",
    "    adata_tcr_merge.obs[\"ifng\"] = adata_tcr_merge.obs[\"Ifng_expression\"].apply(\n",
    "        lambda x: \"pos\" if x == 1 else \"neg\"\n",
    "    )\n",
    "else:\n",
    "    print(\"Gene 'Ifng' not found in adata.var_names\")"
   ]
  },
  {
   "cell_type": "markdown",
   "id": "5d6ccb69-368d-4744-9972-6b35759d1f9d",
   "metadata": {},
   "source": [
    "### Create MUDATA"
   ]
  },
  {
   "cell_type": "code",
   "execution_count": null,
   "id": "77f1562d-d06d-431d-8d28-3ef733692f23",
   "metadata": {},
   "outputs": [],
   "source": [
    "mdata = mu.MuData({\"gex\": adata_gex_merge, \"airr\": adata_tcr_merge})"
   ]
  },
  {
   "cell_type": "markdown",
   "id": "59b8d838-c9da-42b5-a0ba-5495c29ec45d",
   "metadata": {},
   "source": [
    "### Transfor obs names for gex and tcr matching"
   ]
  },
  {
   "cell_type": "code",
   "execution_count": null,
   "id": "bb9e003a-4ebe-45e6-9afa-b440855f9b68",
   "metadata": {},
   "outputs": [],
   "source": [
    "mdata.obs.index = mdata.obs.index.str.replace('-', '_')"
   ]
  },
  {
   "cell_type": "code",
   "execution_count": null,
   "id": "912e139a-fd37-469c-a35c-14d649d45bf6",
   "metadata": {},
   "outputs": [],
   "source": [
    "# Replace \"-\" with \"_\" in the 'obs_names' column\n",
    "mdata[\"airr\"].obs_names = mdata[\"airr\"].obs_names.str.replace('-', '_')"
   ]
  },
  {
   "cell_type": "code",
   "execution_count": null,
   "id": "d2960ddf-0bf7-429f-ad15-c16b510e6029",
   "metadata": {},
   "outputs": [],
   "source": [
    "# Replace \"-\" with \"_\" in the 'obs_names' column\n",
    "mdata[\"gex\"].obs_names = mdata[\"gex\"].obs_names.str.replace('-', '_')"
   ]
  },
  {
   "cell_type": "code",
   "execution_count": null,
   "id": "4fb919e8-9aef-4215-90e5-9326cda1c001",
   "metadata": {},
   "outputs": [],
   "source": [
    "len(set(mdata[\"gex\"].obs_names) & set(mdata[\"airr\"].obs_names))"
   ]
  },
  {
   "cell_type": "code",
   "execution_count": null,
   "id": "9cbf6e15-766c-43f3-a26f-ba12dd378e86",
   "metadata": {},
   "outputs": [],
   "source": [
    "mdata"
   ]
  },
  {
   "cell_type": "code",
   "execution_count": null,
   "id": "68a23e93-9b00-49be-8acd-d37e8076f751",
   "metadata": {},
   "outputs": [],
   "source": [
    "sc.pl.umap(mdata[\"gex\"], color = \"leiden\")"
   ]
  },
  {
   "cell_type": "markdown",
   "id": "36ff8389-acb3-41a5-bf63-f847b1889332",
   "metadata": {},
   "source": [
    "### Create MDATA GEX & TCR 2019 NORMAL"
   ]
  },
  {
   "cell_type": "code",
   "execution_count": null,
   "id": "660ee28e-4ad6-45b8-ba10-2d5393122dd5",
   "metadata": {},
   "outputs": [],
   "source": [
    "mdata_normal = mu.MuData({\"gex\": adata_normal, \"airr\": adata_tcr})"
   ]
  },
  {
   "cell_type": "code",
   "execution_count": null,
   "id": "1aad98cb-871e-44c7-933d-170c152e36f3",
   "metadata": {},
   "outputs": [],
   "source": [
    "mdata_normal"
   ]
  },
  {
   "cell_type": "code",
   "execution_count": null,
   "id": "989113b0-a279-4237-843c-80a51476cdca",
   "metadata": {},
   "outputs": [],
   "source": [
    "sc.pl.umap(mdata_normal[\"gex\"], color = \"leiden\")"
   ]
  },
  {
   "cell_type": "markdown",
   "id": "5f428281-1bba-4b15-9bea-128badecbd9e",
   "metadata": {},
   "source": [
    "### Create MDATA GEX & TCR 2021 TUMOR"
   ]
  },
  {
   "cell_type": "code",
   "execution_count": null,
   "id": "8e1bb66d-0111-462d-a2c7-57f3f5207fc1",
   "metadata": {},
   "outputs": [],
   "source": [
    "mdata_tumor= mu.MuData({\"gex\": adata_tumor, \"airr\": adata_tcr_2021})"
   ]
  },
  {
   "cell_type": "code",
   "execution_count": null,
   "id": "5128c694-fbec-4ed7-882c-2407720e82fd",
   "metadata": {},
   "outputs": [],
   "source": [
    "mdata_tumor"
   ]
  },
  {
   "cell_type": "code",
   "execution_count": null,
   "id": "ada1b4aa-1936-437d-af1e-2bee3b4fb714",
   "metadata": {},
   "outputs": [],
   "source": [
    "sc.pl.umap(mdata_tumor[\"gex\"], color = \"leiden\")"
   ]
  },
  {
   "cell_type": "markdown",
   "id": "df25b251-be08-4acb-8574-566b40d4c025",
   "metadata": {},
   "source": [
    "### Transform mdata"
   ]
  },
  {
   "cell_type": "code",
   "execution_count": null,
   "id": "85acf393-d9b9-4117-af79-1b1c014e78d2",
   "metadata": {},
   "outputs": [],
   "source": [
    "sc.pp.filter_genes(mdata[\"gex\"], min_cells=500)\n",
    "sc.pp.filter_cells(mdata[\"gex\"], min_genes=500)"
   ]
  },
  {
   "cell_type": "code",
   "execution_count": null,
   "id": "3ca3f4dd-297d-412b-9b38-d74adc66a603",
   "metadata": {},
   "outputs": [],
   "source": [
    "sc.pp.log1p(mdata[\"gex\"])\n",
    "sc.pp.pca(mdata[\"gex\"], svd_solver=\"arpack\")\n",
    "sc.pp.neighbors(mdata[\"gex\"])\n",
    "sc.tl.umap(mdata[\"gex\"])"
   ]
  },
  {
   "cell_type": "code",
   "execution_count": null,
   "id": "3987eca2-cfe9-4eff-9c05-49eac912df36",
   "metadata": {},
   "outputs": [],
   "source": [
    "ir.pp.index_chains(mdata)\n",
    "ir.tl.chain_qc(mdata)"
   ]
  },
  {
   "cell_type": "code",
   "execution_count": null,
   "id": "49770928-e6eb-4bcd-ba1b-1f68ea0076f7",
   "metadata": {},
   "outputs": [],
   "source": [
    "# Define the conditions\n",
    "normal_samples = [\"10mix1\", \"10mix2\", \"11mix1\", \"11mix2\", \"GF1\", \"GF2\"]\n",
    "\n",
    "# Use np.where() to create the 'origin' column based on conditions\n",
    "mdata[\"airr\"].obs[\"origin\"] = mdata[\"airr\"].obs[\"sample_id\"].apply(\n",
    "    lambda x: \"colon\" if x in normal_samples else \"tumor\"\n",
    ")"
   ]
  },
  {
   "cell_type": "code",
   "execution_count": null,
   "id": "31fc04e9-75ab-4143-9be3-c9a27e72bf5d",
   "metadata": {},
   "outputs": [],
   "source": [
    "mdata"
   ]
  },
  {
   "cell_type": "code",
   "execution_count": null,
   "id": "b8b59540-1b4d-438f-985b-5b6c736c0642",
   "metadata": {},
   "outputs": [],
   "source": [
    "mdata[\"gex\"].obs.index"
   ]
  },
  {
   "cell_type": "code",
   "execution_count": null,
   "id": "58748394-c2d6-4f0a-8453-6f1c1e767606",
   "metadata": {},
   "outputs": [],
   "source": [
    "mdata[\"airr\"].obs.index"
   ]
  },
  {
   "cell_type": "code",
   "execution_count": null,
   "id": "a2852562-3bb9-42b4-a477-119209b1f5d2",
   "metadata": {},
   "outputs": [],
   "source": [
    "mdata.obs.index = mdata.obs.index.str.replace('-', '_', regex=False)\n"
   ]
  },
  {
   "cell_type": "code",
   "execution_count": null,
   "id": "28a5979a-73c3-40fa-88a8-ad2331f0123c",
   "metadata": {},
   "outputs": [],
   "source": [
    "mdata[\"airr\"].obs"
   ]
  },
  {
   "cell_type": "code",
   "execution_count": null,
   "id": "ffb1f7fb-21c5-4744-9285-5b13c4a70617",
   "metadata": {
    "scrolled": true
   },
   "outputs": [],
   "source": [
    "mdata.obs"
   ]
  },
  {
   "cell_type": "code",
   "execution_count": null,
   "id": "7cceeca7-c6be-4457-b929-e783e937a901",
   "metadata": {},
   "outputs": [],
   "source": [
    "mdata.update()"
   ]
  },
  {
   "cell_type": "code",
   "execution_count": null,
   "id": "64d0af2b-03c6-48bb-ae42-1c0b67611c6a",
   "metadata": {},
   "outputs": [],
   "source": [
    "#mdata = mu.MuData({\"gex\": adata_gex_merge, \"airr\": adata_tcr_merge})"
   ]
  },
  {
   "cell_type": "code",
   "execution_count": null,
   "id": "2921f653-b80b-4016-8255-b8144d2606d7",
   "metadata": {},
   "outputs": [],
   "source": [
    "mdata[\"gex\"].var"
   ]
  },
  {
   "cell_type": "code",
   "execution_count": null,
   "id": "08ae1e5f-b9d2-484a-a20b-f9903083aa68",
   "metadata": {},
   "outputs": [],
   "source": [
    "mdata[\"gex\"].obs.cell_type = mdata[\"gex\"].obs.cell_type.replace(\"nan\",\"CD8_NaiveLike\")"
   ]
  },
  {
   "cell_type": "code",
   "execution_count": null,
   "id": "9212a5b5-3cd4-490a-8c84-48c074f0c765",
   "metadata": {},
   "outputs": [],
   "source": [
    "mdata.update()"
   ]
  },
  {
   "cell_type": "code",
   "execution_count": null,
   "id": "c4a46a19-dd3a-47bc-b536-851072566d3c",
   "metadata": {},
   "outputs": [],
   "source": [
    "mdata = mu.MuData({\"gex\": adata_gex_merge, \"airr\": adata_tcr_merge})"
   ]
  },
  {
   "cell_type": "code",
   "execution_count": null,
   "id": "0d509091-27c6-4c68-be72-5ba7f0066ca9",
   "metadata": {},
   "outputs": [],
   "source": [
    "fig, (ax0, ax1,ax2,ax3) = plt.subplots(1, 4, figsize=(20, 4), gridspec_kw={\"wspace\": 0.5})\n",
    "mu.pl.embedding(mdata, basis=\"gex:umap\", color=[\"ENSMUSG00000055170\"], ax=ax0, show=False, frameon=False, cmap= \"Reds\")\n",
    "mu.pl.embedding(mdata, basis=\"gex:umap\", color=[\"airr:origin\"], ax=ax1, show=False, frameon=False)\n",
    "mu.pl.embedding(mdata, basis=\"gex:umap\", color=[\"gex:cell_type\"], ax=ax2, show=False, frameon=False)\n",
    "mu.pl.embedding(mdata, basis=\"gex:umap\", color=[\"airr:receptor_subtype\"], ax=ax3, frameon=False)"
   ]
  },
  {
   "cell_type": "code",
   "execution_count": null,
   "id": "3f0fb1aa-b8d6-430a-94a4-d4e8117b03d9",
   "metadata": {},
   "outputs": [],
   "source": [
    "fig, (ax0, ax1) = plt.subplots(1, 2,figsize=(10, 5) ,gridspec_kw={\"wspace\": 0.5})\n",
    "mu.pl.embedding(mdata, basis=\"gex:umap\", color=[\"ENSMUSG00000055170\"], ax=ax0, show=False, frameon=False, cmap= \"Reds\")\n",
    "mu.pl.embedding(mdata, basis=\"gex:umap\", color=[\"gex:cell_type\"], ax=ax1, show=False, frameon=False)\n"
   ]
  },
  {
   "cell_type": "code",
   "execution_count": null,
   "id": "a0644266-d268-4b8f-90a3-31959b63e42e",
   "metadata": {},
   "outputs": [],
   "source": [
    "mdata[\"gex\"].obs"
   ]
  },
  {
   "cell_type": "code",
   "execution_count": null,
   "id": "0e4eab87-bdf5-4730-b9f6-2767edb51ee8",
   "metadata": {},
   "outputs": [],
   "source": [
    "mdata"
   ]
  },
  {
   "cell_type": "code",
   "execution_count": null,
   "id": "a8f3733f-0795-44d7-9d3c-b82d18e7aedb",
   "metadata": {},
   "outputs": [],
   "source": [
    "mdata[\"airr\"].obs"
   ]
  },
  {
   "cell_type": "markdown",
   "id": "d4ff871f-6a0c-47a9-ae3e-956db49f36f9",
   "metadata": {},
   "source": [
    "## Daniel borras\n"
   ]
  },
  {
   "cell_type": "code",
   "execution_count": null,
   "id": "9d69a2d7-9b55-45c7-8975-91d7955bd232",
   "metadata": {},
   "outputs": [],
   "source": [
    "mdata[\"gex\"].obs.ifng.value_counts()"
   ]
  },
  {
   "cell_type": "code",
   "execution_count": null,
   "id": "d0338768-4857-426e-b9ab-2baff00a98d5",
   "metadata": {},
   "outputs": [],
   "source": [
    "mdata[\"airr\"].obs[\"ifng\"] = mdata[\"gex\"].obs[\"ifng\"]"
   ]
  },
  {
   "cell_type": "code",
   "execution_count": null,
   "id": "e793f096-613e-4dc2-9299-49f154a179a5",
   "metadata": {},
   "outputs": [],
   "source": [
    "ir.tl.alpha_diversity(mdata,  groupby=\"group\", target_col=\"sample_id\", metric=\"normalized_shannon_entropy\")"
   ]
  },
  {
   "cell_type": "code",
   "execution_count": null,
   "id": "22e7f1ef-c581-4afb-a8dc-d570ad001f1f",
   "metadata": {},
   "outputs": [],
   "source": [
    "#tcr_og = mdata[\"airr\"]"
   ]
  },
  {
   "cell_type": "code",
   "execution_count": null,
   "id": "3943a607-fc40-4e56-9eb6-b78bf1992a80",
   "metadata": {},
   "outputs": [],
   "source": [
    "tcr = mdata[\"airr\"][mdata[\"airr\"].obs[\"ifng\"] == \"pos\"]\n"
   ]
  },
  {
   "cell_type": "code",
   "execution_count": null,
   "id": "ae270e33-4ec7-4ea5-a477-2ab09180983b",
   "metadata": {},
   "outputs": [],
   "source": [
    "tcr_10mix = tcr[tcr.obs[\"sample_id\"].isin([\"10mix1\",\"10mix2\",\"10mix-ICI1\",\"10mix-ICI2\"])]"
   ]
  },
  {
   "cell_type": "code",
   "execution_count": null,
   "id": "fe0d4574-c7ef-4885-8842-a469b448a0a2",
   "metadata": {},
   "outputs": [],
   "source": [
    "tcr_11mix = tcr[tcr.obs[\"sample_id\"].isin([\"11mix1\",\"11mix2\",\"11mix-ICI1\",\"11mix-ICI2\"])]"
   ]
  },
  {
   "cell_type": "code",
   "execution_count": null,
   "id": "e3615d44-cbf7-4108-8e3c-e5d283e3090e",
   "metadata": {},
   "outputs": [],
   "source": [
    "tcr.obs.sample_id.value_counts()"
   ]
  },
  {
   "cell_type": "code",
   "execution_count": null,
   "id": "62b3ad00-0b82-4ce3-a5f1-9ddf740653fa",
   "metadata": {},
   "outputs": [],
   "source": [
    "#tcr_11mix = tcr[tcr.obs[\"group\"].isin([\"11mix\"])]"
   ]
  },
  {
   "cell_type": "code",
   "execution_count": null,
   "id": "a00a938e-d6e6-4c01-b5b3-b4a00e9df764",
   "metadata": {},
   "outputs": [],
   "source": [
    "tcr.obs.ifng.value_counts()"
   ]
  },
  {
   "cell_type": "code",
   "execution_count": null,
   "id": "88d94ed0-7cb6-4700-bd9c-1e38d8760ad0",
   "metadata": {},
   "outputs": [],
   "source": [
    "tcr_10mix.obs[\"cell_count\"]=1\n",
    "tcr_11mix.obs[\"cell_count\"]=1"
   ]
  },
  {
   "cell_type": "code",
   "execution_count": null,
   "id": "d74e68e0-3a5d-4e80-8e0f-beb9e3774319",
   "metadata": {},
   "outputs": [],
   "source": [
    "test=sc.concat([tcr_10mix,tcr_11mix])"
   ]
  },
  {
   "cell_type": "code",
   "execution_count": null,
   "id": "4d8da9fc-f92d-43cb-9c52-231ce46ea7a9",
   "metadata": {},
   "outputs": [],
   "source": [
    "test.obs[[\"group\",\"ifng\",\"receptor_subtype\",\"chain_pairing\"]].to_numpy()"
   ]
  },
  {
   "cell_type": "code",
   "execution_count": null,
   "id": "bbc8bf85-68c8-42c8-bc15-743ca3e27161",
   "metadata": {},
   "outputs": [],
   "source": [
    "test.obs[\"group\"].to_numpy()"
   ]
  },
  {
   "cell_type": "code",
   "execution_count": null,
   "id": "518920bc-b5c2-40bc-a61c-7d7f43ecc62f",
   "metadata": {},
   "outputs": [],
   "source": [
    "pd.crosstab(columns=[test.obs[\"chain_pairing\"], test.obs[\"ifng\"]], index=test.obs[\"group\"])"
   ]
  },
  {
   "cell_type": "code",
   "execution_count": null,
   "id": "f4f01c1f-361d-40bd-a9e2-59bc07c22395",
   "metadata": {},
   "outputs": [],
   "source": [
    "ir.tl.define_clonotypes(test, receptor_arms=\"all\", dual_ir=\"primary_only\")"
   ]
  },
  {
   "cell_type": "code",
   "execution_count": null,
   "id": "370d591d-dfdf-442f-8f04-4054f79533d3",
   "metadata": {},
   "outputs": [],
   "source": [
    "ir.pp.ir_dist(\n",
    "    test,\n",
    "    metric=\"alignment\",\n",
    "    sequence=\"aa\",\n",
    "    cutoff=15,\n",
    ")"
   ]
  },
  {
   "cell_type": "code",
   "execution_count": null,
   "id": "c232056b-f76b-4e57-855c-33d76de919c1",
   "metadata": {},
   "outputs": [],
   "source": [
    "ir.tl.define_clonotype_clusters(test, sequence=\"aa\", metric=\"alignment\", receptor_arms=\"all\", dual_ir=\"any\")"
   ]
  },
  {
   "cell_type": "code",
   "execution_count": null,
   "id": "d4bcbfb1-e1e0-45a8-8ca5-74aa526bc25c",
   "metadata": {},
   "outputs": [],
   "source": [
    "ir.tl.clonotype_network(test, min_cells=2, sequence=\"aa\", metric=\"alignment\")"
   ]
  },
  {
   "cell_type": "code",
   "execution_count": null,
   "id": "9ffbcea4-b6f8-40a7-a95b-2a7e12d79e96",
   "metadata": {},
   "outputs": [],
   "source": [
    "ir.pl.clonotype_network(test, color=\"sample_id\", label_fontsize=5, panel_size=(6, 5), base_size=4,\n",
    "                       title=\"tcr_10mix clonotypes\")"
   ]
  },
  {
   "cell_type": "code",
   "execution_count": null,
   "id": "835df6ba-575b-4e97-82a6-5d37135b0a8b",
   "metadata": {},
   "outputs": [],
   "source": [
    "tcr_copy = test.copy()"
   ]
  },
  {
   "cell_type": "code",
   "execution_count": null,
   "id": "7b641e01-86bf-4ef7-8bf4-aa3efd60e5f4",
   "metadata": {},
   "outputs": [],
   "source": [
    "tcr_copy.obs"
   ]
  },
  {
   "cell_type": "code",
   "execution_count": null,
   "id": "0b524a0f-d344-4356-ab5f-de263e871681",
   "metadata": {},
   "outputs": [],
   "source": [
    "# Count occurrences of each clono_id\n",
    "clonotype_counts = test.obs[\"clone_id\"].value_counts()\n",
    "\n",
    "# Map the counts back to a new column in obs\n",
    "test.obs[\"count_clonotype_id\"] = test.obs[\"clone_id\"].map(clonotype_counts)\n",
    "\n",
    "# Check the result\n",
    "print(test.obs[[\"clone_id\", \"count_clonotype_id\"]].head())"
   ]
  },
  {
   "cell_type": "code",
   "execution_count": null,
   "id": "70fc6e61-4029-4c7f-9a66-335b99308147",
   "metadata": {},
   "outputs": [],
   "source": [
    "#tcr_10mix.obs.groupby(\"clone_id\").filter(lambda x: x[\"sample_id\"].nunique() >= 2)"
   ]
  },
  {
   "cell_type": "code",
   "execution_count": null,
   "id": "70eb34d9-9247-475a-9240-842aa80a8c26",
   "metadata": {},
   "outputs": [],
   "source": [
    "if \"count_clonotype_id\" not in test.obs.columns:\n",
    "    test.obs[\"count_clonotype_id\"] = test.obs[\"clone_id\"].map(tcr.obs[\"clone_id\"].value_counts())\n",
    "\n",
    "# Filter the AnnData object\n",
    "test_filtered = test[test.obs[\"count_clonotype_id\"] > 2].copy()\n"
   ]
  },
  {
   "cell_type": "code",
   "execution_count": null,
   "id": "2d6fcdb6-bd79-4bec-bb35-058f131b68cf",
   "metadata": {},
   "outputs": [],
   "source": [
    "ir.pl.clonotype_network(test_filtered, color=\"chain_pairing\", label_fontsize=5, panel_size=(6, 5), base_size=3,\n",
    "                       title=\"tcr_10mix clonotypes\")"
   ]
  },
  {
   "cell_type": "code",
   "execution_count": null,
   "id": "75bdd0ab-88d1-4bea-8006-0dc60043e4ea",
   "metadata": {},
   "outputs": [],
   "source": [
    "ir.tl.define_clonotypes(test_filtered, receptor_arms=\"all\", dual_ir=\"primary_only\")"
   ]
  },
  {
   "cell_type": "code",
   "execution_count": null,
   "id": "222923cf-2f5d-409a-a95b-53f4441611ef",
   "metadata": {},
   "outputs": [],
   "source": [
    "ir.pp.ir_dist(\n",
    "    test_filtered,\n",
    "    metric=\"alignment\",\n",
    "    sequence=\"aa\",\n",
    "    cutoff=15,\n",
    ")"
   ]
  },
  {
   "cell_type": "code",
   "execution_count": null,
   "id": "c1063f79-ee13-4617-86a3-8f99de5618d6",
   "metadata": {},
   "outputs": [],
   "source": [
    "ir.tl.define_clonotype_clusters(test_filtered, sequence=\"aa\", metric=\"alignment\", receptor_arms=\"all\", dual_ir=\"any\")"
   ]
  },
  {
   "cell_type": "code",
   "execution_count": null,
   "id": "83164645-45a1-4fd7-87a7-4a98c45836f7",
   "metadata": {},
   "outputs": [],
   "source": [
    "ir.tl.clonotype_network(test_filtered, min_cells=2, sequence=\"aa\", metric=\"alignment\")"
   ]
  },
  {
   "cell_type": "code",
   "execution_count": null,
   "id": "1a902454-eee9-4fd9-b352-c0b816fb608c",
   "metadata": {},
   "outputs": [],
   "source": [
    "ir.pl.clonotype_network(test_filtered, color=\"chain_pairing\", label_fontsize=5, panel_size=(6, 5), base_size=1.8,\n",
    "                       title=\"Clonotypes\")"
   ]
  },
  {
   "cell_type": "code",
   "execution_count": null,
   "id": "95b9b4cd-6110-4922-83c8-71d8785aaebb",
   "metadata": {},
   "outputs": [],
   "source": [
    "ir.pl.clonotype_network(test_filtered, color=\"sample_id\", label_fontsize=5, panel_size=(6, 5), base_size=5.8,size_power=1.4,\n",
    "                       title=\"Clonotypes\")"
   ]
  },
  {
   "cell_type": "code",
   "execution_count": null,
   "id": "b841b66e-c1a9-489f-ac53-6abc75fd5aa7",
   "metadata": {},
   "outputs": [],
   "source": [
    "tcr_10mix = test_filtered[test_filtered.obs[\"sample_id\"].isin([\"10mix1\",\"10mix2\",\"10mix-ICI1\",\"10mix-ICI2\"])]"
   ]
  },
  {
   "cell_type": "code",
   "execution_count": null,
   "id": "a1def8ac-9f3f-48d8-bb9b-eb4f436a6841",
   "metadata": {},
   "outputs": [],
   "source": [
    "tcr_11mix = test_filtered[test_filtered.obs[\"sample_id\"].isin([\"11mix1\",\"11mix2\",\"11mix-ICI1\",\"11mix-ICI2\"])]"
   ]
  },
  {
   "cell_type": "code",
   "execution_count": null,
   "id": "7e2c1d9e-f13d-42c9-b941-ed991517749b",
   "metadata": {},
   "outputs": [],
   "source": [
    "tcr_10mix.obs.sample_id"
   ]
  },
  {
   "cell_type": "code",
   "execution_count": null,
   "id": "5cd1f2b9-e4d8-4d50-a73b-e81059c64916",
   "metadata": {},
   "outputs": [],
   "source": [
    "test_filtered.obs.sample_id"
   ]
  },
  {
   "cell_type": "code",
   "execution_count": null,
   "id": "1fde7f52-33f7-4b4c-9e75-35a4d116e528",
   "metadata": {},
   "outputs": [],
   "source": [
    "tcr_11mix.obs.clone_id_size.mean()"
   ]
  },
  {
   "cell_type": "code",
   "execution_count": null,
   "id": "ee42d850-ccd1-4f6b-8344-d81dd9d1825c",
   "metadata": {},
   "outputs": [],
   "source": [
    "tcr_10mix.obs.clone_id_size.mean()"
   ]
  },
  {
   "cell_type": "code",
   "execution_count": null,
   "id": "d712fec8-eb8b-4477-8855-717bb1d3e82c",
   "metadata": {},
   "outputs": [],
   "source": [
    "test=pd.concat([tcr_10mix.obs,tcr_11mix.obs])"
   ]
  },
  {
   "cell_type": "code",
   "execution_count": null,
   "id": "889b603e-2c49-4860-8dee-fd2560459ab9",
   "metadata": {},
   "outputs": [],
   "source": [
    "tcr_copy"
   ]
  },
  {
   "cell_type": "code",
   "execution_count": null,
   "id": "04df101f-341c-4f65-863a-170fe2be6db1",
   "metadata": {},
   "outputs": [],
   "source": [
    "g=sns.barplot(data=tcr_copy.obs, y=\"clone_id_size\", hue=\"group\", x=\"origin\", orient=\"v\", palette=[\"tab:orange\",\"tab:blue\"], width=0.8)"
   ]
  },
  {
   "cell_type": "code",
   "execution_count": null,
   "id": "390a2aa4-f427-4d7e-a804-f38574d5b5fc",
   "metadata": {},
   "outputs": [],
   "source": [
    "test_filtered_normal"
   ]
  },
  {
   "cell_type": "code",
   "execution_count": null,
   "id": "5d4da18c-7d1a-468f-ac42-76b27959cff4",
   "metadata": {},
   "outputs": [],
   "source": [
    "test"
   ]
  },
  {
   "cell_type": "code",
   "execution_count": null,
   "id": "315fbe11-37f4-4de6-9f22-c5faac05ce5b",
   "metadata": {},
   "outputs": [],
   "source": [
    "# Ensure indices match between `test` and `mdata[\"gex\"].obs`\n",
    "shared_index = test.index.intersection(mdata[\"gex\"].obs.index)\n",
    "\n",
    "# Extract \"cell_type\" and \"origin\" from `mdata[\"gex\"].obs`, renaming to avoid conflicts\n",
    "metadata_subset = mdata[\"gex\"].obs.loc[shared_index, [\"cell_type\", \"origin\"]].copy()\n",
    "metadata_subset = metadata_subset.rename(columns={\"cell_type\": \"cell_type_new\", \"origin\": \"origin_new\"})\n",
    "\n",
    "# Merge the new columns into `test`\n",
    "test_filtered.obs = test_filtered.obs.join(metadata_subset)\n",
    "\n",
    "# Print confirmation\n",
    "print(f\"Updated test shape: {test.shape}\")\n",
    "print(test.head())  # Preview the updated dataframe\n"
   ]
  },
  {
   "cell_type": "code",
   "execution_count": null,
   "id": "5beda14d-80ee-4b62-ae92-98a6064020a7",
   "metadata": {},
   "outputs": [],
   "source": [
    "test_filtered.obs"
   ]
  },
  {
   "cell_type": "code",
   "execution_count": null,
   "id": "55e6842c-29fe-491b-8acf-646b7f168961",
   "metadata": {},
   "outputs": [],
   "source": [
    "g=sns.catplot(data=test[test.clone_id_dedup], y=\"clone_id_size\", x=\"group\",  col=\"chain_pairing\",orient=\"v\", sharey=False,\n",
    "            height=2, aspect=1, kind=\"violin\", palette=[\"tab:orange\",\"tab:blue\"], margin_titles=True)\n"
   ]
  },
  {
   "cell_type": "code",
   "execution_count": null,
   "id": "74fc254d-9a9b-4dd1-97c2-848f110731c8",
   "metadata": {},
   "outputs": [],
   "source": [
    "tcr_10mix.obs.chain_pairing"
   ]
  },
  {
   "cell_type": "code",
   "execution_count": null,
   "id": "ac36a1f6-a8f5-44b9-b6b0-b4a1e46a2067",
   "metadata": {},
   "outputs": [],
   "source": [
    "test_filtered.obs"
   ]
  },
  {
   "cell_type": "code",
   "execution_count": null,
   "id": "1d37fd8c-40b7-45a5-ae66-1b2e90fd566c",
   "metadata": {},
   "outputs": [],
   "source": [
    "test_filtered_tumor = test_filtered[test_filtered.obs[\"origin\"].isin([\"tumor\"])]"
   ]
  },
  {
   "cell_type": "code",
   "execution_count": null,
   "id": "52854875-0f93-472f-85a1-449f0f1c1d60",
   "metadata": {},
   "outputs": [],
   "source": [
    "test_filtered_tumor"
   ]
  },
  {
   "cell_type": "code",
   "execution_count": null,
   "id": "05793c19-9961-4092-adba-fe8f62193673",
   "metadata": {},
   "outputs": [],
   "source": [
    "test_filtered_normal = test_filtered[test_filtered.obs[\"origin\"].isin([\"colon\"])]"
   ]
  },
  {
   "cell_type": "code",
   "execution_count": null,
   "id": "06450f6c-cc7a-4597-9c72-98e1664274c0",
   "metadata": {},
   "outputs": [],
   "source": [
    "test_filtered_normal"
   ]
  },
  {
   "cell_type": "code",
   "execution_count": null,
   "id": "3c73295e-a101-4c93-b93b-5ca3f53243ff",
   "metadata": {},
   "outputs": [],
   "source": [
    "sc.pl.dotplot(test_filtered, var_names = [\"clone_id_size\"],groupby=\"cell_type_new\", cmap=\"viridis\")"
   ]
  },
  {
   "cell_type": "code",
   "execution_count": null,
   "id": "7348ff33-9112-4bbd-86d4-e5d05fa79330",
   "metadata": {},
   "outputs": [],
   "source": [
    "sc.pl.dotplot(test_filtered_normal, var_names = [\"clone_id_size\"],groupby=\"group\")"
   ]
  },
  {
   "cell_type": "code",
   "execution_count": null,
   "id": "0764f24f-6e51-4346-8fad-50d51f403fa4",
   "metadata": {},
   "outputs": [],
   "source": [
    "metricsPersample=pd.DataFrame(columns=[\"group\",\"Richness\"])\n",
    "metricsPersample[\"Richness\"]=list(ir.tl.alpha_diversity(tcr_11mix, groupby=\"sample_id\", target_col=\"clone_id\", metric=\"normalized_shannon_entropy\", inplace=False)[0])"
   ]
  },
  {
   "cell_type": "code",
   "execution_count": null,
   "id": "efac1e64-87ae-4424-870c-c4741a28ca88",
   "metadata": {},
   "outputs": [],
   "source": [
    "persample11mix=list(ir.tl.alpha_diversity(tcr_11mix, groupby=\"sample_id\", target_col=\"clone_id\", metric=\"normalized_shannon_entropy\", inplace=False)[0])"
   ]
  },
  {
   "cell_type": "code",
   "execution_count": null,
   "id": "88036b5f-c90b-46e3-8495-bd185dda1d3e",
   "metadata": {},
   "outputs": [],
   "source": [
    "persample11mix"
   ]
  },
  {
   "cell_type": "code",
   "execution_count": null,
   "id": "e857f927-abd3-443a-8054-d682b6943e49",
   "metadata": {},
   "outputs": [],
   "source": [
    "tcr_11mix.obs.sample_id.value_counts()"
   ]
  },
  {
   "cell_type": "code",
   "execution_count": null,
   "id": "8d018ca3-a5f6-41c5-9d72-303738191c69",
   "metadata": {},
   "outputs": [],
   "source": [
    "metricsPersample[\"x\"]=\"CRC\""
   ]
  },
  {
   "cell_type": "code",
   "execution_count": null,
   "id": "f02dbd72-6976-46c9-9b44-3c4a7a0f8b93",
   "metadata": {},
   "outputs": [],
   "source": [
    "metricsPersample[\"group\"]= list(tcr_11mix.obs.sample_id.unique())"
   ]
  },
  {
   "cell_type": "code",
   "execution_count": null,
   "id": "02bcc6e4-bffa-486e-82c7-59cbc6e133cf",
   "metadata": {},
   "outputs": [],
   "source": [
    "metricsPersample"
   ]
  },
  {
   "cell_type": "code",
   "execution_count": null,
   "id": "b616baf9-c3af-4954-ba0b-25b83650aced",
   "metadata": {},
   "outputs": [],
   "source": [
    "metricsPersample2=pd.DataFrame(columns=[\"group\",\"Richness\"])\n",
    "metricsPersample2[\"Richness\"]=list(ir.tl.alpha_diversity(tcr_10mix, groupby=\"sample_id\", target_col=\"clone_id\", metric=\"normalized_shannon_entropy\", inplace=False)[0])"
   ]
  },
  {
   "cell_type": "code",
   "execution_count": null,
   "id": "4bba7f59-2c6b-47f0-b817-01b5fcaf9eb3",
   "metadata": {},
   "outputs": [],
   "source": [
    "persample10mix=list(ir.tl.alpha_diversity(tcr_10mix, groupby=\"sample_id\", target_col=\"clone_id\", metric=\"normalized_shannon_entropy\", inplace=False)[0])"
   ]
  },
  {
   "cell_type": "code",
   "execution_count": null,
   "id": "2c59f6b2-17e7-4691-8fb7-3e29a2a8d780",
   "metadata": {},
   "outputs": [],
   "source": [
    "metricsPersample2[\"group\"]= list(tcr_10mix.obs.sample_id.unique())"
   ]
  },
  {
   "cell_type": "code",
   "execution_count": null,
   "id": "b63ff7b0-52f3-45cd-83e6-a1e73b58bc18",
   "metadata": {},
   "outputs": [],
   "source": [
    "metricsPersample2[\"x\"]=\"CRC\""
   ]
  },
  {
   "cell_type": "code",
   "execution_count": null,
   "id": "04e873ae-dbbc-458b-a79b-6c9a93a73660",
   "metadata": {},
   "outputs": [],
   "source": [
    "metricsPersample2"
   ]
  },
  {
   "cell_type": "code",
   "execution_count": null,
   "id": "dcb6125c-2179-4887-b8ff-5e4824656e5d",
   "metadata": {},
   "outputs": [],
   "source": [
    "metricsPS = pd.concat([metricsPersample, metricsPersample2], ignore_index=True, axis=0, join=\"outer\")"
   ]
  },
  {
   "cell_type": "code",
   "execution_count": null,
   "id": "81292eda-ca25-4693-928c-aa46d1ac745f",
   "metadata": {
    "scrolled": true
   },
   "outputs": [],
   "source": [
    "metricsPS"
   ]
  },
  {
   "cell_type": "code",
   "execution_count": null,
   "id": "61504983-2a87-4a96-aaa7-9648c58e86ef",
   "metadata": {},
   "outputs": [],
   "source": [
    "metricsPS[\"condition\"] = metricsPS[\"group\"].apply(lambda x: \"11mix\" if \"11\" in str(x) else \"10mix\")\n"
   ]
  },
  {
   "cell_type": "code",
   "execution_count": null,
   "id": "c8098182-3a7b-49f3-9c50-290d5b89b757",
   "metadata": {},
   "outputs": [],
   "source": [
    "import seaborn as sns"
   ]
  },
  {
   "cell_type": "code",
   "execution_count": null,
   "id": "860563e4-770c-47a1-97f1-add7acdcd876",
   "metadata": {},
   "outputs": [],
   "source": [
    "metricsPS.to_csv(\"metricsPS.csv\")"
   ]
  },
  {
   "cell_type": "code",
   "execution_count": null,
   "id": "05b1d5c1-9525-42fe-bbc4-ca0c7bbde096",
   "metadata": {},
   "outputs": [],
   "source": [
    "metricsPS"
   ]
  },
  {
   "cell_type": "code",
   "execution_count": null,
   "id": "f1aec992-96f6-43df-808c-7275f7d65a8d",
   "metadata": {},
   "outputs": [],
   "source": [
    "g=sns.boxplot(data=metricsPS, x=\"x\",y=\"Richness\", hue= \"condition\")\n",
    "\n",
    "sns.stripplot(data=metricsPS, x=\"x\", y=\"Richness\", hue=\"condition\", dodge=True, \n",
    "              jitter=True, alpha=0.6, marker=\"o\", edgecolor=\"gray\", linewidth=0.5)\n",
    "\n",
    "g.legend(loc='upper right', bbox_to_anchor=(1.26, 0.9))\n",
    "g.set_ylabel(\"Clonal expansion\")\n",
    "#annotator = Annotator(data=metricsPS, ax=g, pairs=[((\"CRC\",\"10mix\"),(\"CRC\",\"11mix\")) ],  x=\"x\", y=\"Richness\", hue=\"MSI\")\n",
    "#annotator.configure(test='t-test_ind', text_format='full', loc='inside')\n",
    "#annotator.apply_and_annotate()\n",
    "#add_stat_annotation(g, data=metricsPerPatient, x=\"x\", y=\"Richness\", hue=\"MSI\", width=0.8,\n",
    "#                    box_pairs=[((\"CRC\",\"11mix\"),(\"CRC\",\"10mix\")) ],\n",
    "#                    test='t-test_ind', text_format='star', loc='inside', verbose=0, comparisons_correction='bonferroni')\n",
    "g.grid(False)\n",
    "#g.figure.savefig(resultsDir+\"/TCR_cd8_perPatient_richness.png\", bbox_inches=\"tight\")\n",
    "#g.figure.savefig(resultsDir+\"/TCR_cd8_perPatient_richness.svg\", bbox_inches=\"tight\")"
   ]
  },
  {
   "cell_type": "code",
   "execution_count": null,
   "id": "b99c3269-2f9b-4148-bb81-bf266cf44584",
   "metadata": {},
   "outputs": [],
   "source": [
    "## number of cells per clonotype"
   ]
  },
  {
   "cell_type": "code",
   "execution_count": null,
   "id": "d47a4e3a-db13-43e3-a51b-f728590d4538",
   "metadata": {},
   "outputs": [],
   "source": [
    "tcr_11mix\n",
    "tcr_10mix"
   ]
  },
  {
   "cell_type": "markdown",
   "id": "01c5d282-1e4e-4cfe-9525-0e95fbab1031",
   "metadata": {},
   "source": [
    "#### Richness per cell annotation"
   ]
  },
  {
   "cell_type": "code",
   "execution_count": null,
   "id": "631baddb-359a-4069-a38e-d46523d096dc",
   "metadata": {},
   "outputs": [],
   "source": [
    "adata_final_annotation = sc.read_h5ad(\n",
    "    \"/data/projects/2021/MicrobialMetabolites/single-cell-sorted-cd8/results/40_gex_surface_prot/13_january_2025/mapped_data/mapped_til_colon.h5ad\"\n",
    ")"
   ]
  },
  {
   "cell_type": "code",
   "execution_count": null,
   "id": "578253ce-a444-4b88-afc8-b00cf31d4147",
   "metadata": {},
   "outputs": [],
   "source": [
    "adata_final_annotation.obs"
   ]
  },
  {
   "cell_type": "code",
   "execution_count": null,
   "id": "51951497-5b48-487b-8118-a8130539c4e5",
   "metadata": {},
   "outputs": [],
   "source": [
    "test.obs[\"cell_type\"] = adata_final_annotation.obs[\"cell_type\"].reindex(test.obs.index)"
   ]
  },
  {
   "cell_type": "code",
   "execution_count": null,
   "id": "e61931e8-1d6c-4c19-983c-587e6823ed7e",
   "metadata": {},
   "outputs": [],
   "source": [
    "tcr_10mix.obs[\"cell_type\"] =test.obs[\"cell_type\"] "
   ]
  },
  {
   "cell_type": "code",
   "execution_count": null,
   "id": "c9e42782-bd2d-4fef-bb50-f7b578275a4a",
   "metadata": {},
   "outputs": [],
   "source": [
    "tcr_11mix.obs[\"cell_type\"] = test.obs[\"cell_type\"] "
   ]
  },
  {
   "cell_type": "code",
   "execution_count": null,
   "id": "0b4c8b22-83c6-424d-9aac-8fbc369e88b3",
   "metadata": {},
   "outputs": [],
   "source": [
    "import numpy as np\n",
    "\n",
    "# Concatenate 'cell_type' and 'ifng' as strings for tcr_10mix\n",
    "tcr_10mix.obs[\"Cell type (IFNG)\"] = tcr_10mix.obs[\"cell_type\"].astype(str) + tcr_10mix.obs[\"ifng\"].astype(str)\n",
    "\n",
    "# Concatenate 'cell_type' and 'ifng' as strings for tcr_11mix\n",
    "tcr_11mix.obs[\"Cell type (IFNG)\"] = tcr_11mix.obs[\"cell_type\"].astype(str) + tcr_11mix.obs[\"ifng\"].astype(str)\n"
   ]
  },
  {
   "cell_type": "code",
   "execution_count": null,
   "id": "f482b4a2-e32d-4b6d-a970-910a0a40a385",
   "metadata": {},
   "outputs": [],
   "source": [
    "mPerCell10mix=ir.tl.alpha_diversity(tcr_10mix, groupby=\"Cell type (IFNG)\", target_col=\"clone_id\", metric=\"normalized_shannon_entropy\", inplace=False)\n",
    "mPerCell11mix=ir.tl.alpha_diversity(tcr_11mix, groupby=\"Cell type (IFNG)\", target_col=\"clone_id\", metric=\"normalized_shannon_entropy\", inplace=False)"
   ]
  },
  {
   "cell_type": "code",
   "execution_count": null,
   "id": "f64af605-8f14-42a4-8e93-c4e1f8601980",
   "metadata": {},
   "outputs": [],
   "source": [
    "mPerCell10mix.sort_values(by=0, ascending=False, inplace=True)\n",
    "mPerCell11mix.sort_values(by=0, ascending=False, inplace=True)"
   ]
  },
  {
   "cell_type": "code",
   "execution_count": null,
   "id": "2f4b5a95-c056-4ca3-91d5-40b746b3b6e7",
   "metadata": {
    "scrolled": true
   },
   "outputs": [],
   "source": [
    "mPerCell10mix"
   ]
  },
  {
   "cell_type": "code",
   "execution_count": null,
   "id": "efa87269-16e2-47b8-b2f3-a6c971c3f549",
   "metadata": {},
   "outputs": [],
   "source": [
    "mdata[\"airr\"].obs[\"group\"].isin([\"11mix\",\"10mix\"]).copy()"
   ]
  },
  {
   "cell_type": "code",
   "execution_count": null,
   "id": "0a75255d-1123-4f2a-9572-028757178d31",
   "metadata": {},
   "outputs": [],
   "source": [
    "tcr_10mix.obs[\"clone_id_dedup\"]=tcr_10mix.obs.clone_id.duplicated()\n",
    "tcr_11mix.obs[\"clone_id_dedup\"]=tcr_11mix.obs.clone_id.duplicated()"
   ]
  },
  {
   "cell_type": "code",
   "execution_count": null,
   "id": "88a25d71-1dcc-4dbd-a012-e4e622c08ec9",
   "metadata": {},
   "outputs": [],
   "source": [
    "test=pd.concat([tcr_10mix.obs,tcr_11mix.obs])\n",
    "test=test[[\"Ambiguous\" not in x for x in test.chain_pairing]]"
   ]
  },
  {
   "cell_type": "code",
   "execution_count": null,
   "id": "35502c72-4d8e-4b91-970c-ab944053916a",
   "metadata": {},
   "outputs": [],
   "source": [
    "test.ifng.value_counts()"
   ]
  },
  {
   "cell_type": "code",
   "execution_count": null,
   "id": "c0e8c845-43db-49f6-8987-5b182688aeca",
   "metadata": {},
   "outputs": [],
   "source": [
    "test[[\"clone_id\",\"clone_id_size\", \"clone_id_dedup\",\"group\"]]"
   ]
  },
  {
   "cell_type": "code",
   "execution_count": null,
   "id": "2fbea2a6-b5e0-4dfe-897d-1c70b03c3e4d",
   "metadata": {},
   "outputs": [],
   "source": [
    "test.clone_id_size.value_counts()"
   ]
  },
  {
   "cell_type": "code",
   "execution_count": null,
   "id": "3eec2eb9-955c-4686-abf9-9094d5719fcb",
   "metadata": {},
   "outputs": [],
   "source": [
    "mu.pp.filter_obs(mdata, \"airr:group\", lambda x: ~np.isin(x, [\"GF\", \"GF-plus\"]))"
   ]
  },
  {
   "cell_type": "code",
   "execution_count": null,
   "id": "94c3d61d-7a9f-4697-a82d-ad9de4108fce",
   "metadata": {},
   "outputs": [],
   "source": [
    "mu.pp.filter_obs(mdata, \"airr:origin\", lambda x: np.isin(x, [\"tumor\"]))"
   ]
  },
  {
   "cell_type": "code",
   "execution_count": null,
   "id": "7534c801-9e30-447f-a93d-2769cdb22f8e",
   "metadata": {},
   "outputs": [],
   "source": [
    "mdata.update()"
   ]
  },
  {
   "cell_type": "code",
   "execution_count": null,
   "id": "9dccef70-5304-49df-9dc3-f0ac6404af34",
   "metadata": {},
   "outputs": [],
   "source": [
    "mdata[\"airr\"].obs"
   ]
  },
  {
   "cell_type": "code",
   "execution_count": null,
   "id": "3ccbb743-ebba-4512-833d-d43b4ab719d9",
   "metadata": {},
   "outputs": [],
   "source": [
    "mdata[\"airr\"].obs.group.unique()"
   ]
  },
  {
   "cell_type": "code",
   "execution_count": null,
   "id": "79045a41-fc1f-4932-8409-8d4fe1ce50b8",
   "metadata": {},
   "outputs": [],
   "source": [
    "import pandas as pd\n",
    "\n",
    "# Keep only '10mix' and '11mix' and remove other categories\n",
    "mdata[\"airr\"].obs[\"group\"] = mdata[\"airr\"].obs[\"group\"].astype(str)  # Ensure it's a string\n",
    "mdata[\"airr\"].obs[\"group\"] = pd.Categorical(\n",
    "    mdata[\"airr\"].obs[\"group\"], \n",
    "    categories=['10mix', '11mix'],  # Define only the categories to keep\n",
    "    ordered=True\n",
    ")\n",
    "\n",
    "# Verify the categories after filtering\n",
    "print(mdata[\"airr\"].obs[\"group\"].unique())  # Should only show ['10mix', '11mix']\n"
   ]
  },
  {
   "cell_type": "code",
   "execution_count": null,
   "id": "418ba4ce-311b-4d26-9757-3b64bf211a3b",
   "metadata": {},
   "outputs": [],
   "source": [
    "g=sns.barplot(data=mdata[\"airr\"].obs, y=\"clone_id_size\",  x=\"group\", orient=\"v\", palette=[\"tab:orange\",\"tab:blue\"], width=0.4)\n",
    "g.legend(loc='upper right', bbox_to_anchor=(0.5, 0.9))\n",
    "g.set_ylabel(\"Clonal expansion\")\n",
    "\n",
    "\n",
    "g.grid(False)\n",
    "\n",
    "#g.figure.savefig(resultsDir+\"/TCR_cd8_ifng_posVneg_msiVmss.png\", bbox_inches=\"tight\")\n",
    "#g.figure.savefig(resultsDir+\"/TCR_cd8_ifng_posVneg_msiVmss.svg\", bbox_inches=\"tight\")"
   ]
  },
  {
   "cell_type": "code",
   "execution_count": null,
   "id": "a4b5a9c2-6805-4cf5-b135-c913ad2a6458",
   "metadata": {
    "scrolled": true
   },
   "outputs": [],
   "source": [
    "mdata[\"airr\"].obs[\"ifng\"] =  mdata[\"gex\"].obs[\"ifng\"]"
   ]
  },
  {
   "cell_type": "code",
   "execution_count": null,
   "id": "7cc80045-6257-4c65-ae61-2e09b3e9d58c",
   "metadata": {},
   "outputs": [],
   "source": [
    "tcr_copy"
   ]
  },
  {
   "cell_type": "code",
   "execution_count": null,
   "id": "4f234918-4630-4fff-947c-8eb23b681f40",
   "metadata": {},
   "outputs": [],
   "source": [
    "mdata[\"airr\"].obs[\"cell_type\"] = mdata[\"gex\"].obs[\"cell_type\"]"
   ]
  },
  {
   "cell_type": "code",
   "execution_count": null,
   "id": "ca39f742-bbfa-4385-8bff-adaf4fae18e3",
   "metadata": {},
   "outputs": [],
   "source": [
    "import seaborn as sns\n",
    "import matplotlib.pyplot as plt\n",
    "\n",
    "# Define figure size (adjust as needed)\n",
    "plt.figure(figsize=(3, 3))  # Width = 8 inches, Height = 2 inches\n",
    "\n",
    "# Define the custom color palette in the specified order\n",
    "custom_palette = [\"red\", \"blue\", \"orange\", \"lightblue\", \"green\"]\n",
    "\n",
    "# Create the bar plot with the custom color palette\n",
    "g = sns.barplot(\n",
    "    data=mdata[\"airr\"].obs, \n",
    "    y=\"clone_id_size\",  \n",
    "    x=\"cell_type\", \n",
    "    orient=\"v\", \n",
    "    palette=custom_palette,  # Apply custom colors\n",
    "    width=0.7\n",
    ")\n",
    "\n",
    "# Rotate x-axis labels for better readability\n",
    "plt.xticks(size=10,rotation=45, ha='right')  # Rotate labels 45 degrees and align right\n",
    "\n",
    "# Adjust legend position (if applicable)\n",
    "if g.legend_:\n",
    "    g.legend(loc='upper right', bbox_to_anchor=(0.5, 0.9))\n",
    "\n",
    "# Set y-axis label\n",
    "g.set_ylabel(\"Clonal Expansion\")\n",
    "\n",
    "# Remove grid lines\n",
    "g.grid(False)\n",
    "\n",
    "# Show the plot\n",
    "plt.show()\n"
   ]
  },
  {
   "cell_type": "code",
   "execution_count": null,
   "id": "b2f4c095-578c-4058-8039-a6e5e47d4c4a",
   "metadata": {},
   "outputs": [],
   "source": []
  },
  {
   "cell_type": "code",
   "execution_count": null,
   "id": "6ab2e967-80a2-4ce9-9822-8241912da216",
   "metadata": {},
   "outputs": [],
   "source": [
    "tcr_copy"
   ]
  },
  {
   "cell_type": "code",
   "execution_count": null,
   "id": "69e0a8bd-d7a8-4315-8944-0dec3108e00d",
   "metadata": {},
   "outputs": [],
   "source": [
    "ir.tl.chain_qc(tcr_copy)\n",
    "\n",
    "_ = ir.pl.group_abundance(\n",
    "   tcr_copy, groupby=\"receptor_type\", target_col=\"sample_id\"\n",
    ")\n"
   ]
  },
  {
   "cell_type": "code",
   "execution_count": null,
   "id": "992cc8a5-050f-4b12-9050-79cec0fd2132",
   "metadata": {},
   "outputs": [],
   "source": [
    "ir.tl.chain_qc(mdata)\n",
    "\n",
    "_ = ir.pl.group_abundance(\n",
    "   mdata, groupby=\"airr:receptor_type\", target_col=\"gex:cell_type\"\n",
    ")\n"
   ]
  },
  {
   "cell_type": "code",
   "execution_count": null,
   "id": "a86e8aa2-d65a-4394-8ac5-d82787f23083",
   "metadata": {},
   "outputs": [],
   "source": [
    "ir.tl.chain_qc(mdata)\n",
    "\n",
    "_ = ir.pl.group_abundance(\n",
    "   mdata, groupby=\"airr:receptor_type\", target_col=\"gex:condition\"\n",
    ")\n"
   ]
  },
  {
   "cell_type": "code",
   "execution_count": null,
   "id": "f3d14bac-0d31-4c30-a3ee-da61e60f12b4",
   "metadata": {},
   "outputs": [],
   "source": [
    "_ = ir.pl.group_abundance(mdata, groupby=\"airr:chain_pairing\", target_col=\"gex:condition\")"
   ]
  },
  {
   "cell_type": "code",
   "execution_count": null,
   "id": "5204bb48-7a29-46ae-86d7-86f6cf634126",
   "metadata": {},
   "outputs": [],
   "source": [
    "print(\n",
    "    \"Fraction of cells with more than one pair of TCRs: {:.2f}\".format(\n",
    "        np.sum(mdata.obs[\"airr:chain_pairing\"].isin([\"extra VJ\", \"extra VDJ\", \"two full chains\", \"multichain\"]))\n",
    "        / mdata[\"airr\"].n_obs\n",
    "    )\n",
    ")"
   ]
  },
  {
   "cell_type": "code",
   "execution_count": null,
   "id": "e577636f-7234-4b6f-b485-6f176ad9091e",
   "metadata": {},
   "outputs": [],
   "source": [
    "mu.pl.embedding(mdata, basis=\"gex:umap\", color=\"airr:chain_pairing\", groups=\"multichain\")"
   ]
  },
  {
   "cell_type": "code",
   "execution_count": null,
   "id": "ec5eacaf-109e-4adb-ac7f-a7948f831daf",
   "metadata": {},
   "outputs": [],
   "source": [
    "mu.pp.filter_obs(mdata, \"airr:chain_pairing\", lambda x: x != \"multichain\")"
   ]
  },
  {
   "cell_type": "code",
   "execution_count": null,
   "id": "9d2fa250-fd29-431e-b35f-385c322c1b2d",
   "metadata": {},
   "outputs": [],
   "source": [
    "mu.pp.filter_obs(mdata, \"airr:chain_pairing\", lambda x: ~np.isin(x, [\"orphan VDJ\", \"orphan VJ\"]))"
   ]
  },
  {
   "cell_type": "code",
   "execution_count": null,
   "id": "eb6dfc88-dbb2-419c-8659-fad59819d959",
   "metadata": {},
   "outputs": [],
   "source": [
    "mu.pp.filter_obs(mdata, \"gex:condition\", lambda x: ~np.isin(x, [\"GF\", \"GF-plus\"]))"
   ]
  },
  {
   "cell_type": "code",
   "execution_count": null,
   "id": "be7736c4-4185-42c4-9798-428fdd6cab90",
   "metadata": {},
   "outputs": [],
   "source": [
    "mdata"
   ]
  },
  {
   "cell_type": "code",
   "execution_count": null,
   "id": "5e86111b-7876-4138-adfd-7d489261e901",
   "metadata": {},
   "outputs": [],
   "source": [
    "ax = ir.pl.group_abundance(mdata, groupby=\"airr:chain_pairing\", target_col=\"gex:origin\")"
   ]
  },
  {
   "cell_type": "code",
   "execution_count": null,
   "id": "6e280802-b846-471c-a0c9-010fc40c4879",
   "metadata": {},
   "outputs": [],
   "source": [
    "mdata[\"gex\"].obs[\"condition\"].isin([\"10mix\",\"11mix\"])"
   ]
  },
  {
   "cell_type": "code",
   "execution_count": null,
   "id": "a52cfe56-790f-4057-b80f-1275a874e67f",
   "metadata": {},
   "outputs": [],
   "source": [
    "ax = ir.pl.group_abundance(mdata, groupby=\"airr:chain_pairing\", target_col=\"gex:condition\", normalize=True)"
   ]
  },
  {
   "cell_type": "code",
   "execution_count": null,
   "id": "b0611e5d-642b-4659-89f5-ed3e2e78a0a6",
   "metadata": {},
   "outputs": [],
   "source": [
    "# using default parameters, `ir_dist` will compute nucleotide sequence identity\n",
    "ir.pp.ir_dist(mdata)\n"
   ]
  },
  {
   "cell_type": "code",
   "execution_count": null,
   "id": "c5e60d54-5c73-4c49-bd4c-0ccc0c775565",
   "metadata": {},
   "outputs": [],
   "source": [
    "mdata[\"airr\"].obs[\"chain_pairing\"]=mdata[\"airr\"].obs[\"chain_pairing\"].astype(\"string\")"
   ]
  },
  {
   "cell_type": "code",
   "execution_count": null,
   "id": "7ff357f3-0c11-464b-a804-b420d45bff98",
   "metadata": {},
   "outputs": [],
   "source": [
    "mdata[\"airr\"].obs.info()"
   ]
  },
  {
   "cell_type": "code",
   "execution_count": null,
   "id": "16aeb87d-331e-4e83-a561-cb4d2ab66bfe",
   "metadata": {},
   "outputs": [],
   "source": [
    "sc.pp.filter_genes(mdata[\"gex\"], min_cells=1000)\n",
    "sc.pp.filter_cells(mdata[\"gex\"], min_genes=100)"
   ]
  },
  {
   "cell_type": "code",
   "execution_count": null,
   "id": "5c302888-2323-4a63-96de-42fe3164fcb6",
   "metadata": {},
   "outputs": [],
   "source": [
    "ir.tl.define_clonotypes(mdata, receptor_arms=\"all\", dual_ir=\"primary_only\")"
   ]
  },
  {
   "cell_type": "code",
   "execution_count": null,
   "id": "428570e7-b9d3-4e79-b11b-e93a6512e47f",
   "metadata": {},
   "outputs": [],
   "source": [
    "ir.pp.ir_dist(\n",
    "    mdata,\n",
    "    metric=\"alignment\",\n",
    "    sequence=\"aa\",\n",
    "    cutoff=15,\n",
    ")"
   ]
  },
  {
   "cell_type": "code",
   "execution_count": null,
   "id": "28eee08c-9593-465c-bda7-42a05a5609ec",
   "metadata": {},
   "outputs": [],
   "source": [
    "ir.tl.define_clonotype_clusters(mdata, sequence=\"aa\", metric=\"alignment\", receptor_arms=\"all\", dual_ir=\"any\")"
   ]
  },
  {
   "cell_type": "code",
   "execution_count": null,
   "id": "cfa3f61b-e70b-4769-9ef4-b512c25acafb",
   "metadata": {},
   "outputs": [],
   "source": [
    "ir.tl.clonotype_network(mdata, min_cells=2, sequence=\"aa\", metric=\"alignment\")"
   ]
  },
  {
   "cell_type": "code",
   "execution_count": null,
   "id": "44499a66-5c20-423a-82bb-f55f73ae5c07",
   "metadata": {},
   "outputs": [],
   "source": [
    "_ = ir.pl.clonotype_network(\n",
    "    mdata,\n",
    "    color=\"gex:sample_id\",\n",
    "    label_fontsize=9,\n",
    "    panel_size=(7, 7),\n",
    "    base_size=2\n",
    ")\n"
   ]
  },
  {
   "cell_type": "code",
   "execution_count": null,
   "id": "e1b81606-7f10-4feb-892b-9689d30eb8af",
   "metadata": {},
   "outputs": [],
   "source": [
    "import scirpy as ir\n",
    "import pandas as pd\n",
    "\n",
    "# Define the desired category order\n",
    "desired_order = ['CD8_NaiveLike', 'CD8_EarlyActiv', 'CD8_EffectorMemory', 'CD8_Tpex', 'CD8_Tex']\n",
    "\n",
    "# Convert 'cell_type' to a categorical variable with the specified order\n",
    "mdata[\"gex\"].obs[\"cell_type\"] = pd.Categorical(\n",
    "    mdata[\"gex\"].obs[\"cell_type\"], \n",
    "    categories=desired_order, \n",
    "    ordered=True\n",
    ")\n",
    "mdata.update()\n",
    "# Plot clonal expansion with the specified order\n",
    "_ = ir.pl.clonal_expansion(\n",
    "    mdata,\n",
    "    target_col=\"clone_id\",\n",
    "    groupby=\"gex:cell_type\",\n",
    "    normalize=False\n",
    ")\n"
   ]
  },
  {
   "cell_type": "code",
   "execution_count": null,
   "id": "37749f24-eee6-4c6a-add1-4c31a91a4cc0",
   "metadata": {},
   "outputs": [],
   "source": [
    "_ = ir.pl.clonal_expansion(\n",
    "    mdata,\n",
    "    target_col=\"clone_id\",\n",
    "    groupby=\"gex:condition\",normalize=False\n",
    ")\n"
   ]
  },
  {
   "cell_type": "code",
   "execution_count": null,
   "id": "9110e1dd-a963-4634-9c8d-2f1c37323fad",
   "metadata": {},
   "outputs": [],
   "source": [
    "import scirpy as ir\n",
    "import pandas as pd\n",
    "\n",
    "# Define the desired category order\n",
    "desired_order = ['CD8_NaiveLike', 'CD8_EarlyActiv', 'CD8_EffectorMemory', 'CD8_Tpex', 'CD8_Tex']\n",
    "\n",
    "# Convert 'cell_type' to a categorical variable with the specified order\n",
    "mdata[\"gex\"].obs[\"cell_type\"] = pd.Categorical(\n",
    "    mdata[\"gex\"].obs[\"cell_type\"], \n",
    "    categories=desired_order, \n",
    "    ordered=True\n",
    ")\n",
    "\n",
    "\n",
    "mdata.update()\n",
    "\n",
    "\n",
    "_ = ir.pl.alpha_diversity(\n",
    "    mdata,\n",
    "    metric=\"normalized_shannon_entropy\",\n",
    "    groupby=\"gex:cell_type\"\n",
    ")"
   ]
  },
  {
   "cell_type": "code",
   "execution_count": null,
   "id": "6fa1c500-5a1c-4558-bd8b-ff2f253a6dbf",
   "metadata": {},
   "outputs": [],
   "source": [
    "ir.tl.clonotype_modularity(mdata, target_col=\"airr:cc_aa_alignment\")"
   ]
  },
  {
   "cell_type": "code",
   "execution_count": null,
   "id": "81cc1ca8-320c-427a-bc34-09bc50ecb01e",
   "metadata": {},
   "outputs": [],
   "source": [
    "_ = ir.pl.clonotype_modularity(mdata, base_size=20)"
   ]
  },
  {
   "cell_type": "code",
   "execution_count": null,
   "id": "8b177e3c-ba84-4e83-a9fd-7ea255fbc4c9",
   "metadata": {},
   "outputs": [],
   "source": [
    "clonotypes_top_modularity = list(\n",
    "\tmdata.obs.set_index(\"airr:cc_aa_alignment\")[\"airr:clonotype_modularity\"]\n",
    "\t.sort_values(ascending=False)\n",
    "\t.index.unique()\n",
    "\t.values[:1]\n",
    ")"
   ]
  },
  {
   "cell_type": "code",
   "execution_count": null,
   "id": "e2af099c-dd46-480f-8e65-0f95276d3072",
   "metadata": {},
   "outputs": [],
   "source": [
    "mu.pl.embedding(mdata,basis=\"gex:tsne\", color=[\"gex:cell_type\"])\n",
    "mu.pl.embedding(\n",
    "    mdata,\n",
    "    basis=\"gex:tsne\",\n",
    "    color=\"airr:cc_aa_alignment\",\n",
    "    groups=clonotypes_top_modularity\n",
    ")\n"
   ]
  },
  {
   "cell_type": "code",
   "execution_count": null,
   "id": "94a716ab-7f2f-480b-856e-2d2bb8a7610b",
   "metadata": {},
   "outputs": [],
   "source": []
  }
 ],
 "metadata": {
  "kernelspec": {
   "display_name": "tcr_2024",
   "language": "python",
   "name": "tcr_2024"
  },
  "language_info": {
   "codemirror_mode": {
    "name": "ipython",
    "version": 3
   },
   "file_extension": ".py",
   "mimetype": "text/x-python",
   "name": "python",
   "nbconvert_exporter": "python",
   "pygments_lexer": "ipython3",
   "version": "3.12.4"
  }
 },
 "nbformat": 4,
 "nbformat_minor": 5
}
