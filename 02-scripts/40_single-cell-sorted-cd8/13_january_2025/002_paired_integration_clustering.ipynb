{
 "cells": [
  {
   "cell_type": "markdown",
   "id": "6f87bd73-044c-479c-8eb0-6c9ae88c4604",
   "metadata": {},
   "source": [
    "# Gene expression & surface protein TIL "
   ]
  },
  {
   "cell_type": "markdown",
   "id": "7249de05-d8cb-4070-92ac-9d4d315bcffa",
   "metadata": {},
   "source": [
    "## Divide adata into: Protein and RNA "
   ]
  },
  {
   "cell_type": "code",
   "execution_count": null,
   "id": "4a08a114-6ebe-426b-b3ee-71d273467666",
   "metadata": {},
   "outputs": [],
   "source": [
    "# Libraries\n",
    "import anndata as ad\n",
    "import matplotlib as plt\n",
    "import numpy as np\n",
    "import pandas as pd\n",
    "import sc_atlas_helpers as ah\n",
    "import scanpy as sc\n",
    "from matplotlib.pyplot import rc_context\n",
    "from scipy.stats import median_abs_deviation"
   ]
  },
  {
   "cell_type": "code",
   "execution_count": null,
   "id": "97c6c214-985a-49f8-823b-cb351cbc0ffb",
   "metadata": {},
   "outputs": [],
   "source": [
    "from functools import partial\n",
    "\n",
    "import altair as alt"
   ]
  },
  {
   "cell_type": "code",
   "execution_count": null,
   "id": "98a0a10b-a3d7-43e2-8b62-d1cc1702dff1",
   "metadata": {},
   "outputs": [],
   "source": [
    "import seaborn as sns"
   ]
  },
  {
   "cell_type": "code",
   "execution_count": null,
   "id": "5babbd0f-5531-4174-8e55-91ee047e1975",
   "metadata": {},
   "outputs": [],
   "source": [
    "import decoupler as dc"
   ]
  },
  {
   "cell_type": "code",
   "execution_count": null,
   "id": "27de44d8-8a14-4018-8b3b-85b8b52b804c",
   "metadata": {},
   "outputs": [],
   "source": [
    "alt.renderers.enable(\"png\")\n",
    "alt.data_transformers.disable_max_rows()"
   ]
  },
  {
   "cell_type": "code",
   "execution_count": null,
   "id": "a9971636-338b-401b-b404-03ebdb9eb80f",
   "metadata": {},
   "outputs": [],
   "source": [
    "resDir = \"/data/projects/2021/MicrobialMetabolites/single-cell-sorted-cd8/results/40_gex_surface_prot/\"\n",
    "inputDir = \"/data/projects/2021/MicrobialMetabolites/single-cell-sorted-cd8/results/40_gex_surface_prot/\""
   ]
  },
  {
   "cell_type": "code",
   "execution_count": null,
   "id": "603582e8-86ef-4565-8dbd-d82eac24119a",
   "metadata": {
    "scrolled": true
   },
   "outputs": [],
   "source": [
    "adata = sc.read_h5ad(f\"{resDir}adata_merged_til_all_genes.h5ad\")"
   ]
  },
  {
   "cell_type": "code",
   "execution_count": null,
   "id": "c773d2a8-517e-4528-bd8b-9a60f5d3ea93",
   "metadata": {},
   "outputs": [],
   "source": [
    "adata"
   ]
  },
  {
   "cell_type": "code",
   "execution_count": null,
   "id": "8410574e-23d5-4112-9b11-caa12ecf4996",
   "metadata": {},
   "outputs": [],
   "source": [
    "adata.obs"
   ]
  },
  {
   "cell_type": "code",
   "execution_count": null,
   "id": "06fadcce-217a-4eb8-b967-8011cb2a666b",
   "metadata": {},
   "outputs": [],
   "source": [
    "adata.var[adata.var[\"gene_ids\"]==\"ENSMUSG00000060594\"]"
   ]
  },
  {
   "cell_type": "code",
   "execution_count": null,
   "id": "96b22d5e-0562-48e3-8553-7a9b0f3c633d",
   "metadata": {},
   "outputs": [],
   "source": [
    "adata.var[adata.var[\"gene_ids\"]==\"ENSMUSG00000023078\"]"
   ]
  },
  {
   "cell_type": "code",
   "execution_count": null,
   "id": "6201a567-793e-4369-b09b-9a21e436ebdb",
   "metadata": {},
   "outputs": [],
   "source": [
    "adata.obs_names = (\n",
    "    adata.obs_names + \"_\" + adata.obs[\"sample_id\"].astype(str)\n",
    ")  # to avoid duplicate obs names i combine obs names + sample_id"
   ]
  },
  {
   "cell_type": "code",
   "execution_count": null,
   "id": "8316247c-8743-430c-93ed-3315cfd036d7",
   "metadata": {},
   "outputs": [],
   "source": [
    "adata.obs"
   ]
  },
  {
   "cell_type": "markdown",
   "id": "64d62390-cb0a-4af3-9e9e-d8480be41cf7",
   "metadata": {},
   "source": [
    "## Protein"
   ]
  },
  {
   "cell_type": "code",
   "execution_count": null,
   "id": "e1242d40-9c8e-4635-a309-0075e4f8a622",
   "metadata": {},
   "outputs": [],
   "source": [
    "protein = adata[:, adata.var[\"feature_types\"] == \"Antibody Capture\"].copy()"
   ]
  },
  {
   "cell_type": "code",
   "execution_count": null,
   "id": "d53ccb30-9852-4faa-981c-e9201f9687d5",
   "metadata": {},
   "outputs": [],
   "source": [
    "#protein.obs_names = (\n",
    "#    protein.obs_names + \"_\" + protein.obs[\"sample_id\"].astype(str)\n",
    "#)  # to avoid duplicate obs names i combine obs names + sample_id"
   ]
  },
  {
   "cell_type": "code",
   "execution_count": null,
   "id": "26a65c39-86a4-42ed-9401-be9b4b7b1a0b",
   "metadata": {},
   "outputs": [],
   "source": [
    "protein.var"
   ]
  },
  {
   "cell_type": "code",
   "execution_count": null,
   "id": "103247ac-f6fb-4d31-82e8-18396da37e0e",
   "metadata": {},
   "outputs": [],
   "source": [
    "protein.layers[\"counts\"] = protein.X.copy()"
   ]
  },
  {
   "cell_type": "code",
   "execution_count": null,
   "id": "8124326f-3f59-4d2a-ad1c-cc3997d8f116",
   "metadata": {},
   "outputs": [],
   "source": [
    "sc.pp.normalize_total(protein)"
   ]
  },
  {
   "cell_type": "code",
   "execution_count": null,
   "id": "08266e84-fcf7-4c46-823a-a618da8dbc6a",
   "metadata": {},
   "outputs": [],
   "source": [
    "sc.pp.log1p(protein)"
   ]
  },
  {
   "cell_type": "code",
   "execution_count": null,
   "id": "65f6ca34-c5c1-48c2-8bec-20b40eaeb565",
   "metadata": {},
   "outputs": [],
   "source": [
    "sc.pp.pca(protein)"
   ]
  },
  {
   "cell_type": "code",
   "execution_count": null,
   "id": "3a63d151-f3c7-4ab9-a663-d553fbe00001",
   "metadata": {},
   "outputs": [],
   "source": [
    "sc.pp.neighbors(protein)  # why can't we just work with the default neighbors?"
   ]
  },
  {
   "cell_type": "code",
   "execution_count": null,
   "id": "aee36bb5-1783-4a2b-92f2-da6715518554",
   "metadata": {},
   "outputs": [],
   "source": [
    "sc.tl.leiden(protein, key_added=\"protein_leiden\", n_iterations=2)"
   ]
  },
  {
   "cell_type": "code",
   "execution_count": null,
   "id": "074c2efa-9058-4b16-b877-7c12a8b263f1",
   "metadata": {},
   "outputs": [],
   "source": [
    "sc.tl.umap(protein)"
   ]
  },
  {
   "cell_type": "code",
   "execution_count": null,
   "id": "de785190-31cb-4cd3-b798-ba54b3ea23b4",
   "metadata": {},
   "outputs": [],
   "source": [
    "protein.obsp[\"protein_connectivities\"] = protein.obsp[\"connectivities\"].copy()"
   ]
  },
  {
   "cell_type": "code",
   "execution_count": null,
   "id": "9f794488-b6f9-4015-8a22-418a6bd6c48b",
   "metadata": {
    "scrolled": true
   },
   "outputs": [],
   "source": [
    "protein"
   ]
  },
  {
   "cell_type": "markdown",
   "id": "7d740721-ceaa-46f8-883b-1c89c577fde6",
   "metadata": {},
   "source": [
    "### Protein - Visualization"
   ]
  },
  {
   "cell_type": "code",
   "execution_count": null,
   "id": "31821037-791d-4016-b5c2-ce1d896912c8",
   "metadata": {},
   "outputs": [],
   "source": [
    "# sc.tl.umap(protein)\n",
    "# sc.pl.umap(protein, color=\"protein_leiden\", size=10)"
   ]
  },
  {
   "cell_type": "code",
   "execution_count": null,
   "id": "622b18ad-86f0-42ad-ba11-a1d528767724",
   "metadata": {},
   "outputs": [],
   "source": [
    "# sc.pl.umap(protein, color=[\"PD1_TotalSeqC\",\"CD69_TotalSeqC\",\"CD44_TotalSeqC\"], size=10, vmax=\"p99\", vmin=0, cmap=\"Reds\" )"
   ]
  },
  {
   "cell_type": "code",
   "execution_count": null,
   "id": "96e0b513-cf40-4d82-afcb-42671d078e26",
   "metadata": {},
   "outputs": [],
   "source": [
    "# sc.pl.umap(protein, color=[\"ICOS_TotalSeqC\",\"CD103_TotalSeqC\"], size=10, vmax=\"p99\", vmin=0, cmap=\"Reds\" )"
   ]
  },
  {
   "cell_type": "code",
   "execution_count": null,
   "id": "0f467431-9e60-4f9f-9978-ea6a65a35531",
   "metadata": {},
   "outputs": [],
   "source": [
    "# sc.pl.umap(protein, color=\"condition\", size=10, groups = \"11mix\")"
   ]
  },
  {
   "cell_type": "markdown",
   "id": "d9eca097-f646-499f-b537-647c282a4433",
   "metadata": {},
   "source": [
    "### RNA"
   ]
  },
  {
   "cell_type": "code",
   "execution_count": null,
   "id": "49a7f5e8-6be4-46cd-98a5-a707aa455d69",
   "metadata": {
    "scrolled": true
   },
   "outputs": [],
   "source": [
    "rna = adata[:, adata.var[\"feature_types\"] == \"Gene Expression\"].copy()"
   ]
  },
  {
   "cell_type": "code",
   "execution_count": null,
   "id": "38a3e3a0-1b2b-4bac-90cc-bb11855aa3ed",
   "metadata": {},
   "outputs": [],
   "source": [
    "#rna_bottom = adata_bottom[:, adata_bottom.var[\"feature_types\"] == \"Gene Expression\"].copy()"
   ]
  },
  {
   "cell_type": "code",
   "execution_count": null,
   "id": "eb9619a1-6393-4bd6-8d55-91c317cc766f",
   "metadata": {},
   "outputs": [],
   "source": [
    "#rna.obs_names = (\n",
    "#    rna.obs_names + \"_\" + rna.obs[\"sample_id\"].astype(str)\n",
    "#)  # to avoid duplicate obs names i combine obs names + sample_id\n"
   ]
  },
  {
   "cell_type": "code",
   "execution_count": null,
   "id": "d57874a0-44d2-48b6-9220-c9e89e9e8ba2",
   "metadata": {},
   "outputs": [],
   "source": [
    "rna.layers[\"counts\"] = rna.X.copy()"
   ]
  },
  {
   "cell_type": "code",
   "execution_count": null,
   "id": "f6dd091f-9f3e-42e1-9846-78c63875090d",
   "metadata": {},
   "outputs": [],
   "source": [
    "rna.var[rna.var[\"gene_ids\"]==\"ENSMUSG00000060594\"]"
   ]
  },
  {
   "cell_type": "code",
   "execution_count": null,
   "id": "1b692e38-96a8-4944-8ae9-550e2adca998",
   "metadata": {},
   "outputs": [],
   "source": [
    "rna.var[\"mito\"] = rna.var_names.str.startswith(\"mt\")\n",
    "rna.var[\"ribo\"] = rna.var_names.str.startswith(\"rb\")\n",
    "rna.var[\"hb\"] = rna.var_names.str.startswith(\"hb\")\n",
    "sc.pp.calculate_qc_metrics(\n",
    "    rna,\n",
    "    qc_vars=[\"mito\", \"ribo\", \"hb\"],\n",
    "    inplace=True,\n",
    "    percent_top=[20],\n",
    "    log1p=True,\n",
    ")"
   ]
  },
  {
   "cell_type": "code",
   "execution_count": null,
   "id": "9b9a5881-2dd7-46d5-824e-a707d4b9330c",
   "metadata": {},
   "outputs": [],
   "source": [
    "sc.pp.normalize_total(rna)\n",
    "sc.pp.log1p(rna)"
   ]
  },
  {
   "cell_type": "code",
   "execution_count": null,
   "id": "b5ac496b-63a4-49c7-a6a0-a0e086af1adc",
   "metadata": {},
   "outputs": [],
   "source": [
    "#sc.pp.highly_variable_genes(rna, n_top_genes=2000, batch_key=\"sample_id\")"
   ]
  },
  {
   "cell_type": "code",
   "execution_count": null,
   "id": "3d2bcb2e-a562-48c1-bd1d-5c9033451be0",
   "metadata": {},
   "outputs": [],
   "source": [
    "sc.pp.highly_variable_genes(rna, n_top_genes=1000, batch_key=\"sample_id\")"
   ]
  },
  {
   "cell_type": "code",
   "execution_count": null,
   "id": "e4865a53-b823-4ee0-be94-66bd0a861f41",
   "metadata": {},
   "outputs": [],
   "source": [
    "sc.pp.pca(rna)\n",
    "sc.pp.neighbors(rna, n_neighbors=30)\n",
    "sc.tl.umap(rna)\n",
    "sc.tl.leiden(rna, key_added=\"rna_leiden\")"
   ]
  },
  {
   "cell_type": "code",
   "execution_count": null,
   "id": "0086e1d0-db89-4fda-923b-91ba158974f3",
   "metadata": {},
   "outputs": [],
   "source": [
    "sc.tl.leiden(rna, resolution=0.5, key_added=\"rna_leiden_05\")"
   ]
  },
  {
   "cell_type": "code",
   "execution_count": null,
   "id": "d5e0166b-1d84-4f91-b452-2e724ace9b81",
   "metadata": {},
   "outputs": [],
   "source": [
    "rna"
   ]
  },
  {
   "cell_type": "code",
   "execution_count": null,
   "id": "60adb0ed-56b9-4bc9-ae9a-5a61ad0c739e",
   "metadata": {},
   "outputs": [],
   "source": [
    "sc.pp.filter_genes(rna, min_cells=10)"
   ]
  },
  {
   "cell_type": "code",
   "execution_count": null,
   "id": "5809ab3d-48e0-4d2a-9f25-4502bd03eaf7",
   "metadata": {},
   "outputs": [],
   "source": [
    "rna.var[rna.var[\"gene_ids\"]==\"ENSMUSG00000060594\"]"
   ]
  },
  {
   "cell_type": "code",
   "execution_count": null,
   "id": "57f2f750-d4b4-46b4-b964-2a88ab487b5d",
   "metadata": {
    "scrolled": true
   },
   "outputs": [],
   "source": [
    "rna"
   ]
  },
  {
   "cell_type": "code",
   "execution_count": null,
   "id": "e3750adc-8b34-4fb5-a86d-be10df2dab3e",
   "metadata": {},
   "outputs": [],
   "source": [
    "# ah.pl.umap_qc_metrics(rna, vmax_total_counts=20000, vmax_n_genes=2000)\n",
    "sc.pl.umap(\n",
    "    rna,\n",
    "    color=[\"pct_counts_mito\", \"total_counts\", \"n_genes_by_counts\"],\n",
    "    cmap=\"inferno\",\n",
    "    vmin=0,\n",
    "    vmax=\"p99\",\n",
    "    sort_order=False,\n",
    "    show=False,\n",
    ")"
   ]
  },
  {
   "cell_type": "code",
   "execution_count": null,
   "id": "ec7b9cfb-0569-4688-a787-2a1840c93bb9",
   "metadata": {},
   "outputs": [],
   "source": [
    "sc.pl.umap(rna, color=[\"rna_leiden_05\", \"rna_leiden\"], size=10, legend_loc=\"on data\")"
   ]
  },
  {
   "cell_type": "code",
   "execution_count": null,
   "id": "44054f63-ebc9-46ed-b77e-b22a6243a3a0",
   "metadata": {},
   "outputs": [],
   "source": [
    "with rc_context({\"figure.figsize\": (4.5, 3)}):\n",
    "    sc.pl.violin(\n",
    "        rna,\n",
    "        [\"n_genes_by_counts\", \"pct_counts_mito\"],\n",
    "        groupby=\"rna_leiden_05\",\n",
    "        stripplot=False,  # remove the internal dots\n",
    "        inner=\"box\",  # adds a boxplot inside violins\n",
    "    )"
   ]
  },
  {
   "cell_type": "code",
   "execution_count": null,
   "id": "14ed1796-4346-4f36-b092-875a76999dbd",
   "metadata": {},
   "outputs": [],
   "source": [
    "## sp\n",
    "rna.obs[\"is_outlier_counts\"] = ah.pp.is_outlier(\n",
    "    rna, \"log1p_total_counts\", n_mads=1.5, groupby=\"sample_id\"\n",
    ")\n",
    "rna.obs[\"is_outlier_genes\"] = ah.pp.is_outlier(\n",
    "    rna, \"log1p_n_genes_by_counts\", n_mads=1.5, groupby=\"sample_id\"\n",
    ")\n",
    "rna.obs[\"is_outlier_top_20\"] = ah.pp.is_outlier(\n",
    "    rna, \"pct_counts_in_top_20_genes\", n_mads=1.5, groupby=\"sample_id\"\n",
    ")\n",
    "rna.obs[\"is_outlier_mito\"] = ah.pp.is_outlier(\n",
    "    rna, \"pct_counts_mito\", n_mads=3, groupby=\"sample_id\"\n",
    ")\n",
    "\n",
    "rna.obs[\"is_outlier\"] = (\n",
    "    np.sum(\n",
    "        rna.obs.loc[\n",
    "            :,\n",
    "            [\n",
    "                \"is_outlier_counts\",\n",
    "                \"is_outlier_genes\",\n",
    "                \"is_outlier_top_20\",\n",
    "                \"is_outlier_mito\",\n",
    "            ],\n",
    "        ],\n",
    "        axis=1,\n",
    "    )\n",
    "    >= 2\n",
    ")"
   ]
  },
  {
   "cell_type": "code",
   "execution_count": null,
   "id": "050afbb6-b54d-4c9e-8962-ce8a472e0fa2",
   "metadata": {},
   "outputs": [],
   "source": [
    "rna_filtered = rna[~rna.obs[\"is_outlier\"]].copy()"
   ]
  },
  {
   "cell_type": "code",
   "execution_count": null,
   "id": "c56f1ee5-7a51-46e7-857a-60f8fd145032",
   "metadata": {},
   "outputs": [],
   "source": [
    "rna_filtered"
   ]
  },
  {
   "cell_type": "code",
   "execution_count": null,
   "id": "d9def82e-343d-4a13-848c-af1acd0f6290",
   "metadata": {},
   "outputs": [],
   "source": [
    "sc.pl.umap(\n",
    "    rna_filtered,\n",
    "    color=[\"pct_counts_mito\", \"total_counts\", \"n_genes_by_counts\"],\n",
    "    cmap=\"inferno\",\n",
    "    vmin=0,\n",
    "    vmax=\"p99\",\n",
    "    sort_order=False,\n",
    "    show=False,\n",
    ")"
   ]
  },
  {
   "cell_type": "code",
   "execution_count": null,
   "id": "c1d69488-4d1a-489a-97a3-2d31ae410c92",
   "metadata": {},
   "outputs": [],
   "source": [
    "sc.pl.umap(\n",
    "    rna_filtered, color=[\"rna_leiden_05\", \"rna_leiden\"], size=10, legend_loc=\"on data\"\n",
    ")"
   ]
  },
  {
   "cell_type": "code",
   "execution_count": null,
   "id": "dba971e9-a6b5-4cec-bd90-f072dc14b5e7",
   "metadata": {},
   "outputs": [],
   "source": [
    "with rc_context({\"figure.figsize\": (4.5, 3)}):\n",
    "    sc.pl.violin(\n",
    "        rna_filtered,\n",
    "        [\"n_genes_by_counts\", \"pct_counts_mito\"],\n",
    "        groupby=\"rna_leiden_05\",\n",
    "        stripplot=False,  # remove the internal dots\n",
    "        inner=\"box\",  # adds a boxplot inside violins\n",
    "    )"
   ]
  },
  {
   "cell_type": "markdown",
   "id": "f4855ac0-003a-4d6e-be8e-11dbf39867b2",
   "metadata": {},
   "source": [
    "### Visualization RNA & Protein"
   ]
  },
  {
   "cell_type": "code",
   "execution_count": null,
   "id": "f1b8d3c5-2e5f-4ccd-bac9-1834d5f3bee2",
   "metadata": {},
   "outputs": [],
   "source": [
    "#### Visualization function\n",
    "def embedding_chart(df: pd.DataFrame, coord_pat: str, *, size=5) -> alt.Chart:\n",
    "    \"\"\"Make schema for coordinates, like sc.pl.embedding.\"\"\"\n",
    "    x, y = df.columns[df.columns.str.contains(coord_pat)]\n",
    "    return (\n",
    "        alt.Chart(plotdf, height=300, width=300)\n",
    "        .mark_circle(size=size)\n",
    "        .encode(\n",
    "            x=alt.X(x, axis=None),\n",
    "            y=alt.Y(y, axis=None),\n",
    "        )\n",
    "    )\n",
    "\n",
    "\n",
    "def umap_chart(df: pd.DataFrame, **kwargs) -> alt.Chart:\n",
    "    \"\"\"Like sc.pl.umap, but just the coordinates.\"\"\"\n",
    "    return embedding_chart(df, \"umap\", **kwargs)\n",
    "\n",
    "\n",
    "def encode_color(\n",
    "    c: alt.Chart, col: str, *, qdomain=(0, 1), scheme: str = \"lightgreyred\"\n",
    ") -> alt.Chart:\n",
    "    \"\"\"Add colors to an embedding plot schema.\"\"\"\n",
    "    base = c.properties(title=col)\n",
    "    if pd.api.types.is_categorical_dtype(c.data[col]):\n",
    "        return base.encode(color=col)\n",
    "    else:\n",
    "        return base.encode(\n",
    "            color=alt.Color(\n",
    "                col,\n",
    "                scale=alt.Scale(\n",
    "                    scheme=scheme,\n",
    "                    clamp=True,\n",
    "                    domain=list(c.data[col].quantile(qdomain)),\n",
    "                    nice=True,\n",
    "                ),\n",
    "            )\n",
    "        )"
   ]
  },
  {
   "cell_type": "code",
   "execution_count": null,
   "id": "ef40d0c6-8697-46e4-afbd-61849e0bbd26",
   "metadata": {},
   "outputs": [],
   "source": [
    "protein.obs"
   ]
  },
  {
   "cell_type": "code",
   "execution_count": null,
   "id": "67f63c22-efe8-48cf-8de0-2b497cd9cbf6",
   "metadata": {},
   "outputs": [],
   "source": [
    "rna.obs"
   ]
  },
  {
   "cell_type": "code",
   "execution_count": null,
   "id": "3164dcd2-1831-44e1-9b7d-f0cb775cd7a6",
   "metadata": {
    "scrolled": true
   },
   "outputs": [],
   "source": [
    "rna.obsm[\"protein\"] = protein.to_df()\n",
    "rna.obsm[\"protein_umap\"] = protein.obsm[\"X_umap\"]\n",
    "rna.obs[\"protein_leiden\"] = protein.obs[\"protein_leiden\"]\n",
    "rna.obsp[\"rna_connectivities\"] = rna.obsp[\"connectivities\"].copy()\n",
    "rna.obsp[\"protein_connectivities\"] = protein.obsp[\"protein_connectivities\"]"
   ]
  },
  {
   "cell_type": "code",
   "execution_count": null,
   "id": "77e998de-a467-4225-9222-0453c27bb770",
   "metadata": {},
   "outputs": [],
   "source": [
    "sc.tl.umap(rna)"
   ]
  },
  {
   "cell_type": "code",
   "execution_count": null,
   "id": "aae187ff-14f1-4d71-91f7-54c2ff6734db",
   "metadata": {},
   "outputs": [],
   "source": [
    "sc.pl.umap(rna, color=[\"rna_leiden\", \"protein_leiden\"], size=10)\n",
    "sc.pl.embedding(rna, basis=\"protein_umap\", color=[\"rna_leiden\", \"protein_leiden\"], size=10)"
   ]
  },
  {
   "cell_type": "markdown",
   "id": "326fa795-3077-4906-bd94-b2a71a2c7ccd",
   "metadata": {},
   "source": [
    "## Both modalities together"
   ]
  },
  {
   "cell_type": "markdown",
   "id": "1c9587b3-0548-4c07-aecd-5e8f10aceab7",
   "metadata": {},
   "source": [
    "### Visualizing"
   ]
  },
  {
   "cell_type": "code",
   "execution_count": null,
   "id": "4ebfa66e-5c0f-49d4-a93e-54a71c9ced52",
   "metadata": {},
   "outputs": [],
   "source": [
    "# Plotting protein on rna\n",
    "plotdf = sc.get.obs_df(\n",
    "    rna,\n",
    "    obsm_keys=[(\"X_umap\", i) for i in range(2)]\n",
    "    + [(\"protein\", i) for i in rna.obsm[\"protein\"].columns],\n",
    ")\n",
    "(\n",
    "    alt.concat(\n",
    "        *map(\n",
    "            partial(encode_color, umap_chart(plotdf), qdomain=(0, 0.95)),\n",
    "            plotdf.columns[2:10],\n",
    "        ),\n",
    "        columns=2\n",
    "    )\n",
    "    .resolve_scale(color=\"independent\")\n",
    "    .configure_axis(grid=False)\n",
    ")"
   ]
  },
  {
   "cell_type": "code",
   "execution_count": null,
   "id": "484717a0-99ee-49c9-b6bf-986f05c68877",
   "metadata": {},
   "outputs": [],
   "source": [
    "rna"
   ]
  },
  {
   "cell_type": "markdown",
   "id": "a20f7570-b22c-40b1-bf63-b18149c79327",
   "metadata": {},
   "source": [
    "### Clustering"
   ]
  },
  {
   "cell_type": "code",
   "execution_count": null,
   "id": "92d241e7-b177-4366-a9e5-d88f0f78e370",
   "metadata": {},
   "outputs": [],
   "source": [
    "def join_graphs_max(g1: \"sparse.spmatrix\", g2: \"sparse.spmatrix\"):\n",
    "    \"\"\"Take the maximum edge value from each graph.\"\"\"\n",
    "    out = g1.copy()\n",
    "    mask = g1 < g2\n",
    "    out[mask] = g2[mask]\n",
    "\n",
    "    return out"
   ]
  },
  {
   "cell_type": "code",
   "execution_count": null,
   "id": "59240d37-e86c-47ab-ae4e-2a55e644639f",
   "metadata": {
    "scrolled": true
   },
   "outputs": [],
   "source": [
    "rna.obsp[\"connectivities\"] = join_graphs_max(\n",
    "    rna.obsp[\"rna_connectivities\"], rna.obsp[\"protein_connectivities\"]\n",
    ")"
   ]
  },
  {
   "cell_type": "code",
   "execution_count": null,
   "id": "ea2d0282-36d1-4bb4-a199-e6800743b7a1",
   "metadata": {},
   "outputs": [],
   "source": [
    "sc.tl.leiden(rna, key_added=\"joint_leiden\")"
   ]
  },
  {
   "cell_type": "code",
   "execution_count": null,
   "id": "46ef6a0a-1266-4239-86ec-12a1afbc782b",
   "metadata": {},
   "outputs": [],
   "source": [
    "sc.tl.leiden(rna, key_added=\"joint_leiden_15\", resolution=1.5)"
   ]
  },
  {
   "cell_type": "code",
   "execution_count": null,
   "id": "a11c2119-90da-49bc-a164-b4890fc55a4e",
   "metadata": {},
   "outputs": [],
   "source": [
    "sc.pl.umap(rna, color=[\"joint_leiden\",\"joint_leiden_15\"], size=5)"
   ]
  },
  {
   "cell_type": "markdown",
   "id": "e8f12278-22e1-4731-875e-17d428e0ad28",
   "metadata": {},
   "source": [
    "### Gather data"
   ]
  },
  {
   "cell_type": "code",
   "execution_count": null,
   "id": "1db8b0c7-725f-450d-bc45-5d4acd75374a",
   "metadata": {},
   "outputs": [],
   "source": [
    "adata"
   ]
  },
  {
   "cell_type": "code",
   "execution_count": null,
   "id": "cd54a883-8c63-44ae-be89-b24666d91ac5",
   "metadata": {},
   "outputs": [],
   "source": [
    "sc.pp.filter_genes(adata, min_cells=10)"
   ]
  },
  {
   "cell_type": "code",
   "execution_count": null,
   "id": "1ab104f0-8d8d-4dc4-929a-9cad6d8f1ef2",
   "metadata": {},
   "outputs": [],
   "source": [
    "adata"
   ]
  },
  {
   "cell_type": "code",
   "execution_count": null,
   "id": "8eb307f0-f47d-4e16-b4ad-a1d3d80d3517",
   "metadata": {},
   "outputs": [],
   "source": [
    "rna"
   ]
  },
  {
   "cell_type": "code",
   "execution_count": null,
   "id": "f6908f94-1858-44eb-ac22-ee16ad990195",
   "metadata": {},
   "outputs": [],
   "source": [
    "rna.X"
   ]
  },
  {
   "cell_type": "code",
   "execution_count": null,
   "id": "3460c00e-ade7-4900-b578-03641ce0182d",
   "metadata": {},
   "outputs": [],
   "source": [
    "adata.X[:,(adata.var[\"feature_types\"]==\"Gene Expression\").values]"
   ]
  },
  {
   "cell_type": "code",
   "execution_count": null,
   "id": "1dca67a7-1cb1-4108-8d4c-cad296a6d3eb",
   "metadata": {},
   "outputs": [],
   "source": [
    "adata.X[:,(adata.var[\"feature_types\"]==\"Gene Expression\").values] = rna.X"
   ]
  },
  {
   "cell_type": "code",
   "execution_count": null,
   "id": "037ba779-d089-4611-b089-b95180768a3a",
   "metadata": {},
   "outputs": [],
   "source": [
    "adata.X[:,(adata.var[\"feature_types\"]==\"Antibody Capture\").values] = protein.X"
   ]
  },
  {
   "cell_type": "code",
   "execution_count": null,
   "id": "4397c50a-3b5a-45ad-b538-abe7aea42448",
   "metadata": {},
   "outputs": [],
   "source": [
    "adata.X[:,(adata.var[\"feature_types\"]==\"Antibody Capture\").values] = protein.X"
   ]
  },
  {
   "cell_type": "code",
   "execution_count": null,
   "id": "179ed161-5749-4325-8dd1-e18d69576477",
   "metadata": {},
   "outputs": [],
   "source": [
    "adata.obs"
   ]
  },
  {
   "cell_type": "code",
   "execution_count": null,
   "id": "77b52564-b660-4386-bc67-c014e66afe25",
   "metadata": {},
   "outputs": [],
   "source": [
    "rna.obs"
   ]
  },
  {
   "cell_type": "code",
   "execution_count": null,
   "id": "e60c44f3-c03c-40d6-afcf-04f00a4437b2",
   "metadata": {},
   "outputs": [],
   "source": [
    "adata.obsm.update(rna.obsm)"
   ]
  },
  {
   "cell_type": "code",
   "execution_count": null,
   "id": "663251d2-b97f-47cc-b108-b9636f60a3c4",
   "metadata": {},
   "outputs": [],
   "source": [
    "adata.obs[rna.obs.columns] = rna.obs"
   ]
  },
  {
   "cell_type": "code",
   "execution_count": null,
   "id": "a4596c19-e10c-437a-80fe-b7fefc49c902",
   "metadata": {},
   "outputs": [],
   "source": [
    "adata"
   ]
  },
  {
   "cell_type": "markdown",
   "id": "18b89d7b-0b72-4132-896c-e5820ec0cc04",
   "metadata": {},
   "source": [
    "### Labelling"
   ]
  },
  {
   "cell_type": "code",
   "execution_count": null,
   "id": "ce42fb9f-8a3c-468c-9126-5f007aa5e409",
   "metadata": {},
   "outputs": [],
   "source": [
    "sc.pl.umap(adata, color= [\"joint_leiden\",\"sample_id\"])"
   ]
  },
  {
   "cell_type": "code",
   "execution_count": null,
   "id": "4c61a579-d5f0-4d3b-a66b-cca9dbb52455",
   "metadata": {},
   "outputs": [],
   "source": [
    "adata"
   ]
  },
  {
   "cell_type": "code",
   "execution_count": null,
   "id": "f006241f-19a3-4b61-9889-149580747985",
   "metadata": {},
   "outputs": [],
   "source": [
    "## sp\n",
    "adata.obs[\"is_outlier_counts\"] = ah.pp.is_outlier(\n",
    "    adata, \"log1p_total_counts\", n_mads=1.5, groupby=\"sample_id\"\n",
    ")\n",
    "adata.obs[\"is_outlier_genes\"] = ah.pp.is_outlier(\n",
    "    adata, \"log1p_n_genes_by_counts\", n_mads=1.5, groupby=\"sample_id\"\n",
    ")\n",
    "adata.obs[\"is_outlier_top_20\"] = ah.pp.is_outlier(\n",
    "    adata, \"pct_counts_in_top_20_genes\", n_mads=1.5, groupby=\"sample_id\"\n",
    ")\n",
    "adata.obs[\"is_outlier_mito\"] = ah.pp.is_outlier(\n",
    "    adata, \"pct_counts_mito\", n_mads=3, groupby=\"sample_id\"\n",
    ")\n",
    "\n",
    "adata.obs[\"is_outlier\"] = (\n",
    "    np.sum(\n",
    "        rna.obs.loc[\n",
    "            :,\n",
    "            [\n",
    "                \"is_outlier_counts\",\n",
    "                \"is_outlier_genes\",\n",
    "                \"is_outlier_top_20\",\n",
    "                \"is_outlier_mito\",\n",
    "            ],\n",
    "        ],\n",
    "        axis=1,\n",
    "    )\n",
    "    >= 2\n",
    ")"
   ]
  },
  {
   "cell_type": "code",
   "execution_count": null,
   "id": "43278284-a889-45f5-acbe-2921f1665bd7",
   "metadata": {},
   "outputs": [],
   "source": [
    "adata_filtered = adata[~adata.obs[\"is_outlier\"]].copy()"
   ]
  },
  {
   "cell_type": "code",
   "execution_count": null,
   "id": "14828c85-15e6-403d-b4cd-bd7dba523861",
   "metadata": {},
   "outputs": [],
   "source": [
    "adata"
   ]
  },
  {
   "cell_type": "code",
   "execution_count": null,
   "id": "72ddd233-8fa0-460e-8c49-eedcae68c103",
   "metadata": {},
   "outputs": [],
   "source": [
    "adata_filtered"
   ]
  },
  {
   "cell_type": "code",
   "execution_count": null,
   "id": "e0b66c03-412b-44ff-8d08-23e19d2de22c",
   "metadata": {},
   "outputs": [],
   "source": [
    "adata = adata_filtered"
   ]
  },
  {
   "cell_type": "markdown",
   "id": "9c578797-b3e3-4c40-a32c-b7096059fb0c",
   "metadata": {},
   "source": [
    "### Subset adata bottom part check markers and integrate back"
   ]
  },
  {
   "cell_type": "code",
   "execution_count": null,
   "id": "fe1bf97d-7d07-4b91-88d4-efea31cc9cf5",
   "metadata": {},
   "outputs": [],
   "source": [
    "sc.pl.umap(adata, color= [\"joint_leiden\",\"sample_id\"])"
   ]
  },
  {
   "cell_type": "markdown",
   "id": "1d8671cb-d62f-4d44-99f9-b95a4ec591fe",
   "metadata": {},
   "source": [
    "## Cell type annotation from marker genes"
   ]
  },
  {
   "cell_type": "markdown",
   "id": "e2fb88db-19a2-4b44-840c-2e5bedaab708",
   "metadata": {},
   "source": [
    "### Marker genes"
   ]
  },
  {
   "cell_type": "markdown",
   "id": "139ab920-c839-4345-9a7d-3253c5a2b0c2",
   "metadata": {},
   "source": [
    "* Tissue Resident Memory T (TRM) \n",
    "CD103 \n",
    "- https://www.ncbi.nlm.nih.gov/pmc/articles/PMC6104123/\n",
    "\n",
    "- ICOS\n",
    "\n",
    " https://pubmed.ncbi.nlm.nih.gov/34932944/\n",
    "\n",
    " Cycling CD8+ T \n",
    "-  Mki67 +\n",
    "\n",
    "-  T cell subset\n",
    "-  https://www.ncbi.nlm.nih.gov/pmc/articles/PMC7115982/"
   ]
  },
  {
   "cell_type": "code",
   "execution_count": null,
   "id": "545a1d7d-f926-4480-b9e9-6d96d157cd57",
   "metadata": {},
   "outputs": [],
   "source": [
    "# Markers from publication doi: 10.1038/s41568-019-0235-4\n",
    "#CD8+ T cell states in human cancer: insights from single-cell analysis\n",
    "# Reference study: Zhang (CRC) Human \n",
    "naive_markers = [\"Lef1\",\"Sell\",\"Ccr7\",\"Tcf7\",\"Cd27\",\"Cd28\",\"S1pr1\"] # Naive-like\n",
    "effector_memory_markers = [\"Gzmk\",\"Cxcr4\",\"Cxcr3\",\"Cd44\"] #Predysfunctional\n",
    "exhausted_markers = [\"Havcr2\",\"Pdcd1\",\"Ifng\",\"Itgae\"] #  Dysfunctional #Layn, Cxcl13 not found\n",
    "activated_effector_memory_marker  = [\"Cx3cr1\",\"Klrg1\",\"Prf1\",\"Tbx21\",\"Eomes\",\"S1pr1\",\"S1pr5\"] # Temra, #Cytotoxic #not found \"Fcgr3a\",\"Fgfbp2\"\"Gzmh\"\n",
    "\n",
    "#* not described in table 1 \n",
    "central_memory_markers = [\"Gpr183\",\"Ccr7\",\"Sell\",\"Il7r\",\"Cd27\",\"Cd28\",\"Gzma\",\"Ccl5\",\"S1pr1\",\"Gzma\"] # not described in table 1 \n",
    "tissue_resident_memory_markers = [\"Cd6\",\"Myadm\",\"Capg\",\"Rora\",\"Nr4a1\",\"Nr4a2\",\"Nr4a3\",\"Cd69\",\"Itgae\"] # not described in table 1  #not found \"Cxcl1\" ,\"Xcl2\"\n",
    "\n",
    "#**Tumour type-specific T cell subsets that are not included in Table 1\n",
    "intraepitheliel_lymphocytes_markers = [\"Cd160\",\"Klrc1\",\"Klrc2\",\"Klrc3\",\"Ikzf2\",\"Entpd1\",\"Cd69\",\"Itgae\",\"Nr4a1\",\"Nr4a2\"] #IEL #\"Kir2dl4\",\"Timigd2\"\n",
    "mucosal_associated_invariant_markers = [\"Slc4a10\",\"Zbtb16\",\"Klrb1\",\"Rora\"] # MAIT # not found \"Rorc\""
   ]
  },
  {
   "cell_type": "code",
   "execution_count": null,
   "id": "b6810b75-9037-4257-9991-6cc6feef712e",
   "metadata": {},
   "outputs": [],
   "source": [
    "# Plotting protein on rna\n",
    "plotdf = sc.get.obs_df(\n",
    "    rna,\n",
    "    obsm_keys=[(\"X_umap\", i) for i in range(2)]\n",
    "    + [(\"protein\", i) for i in rna.obsm[\"protein\"].columns],\n",
    ")\n",
    "(\n",
    "    alt.concat(\n",
    "        *map(\n",
    "            partial(encode_color, umap_chart(plotdf), qdomain=(0, 0.95)),\n",
    "            plotdf.columns[2:10],\n",
    "        ),\n",
    "        columns=2\n",
    "    )\n",
    "    .resolve_scale(color=\"independent\")\n",
    "    .configure_axis(grid=False)\n",
    ")"
   ]
  },
  {
   "cell_type": "code",
   "execution_count": null,
   "id": "b989cdbf-465a-477b-8a2b-3b20feceee22",
   "metadata": {},
   "outputs": [],
   "source": [
    "sc.pl.umap(adata, color=exhausted_markers,\n",
    "    cmap=\"Reds\",\n",
    "    vmin=0,\n",
    "    vmax=\"p99\",\n",
    "    sort_order=False,\n",
    "    show=False)"
   ]
  },
  {
   "cell_type": "code",
   "execution_count": null,
   "id": "fb02f578-9a7d-4cdb-a988-cfde252d5fd9",
   "metadata": {},
   "outputs": [],
   "source": [
    "ax = sc.pl.dotplot(adata, exhausted_markers, groupby='joint_leiden', log=True)"
   ]
  },
  {
   "cell_type": "code",
   "execution_count": null,
   "id": "e4e44df4-fc05-4ae2-8b56-d215f905c94f",
   "metadata": {},
   "outputs": [],
   "source": [
    "#Early disfunciton markers https://www.nature.com/articles/s41577-021-00574-3/figures/2 \n",
    "sc.pl.umap(adata, color=[\"Lag3\",\"Cd38\",\"Entpd1\",\"Havcr2\",\"Tox\",\"Gzmk\"],\n",
    "    cmap=\"Reds\",\n",
    "    vmin=0,\n",
    "    vmax=\"p99\",\n",
    "    sort_order=False,\n",
    "    show=False)"
   ]
  },
  {
   "cell_type": "code",
   "execution_count": null,
   "id": "f29fc148-70f9-4b29-80d2-4d5ee31f4b14",
   "metadata": {},
   "outputs": [],
   "source": [
    "ax = sc.pl.dotplot(adata, [\"Lag3\",\"Cd38\",\"Entpd1\",\"Havcr2\",\"Tox\",\"Gzmk\"], groupby='joint_leiden', log=True)"
   ]
  },
  {
   "cell_type": "code",
   "execution_count": null,
   "id": "767e33ed-3dab-4f43-9321-2e21f2cc40e4",
   "metadata": {},
   "outputs": [],
   "source": [
    "sc.pl.umap(adata, color=central_memory_markers,\n",
    "    cmap=\"Reds\",\n",
    "    vmin=0,\n",
    "    vmax=\"p99\",\n",
    "    sort_order=False,\n",
    "    show=False)"
   ]
  },
  {
   "cell_type": "code",
   "execution_count": null,
   "id": "3c03a128-3299-4651-83d6-1e8823b1e897",
   "metadata": {},
   "outputs": [],
   "source": [
    "ax = sc.pl.dotplot(adata, central_memory_markers, groupby='joint_leiden', log=True)"
   ]
  },
  {
   "cell_type": "code",
   "execution_count": null,
   "id": "5bdb1381-9e3a-453e-85d5-91a2ac0fee77",
   "metadata": {},
   "outputs": [],
   "source": [
    "#tissue_resident_memory_markers\n",
    "mks =  [\"Cd3e\",\"Itgae\",\"Cd8a\",\"Zfp683\",\"Ifng\",\"Gzma\",\"Gzmb\",\"Prf1\",\"Pdcd1\",\"Ctla4\",\"Havcr2\",\"Lag3\"] #https://www.nature.com/articles/s41416-023-02202-4/figures/2\n",
    "sc.pl.umap(adata, color=mks,\n",
    "    cmap=\"Reds\",\n",
    "    vmin=0,\n",
    "    vmax=\"p99\",\n",
    "    sort_order=False,\n",
    "    show=False)"
   ]
  },
  {
   "cell_type": "code",
   "execution_count": null,
   "id": "f707e118-6310-423b-ad5f-a4dcb53b0988",
   "metadata": {},
   "outputs": [],
   "source": [
    "ax = sc.pl.dotplot(adata, [\"Cd3e\",\"Itgae\",\"Cd8a\",\"Zfp683\",\"Ifng\",\"Gzma\",\"Gzmb\",\"Prf1\",\"Pdcd1\",\"Ctla4\",\"Havcr2\",\"Lag3\"], groupby='joint_leiden', log=True)"
   ]
  },
  {
   "cell_type": "markdown",
   "id": "9d4fe375-6b12-44cb-9811-e29628e86953",
   "metadata": {},
   "source": [
    "### Annotate"
   ]
  },
  {
   "cell_type": "code",
   "execution_count": null,
   "id": "0f7c0a3a-72a9-4212-8a77-44565d2853b1",
   "metadata": {},
   "outputs": [],
   "source": [
    "sc.pl.umap(adata, color='joint_leiden')"
   ]
  },
  {
   "cell_type": "code",
   "execution_count": null,
   "id": "41207cf2-37aa-4ca2-845a-eb9bdb6f050f",
   "metadata": {},
   "outputs": [],
   "source": [
    "annotation_dict = {\n",
    "    '0':'Exhasuted/Early to late dysfunctional',\n",
    "    '1':'Exhasuted/Early to late dysfunctional',\n",
    "    '2':'Exhasuted/Early to late dysfunctional',\n",
    "    '3':'Trm/Tcm/Naive/CTL',\n",
    "    '4':'Trm/Tcm/Naive/CTL',\n",
    "    '5':'Exhasuted/Early to late dysfunctional',\n",
    "    '6':'Exhasuted/Early to late dysfunctional'}"
   ]
  },
  {
   "cell_type": "code",
   "execution_count": null,
   "id": "8d97696e-a643-47f4-9813-3e3faf4b8517",
   "metadata": {},
   "outputs": [],
   "source": [
    "## Add cell type column based on annotation\n",
    "adata.obs['cell_type'] = [annotation_dict[clust] for clust in adata.obs['joint_leiden']]\n",
    "\n",
    "# Visualize\n",
    "sc.pl.umap(adata, color='cell_type')"
   ]
  },
  {
   "cell_type": "code",
   "execution_count": null,
   "id": "8a2a2d4d-5742-41b3-93a1-7910d1845bdd",
   "metadata": {},
   "outputs": [],
   "source": [
    "#adata.write_h5ad(f\"{resDir}/adata_merged_til_annotated.h5ad\")"
   ]
  },
  {
   "cell_type": "code",
   "execution_count": null,
   "id": "be04d1ee-b51b-45a0-83c4-483bf48219ad",
   "metadata": {},
   "outputs": [],
   "source": [
    "adata.write_h5ad(f\"{resDir}/adata_merged_til_annotated_new.h5ad\")"
   ]
  },
  {
   "cell_type": "code",
   "execution_count": null,
   "id": "df601067-ab69-4202-87bf-7ec835be0e08",
   "metadata": {},
   "outputs": [],
   "source": []
  }
 ],
 "metadata": {
  "kernelspec": {
   "display_name": "crc_atlas",
   "language": "python",
   "name": "crc_atlas"
  },
  "language_info": {
   "codemirror_mode": {
    "name": "ipython",
    "version": 3
   },
   "file_extension": ".py",
   "mimetype": "text/x-python",
   "name": "python",
   "nbconvert_exporter": "python",
   "pygments_lexer": "ipython3",
   "version": "3.11.6"
  }
 },
 "nbformat": 4,
 "nbformat_minor": 5
}
