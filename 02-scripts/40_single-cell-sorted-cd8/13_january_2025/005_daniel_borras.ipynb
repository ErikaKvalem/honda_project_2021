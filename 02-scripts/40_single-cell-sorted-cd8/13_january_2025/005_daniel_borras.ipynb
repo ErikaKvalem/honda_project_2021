{
 "cells": [
  {
   "cell_type": "code",
   "execution_count": null,
   "id": "22f47a42-42bc-4b65-b01d-f4e1472915fd",
   "metadata": {},
   "outputs": [],
   "source": [
    "import scanpy as sc\n",
    "import pandas as pd\n",
    "import seaborn as sns"
   ]
  },
  {
   "cell_type": "code",
   "execution_count": null,
   "id": "cbf0dbc9-b433-4656-9340-f2f659115601",
   "metadata": {},
   "outputs": [],
   "source": [
    "from statannot import add_stat_annotation\n",
    "from statannotations.Annotator import Annotator"
   ]
  },
  {
   "cell_type": "code",
   "execution_count": null,
   "id": "e7a9d285-70b1-4e3a-8348-26af17972a66",
   "metadata": {},
   "outputs": [],
   "source": [
    "adata = sc.read_h5ad(\"/data/projects/2021/MicrobialMetabolites/single-cell-sorted-cd8/results/40_gex_surface_prot/13_january_2025/mapped_data/mapped_til_colon.h5ad\")"
   ]
  },
  {
   "cell_type": "code",
   "execution_count": null,
   "id": "7757f446-4f6c-4377-93a2-9c11dea3cf59",
   "metadata": {},
   "outputs": [],
   "source": [
    "adata.obs.cell_type = adata.obs.cell_type.replace(\"nan\",\"CD8_NaiveLike\")"
   ]
  },
  {
   "cell_type": "code",
   "execution_count": null,
   "id": "8b5b7c7e-e19a-4cce-a544-62b88b046256",
   "metadata": {},
   "outputs": [],
   "source": [
    "adata.obs.origin =  adata.obs.origin.replace(\"colon\",\"normal\")"
   ]
  },
  {
   "cell_type": "code",
   "execution_count": null,
   "id": "0d786784-8021-43e0-9a24-2a16f2f4f489",
   "metadata": {},
   "outputs": [],
   "source": [
    "adata.obs.origin =  adata.obs.origin.replace(\"til\",\"tumor\")"
   ]
  },
  {
   "cell_type": "code",
   "execution_count": null,
   "id": "33fcda3a-0044-468d-91e3-5506db1c91bf",
   "metadata": {},
   "outputs": [],
   "source": [
    "adata_normal = adata[adata.obs[\"origin\"]==\"normal\"]"
   ]
  },
  {
   "cell_type": "code",
   "execution_count": null,
   "id": "aabe3104-655d-444c-a392-1fa2cd0aebf5",
   "metadata": {},
   "outputs": [],
   "source": [
    "adata_tumor = adata[adata.obs[\"origin\"]==\"tumor\"]"
   ]
  },
  {
   "cell_type": "code",
   "execution_count": null,
   "id": "a32dc3e6-6fbc-4bbc-9aa3-33708dba1fdf",
   "metadata": {},
   "outputs": [],
   "source": [
    "# Check if 'Ifng' is in the variable names\n",
    "if 'ENSMUSG00000055170' in adata.var_names:\n",
    "    # Safely extract the expression values for 'Ifng'\n",
    "    ifng_expression = (\n",
    "        adata[:, 'ENSMUSG00000055170'].X.toarray().flatten()\n",
    "        if hasattr(adata[:, 'ENSMUSG00000055170'].X, \"toarray\")\n",
    "        else adata[:, 'ENSMUSG00000055170'].X.flatten()\n",
    "    )\n",
    "    \n",
    "    # Add Ifng expression status to adata.obs\n",
    "    adata.obs['Ifng_expression'] = (ifng_expression > 7).astype(int)\n",
    "    \n",
    "    # Create a new column 'ifng' based on 'Ifng_expression'\n",
    "    adata.obs['ifng'] = adata.obs['Ifng_expression'].apply(lambda x: 'pos' if x == 1 else 'neg')\n",
    "else:\n",
    "    print(\"Gene 'Ifng' not found in adata.var_names\")\n"
   ]
  },
  {
   "cell_type": "code",
   "execution_count": null,
   "id": "19a1aef2-2aa4-4e25-9497-d3f0ac20ad4f",
   "metadata": {},
   "outputs": [],
   "source": [
    "adata.obs.sample_id.value_counts()"
   ]
  },
  {
   "cell_type": "code",
   "execution_count": null,
   "id": "64b26b15-d053-449c-b13c-de8c9c22af29",
   "metadata": {},
   "outputs": [],
   "source": [
    "adata.obs.origin.value_counts()"
   ]
  },
  {
   "cell_type": "code",
   "execution_count": null,
   "id": "480fdd95-fd76-4ec1-8eb6-ae6430e84fba",
   "metadata": {},
   "outputs": [],
   "source": [
    "#adata = adata[adata.obs[\"sample_id\"].isin([\"10mix1\",\"10mix2\",\"11mix1\",\"11mix2\",\"10mix_ICI1\",\"10mix_ICI2\",\"11mix_ICI1\",\"11mix_ICI2\"])]"
   ]
  },
  {
   "cell_type": "code",
   "execution_count": null,
   "id": "7db76c1b-18e4-4f26-b345-8900c3c81228",
   "metadata": {},
   "outputs": [],
   "source": [
    "#adata = adata[adata.obs[\"sample_id\"].isin([\"GF1\",\"GF2\",\"11mix1\",\"11mix2\",\"GF_ICI1\",\"GF_ICI2\",\"GF_ICI1_plus\",\"GF_ICI2_plus\"])]"
   ]
  },
  {
   "cell_type": "code",
   "execution_count": null,
   "id": "16e72a88-d5ef-4a1a-97f8-5b112f1bded0",
   "metadata": {},
   "outputs": [],
   "source": [
    "#adata_normal = adata[adata.obs['sample_id'].isin([\"10mix1\", \"11mix1\", \"10mix2\", \"11mix2\",\"GF1\",\"GF2\"])]\n",
    "#adata_tumor = adata[adata.obs['sample_id'].isin([\"10mix_ICI1\", \"11mix_ICI1\", \"10mix_ICI2\", \"11mix_ICI2\",\"GF_ICI2_plus\",\"GF_ICI1_plus\",\"GF_ICI1\",\"GF_ICI2\"])]\n"
   ]
  },
  {
   "cell_type": "code",
   "execution_count": null,
   "id": "acc62624-a6fa-4dd4-bfd4-7280da99047b",
   "metadata": {},
   "outputs": [],
   "source": [
    "adata.obs['cell_type_2'] = adata.obs['cell_type'].astype(str) + \"_\" + adata.obs['origin'].astype(str)"
   ]
  },
  {
   "cell_type": "code",
   "execution_count": null,
   "id": "1c184950-066c-4fe5-a226-3985fb56089d",
   "metadata": {},
   "outputs": [],
   "source": [
    "adata.obs['cell_type_2'].value_counts()"
   ]
  },
  {
   "cell_type": "code",
   "execution_count": null,
   "id": "510eefcc-cd5a-40c7-ba28-01fe21ca534c",
   "metadata": {},
   "outputs": [],
   "source": [
    "annotation_dict = {\n",
    "    \"CD8_Tex_tumor\": \"CD8_Tex_tumor\",\n",
    "    \"CD8_NaiveLike_tumor\": \"CD8_NaiveLike_tumor\",\n",
    "    \"CD8_EffectorMemory_tumor\": \"CD8_EffectorMemory_tumor\",\n",
    "    \"CD8_NaiveLike_normal\":\"CD8_NaiveLike_normal\",\n",
    "    \"CD8_Tex_normal\":\"CD8_EffectorMemory_normal\",\n",
    "    \"CD8_EarlyActiv_normal\":\"CD8_EffectorMemory_normal\",\n",
    "    \"CD8_EarlyActiv_tumor\":\"CD8_EarlyActiv_tumor\",\n",
    "    \"CD8_Tpex_tumor\":\"CD8_Tpex_tumor\",\n",
    "\n",
    "}\n",
    "## Add cell type column based on annotation\n",
    "adata.obs[\"cell_type_2\"] = [\n",
    "    annotation_dict[clust] for clust in adata.obs[\"cell_type_2\"]\n",
    "]\n",
    "\n"
   ]
  },
  {
   "cell_type": "code",
   "execution_count": null,
   "id": "b03ef140-072d-47c3-a907-16c25514c8be",
   "metadata": {},
   "outputs": [],
   "source": [
    "adata_normal.obs['cell_type'].value_counts()"
   ]
  },
  {
   "cell_type": "code",
   "execution_count": null,
   "id": "03188c66-9e5c-4b8d-814f-e254b51e9fca",
   "metadata": {},
   "outputs": [],
   "source": [
    "adata_tumor.obs['cell_type'].value_counts()"
   ]
  },
  {
   "cell_type": "code",
   "execution_count": null,
   "id": "16c4f3f8-537f-47b5-aed1-0b45b08fbaee",
   "metadata": {},
   "outputs": [],
   "source": [
    "adata.obs['sample_id'].value_counts()"
   ]
  },
  {
   "cell_type": "code",
   "execution_count": null,
   "id": "83cc63ca-d41c-4100-9fe0-6d9376c82af5",
   "metadata": {},
   "outputs": [],
   "source": [
    "adata_normal.obs['sample_id'].value_counts()"
   ]
  },
  {
   "cell_type": "code",
   "execution_count": null,
   "id": "0092c931-0dc8-4300-a8ea-3b62f9024f0f",
   "metadata": {},
   "outputs": [],
   "source": [
    "adata_tumor.obs['sample_id'].value_counts()"
   ]
  },
  {
   "cell_type": "code",
   "execution_count": null,
   "id": "0facb930-506d-4d62-8b6f-6c4826de7ff1",
   "metadata": {},
   "outputs": [],
   "source": [
    "# Group by 'sample_id' and 'cell_type', and count the number of cells in each group\n",
    "cell_counts = (\n",
    "    adata.obs.groupby([\"sample_id\",\"ifng\"])\n",
    "    .size()\n",
    "    .reset_index(name='counts')\n",
    ")\n",
    "\n",
    "# Calculate the total number of cells per sample_id\n",
    "total_counts_per_sample = cell_counts.groupby('sample_id')['counts'].transform('sum')\n",
    "\n",
    "# Calculate the percentage of each cell type within each sample_id\n",
    "cell_counts['percent'] = (cell_counts['counts'] / total_counts_per_sample) \n",
    "\n",
    "# Convert to a DataFrame (if needed)\n",
    "cell_counts_df = pd.DataFrame(cell_counts)"
   ]
  },
  {
   "cell_type": "code",
   "execution_count": null,
   "id": "aec8ba33-47b6-40b2-8004-351e97b5f477",
   "metadata": {
    "scrolled": true
   },
   "outputs": [],
   "source": [
    "cell_counts_df "
   ]
  },
  {
   "cell_type": "code",
   "execution_count": null,
   "id": "77337f68-d666-4ea1-9dcb-8a4620684a33",
   "metadata": {},
   "outputs": [],
   "source": [
    "data=cell_counts_df"
   ]
  },
  {
   "cell_type": "code",
   "execution_count": null,
   "id": "b49fff6f-e74f-4468-93ce-a32fd2c17c05",
   "metadata": {},
   "outputs": [],
   "source": [
    "data['condition1'] = data['sample_id'].apply(lambda x: 'GF' if 'GF' in str(x) else '')"
   ]
  },
  {
   "cell_type": "code",
   "execution_count": null,
   "id": "87cd92e5-c2b3-466d-bd1b-19a5f63a3ff1",
   "metadata": {},
   "outputs": [],
   "source": [
    "data['condition2'] = data['sample_id'].apply(lambda x: '10mix' if '10' in str(x) else '')"
   ]
  },
  {
   "cell_type": "code",
   "execution_count": null,
   "id": "bc014c8c-256c-4543-9fdb-465282ab964b",
   "metadata": {},
   "outputs": [],
   "source": [
    "data['condition3'] = data['sample_id'].apply(lambda x: '11mix' if '11' in str(x) else '')"
   ]
  },
  {
   "cell_type": "code",
   "execution_count": null,
   "id": "c8044a45-c18e-4533-adc6-cbe945117c0c",
   "metadata": {},
   "outputs": [],
   "source": [
    "data[\"condition\"] = data[\"condition1\"].astype(\"str\") +  data[\"condition2\"].astype(\"str\") + data[\"condition3\"].astype(\"str\") "
   ]
  },
  {
   "cell_type": "code",
   "execution_count": null,
   "id": "aec57e8d-f934-4f74-aa39-eb8d4f42bf14",
   "metadata": {},
   "outputs": [],
   "source": [
    "data"
   ]
  },
  {
   "cell_type": "code",
   "execution_count": null,
   "id": "d08aa99a-065e-4023-a7bc-9c9ec532f8b9",
   "metadata": {},
   "outputs": [],
   "source": [
    "x=\"condition\"\n",
    "y='percent'\n",
    "hue=\"condition\""
   ]
  },
  {
   "cell_type": "code",
   "execution_count": null,
   "id": "507c98fb-7b25-4938-9d3f-20ec5bb85406",
   "metadata": {},
   "outputs": [],
   "source": [
    "data=cell_counts_df[[\"undefined\" not in x for x in cell_counts_df.condition]&(cell_counts_df[\"ifng\"]==\"pos\")]\n",
    "data.sort_values(by=\"condition\", inplace=True)"
   ]
  },
  {
   "cell_type": "code",
   "execution_count": null,
   "id": "8992a2a3-3ae2-4d6b-a93a-c1485da7ab8a",
   "metadata": {
    "scrolled": true
   },
   "outputs": [],
   "source": [
    "data"
   ]
  },
  {
   "cell_type": "code",
   "execution_count": null,
   "id": "1b4b68ef-4a01-4748-a5df-2346435aaa15",
   "metadata": {},
   "outputs": [],
   "source": [
    "specific_order = [ \"GF\", \"10mix\", \"11mix\"]  # Replace with your desired order\n",
    "data['condition'] = pd.Categorical(data['condition'], categories=specific_order, ordered=True)\n",
    "g=sns.boxplot(y=y, x=x, data=data, palette=[\"orange\",\"lightblue\"])#kind=\"box\",\n",
    "sns.stripplot(y=y, x=x, data=data, palette=[\"orange\",\"lightblue\"], dodge=True, alpha=0.6, edgecolor=\"black\", linewidth=0.5)\n",
    "\n",
    "add_stat_annotation(g, data=data, x=x, y=y, \n",
    "                    box_pairs=[\n",
    "                               (\"10mix\", \"11mix\"),(\"GF\",\"11mix\")\n",
    "                       \n",
    "                                ],\n",
    "                    test='Mann-Whitney', text_format='simple', loc='inside', verbose=0, comparisons_correction='bonferroni')\n",
    "\n",
    "\n",
    "\n",
    "g.figure.set_figwidth(5)\n",
    "g.figure.set_figheight(4)\n",
    "g.set_xticklabels(g.get_xticklabels(), rotation=90)\n",
    "g.set_ylabel(\"% IFNG+ cells\")\n",
    "g.set_xlabel(\"\")"
   ]
  },
  {
   "cell_type": "code",
   "execution_count": null,
   "id": "cf1b0570-36c3-432d-857f-134076eb6ada",
   "metadata": {},
   "outputs": [],
   "source": [
    "x=\"condition\"\n",
    "y='percent'\n",
    "hue=\"condition\""
   ]
  },
  {
   "cell_type": "code",
   "execution_count": null,
   "id": "52b3c3a6-37b4-473c-8ade-ec436f35a589",
   "metadata": {},
   "outputs": [],
   "source": [
    "g=sns.boxplot(y=y, x=x, data=data, palette=[\"orange\",\"lightblue\"])#kind=\"box\",\n",
    "sns.stripplot(y=y, x=x, data=data, palette=[\"orange\",\"lightblue\"], dodge=True, alpha=0.6, edgecolor=\"black\", linewidth=0.5)\n",
    "\n",
    "add_stat_annotation(g, data=data, x=x, y=y, \n",
    "                    box_pairs=[(\"10mix\",\"11mix\"),\n",
    "                    \n",
    "                          \n",
    "                                ],\n",
    "                   test='Mann-Whitney', text_format='simple', loc='inside', verbose=0)#, comparisons_correction='bonferroni')\n",
    "\n",
    "\n",
    "g.figure.set_figwidth(5)\n",
    "g.figure.set_figheight(4)\n",
    "g.set_title(\"Tumor: Condition differences\")\n",
    "g.set_xticklabels(g.get_xticklabels(), rotation=90)\n",
    "g.set_ylabel(\"Percent Ifng+ cells\")\n",
    "g.set_xlabel(\"\")"
   ]
  },
  {
   "cell_type": "code",
   "execution_count": null,
   "id": "a52a34e1-9aea-497d-9314-1b5620b3a15a",
   "metadata": {},
   "outputs": [],
   "source": [
    "x=\"sample_id\"\n",
    "y='percent'\n",
    "hue=\"sample_id\""
   ]
  },
  {
   "cell_type": "code",
   "execution_count": null,
   "id": "f4177619-ef15-4760-8efb-9273ede86e92",
   "metadata": {},
   "outputs": [],
   "source": [
    "g=sns.boxplot(y=y, x=x, data=data, palette=[\"orange\",\"lightblue\"])#kind=\"box\",\n",
    "sns.stripplot(y=y, x=x, data=data, palette=[\"orange\",\"lightblue\"], dodge=True, alpha=0.6, edgecolor=\"black\", linewidth=0.5)\n",
    "\n",
    "\n",
    "\n",
    "g.figure.set_figwidth(5)\n",
    "g.figure.set_figheight(4)\n",
    "g.set_title(\"Tumor: Sample differences\")\n",
    "g.set_xticklabels(g.get_xticklabels(), rotation=90)\n",
    "g.set_ylabel(\"Percent Ifng+ cells\")\n",
    "g.set_xlabel(\"\")"
   ]
  },
  {
   "cell_type": "code",
   "execution_count": null,
   "id": "a89f36f3-c3c9-43f1-8012-2e281b529a3f",
   "metadata": {
    "scrolled": true
   },
   "outputs": [],
   "source": [
    "import matplotlib.pyplot as plt\n",
    "\n",
    "# Define a function to extract Ifng expression levels for a given dataset\n",
    "def extract_ifng_expression(adata, gene='ENSMUSG00000055170', threshold=0):\n",
    "    if gene in adata.var_names:\n",
    "        ifng_expression = (\n",
    "            adata[:, gene].X.toarray().flatten()\n",
    "            if hasattr(adata[:, gene].X, \"toarray\")\n",
    "            else adata[:, gene].X.flatten()\n",
    "        )\n",
    "        # Filter cells that express Ifng based on the threshold\n",
    "        return ifng_expression[ifng_expression > threshold], adata.obs['condition'][ifng_expression > threshold]\n",
    "    else:\n",
    "        return None, None\n",
    "\n",
    "# Extract Ifng expression levels and conditions for each dataset\n",
    "ifng_expression_adata, condition_adata = extract_ifng_expression(adata)\n",
    "ifng_expression_normal, condition_normal = extract_ifng_expression(adata[adata.obs['sample_id'].isin([\"10mix1\", \"11mix1\", \"10mix2\", \"11mix2\"])])\n",
    "ifng_expression_tumor, condition_tumor = extract_ifng_expression(adata[adata.obs['sample_id'].isin([\"10mix_ICI1\", \"11mix_ICI1\", \"10mix_ICI2\", \"11mix_ICI2\"])])\n",
    "\n",
    "# Create a figure with 3 subplots\n",
    "plt.figure(figsize=(18, 6))\n",
    "\n",
    "# Plot histogram for adata, colored by condition\n",
    "plt.subplot(1, 3, 1)\n",
    "plt.hist(ifng_expression_adata[condition_adata == '10mix'], bins=30, edgecolor='black', alpha=0.7, label='10mix', color='blue')\n",
    "plt.hist(ifng_expression_adata[condition_adata == '11mix'], bins=30, edgecolor='black', alpha=0.7, label='11mix', color='orange')\n",
    "plt.title('Ifng Expression (Tumor & Normal)')\n",
    "plt.xlabel('Ifng Expression Level')\n",
    "plt.ylabel('Number of Cells')\n",
    "plt.legend(title=\"Condition\")\n",
    "\n",
    "# Plot histogram for adata_normal, colored by condition\n",
    "plt.subplot(1, 3, 2)\n",
    "plt.hist(ifng_expression_normal[condition_normal == '10mix'], bins=30, edgecolor='black', alpha=0.7, label='10mix', color='blue')\n",
    "plt.hist(ifng_expression_normal[condition_normal == '11mix'], bins=30, edgecolor='black', alpha=0.7, label='11mix', color='orange')\n",
    "plt.title('Ifng Expression (Normal)')\n",
    "plt.xlabel('Ifng Expression Level')\n",
    "plt.ylabel('Number of Cells')\n",
    "plt.legend(title=\"Condition\")\n",
    "\n",
    "# Plot histogram for adata_tumor, colored by condition\n",
    "plt.subplot(1, 3, 3)\n",
    "plt.hist(ifng_expression_tumor[condition_tumor == '10mix'], bins=30, edgecolor='black', alpha=0.7, label='10mix', color='blue')\n",
    "plt.hist(ifng_expression_tumor[condition_tumor == '11mix'], bins=30, edgecolor='black', alpha=0.7, label='11mix', color='orange')\n",
    "plt.title('Ifng Expression (Tumor)')\n",
    "plt.xlabel('Ifng Expression Level')\n",
    "plt.ylabel('Number of Cells')\n",
    "plt.legend(title=\"Condition\")\n",
    "\n",
    "# Adjust layout to prevent overlap\n",
    "plt.tight_layout()\n",
    "\n",
    "# Show the plot\n",
    "plt.show()\n",
    "\n"
   ]
  },
  {
   "cell_type": "code",
   "execution_count": null,
   "id": "ea5fb44b-ef56-4e79-a3fe-cc3128e307b3",
   "metadata": {
    "scrolled": true
   },
   "outputs": [],
   "source": [
    "adata.obs"
   ]
  },
  {
   "cell_type": "code",
   "execution_count": null,
   "id": "d0e63022-dabb-494e-b8f8-46968ee307b7",
   "metadata": {},
   "outputs": [],
   "source": [
    "### annotation"
   ]
  },
  {
   "cell_type": "code",
   "execution_count": null,
   "id": "72dc3a8a-64bf-4d1f-84a3-a6dacbd01f86",
   "metadata": {},
   "outputs": [],
   "source": [
    "marker_dict_small  = {\"CD8_NaiveLike\":[\n",
    "    \"Ccr7\",\n",
    "\"Il7r\",\n",
    "\"Sell\",\n",
    "\"Tcf7\",\n",
    "\"Txk\",\n",
    "\"S1pr1\",\n",
    "\"Lef1\",\n",
    "\"Satb1\",\n",
    "],\"CD8_EarlyActiv\":[\n",
    "\"Fosb\",\n",
    "\"Gzmm\",\n",
    "\"Samd3\",\n",
    "\"Cxcr4\",\n",
    "\"Btg2\"\n",
    "], \"CD8_EffectorMemory\":[\"Gzma\",\n",
    "\"Gzmk\",\n",
    "\"Gzmb\",\n",
    "\"Ccl5\",\n",
    "],\"CD8_Tpex\":[\n",
    "\"Xcl1\",\n",
    "\"Crtam\",\n",
    "\"Ifng\",\n",
    "\"Ccl4\",\n",
    "\"Dusp4\",\n",
    "\"Zeb2\",\n",
    "\"Nr4a2\",\n",
    "\"Sla\",\n",
    "],\"CD8_Tex\":[\"Pdcd1\",\n",
    "\"Prf1\",\n",
    "\"Havcr2\",\n",
    "] }"
   ]
  },
  {
   "cell_type": "code",
   "execution_count": null,
   "id": "ed28e416-1df0-403d-b13c-8a643627cba4",
   "metadata": {},
   "outputs": [],
   "source": [
    "marker_dict_small_normal  = {\"CD8_NaiveLike\":[\n",
    "    \"Ccr7\",\n",
    "\"Il7r\",\n",
    "\"Sell\",\n",
    "\"Tcf7\",\n",
    "\"Txk\",\n",
    "\"S1pr1\",\n",
    "\"Lef1\",\n",
    "\"Satb1\",\n",
    "],\"CD8_EarlyActiv\":[\n",
    "\"Fosb\",\n",
    "\"Gzmm\",\n",
    "\"Samd3\",\n",
    "\"Cxcr4\",\n",
    "\"Btg2\"\n",
    "],\"CD8_Tex\":[\"Pdcd1\",\n",
    "\"Prf1\",\n",
    "\"Havcr2\",\n",
    "\"Nkg7\",\n",
    "\"Cd8b1\",\n",
    "\"Ctsd\",\n",
    "] }"
   ]
  },
  {
   "cell_type": "code",
   "execution_count": null,
   "id": "df46725c-cae4-4267-882d-88242a78a85d",
   "metadata": {
    "scrolled": true
   },
   "outputs": [],
   "source": [
    "adata.obs.cell_type_2.value_counts()"
   ]
  },
  {
   "cell_type": "code",
   "execution_count": null,
   "id": "98e71fa1-8512-426e-a70a-2376dbda3cd7",
   "metadata": {},
   "outputs": [],
   "source": [
    "# Specify the desired order of the categories\n",
    "desired_order = [\"CD8_NaiveLike_normal\",\"CD8_EarlyActiv_normal\",\"CD8_Tex_normal\",\"CD8_NaiveLike_tumor\",\"CD8_EarlyActiv_tumor\",\"CD8_EffectorMemory_tumor\",\"CD8_Tpex_tumor\",\"CD8_Tex_tumor\"]\n",
    "\n",
    "# Reorder the categories in adata.obs['leiden_res0_25']\n",
    "adata.obs[\"cell_type_2\"] = pd.Categorical(\n",
    "    adata.obs[\"cell_type_2\"],\n",
    "    categories=desired_order,\n",
    "    ordered=True\n",
    ")"
   ]
  },
  {
   "cell_type": "code",
   "execution_count": null,
   "id": "59f81265-c3df-49e9-9011-1226d511397d",
   "metadata": {},
   "outputs": [],
   "source": [
    "sc.pl.dotplot(adata, marker_dict_small, groupby='cell_type_2',gene_symbols=\"gene_name\",dendrogram=False,  standard_scale ='var', cmap = \"viridis\")#, save =\"mapped_annotation_tumor_normal.svg\")"
   ]
  },
  {
   "cell_type": "code",
   "execution_count": null,
   "id": "bd518971-8c39-4637-a7d5-c2ee32117ac0",
   "metadata": {
    "scrolled": true
   },
   "outputs": [],
   "source": [
    "sc.pl.matrixplot(adata, marker_dict_small, groupby='cell_type',gene_symbols=\"gene_name\",dendrogram=False,  standard_scale ='var', cmap = \"viridis\",  )#, save =\"mapped_annotation_tumor_normal.svg\")"
   ]
  },
  {
   "cell_type": "code",
   "execution_count": null,
   "id": "b4fd85cc-bc0c-4204-b7bc-44effb866af6",
   "metadata": {},
   "outputs": [],
   "source": [
    "sc.pl.matrixplot(adata, marker_dict_small, groupby='cell_type',gene_symbols=\"gene_name\",dendrogram=False,  standard_scale ='var', cmap = \"viridis\" )#, save =\"mapped_annotation_tumor_normal.svg\")"
   ]
  },
  {
   "cell_type": "code",
   "execution_count": null,
   "id": "d06c7cf0-5183-4625-ac3d-1f79713501da",
   "metadata": {},
   "outputs": [],
   "source": [
    "# Specify the desired order of the categories\n",
    "desired_order = [\"CD8_NaiveLike\",\"CD8_EarlyActiv\",\"CD8_Tex\"]\n",
    "\n",
    "# Reorder the categories in adata.obs['leiden_res0_25']\n",
    "adata_normal.obs[\"cell_type\"] = pd.Categorical(\n",
    "    adata_normal.obs[\"cell_type\"],\n",
    "    categories=desired_order,\n",
    "    ordered=True\n",
    ")"
   ]
  },
  {
   "cell_type": "code",
   "execution_count": null,
   "id": "4d237762-0915-4441-a522-54ee945f9521",
   "metadata": {
    "scrolled": true
   },
   "outputs": [],
   "source": [
    "sc.pl.dotplot(adata_normal, marker_dict_small_normal, groupby='cell_type',gene_symbols=\"gene_name\",dendrogram=False,  standard_scale ='var', cmap='viridis' )#, save =\"mapped_annotation_tumor_normal.svg\")"
   ]
  },
  {
   "cell_type": "code",
   "execution_count": null,
   "id": "8ed391f9-4b94-4ea4-a782-1092d92b6122",
   "metadata": {},
   "outputs": [],
   "source": [
    "# Specify the desired order of the categories\n",
    "desired_order = [\"CD8_NaiveLike\",\"CD8_EarlyActiv\",\"CD8_EffectorMemory\",\"CD8_Tpex\",\"CD8_Tex\"]\n",
    "\n",
    "# Reorder the categories in adata.obs['leiden_res0_25']\n",
    "adata_tumor.obs[\"cell_type\"] = pd.Categorical(\n",
    "    adata_tumor.obs[\"cell_type\"],\n",
    "    categories=desired_order,\n",
    "    ordered=True\n",
    ")"
   ]
  },
  {
   "cell_type": "code",
   "execution_count": null,
   "id": "ed78d300-a3ff-4f94-a9d6-1f792229278e",
   "metadata": {},
   "outputs": [],
   "source": [
    "sc.pl.matrixplot(adata, marker_dict_small, groupby='cell_type_2',gene_symbols=\"gene_name\",dendrogram=False,  standard_scale ='var', cmap='viridis')#, save =\"mapped_annotation_tumor_normal.svg\")"
   ]
  },
  {
   "cell_type": "code",
   "execution_count": null,
   "id": "1655db50-f948-4bf2-87e8-3223a678cb2d",
   "metadata": {},
   "outputs": [],
   "source": [
    "sc.pl.matrixplot(adata, \"Ifng\", groupby='condition',gene_symbols=\"gene_name\",cmap='viridis')#, save =\"mapped_annotation_tumor_normal.svg\")"
   ]
  },
  {
   "cell_type": "code",
   "execution_count": null,
   "id": "a87b8f58-c0ba-4dd7-a934-d16ac93a3d05",
   "metadata": {},
   "outputs": [],
   "source": [
    "sc.pl.umap(adata, color = \"cell_type_2\")"
   ]
  },
  {
   "cell_type": "code",
   "execution_count": null,
   "id": "86753bad-c764-498b-9194-102d3b044753",
   "metadata": {},
   "outputs": [],
   "source": [
    "adata.obs.cell_type.value_counts()"
   ]
  },
  {
   "cell_type": "code",
   "execution_count": null,
   "id": "278cfff5-83a4-4211-be67-4d1fce2e47ff",
   "metadata": {},
   "outputs": [],
   "source": [
    "adata.obs.leiden_res0_5.value_counts()"
   ]
  },
  {
   "cell_type": "code",
   "execution_count": null,
   "id": "06476287-01fd-4cfb-8a6f-f8b103a4413b",
   "metadata": {},
   "outputs": [],
   "source": [
    "sc.pl.umap(adata, color = [\"cell_type\"])"
   ]
  },
  {
   "cell_type": "code",
   "execution_count": null,
   "id": "8a6324bf-4a1d-4b1d-bad9-a8c86ee1405e",
   "metadata": {},
   "outputs": [],
   "source": [
    "sc.pl.umap(adata, color = [\"leiden\"], groups=[\"2\"])"
   ]
  },
  {
   "cell_type": "code",
   "execution_count": null,
   "id": "ea4335d4-0bb7-41d2-b03a-c7f6249fcdbe",
   "metadata": {},
   "outputs": [],
   "source": [
    "annotation_dict = {\n",
    "    \"0\": \"CD8_Tex_Tumor\",\n",
    "    \"1\": \"CD8_EffectorMemory_Tumor\",\n",
    "    \"2\": \"\",\n",
    "    \"3\": \"\",\n",
    "    \"4\": \"\",\n",
    "    \"5\": \"\",\n",
    "    \"6\": \"\",\n",
    "    \"7\": \"\",\n",
    "    \"8\": \"\",\n",
    "    \"9\": \"\",\n",
    "    \"10\": \"\",\n",
    "    \"11\": \"\",\n",
    "    \"12\": \"\",\n",
    "    \"13\": \"\",\n",
    "    \"14\": \"\",\n",
    "\n",
    "\n",
    "}\n",
    "## Add cell type column based on annotation\n",
    "adata.obs[\"cell_type_2\"] = [\n",
    "    annotation_dict[clust] for clust in adata.obs[\"leiden\"]\n",
    "]\n"
   ]
  },
  {
   "cell_type": "code",
   "execution_count": null,
   "id": "b65a03c0-1b2b-4678-8748-91e7c867866f",
   "metadata": {},
   "outputs": [],
   "source": [
    "marker_dict  = {\"CD8_NaiveLike\":[\n",
    "    \"Ccr7\",\n",
    "\"Il7r\",\n",
    "\"Sell\",\n",
    "\"Tcf7\",\n",
    "\"Txk\",\n",
    "\"S1pr1\",\n",
    "\"Lef1\",\n",
    "\"Satb1\",\n",
    "],\"CD8_EarlyActiv\":[\"Gzmk\",\n",
    "\"Fos\",\n",
    "\"Cd69\",\n",
    "\"Zfp36\",\n",
    "\"Fosb\",\n",
    "\"Ccl5\",\n",
    "\"Gzmm\",\n",
    "\"Dusp2\",\n",
    "\"Lyar\",\n",
    "\"Samd3\",\n",
    "\"Cxcr4\",\n",
    "\"Ctsw\",\n",
    "\"Cd8a\",\n",
    "\"Anxa1\",\n",
    "\"Klrg1\",\n",
    "\"Cd8b1\",\n",
    "\"Aoah\",\n",
    "\"Tagap\",\n",
    "\"Klrd1\",\n",
    "\"Ier2\",\n",
    "\"Gzma\",\n",
    "\"Cst7\",\n",
    "\"Itm2c\",\n",
    "\"Parp8\",\n",
    "\"Btg2\"], \"CD8_EffectorMemory\":[\"Gzma\",\n",
    "\"Gzmk\",\n",
    "\"Nkg7\",\n",
    "\"Cd8a\",\n",
    "\"Cd8b1\",\n",
    "\"Ctsw\",\n",
    "\"Gzmb\",\n",
    "\"Ccl5\",\n",
    "\"Cst7\",\n",
    "\"Prf1\",\n",
    "\"Abi3\",\n",
    "\"Fasl\",\n",
    "\"Itm2c\",\n",
    "\"1500009L16Rik\",\n",
    "\"Eomes\",\n",
    "\"Chst12\",\n",
    "\"Ccr5\",\n",
    "\"Hcst\",\n",
    "\"Aoah\",\n",
    "\"Hopx\",\n",
    "\"Slamf7\",\n",
    "\"Cxcr3\",\n",
    "\"Oasl1\",\n",
    "\"F2r\",\n",
    "\"Cxcr6\"],\"CD8_Tpex\":[\"Lag3\",\n",
    "\"Xcl1\",\n",
    "\"Crtam\",\n",
    "\"Ifng\",\n",
    "\"Ccl4\",\n",
    "\"Pdcd1\",\n",
    "\"Dusp4\",\n",
    "\"Cd8a\",\n",
    "\"Zeb2\",\n",
    "\"Nr4a2\",\n",
    "\"Sla\",\n",
    "\"Nkg7\",\n",
    "\"Tigit\",\n",
    "\"Ctsw\",\n",
    "\"Tnfrsf9\",\n",
    "\"Tox\",\n",
    "\"Lyst\",\n",
    "\"Tnfsf4\",\n",
    "\"Ccl3\",\n",
    "\"Gzmb\",\n",
    "\"Rab27a\",\n",
    "\"Prf1\",\n",
    "\"Cd70\",\n",
    "\"Plscr1\",],\"CD8_Tex\":[\"Lag3\",\n",
    "\"Prf1\",\n",
    "\"Cd8a\",\n",
    "\"Havcr2\",\n",
    "\"Gzmb\",\n",
    "\"Nkg7\",\n",
    "\"Cd8b1\",\n",
    "\"Ctsd\",\n",
    "\"Klrd1\",\n",
    "\"Id2\",\n",
    "\"Cst7\",\n",
    "\"Pdcd1\",\n",
    "\"Tnfrsf9\",\n",
    "\"Tigit\",\n",
    "\"Ctsw\",\n",
    "\"Ccl4\",\n",
    "\"Ccl3\",\n",
    "\"Ifng\",\n",
    "\"Cxcr6\",\n",
    "\"Fasl\",\n",
    "\"Rbpj\",\n",
    "\"Chst12\",\n",
    "\"Fam3c\",\n",
    "\"Csf1\"] }"
   ]
  },
  {
   "cell_type": "code",
   "execution_count": null,
   "id": "de642b92-6204-4763-8682-a2ab1bc69084",
   "metadata": {},
   "outputs": [],
   "source": [
    "sc.pl.clustermap(adata_tumor)"
   ]
  },
  {
   "cell_type": "code",
   "execution_count": null,
   "id": "9ebd27f7-36d8-4c36-a268-5fbcd4e069a6",
   "metadata": {},
   "outputs": [],
   "source": [
    "u=sns.FacetGrid(adata.obs,  col=\"ifng\",hue='cell_type', sharey=False, sharex=True, height=2, aspect=2, margin_titles=True, col_wrap=4)\n",
    "u.map_dataframe(sns.histplot, x=\"cell_type\",common_norm=True, stat='count')\n",
    "u.set_xticklabels(rotation=\"vertical\")"
   ]
  },
  {
   "cell_type": "code",
   "execution_count": null,
   "id": "0c7d3830-f6e3-4163-8927-1b8c6c081762",
   "metadata": {},
   "outputs": [],
   "source": [
    "sc.pp.highly_variable_genes(adata, min_disp=0.1, min_mean=0.01, max_mean=50)"
   ]
  },
  {
   "cell_type": "code",
   "execution_count": null,
   "id": "618f9934-5abf-4c7c-bf57-f41e6326b748",
   "metadata": {},
   "outputs": [],
   "source": [
    "sc.pl.highly_variable_genes(adata)"
   ]
  },
  {
   "cell_type": "code",
   "execution_count": null,
   "id": "b4c438aa-6d62-496f-9aad-f0937bd72467",
   "metadata": {},
   "outputs": [],
   "source": [
    "adata.var[\"variance\"] = adata.to_df().var()"
   ]
  },
  {
   "cell_type": "code",
   "execution_count": null,
   "id": "752c0269-f2ee-492c-8baa-64d82f047961",
   "metadata": {},
   "outputs": [],
   "source": [
    "adata.var[\"variance\"]"
   ]
  },
  {
   "cell_type": "code",
   "execution_count": null,
   "id": "750ee50b-07a2-4538-89f7-41cec6393342",
   "metadata": {},
   "outputs": [],
   "source": [
    "adata.var"
   ]
  },
  {
   "cell_type": "code",
   "execution_count": null,
   "id": "5b0b29c9-b74e-4161-854d-e5eccd217f79",
   "metadata": {},
   "outputs": [],
   "source": [
    "sns.scatterplot(data=adata.var, x=\"means\", y=\"variance\")"
   ]
  },
  {
   "cell_type": "code",
   "execution_count": null,
   "id": "910f2bc7-6aab-4495-8694-0c29f0b3825b",
   "metadata": {},
   "outputs": [],
   "source": [
    "f=sns.pointplot(data=adata[:,adata.var.variance>0.1].var, y=\"gene_name\", x=\"variance\", color=\"orange\",\n",
    "              order=[\n",
    "\"Cxcr6\",\n",
    "\"Chst12\",\n",
    "\"Fam3c\",\n",
    "\"Csf1\"]\n",
    "               )\n",
    "#f.figure.savefig(resultsDir+\"/variance_genes_CD8_MSI.png\",  bbox_inches='tight')"
   ]
  },
  {
   "cell_type": "code",
   "execution_count": null,
   "id": "c24143ce-8c4f-42ed-8dbe-fb5e34e135ec",
   "metadata": {},
   "outputs": [],
   "source": [
    "adata.var"
   ]
  },
  {
   "cell_type": "code",
   "execution_count": null,
   "id": "b76cf81a-f317-4754-a991-27b43cd0e323",
   "metadata": {},
   "outputs": [],
   "source": [
    "sc.pl.highest_expr_genes(adata,gene_symbols=\"gene_name\")#, save=\"boxplot_CD8_NormMSI.png\")"
   ]
  },
  {
   "cell_type": "code",
   "execution_count": null,
   "id": "cc6c2b87-5beb-46a1-9b0c-b16aa459ab9a",
   "metadata": {},
   "outputs": [],
   "source": [
    "sc.pl.highest_expr_genes(adata_tumor,gene_symbols=\"gene_name\")#, save=\"boxplot_CD8_NormMSI.png\")"
   ]
  },
  {
   "cell_type": "code",
   "execution_count": null,
   "id": "82cc5cbd-0ccb-4f98-b949-36fa0e567de9",
   "metadata": {},
   "outputs": [],
   "source": [
    "sc.pl.highest_expr_genes(adata_normal,gene_symbols=\"gene_name\")#, save=\"boxplot_CD8_NormMSI.png\")"
   ]
  },
  {
   "cell_type": "code",
   "execution_count": null,
   "id": "774afc91-26b2-488b-9540-ad3b0eb80137",
   "metadata": {},
   "outputs": [],
   "source": [
    "adata.obs"
   ]
  },
  {
   "cell_type": "code",
   "execution_count": null,
   "id": "6145464e-cf86-4ec7-a6b8-23868fcd3e03",
   "metadata": {},
   "outputs": [],
   "source": [
    "adata.to_df()"
   ]
  },
  {
   "cell_type": "code",
   "execution_count": null,
   "id": "d16556c2-4e65-4685-b52c-9a6f4ea5394a",
   "metadata": {},
   "outputs": [],
   "source": [
    "f=sns.kdeplot(data=adata.to_df(), x=\"ENSMUSG00000055170\", common_norm=False, color=\"tab:orange\", linestyle=\":\")\n",
    "sns.kdeplot(data=adata_tumor.to_df(), x=\"ENSMUSG00000055170\", common_norm=False, color=\"tab:blue\", linestyle=\":\")\n",
    "sns.kdeplot(data=adata_normal.to_df(), x=\"ENSMUSG00000055170\", common_norm=False, color=\"tab:orange\")\n",
    "f.axvline(x=0.2, color=\"black\", linestyle=\":\")\n",
    "f.grid(False)\n",
    "#f.figure.savefig(resultsDir+\"/kdeplot_CD8_IFNGdist_BOTHmsimsswithNorm.png\")\n",
    "#f.figure.savefig(resultsDir+\"/kdeplot_CD8_IFNGdist_BOTHmsimsswithNorm.svg\")"
   ]
  },
  {
   "cell_type": "code",
   "execution_count": null,
   "id": "c22925bf-5176-45b4-99c0-db0e6e80a1bb",
   "metadata": {},
   "outputs": [],
   "source": [
    "f=sns.kdeplot(data=adata.to_df(), x=\"ENSMUSG00000055170\", common_norm=False, color=\"tab:orange\", linestyle=\":\")\n",
    "sns.kdeplot(data=adata_tumor.to_df(), x=\"ENSMUSG00000055170\", common_norm=False, color=\"tab:blue\", linestyle=\":\")\n",
    "sns.kdeplot(data=adata_normal.to_df(), x=\"ENSMUSG00000055170\", common_norm=False, color=\"tab:orange\")\n",
    "f.axvline(x=0.2, color=\"black\", linestyle=\":\")\n",
    "f.grid(False)\n",
    "#f.figure.savefig(resultsDir+\"/kdeplot_CD8_IFNGdist_BOTHmsimsswithNorm.png\")\n",
    "#f.figure.savefig(resultsDir+\"/kdeplot_CD8_IFNGdist_BOTHmsimsswithNorm.svg\")"
   ]
  },
  {
   "cell_type": "code",
   "execution_count": null,
   "id": "469a2d73-f760-47b4-aefb-fe391e92ccb6",
   "metadata": {},
   "outputs": [],
   "source": [
    "sc.pl.clustermap(adata)"
   ]
  },
  {
   "cell_type": "code",
   "execution_count": null,
   "id": "821aeb6e-1af6-47e0-9ec5-644013b6d8b0",
   "metadata": {},
   "outputs": [],
   "source": []
  }
 ],
 "metadata": {
  "kernelspec": {
   "display_name": "scanpy",
   "language": "python",
   "name": "scanpy"
  },
  "language_info": {
   "codemirror_mode": {
    "name": "ipython",
    "version": 3
   },
   "file_extension": ".py",
   "mimetype": "text/x-python",
   "name": "python",
   "nbconvert_exporter": "python",
   "pygments_lexer": "ipython3",
   "version": "3.12.3"
  }
 },
 "nbformat": 4,
 "nbformat_minor": 5
}
