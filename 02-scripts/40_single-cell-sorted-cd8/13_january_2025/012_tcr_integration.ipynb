{
 "cells": [
  {
   "cell_type": "code",
   "execution_count": null,
   "id": "29b44345-2e2a-406d-8914-bdd43b6a6fd0",
   "metadata": {},
   "outputs": [],
   "source": [
    "import scirpy as ir"
   ]
  },
  {
   "cell_type": "code",
   "execution_count": null,
   "id": "827d71b7-2511-4794-9645-fae71980fde2",
   "metadata": {},
   "outputs": [],
   "source": [
    "ir.__version__"
   ]
  },
  {
   "cell_type": "code",
   "execution_count": null,
   "id": "099deac6-a035-46f8-8bb1-16fe0f4433c4",
   "metadata": {},
   "outputs": [],
   "source": [
    "import scanpy as sc"
   ]
  },
  {
   "cell_type": "code",
   "execution_count": null,
   "id": "ef26172b-dc44-4b66-9473-b65a1817f5fc",
   "metadata": {},
   "outputs": [],
   "source": [
    "from glob import glob\n",
    "import warnings\n",
    "import tarfile\n",
    "\n",
    "import anndata\n",
    "import matplotlib.pyplot as plt\n",
    "import pandas as pd\n",
    "import scanpy as sc"
   ]
  },
  {
   "cell_type": "code",
   "execution_count": null,
   "id": "866191c0-8f30-4e3e-bd87-db79d1d5a994",
   "metadata": {},
   "outputs": [],
   "source": [
    "import muon as mu"
   ]
  },
  {
   "cell_type": "code",
   "execution_count": null,
   "id": "3f65c3ec-dfcf-4485-a48b-10f8affc8dcd",
   "metadata": {},
   "outputs": [],
   "source": [
    "import numpy as np"
   ]
  },
  {
   "cell_type": "code",
   "execution_count": null,
   "id": "3f422db7-79be-4756-b8ea-98dc53340c92",
   "metadata": {},
   "outputs": [],
   "source": [
    "samples = {\n",
    "    \"10mix1\": {\"group\": \"10mix\"},\n",
    "    \"10mix2\": {\"group\": \"10mix\"},\n",
    "    \"11mix1\": {\"group\": \"11mix\"},\n",
    "    \"11mix2\": {\"group\": \"11mix\"},\n",
    "    \"GF1\": {\"group\": \"GF\"},\n",
    "    \"GF2\": {\"group\": \"GF\"},\n",
    "\n",
    "}    \n",
    "    \n",
    "# Create a list of AnnData objects (one for each sample)\n",
    "adatas_tcr = {}\n",
    "adatas_gex = {}\n",
    "for sample, sample_meta in samples.items():\n",
    "    #adata_gex = sc.read_10x_h5(f\"/data/projects/2021/MicrobialMetabolites/single-cell-sorted-cd8/2019-10-29_sorted_cd8/analyses_icbi/{sample}/outs/per_sample_outs/{sample}/count/sample_filtered_feature_bc_matrix.h5\")\n",
    "    adata_tcr = ir.io.read_10x_vdj(f\"/data/projects/2021/MicrobialMetabolites/single-cell-sorted-cd8/2019-10-29_sorted_cd8/analyses_icbi/{sample}/outs/per_sample_outs/{sample}/vdj_t/filtered_contig_annotations.csv\")\n",
    "    # concatenation only works with unique gene names\n",
    "    #adata_gex.var_names_make_unique()\n",
    "    adatas_tcr[sample] = adata_tcr\n",
    "    #adatas_gex[sample] = adata_gex"
   ]
  },
  {
   "cell_type": "code",
   "execution_count": null,
   "id": "c2b7a9b1-290d-423a-a89e-8ed3311392b5",
   "metadata": {},
   "outputs": [],
   "source": [
    "samples = {\n",
    "    \"10mix-ICI1\": {\"group\": \"10mix\", \"condition\":\"ICI\"},\n",
    "    \"10mix-ICI2\": {\"group\": \"10mix\",\"condition\":\"ICI\"},\n",
    "    \"11mix-ICI1\": {\"group\": \"11mix\",\"condition\":\"ICI\"},\n",
    "    \"11mix-ICI2\": {\"group\": \"11mix\",\"condition\":\"ICI\"},\n",
    "    \"GF-ICI1\": {\"group\": \"GF\",\"condition\":\"No ICI\"},\n",
    "    \"GF-ICI2\": {\"group\": \"GF\",\"condition\":\"No ICI\"},\n",
    "    \"GF-ICI1-plus\": {\"group\": \"GF-plus\",\"condition\":\"ICI\"},\n",
    "    \"GF-ICI2-plus\": {\"group\": \"GF-plus\",\"condition\":\"ICI\"},\n",
    "\n",
    "\n",
    "}    \n",
    "    \n",
    "# Create a list of AnnData objects (one for each sample)\n",
    "adatas_tcr_2021 = {}\n",
    "#adatas_gex_2021 = {}\n",
    "for sample, sample_meta in samples.items():\n",
    "    #adata_gex_2021 = sc.read_10x_h5(f\"/data/projects/2021/MicrobialMetabolites/single-cell-sorted-cd8/2021-02-01_sorted_cd8_til/analyses_icbi/{sample}/outs/per_sample_outs/{sample}/count/sample_filtered_feature_bc_matrix.h5\")\n",
    "    adata_tcr_2021 = ir.io.read_10x_vdj(f\"/data/projects/2021/MicrobialMetabolites/single-cell-sorted-cd8/2021-02-01_sorted_cd8_til/analyses_icbi/{sample}/outs/per_sample_outs/{sample}/vdj_t/filtered_contig_annotations.csv\")\n",
    "    # concatenation only works with unique gene names\n",
    "    #adata_gex_2021.var_names_make_unique()\n",
    "    adatas_tcr_2021[sample] = adata_tcr_2021\n",
    "    #adatas_gex_2021[sample] = adata_gex_2021"
   ]
  },
  {
   "cell_type": "code",
   "execution_count": null,
   "id": "e5b73278-5532-4914-afd1-5c641b211a02",
   "metadata": {},
   "outputs": [],
   "source": [
    "samples = {\n",
    "    \"10mix-ICI1\": {\"group\": \"10mix\", \"condition\":\"ICI\"},\n",
    "    \"10mix-ICI2\": {\"group\": \"10mix\",\"condition\":\"ICI\"},\n",
    "    \"11mix-ICI1\": {\"group\": \"11mix\",\"condition\":\"ICI\"},\n",
    "    \"11mix-ICI2\": {\"group\": \"11mix\",\"condition\":\"ICI\"},\n",
    "    \"GF-ICI1\": {\"group\": \"GF\",\"condition\":\"No ICI\"},\n",
    "    \"GF-ICI2\": {\"group\": \"GF\",\"condition\":\"No ICI\"},\n",
    "    \"GF-ICI1-plus\": {\"group\": \"GF-plus\",\"condition\":\"ICI\"},\n",
    "    \"GF-ICI2-plus\": {\"group\": \"GF-plus\",\"condition\":\"ICI\"},\n",
    "    \"10mix1\": {\"group\": \"10mix\", \"condition\":\"naive\"},\n",
    "    \"10mix2\": {\"group\": \"10mix\", \"condition\":\"naive\"},\n",
    "    \"11mix1\": {\"group\": \"11mix\", \"condition\":\"naive\"},\n",
    "    \"11mix2\": {\"group\": \"11mix\", \"condition\":\"naive\"},\n",
    "    \"GF1\": {\"group\": \"GF\", \"condition\":\"naive\"},\n",
    "    \"GF2\": {\"group\": \"GF\", \"condition\":\"naive\"},\n",
    "}    "
   ]
  },
  {
   "cell_type": "markdown",
   "id": "e58fb2f5-ca10-46f8-b547-75d54b6674aa",
   "metadata": {},
   "source": [
    "### TCR 2019 NORMAL"
   ]
  },
  {
   "cell_type": "code",
   "execution_count": null,
   "id": "29dad767-2efe-4a89-a122-ca527f945faf",
   "metadata": {},
   "outputs": [],
   "source": [
    "adata_tcr"
   ]
  },
  {
   "cell_type": "code",
   "execution_count": null,
   "id": "66931fc6-3494-48c3-8284-51c99b6dc9e1",
   "metadata": {},
   "outputs": [],
   "source": [
    "# Merge anndata objects\n",
    "adata_tcr = anndata.concat(adatas_tcr, index_unique=\"_\")"
   ]
  },
  {
   "cell_type": "code",
   "execution_count": null,
   "id": "e2c46f7c-84f4-40d2-bdcd-84cf61c32e8c",
   "metadata": {
    "scrolled": true
   },
   "outputs": [],
   "source": [
    "adata_tcr.obs"
   ]
  },
  {
   "cell_type": "markdown",
   "id": "565471b0-4797-4f53-b05f-785ffb978c70",
   "metadata": {},
   "source": [
    "### TCR 2021 TUMOR"
   ]
  },
  {
   "cell_type": "code",
   "execution_count": null,
   "id": "6b312684-19e8-4a39-8302-12f8cf188566",
   "metadata": {},
   "outputs": [],
   "source": [
    "adata_tcr_2021"
   ]
  },
  {
   "cell_type": "code",
   "execution_count": null,
   "id": "936b3fa3-48f6-44b3-96e3-f63f35fd2de7",
   "metadata": {},
   "outputs": [],
   "source": [
    "# Merge anndata objects\n",
    "adata_tcr_2021 = anndata.concat(adatas_tcr_2021, index_unique=\"_\")"
   ]
  },
  {
   "cell_type": "code",
   "execution_count": null,
   "id": "3d090faa-1c49-43ea-9763-263e43e7ecf5",
   "metadata": {},
   "outputs": [],
   "source": [
    "adata_tcr_2021.obs"
   ]
  },
  {
   "cell_type": "markdown",
   "id": "3397c4fe-b183-4f68-bff7-8bfb2be2dce7",
   "metadata": {},
   "source": [
    "### Load GEX"
   ]
  },
  {
   "cell_type": "code",
   "execution_count": null,
   "id": "af27e5d2-5e6f-4619-b524-415b266317f4",
   "metadata": {},
   "outputs": [],
   "source": [
    "adata = sc.read_h5ad(\"mapped_til_colon.h5ad\")"
   ]
  },
  {
   "cell_type": "code",
   "execution_count": null,
   "id": "ebfa28cf-3df3-411c-8d46-05263dcd2aa8",
   "metadata": {},
   "outputs": [],
   "source": [
    "adata.var"
   ]
  },
  {
   "cell_type": "code",
   "execution_count": null,
   "id": "aae79b39-1322-4415-a89e-b77d04b75fbd",
   "metadata": {},
   "outputs": [],
   "source": [
    "adata.obs.origin =  adata.obs.origin.replace(\"colon\",\"normal\")"
   ]
  },
  {
   "cell_type": "code",
   "execution_count": null,
   "id": "6b88ac8b-e446-4e4c-a8b1-6c385093fc26",
   "metadata": {},
   "outputs": [],
   "source": [
    "adata.obs.origin =  adata.obs.origin.replace(\"til\",\"tumor\")"
   ]
  },
  {
   "cell_type": "code",
   "execution_count": null,
   "id": "6e0b8ffe-e54e-4187-871a-e6b371d1a777",
   "metadata": {},
   "outputs": [],
   "source": [
    "adata_normal = adata[adata.obs[\"origin\"]==\"normal\"]"
   ]
  },
  {
   "cell_type": "code",
   "execution_count": null,
   "id": "f1ca252e-b7af-472f-95c2-2ce14ae5415a",
   "metadata": {},
   "outputs": [],
   "source": [
    "adata_tumor = adata[adata.obs[\"origin\"]==\"tumor\"]"
   ]
  },
  {
   "cell_type": "markdown",
   "id": "8a023059-9d1f-4112-b62c-370911d8380d",
   "metadata": {},
   "source": [
    "### Transform TCR 2019 NORMAL"
   ]
  },
  {
   "cell_type": "code",
   "execution_count": null,
   "id": "e9385fd7-143d-4606-bdab-52ffd801a2e0",
   "metadata": {},
   "outputs": [],
   "source": [
    "adata_tcr.obs[\"sample_id\"] = adata_tcr.obs_names.to_series().str.split(\"_\", expand=True)[1]"
   ]
  },
  {
   "cell_type": "code",
   "execution_count": null,
   "id": "dee5f9b2-7e01-47dc-ae7a-b071de0b777e",
   "metadata": {},
   "outputs": [],
   "source": [
    "adata_tcr.obs[\"group\"] = adata_tcr.obs[\"sample_id\"].map(lambda x: samples[x][\"group\"])\n",
    "adata_tcr.obs[\"condition\"] = adata_tcr.obs[\"sample_id\"].map(lambda x: samples[x][\"condition\"])"
   ]
  },
  {
   "cell_type": "code",
   "execution_count": null,
   "id": "093b1221-5d26-4989-ae1e-7667561bfdb5",
   "metadata": {
    "scrolled": true
   },
   "outputs": [],
   "source": [
    "adata_tcr.obs"
   ]
  },
  {
   "cell_type": "markdown",
   "id": "27ed892a-91aa-40d1-826e-471f15cd3b70",
   "metadata": {},
   "source": [
    "### Transform TCR 2021 TUMOR"
   ]
  },
  {
   "cell_type": "code",
   "execution_count": null,
   "id": "e54e5096-5289-4a3e-ac89-87b6b59c3c68",
   "metadata": {},
   "outputs": [],
   "source": [
    "adata_tcr_2021.obs[\"sample_id\"] = adata_tcr_2021.obs_names.to_series().str.split(\"_\", expand=True)[1]"
   ]
  },
  {
   "cell_type": "code",
   "execution_count": null,
   "id": "47669ec0-f240-4b24-b277-da76c1561242",
   "metadata": {},
   "outputs": [],
   "source": [
    "adata_tcr_2021.obs[\"group\"] = adata_tcr_2021.obs[\"sample_id\"].map(lambda x: samples[x][\"group\"])\n",
    "adata_tcr_2021.obs[\"condition\"] = adata_tcr_2021.obs[\"sample_id\"].map(lambda x: samples[x][\"condition\"])"
   ]
  },
  {
   "cell_type": "code",
   "execution_count": null,
   "id": "852d38a1-db4c-447c-a697-7a422c19f12b",
   "metadata": {
    "scrolled": true
   },
   "outputs": [],
   "source": [
    "adata_tcr_2021.obs"
   ]
  },
  {
   "cell_type": "markdown",
   "id": "6922e725-d405-4b65-b59f-8fbae18c57d5",
   "metadata": {},
   "source": [
    "### Merge TCR TUMOR & NORMAL"
   ]
  },
  {
   "cell_type": "code",
   "execution_count": null,
   "id": "1cb9257c-822d-471e-a67d-b5b7fce95143",
   "metadata": {},
   "outputs": [],
   "source": [
    "adata_tcr_merge = anndata.concat([adata_tcr,adata_tcr_2021], index_unique=\"_\")"
   ]
  },
  {
   "cell_type": "code",
   "execution_count": null,
   "id": "c905296e-e74d-40d1-a00d-2e091e949c7e",
   "metadata": {},
   "outputs": [],
   "source": [
    "adata_tcr_merge.obs"
   ]
  },
  {
   "cell_type": "markdown",
   "id": "149334ae-2d61-4f3d-ba35-deab7f7375d7",
   "metadata": {},
   "source": [
    "### Merge GEX TUMOR & NORMAL"
   ]
  },
  {
   "cell_type": "code",
   "execution_count": null,
   "id": "07826db7-3547-4bff-a96a-bb358f988184",
   "metadata": {},
   "outputs": [],
   "source": [
    "adata_gex_merge = anndata.concat([adata_normal,adata_tumor], index_unique=\"_\")"
   ]
  },
  {
   "cell_type": "code",
   "execution_count": null,
   "id": "31eb9c51-0374-4f8a-87b3-1e5e5aff5aad",
   "metadata": {},
   "outputs": [],
   "source": [
    "adata_gex_merge.obs"
   ]
  },
  {
   "cell_type": "markdown",
   "id": "5d6ccb69-368d-4744-9972-6b35759d1f9d",
   "metadata": {},
   "source": [
    "### Create MUDATA"
   ]
  },
  {
   "cell_type": "code",
   "execution_count": null,
   "id": "77f1562d-d06d-431d-8d28-3ef733692f23",
   "metadata": {},
   "outputs": [],
   "source": [
    "mdata = mu.MuData({\"gex\": adata_gex_merge, \"airr\": adata_tcr_merge})"
   ]
  },
  {
   "cell_type": "markdown",
   "id": "59b8d838-c9da-42b5-a0ba-5495c29ec45d",
   "metadata": {},
   "source": [
    "### Transfor obs names for gex and tcr matching"
   ]
  },
  {
   "cell_type": "code",
   "execution_count": null,
   "id": "bb9e003a-4ebe-45e6-9afa-b440855f9b68",
   "metadata": {},
   "outputs": [],
   "source": [
    "mdata.obs.index = mdata.obs.index.str.replace('-', '_')"
   ]
  },
  {
   "cell_type": "code",
   "execution_count": null,
   "id": "912e139a-fd37-469c-a35c-14d649d45bf6",
   "metadata": {},
   "outputs": [],
   "source": [
    "# Replace \"-\" with \"_\" in the 'obs_names' column\n",
    "mdata[\"airr\"].obs_names = mdata[\"airr\"].obs_names.str.replace('-', '_')"
   ]
  },
  {
   "cell_type": "code",
   "execution_count": null,
   "id": "d2960ddf-0bf7-429f-ad15-c16b510e6029",
   "metadata": {},
   "outputs": [],
   "source": [
    "# Replace \"-\" with \"_\" in the 'obs_names' column\n",
    "mdata[\"gex\"].obs_names = mdata[\"gex\"].obs_names.str.replace('-', '_')"
   ]
  },
  {
   "cell_type": "code",
   "execution_count": null,
   "id": "4fb919e8-9aef-4215-90e5-9326cda1c001",
   "metadata": {},
   "outputs": [],
   "source": [
    "len(set(mdata[\"gex\"].obs_names) & set(mdata[\"airr\"].obs_names))"
   ]
  },
  {
   "cell_type": "code",
   "execution_count": null,
   "id": "9cbf6e15-766c-43f3-a26f-ba12dd378e86",
   "metadata": {},
   "outputs": [],
   "source": [
    "mdata"
   ]
  },
  {
   "cell_type": "code",
   "execution_count": null,
   "id": "68a23e93-9b00-49be-8acd-d37e8076f751",
   "metadata": {},
   "outputs": [],
   "source": [
    "sc.pl.umap(mdata[\"gex\"], color = \"leiden\")"
   ]
  },
  {
   "cell_type": "markdown",
   "id": "36ff8389-acb3-41a5-bf63-f847b1889332",
   "metadata": {},
   "source": [
    "### Create MDATA GEX & TCR 2019 NORMAL"
   ]
  },
  {
   "cell_type": "code",
   "execution_count": null,
   "id": "660ee28e-4ad6-45b8-ba10-2d5393122dd5",
   "metadata": {},
   "outputs": [],
   "source": [
    "mdata_normal = mu.MuData({\"gex\": adata_normal, \"airr\": adata_tcr})"
   ]
  },
  {
   "cell_type": "code",
   "execution_count": null,
   "id": "1aad98cb-871e-44c7-933d-170c152e36f3",
   "metadata": {},
   "outputs": [],
   "source": [
    "mdata_normal"
   ]
  },
  {
   "cell_type": "code",
   "execution_count": null,
   "id": "989113b0-a279-4237-843c-80a51476cdca",
   "metadata": {},
   "outputs": [],
   "source": [
    "sc.pl.umap(mdata_normal[\"gex\"], color = \"leiden\")"
   ]
  },
  {
   "cell_type": "markdown",
   "id": "5f428281-1bba-4b15-9bea-128badecbd9e",
   "metadata": {},
   "source": [
    "### Create MDATA GEX & TCR 2021 TUMOR"
   ]
  },
  {
   "cell_type": "code",
   "execution_count": null,
   "id": "8e1bb66d-0111-462d-a2c7-57f3f5207fc1",
   "metadata": {},
   "outputs": [],
   "source": [
    "mdata_tumor= mu.MuData({\"gex\": adata_tumor, \"airr\": adata_tcr_2021})"
   ]
  },
  {
   "cell_type": "code",
   "execution_count": null,
   "id": "5128c694-fbec-4ed7-882c-2407720e82fd",
   "metadata": {},
   "outputs": [],
   "source": [
    "mdata_tumor"
   ]
  },
  {
   "cell_type": "code",
   "execution_count": null,
   "id": "ada1b4aa-1936-437d-af1e-2bee3b4fb714",
   "metadata": {},
   "outputs": [],
   "source": [
    "sc.pl.umap(mdata_tumor[\"gex\"], color = \"leiden\")"
   ]
  },
  {
   "cell_type": "markdown",
   "id": "df25b251-be08-4acb-8574-566b40d4c025",
   "metadata": {},
   "source": [
    "### Transform mdata"
   ]
  },
  {
   "cell_type": "code",
   "execution_count": null,
   "id": "85acf393-d9b9-4117-af79-1b1c014e78d2",
   "metadata": {},
   "outputs": [],
   "source": [
    "sc.pp.filter_genes(mdata[\"gex\"], min_cells=500)\n",
    "sc.pp.filter_cells(mdata[\"gex\"], min_genes=500)"
   ]
  },
  {
   "cell_type": "code",
   "execution_count": null,
   "id": "3ca3f4dd-297d-412b-9b38-d74adc66a603",
   "metadata": {},
   "outputs": [],
   "source": [
    "sc.pp.log1p(mdata[\"gex\"])\n",
    "sc.pp.pca(mdata[\"gex\"], svd_solver=\"arpack\")\n",
    "sc.pp.neighbors(mdata[\"gex\"])\n",
    "sc.tl.umap(mdata[\"gex\"])"
   ]
  },
  {
   "cell_type": "code",
   "execution_count": null,
   "id": "3987eca2-cfe9-4eff-9c05-49eac912df36",
   "metadata": {},
   "outputs": [],
   "source": [
    "ir.pp.index_chains(mdata)\n",
    "ir.tl.chain_qc(mdata)"
   ]
  },
  {
   "cell_type": "code",
   "execution_count": null,
   "id": "49770928-e6eb-4bcd-ba1b-1f68ea0076f7",
   "metadata": {},
   "outputs": [],
   "source": [
    "# Define the conditions\n",
    "normal_samples = [\"10mix1\", \"10mix2\", \"11mix1\", \"11mix2\", \"GF1\", \"GF2\"]\n",
    "\n",
    "# Use np.where() to create the 'origin' column based on conditions\n",
    "mdata[\"airr\"].obs[\"origin\"] = mdata[\"airr\"].obs[\"sample_id\"].apply(\n",
    "    lambda x: \"colon\" if x in normal_samples else \"tumor\"\n",
    ")"
   ]
  },
  {
   "cell_type": "code",
   "execution_count": null,
   "id": "31fc04e9-75ab-4143-9be3-c9a27e72bf5d",
   "metadata": {},
   "outputs": [],
   "source": [
    "mdata"
   ]
  },
  {
   "cell_type": "code",
   "execution_count": null,
   "id": "b8b59540-1b4d-438f-985b-5b6c736c0642",
   "metadata": {},
   "outputs": [],
   "source": [
    "mdata[\"gex\"].obs.index"
   ]
  },
  {
   "cell_type": "code",
   "execution_count": null,
   "id": "58748394-c2d6-4f0a-8453-6f1c1e767606",
   "metadata": {},
   "outputs": [],
   "source": [
    "mdata[\"airr\"].obs.index"
   ]
  },
  {
   "cell_type": "code",
   "execution_count": null,
   "id": "a2852562-3bb9-42b4-a477-119209b1f5d2",
   "metadata": {},
   "outputs": [],
   "source": [
    "mdata.obs.index = mdata.obs.index.str.replace('-', '_', regex=False)\n"
   ]
  },
  {
   "cell_type": "code",
   "execution_count": null,
   "id": "28a5979a-73c3-40fa-88a8-ad2331f0123c",
   "metadata": {},
   "outputs": [],
   "source": [
    "mdata[\"airr\"].obs"
   ]
  },
  {
   "cell_type": "code",
   "execution_count": null,
   "id": "ffb1f7fb-21c5-4744-9285-5b13c4a70617",
   "metadata": {
    "scrolled": true
   },
   "outputs": [],
   "source": [
    "mdata.obs"
   ]
  },
  {
   "cell_type": "code",
   "execution_count": null,
   "id": "7cceeca7-c6be-4457-b929-e783e937a901",
   "metadata": {},
   "outputs": [],
   "source": [
    "mdata.update()"
   ]
  },
  {
   "cell_type": "code",
   "execution_count": null,
   "id": "64d0af2b-03c6-48bb-ae42-1c0b67611c6a",
   "metadata": {},
   "outputs": [],
   "source": [
    "#mdata = mu.MuData({\"gex\": adata_gex_merge, \"airr\": adata_tcr_merge})"
   ]
  },
  {
   "cell_type": "code",
   "execution_count": null,
   "id": "2921f653-b80b-4016-8255-b8144d2606d7",
   "metadata": {},
   "outputs": [],
   "source": [
    "mdata[\"gex\"].var"
   ]
  },
  {
   "cell_type": "code",
   "execution_count": null,
   "id": "08ae1e5f-b9d2-484a-a20b-f9903083aa68",
   "metadata": {},
   "outputs": [],
   "source": [
    "mdata[\"gex\"].obs.cell_type = mdata[\"gex\"].obs.cell_type.replace(\"nan\",\"CD8_NaiveLike\")"
   ]
  },
  {
   "cell_type": "code",
   "execution_count": null,
   "id": "9212a5b5-3cd4-490a-8c84-48c074f0c765",
   "metadata": {},
   "outputs": [],
   "source": [
    "mdata.update()"
   ]
  },
  {
   "cell_type": "code",
   "execution_count": null,
   "id": "0d509091-27c6-4c68-be72-5ba7f0066ca9",
   "metadata": {},
   "outputs": [],
   "source": [
    "fig, (ax0, ax1,ax2,ax3) = plt.subplots(1, 4, figsize=(20, 4), gridspec_kw={\"wspace\": 0.5})\n",
    "mu.pl.embedding(mdata, basis=\"gex:umap\", color=[\"ENSMUSG00000055170\"], ax=ax0, show=False, frameon=False, cmap= \"Reds\")\n",
    "mu.pl.embedding(mdata, basis=\"gex:umap\", color=[\"airr:origin\"], ax=ax1, show=False, frameon=False)\n",
    "mu.pl.embedding(mdata, basis=\"gex:umap\", color=[\"gex:cell_type\"], ax=ax2, show=False, frameon=False)\n",
    "mu.pl.embedding(mdata, basis=\"gex:umap\", color=[\"airr:receptor_subtype\"], ax=ax3, frameon=False)"
   ]
  },
  {
   "cell_type": "code",
   "execution_count": null,
   "id": "3f0fb1aa-b8d6-430a-94a4-d4e8117b03d9",
   "metadata": {},
   "outputs": [],
   "source": [
    "fig, (ax0, ax1) = plt.subplots(1, 2,figsize=(10, 5) ,gridspec_kw={\"wspace\": 0.5})\n",
    "mu.pl.embedding(mdata, basis=\"gex:umap\", color=[\"ENSMUSG00000055170\"], ax=ax0, show=False, frameon=False, cmap= \"Reds\")\n",
    "mu.pl.embedding(mdata, basis=\"gex:umap\", color=[\"gex:cell_type\"], ax=ax1, show=False, frameon=False)\n"
   ]
  },
  {
   "cell_type": "code",
   "execution_count": null,
   "id": "69e0a8bd-d7a8-4315-8944-0dec3108e00d",
   "metadata": {},
   "outputs": [],
   "source": [
    "ir.tl.chain_qc(mdata)\n",
    "\n",
    "_ = ir.pl.group_abundance(\n",
    "   mdata, groupby=\"airr:receptor_type\", target_col=\"gex:sample_id\"\n",
    ")\n"
   ]
  },
  {
   "cell_type": "code",
   "execution_count": null,
   "id": "992cc8a5-050f-4b12-9050-79cec0fd2132",
   "metadata": {},
   "outputs": [],
   "source": [
    "ir.tl.chain_qc(mdata)\n",
    "\n",
    "_ = ir.pl.group_abundance(\n",
    "   mdata, groupby=\"airr:receptor_type\", target_col=\"gex:cell_type\"\n",
    ")\n"
   ]
  },
  {
   "cell_type": "code",
   "execution_count": null,
   "id": "a86e8aa2-d65a-4394-8ac5-d82787f23083",
   "metadata": {},
   "outputs": [],
   "source": [
    "ir.tl.chain_qc(mdata)\n",
    "\n",
    "_ = ir.pl.group_abundance(\n",
    "   mdata, groupby=\"airr:receptor_type\", target_col=\"gex:condition\"\n",
    ")\n"
   ]
  },
  {
   "cell_type": "code",
   "execution_count": null,
   "id": "f3d14bac-0d31-4c30-a3ee-da61e60f12b4",
   "metadata": {},
   "outputs": [],
   "source": [
    "_ = ir.pl.group_abundance(mdata, groupby=\"airr:chain_pairing\", target_col=\"gex:origin\")"
   ]
  },
  {
   "cell_type": "code",
   "execution_count": null,
   "id": "5204bb48-7a29-46ae-86d7-86f6cf634126",
   "metadata": {},
   "outputs": [],
   "source": [
    "print(\n",
    "    \"Fraction of cells with more than one pair of TCRs: {:.2f}\".format(\n",
    "        np.sum(mdata.obs[\"airr:chain_pairing\"].isin([\"extra VJ\", \"extra VDJ\", \"two full chains\", \"multichain\"]))\n",
    "        / mdata[\"airr\"].n_obs\n",
    "    )\n",
    ")"
   ]
  },
  {
   "cell_type": "code",
   "execution_count": null,
   "id": "e577636f-7234-4b6f-b485-6f176ad9091e",
   "metadata": {},
   "outputs": [],
   "source": [
    "mu.pl.embedding(mdata, basis=\"gex:umap\", color=\"airr:chain_pairing\", groups=\"multichain\")"
   ]
  },
  {
   "cell_type": "code",
   "execution_count": null,
   "id": "ec5eacaf-109e-4adb-ac7f-a7948f831daf",
   "metadata": {},
   "outputs": [],
   "source": [
    "mu.pp.filter_obs(mdata, \"airr:chain_pairing\", lambda x: x != \"multichain\")"
   ]
  },
  {
   "cell_type": "code",
   "execution_count": null,
   "id": "9d2fa250-fd29-431e-b35f-385c322c1b2d",
   "metadata": {},
   "outputs": [],
   "source": [
    "mu.pp.filter_obs(mdata, \"airr:chain_pairing\", lambda x: ~np.isin(x, [\"orphan VDJ\", \"orphan VJ\"]))"
   ]
  },
  {
   "cell_type": "code",
   "execution_count": null,
   "id": "be7736c4-4185-42c4-9798-428fdd6cab90",
   "metadata": {},
   "outputs": [],
   "source": [
    "mdata"
   ]
  },
  {
   "cell_type": "code",
   "execution_count": null,
   "id": "5e86111b-7876-4138-adfd-7d489261e901",
   "metadata": {},
   "outputs": [],
   "source": [
    "ax = ir.pl.group_abundance(mdata, groupby=\"airr:chain_pairing\", target_col=\"gex:origin\")"
   ]
  },
  {
   "cell_type": "code",
   "execution_count": null,
   "id": "b0611e5d-642b-4659-89f5-ed3e2e78a0a6",
   "metadata": {},
   "outputs": [],
   "source": [
    "# using default parameters, `ir_dist` will compute nucleotide sequence identity\n",
    "ir.pp.ir_dist(mdata)\n"
   ]
  },
  {
   "cell_type": "code",
   "execution_count": null,
   "id": "c5e60d54-5c73-4c49-bd4c-0ccc0c775565",
   "metadata": {},
   "outputs": [],
   "source": [
    "mdata[\"airr\"].obs[\"chain_pairing\"]=mdata[\"airr\"].obs[\"chain_pairing\"].astype(\"string\")"
   ]
  },
  {
   "cell_type": "code",
   "execution_count": null,
   "id": "7ff357f3-0c11-464b-a804-b420d45bff98",
   "metadata": {},
   "outputs": [],
   "source": [
    "mdata[\"airr\"].obs.info()"
   ]
  },
  {
   "cell_type": "code",
   "execution_count": null,
   "id": "5c302888-2323-4a63-96de-42fe3164fcb6",
   "metadata": {},
   "outputs": [],
   "source": [
    "ir.tl.define_clonotypes(mdata, receptor_arms=\"all\", dual_ir=\"primary_only\")"
   ]
  },
  {
   "cell_type": "code",
   "execution_count": null,
   "id": "428570e7-b9d3-4e79-b11b-e93a6512e47f",
   "metadata": {},
   "outputs": [],
   "source": [
    "ir.pp.ir_dist(\n",
    "    mdata,\n",
    "    metric=\"alignment\",\n",
    "    sequence=\"aa\",\n",
    "    cutoff=15,\n",
    ")"
   ]
  },
  {
   "cell_type": "code",
   "execution_count": null,
   "id": "28eee08c-9593-465c-bda7-42a05a5609ec",
   "metadata": {},
   "outputs": [],
   "source": [
    "ir.tl.define_clonotype_clusters(mdata, sequence=\"aa\", metric=\"alignment\", receptor_arms=\"all\", dual_ir=\"any\")"
   ]
  },
  {
   "cell_type": "code",
   "execution_count": null,
   "id": "cfa3f61b-e70b-4769-9ef4-b512c25acafb",
   "metadata": {},
   "outputs": [],
   "source": [
    "ir.tl.clonotype_network(mdata, min_cells=2, sequence=\"aa\", metric=\"alignment\")"
   ]
  },
  {
   "cell_type": "code",
   "execution_count": null,
   "id": "44499a66-5c20-423a-82bb-f55f73ae5c07",
   "metadata": {},
   "outputs": [],
   "source": [
    "_ = ir.pl.clonotype_network(\n",
    "    mdata,\n",
    "    color=\"gex:sample_id\",\n",
    "    label_fontsize=9,\n",
    "    panel_size=(7, 7),\n",
    "    base_size=2\n",
    ")\n"
   ]
  },
  {
   "cell_type": "code",
   "execution_count": null,
   "id": "6ebb0dea-f589-4b02-9a90-080d865afff4",
   "metadata": {},
   "outputs": [],
   "source": [
    "_ = ir.pl.clonal_expansion(\n",
    "    mdata,\n",
    "    target_col=\"clone_id\",\n",
    "    groupby=\"gex:cell_type\"\n",
    ")\n"
   ]
  },
  {
   "cell_type": "code",
   "execution_count": null,
   "id": "9110e1dd-a963-4634-9c8d-2f1c37323fad",
   "metadata": {},
   "outputs": [],
   "source": [
    "_ = ir.pl.alpha_diversity(\n",
    "    mdata,\n",
    "    metric=\"normalized_shannon_entropy\",\n",
    "    groupby=\"gex:cell_type\"\n",
    ")\n"
   ]
  },
  {
   "cell_type": "code",
   "execution_count": null,
   "id": "6fa1c500-5a1c-4558-bd8b-ff2f253a6dbf",
   "metadata": {},
   "outputs": [],
   "source": [
    "ir.tl.clonotype_modularity(mdata, target_col=\"airr:cc_aa_alignment\")"
   ]
  },
  {
   "cell_type": "code",
   "execution_count": null,
   "id": "81cc1ca8-320c-427a-bc34-09bc50ecb01e",
   "metadata": {},
   "outputs": [],
   "source": [
    "_ = ir.pl.clonotype_modularity(mdata, base_size=20)"
   ]
  },
  {
   "cell_type": "code",
   "execution_count": null,
   "id": "8b177e3c-ba84-4e83-a9fd-7ea255fbc4c9",
   "metadata": {},
   "outputs": [],
   "source": [
    "clonotypes_top_modularity = list(\n",
    "\tmdata.obs.set_index(\"airr:cc_aa_alignment\")[\"airr:clonotype_modularity\"]\n",
    "\t.sort_values(ascending=False)\n",
    "\t.index.unique()\n",
    "\t.values[:1]\n",
    ")"
   ]
  },
  {
   "cell_type": "code",
   "execution_count": null,
   "id": "e2af099c-dd46-480f-8e65-0f95276d3072",
   "metadata": {},
   "outputs": [],
   "source": [
    "mu.pl.embedding(mdata,basis=\"gex:tsne\", color=[\"gex:cell_type\"])\n",
    "mu.pl.embedding(\n",
    "    mdata,\n",
    "    basis=\"gex:tsne\",\n",
    "    color=\"airr:cc_aa_alignment\",\n",
    "    groups=clonotypes_top_modularity\n",
    ")\n"
   ]
  },
  {
   "cell_type": "code",
   "execution_count": null,
   "id": "94a716ab-7f2f-480b-856e-2d2bb8a7610b",
   "metadata": {},
   "outputs": [],
   "source": []
  }
 ],
 "metadata": {
  "kernelspec": {
   "display_name": "tcr_2024",
   "language": "python",
   "name": "tcr_2024"
  },
  "language_info": {
   "codemirror_mode": {
    "name": "ipython",
    "version": 3
   },
   "file_extension": ".py",
   "mimetype": "text/x-python",
   "name": "python",
   "nbconvert_exporter": "python",
   "pygments_lexer": "ipython3",
   "version": "3.12.4"
  }
 },
 "nbformat": 4,
 "nbformat_minor": 5
}
