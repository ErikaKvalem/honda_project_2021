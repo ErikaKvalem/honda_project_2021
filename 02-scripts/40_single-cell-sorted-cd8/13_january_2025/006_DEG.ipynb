{
 "cells": [
  {
   "cell_type": "code",
   "execution_count": null,
   "id": "e8ddc28e-7705-4742-b0ec-584f56428d7d",
   "metadata": {},
   "outputs": [],
   "source": [
    "import pandas as pd\n",
    "import scanpy as sc\n",
    "import seaborn as sns"
   ]
  },
  {
   "cell_type": "code",
   "execution_count": null,
   "id": "8fac7105-c958-40ed-8dbb-dbd523aa17cb",
   "metadata": {},
   "outputs": [],
   "source": [
    "#from statannot import add_stat_annotation\n",
    "#from statannotations.Annotator import Annotator"
   ]
  },
  {
   "cell_type": "code",
   "execution_count": null,
   "id": "be471e68-0121-4402-8b26-bab5d9759f16",
   "metadata": {},
   "outputs": [],
   "source": [
    "import matplotlib.pyplot as plt"
   ]
  },
  {
   "cell_type": "code",
   "execution_count": null,
   "id": "39572a8b-8dbd-4df4-b703-ee9f10d6fe78",
   "metadata": {},
   "outputs": [],
   "source": [
    "import decoupler as dc"
   ]
  },
  {
   "cell_type": "markdown",
   "id": "6a120b21-2261-484d-97a2-d277e38e2ca3",
   "metadata": {},
   "source": [
    "### Data loading"
   ]
  },
  {
   "cell_type": "code",
   "execution_count": null,
   "id": "21598b01-964f-4df3-ac91-29380245a68d",
   "metadata": {},
   "outputs": [],
   "source": [
    "adata = sc.read_h5ad(\n",
    "    \"/data/projects/2021/MicrobialMetabolites/single-cell-sorted-cd8/results/40_gex_surface_prot/13_january_2025/mapped_data/mapped_til_colon.h5ad\"\n",
    ")"
   ]
  },
  {
   "cell_type": "code",
   "execution_count": null,
   "id": "9b03a211-2f3c-4d7a-9e18-5ecc1b61f046",
   "metadata": {},
   "outputs": [],
   "source": [
    "# Replace values in the 'origin' column\n",
    "adata.obs[\"origin\"] = adata.obs[\"origin\"].replace({\"colon\": \"normal\", \"til\": \"tumor\"})\n"
   ]
  },
  {
   "cell_type": "code",
   "execution_count": null,
   "id": "942f7372-ac47-41f2-ab71-00f171f7f1b6",
   "metadata": {},
   "outputs": [],
   "source": [
    "adata.obs[\"cell_type\"] = adata.obs[\"cell_type\"].replace(\"nan\", \"CD8_NaiveLike\")\n",
    "\n",
    "# If 'nan' values are true NaN (e.g., from pandas)\n",
    "adata.obs[\"cell_type\"].fillna(\"CD8_NaiveLike\", inplace=True)"
   ]
  },
  {
   "cell_type": "code",
   "execution_count": null,
   "id": "4645e936-b112-4ba4-ab55-70b6c48c2edd",
   "metadata": {},
   "outputs": [],
   "source": [
    "# Check if 'Ifng' is in the variable names\n",
    "if 'ENSMUSG00000055170'in adata.var_names:\n",
    "    # Safely extract the expression values for 'Ifng'\n",
    "    ifng_expression = (\n",
    "        adata[:, 'ENSMUSG00000055170'].X.toarray().flatten()\n",
    "        if hasattr(adata[:, 'ENSMUSG00000055170'].X, \"toarray\")\n",
    "        else adata[:, 'ENSMUSG00000055170'].X.flatten()\n",
    "    )\n",
    "    \n",
    "    # Add Ifng expression status to adata.obs\n",
    "    adata.obs['Ifng_expression'] = (ifng_expression > 6).astype(int)\n",
    "    \n",
    "    # Create a new column 'cell_type_2' based on 'Ifng_expression' and 'cell_type'\n",
    "    adata.obs['cell_type_2'] = adata.obs.apply(\n",
    "        lambda row: 'Ifng+' if row['Ifng_expression'] == 1 else row['cell_type'], axis=1\n",
    "    )\n",
    "else:\n",
    "    print(\"Gene 'Ifng' not found in adata.var_names\")"
   ]
  },
  {
   "cell_type": "code",
   "execution_count": null,
   "id": "ba3ea3de-a5bd-4279-9a55-a4e2892fc158",
   "metadata": {},
   "outputs": [],
   "source": [
    "# Create new column based on Ifng_expression values\n",
    "adata.obs[\"Ifng_expression_str\"] = adata.obs[\"Ifng_expression\"].map({1: \"pos\", 0: \"neg\"})\n"
   ]
  },
  {
   "cell_type": "code",
   "execution_count": null,
   "id": "8d29697a-c3fa-486f-9cc5-ab7ddad52684",
   "metadata": {},
   "outputs": [],
   "source": [
    "adata.obs['Ifng_expression_str'].value_counts()"
   ]
  },
  {
   "cell_type": "code",
   "execution_count": null,
   "id": "738047d4-e283-489d-8bd0-df82afafa125",
   "metadata": {},
   "outputs": [],
   "source": [
    "adata.obs['cell_type_2'].value_counts()"
   ]
  },
  {
   "cell_type": "code",
   "execution_count": null,
   "id": "b8934cd0-b218-4d11-9021-5f6424d5a9a2",
   "metadata": {},
   "outputs": [],
   "source": [
    "adata.obs.condition.value_counts()"
   ]
  },
  {
   "cell_type": "code",
   "execution_count": null,
   "id": "ebf1756a-9631-4072-b403-29fd099c0ce2",
   "metadata": {},
   "outputs": [],
   "source": [
    "adata.obs.cell_type.value_counts()"
   ]
  },
  {
   "cell_type": "code",
   "execution_count": null,
   "id": "7014b630-9587-4145-931b-879478076461",
   "metadata": {},
   "outputs": [],
   "source": [
    "adata_ifng = adata[adata.obs[\"cell_type_2\"]==\"Ifng+\"]"
   ]
  },
  {
   "cell_type": "code",
   "execution_count": null,
   "id": "4e9b5053-d2a5-40b6-a0bd-01ac4b27d87e",
   "metadata": {},
   "outputs": [],
   "source": [
    "import scanpy as sc\n",
    "import decoupler as dc\n",
    "\n",
    "# Only needed for processing\n",
    "import numpy as np\n",
    "import pandas as pd\n",
    "\n",
    "# Needed for some plotting\n",
    "import matplotlib.pyplot as plt"
   ]
  },
  {
   "cell_type": "code",
   "execution_count": null,
   "id": "ac0ce253-890a-4368-92d6-719deb58febc",
   "metadata": {},
   "outputs": [],
   "source": [
    "# Get filtered pseudo-bulk profile\n",
    "pdata = dc.get_pseudobulk(\n",
    "    adata_ifng,\n",
    "    sample_col='sample_id',\n",
    "    groups_col='cell_type',\n",
    "    layer='counts',\n",
    "    mode='sum',\n",
    "    min_cells=10,\n",
    "    min_counts=1000\n",
    ")\n",
    "pdata"
   ]
  },
  {
   "cell_type": "code",
   "execution_count": null,
   "id": "f4e25ee2-d9ed-41fe-9c37-276c738a2465",
   "metadata": {},
   "outputs": [],
   "source": [
    "pdata = pdata[pdata.obs[\"condition\"].isin([\"10mix\",\"11mix\"])]"
   ]
  },
  {
   "cell_type": "code",
   "execution_count": null,
   "id": "2e5292db-fa59-4ba0-bc26-b5455bffa2f1",
   "metadata": {},
   "outputs": [],
   "source": [
    "#pdata.var_names = pdata.var.gene_name"
   ]
  },
  {
   "cell_type": "code",
   "execution_count": null,
   "id": "f45d7e51-38d8-453f-9160-1c2fb4da183a",
   "metadata": {},
   "outputs": [],
   "source": [
    "pdata.obs"
   ]
  },
  {
   "cell_type": "code",
   "execution_count": null,
   "id": "2fa9ae18-d34d-4ef8-aed7-76a166f12352",
   "metadata": {},
   "outputs": [],
   "source": [
    "# Import DESeq2\n",
    "from pydeseq2.dds import DeseqDataSet, DefaultInference\n",
    "from pydeseq2.ds import DeseqStats"
   ]
  },
  {
   "cell_type": "code",
   "execution_count": null,
   "id": "b7cd1f3c-65e9-4f1b-825a-d70e81066033",
   "metadata": {
    "scrolled": true
   },
   "outputs": [],
   "source": [
    "#Build DESeq2 object\n",
    "inference = DefaultInference(n_cpus=8)\n",
    "dds = DeseqDataSet(\n",
    "    adata=pdata,\n",
    "    design_factors=['condition','origin'],\n",
    "    ref_level=['condition','10mix'],\n",
    "    refit_cooks=True,\n",
    "    inference=inference,\n",
    ")"
   ]
  },
  {
   "cell_type": "code",
   "execution_count": null,
   "id": "a6a6981d-ccdd-4af7-9347-1daa7c3664e3",
   "metadata": {},
   "outputs": [],
   "source": [
    "# Compute LFCs\n",
    "dds.deseq2()"
   ]
  },
  {
   "cell_type": "code",
   "execution_count": null,
   "id": "17855ae9-2bf2-414a-b420-6beb7892c825",
   "metadata": {},
   "outputs": [],
   "source": [
    "# Extract contrast between COVID-19 vs normal\n",
    "stat_res = DeseqStats(\n",
    "    dds,\n",
    "    contrast=[\"condition\", '11mix', '10mix'],\n",
    "    inference=inference,\n",
    ")"
   ]
  },
  {
   "cell_type": "code",
   "execution_count": null,
   "id": "ebac2346-d0c6-414f-bf38-316fc85c336f",
   "metadata": {
    "scrolled": true
   },
   "outputs": [],
   "source": [
    "# Compute Wald test\n",
    "stat_res.summary()"
   ]
  },
  {
   "cell_type": "code",
   "execution_count": null,
   "id": "1ed2790f-32b7-46d5-8933-6402cbbaa756",
   "metadata": {},
   "outputs": [],
   "source": [
    "# Extract results\n",
    "results_df = stat_res.results_df\n",
    "results_df"
   ]
  },
  {
   "cell_type": "code",
   "execution_count": null,
   "id": "89f4274e-c6d2-4ccc-b176-8fd13d97f3e8",
   "metadata": {},
   "outputs": [],
   "source": [
    "results_df = results_df.merge(pdata.var[['gene_name']], left_index=True, right_index=True, how=\"left\")"
   ]
  },
  {
   "cell_type": "code",
   "execution_count": null,
   "id": "6a7ea499-cce1-492f-99b4-3d0bb96f7dd0",
   "metadata": {},
   "outputs": [],
   "source": [
    "# Set 'gene_id' as the index\n",
    "results_df.set_index(\"gene_name\", inplace=True)\n"
   ]
  },
  {
   "cell_type": "code",
   "execution_count": null,
   "id": "38ef84d9-d8b1-42d7-8592-1e675ec96bd2",
   "metadata": {},
   "outputs": [],
   "source": [
    "dc.plot_volcano_df(\n",
    "    results_df,\n",
    "    x='log2FoldChange',\n",
    "    y='padj',\n",
    "    sign_thr=0.05,\n",
    "    lFCs_thr=0.5,\n",
    "    top=50,\n",
    "    figsize=(4, 4)\n",
    ")"
   ]
  },
  {
   "cell_type": "code",
   "execution_count": null,
   "id": "86391db4-6e4a-430b-87a1-f79f4f891746",
   "metadata": {},
   "outputs": [],
   "source": [
    "# Define significance thresholds\n",
    "sign_thr = 0.05  # Adjusted p-value threshold\n",
    "lFCs_thr = 0.5   # Log2 fold-change threshold\n",
    "\n",
    "# Filter results_df for significant genes\n",
    "significant_genes_df = results_df[\n",
    "    (results_df[\"padj\"] < sign_thr) & (results_df[\"log2FoldChange\"].abs() > lFCs_thr)\n",
    "]\n"
   ]
  },
  {
   "cell_type": "code",
   "execution_count": null,
   "id": "f7f8e5fb-cb88-41ca-a1dd-a4c675ad0277",
   "metadata": {},
   "outputs": [],
   "source": [
    "significant_genes_df"
   ]
  },
  {
   "cell_type": "code",
   "execution_count": null,
   "id": "2e3144af-9632-4a9f-9f0d-6c87483b011e",
   "metadata": {},
   "outputs": [],
   "source": [
    "list(significant_genes_df.index)"
   ]
  },
  {
   "cell_type": "code",
   "execution_count": null,
   "id": "d503f31f-8f14-4518-b085-10e4a51ac6ab",
   "metadata": {},
   "outputs": [],
   "source": [
    "import pandas as pd\n",
    "\n",
    "# Ensure pdata is available and correctly loaded\n",
    "# Extract sample annotations (metadata)\n",
    "metadata_df = pdata.obs\n",
    "\n",
    "# Extract read counts (gene expression matrix)\n",
    "read_counts_df = pd.DataFrame(pdata.X.toarray() if hasattr(pdata.X, \"toarray\") else pdata.X,\n",
    "                              index=pdata.obs_names,\n",
    "                              columns=pdata.var_names)\n",
    "\n",
    "# Save sample annotations to CSV\n",
    "metadata_df.to_csv(\"sample_annotations.csv\", index=True)\n",
    "#\n",
    "# Save read counts to TSV\n",
    "#read_counts_df.to_csv(\"read_counts.tsv\", sep=\"\\t\", index=True)\n",
    "\n",
    "\n"
   ]
  },
  {
   "cell_type": "code",
   "execution_count": null,
   "id": "372ed211-a87a-4c5d-b70c-05b076d4a7a0",
   "metadata": {},
   "outputs": [],
   "source": [
    "read_counts_df = read_counts_df.T \n",
    "# Add gene_id column from pdata.var[\"gene_name\"]\n",
    "read_counts_df.insert(0, \"gene_name\", pdata.var[\"gene_name\"].values)  # Insert as the first column"
   ]
  },
  {
   "cell_type": "code",
   "execution_count": null,
   "id": "4e4a2525-7f21-4f34-a9e4-a24194c3f824",
   "metadata": {},
   "outputs": [],
   "source": [
    "read_counts_df.index.names = ['gene_id']"
   ]
  },
  {
   "cell_type": "code",
   "execution_count": null,
   "id": "9180b83c-e28d-4d10-a0cb-70b0f9ffa945",
   "metadata": {},
   "outputs": [],
   "source": [
    "read_counts_df"
   ]
  },
  {
   "cell_type": "code",
   "execution_count": null,
   "id": "ce6d4760-3314-4b71-a420-cece0b9629da",
   "metadata": {},
   "outputs": [],
   "source": [
    "\n",
    "# Save read counts to TSV\n",
    "read_counts_df.to_csv(\"read_counts.tsv\", sep=\"\\t\", index=True)  # Index (gene IDs) is included"
   ]
  },
  {
   "cell_type": "code",
   "execution_count": null,
   "id": "2610878d-fbb2-49b9-8ef3-6dcc12d06df7",
   "metadata": {},
   "outputs": [],
   "source": []
  }
 ],
 "metadata": {
  "kernelspec": {
   "display_name": "scanpy",
   "language": "python",
   "name": "scanpy"
  },
  "language_info": {
   "codemirror_mode": {
    "name": "ipython",
    "version": 3
   },
   "file_extension": ".py",
   "mimetype": "text/x-python",
   "name": "python",
   "nbconvert_exporter": "python",
   "pygments_lexer": "ipython3",
   "version": "3.12.3"
  }
 },
 "nbformat": 4,
 "nbformat_minor": 5
}
