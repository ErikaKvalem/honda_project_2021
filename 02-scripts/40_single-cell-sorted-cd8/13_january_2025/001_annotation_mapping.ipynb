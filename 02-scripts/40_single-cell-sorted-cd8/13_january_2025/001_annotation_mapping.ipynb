{
 "cells": [
  {
   "cell_type": "code",
   "execution_count": null,
   "id": "9ed38e66-1b39-4fd9-b200-808eed150471",
   "metadata": {},
   "outputs": [],
   "source": [
    "import scanpy as sc"
   ]
  },
  {
   "cell_type": "code",
   "execution_count": null,
   "id": "64e064df-6cf1-4a5e-8915-54cc82b6ea47",
   "metadata": {},
   "outputs": [],
   "source": [
    "adata = sc.read_h5ad(\"/data/scratch/kvalem/projects/2021/honda_microbial_metabolites_2021/20_scripts/40_single-cell-sorted-cd8/40_gex_surface_prot/13_january_2025/mapped_data/seurat_object.h5ad\")"
   ]
  },
  {
   "cell_type": "code",
   "execution_count": null,
   "id": "b254ddc8-b7b4-4bdf-b90e-7ffe218129e9",
   "metadata": {},
   "outputs": [],
   "source": [
    "adata"
   ]
  },
  {
   "cell_type": "code",
   "execution_count": null,
   "id": "d7f83755-9676-426e-8f53-b3c80144a201",
   "metadata": {},
   "outputs": [],
   "source": [
    "sc.pl.umap(adata, color =[\"functional.cluster\",\"sample_id\"])"
   ]
  },
  {
   "cell_type": "code",
   "execution_count": null,
   "id": "e4b76110-c2a2-4ddf-b7bf-2510b09afad8",
   "metadata": {},
   "outputs": [],
   "source": [
    "sc.pp.neighbors(adata, n_neighbors=10)\n",
    "sc.tl.leiden(adata, resolution=1, flavor=\"igraph\", n_iterations=-1)\n",
    "sc.tl.paga(adata)\n",
    "sc.pl.paga(adata, plot=False)\n",
    "sc.tl.umap(adata, init_pos='paga')\n"
   ]
  },
  {
   "cell_type": "code",
   "execution_count": null,
   "id": "f01dcbe1-4880-4c92-9745-7a8a94c1df71",
   "metadata": {},
   "outputs": [],
   "source": [
    "sc.pl.umap(adata, color ='functional.cluster')"
   ]
  },
  {
   "cell_type": "code",
   "execution_count": null,
   "id": "2976c679-47b2-4313-9597-b0061799f81d",
   "metadata": {},
   "outputs": [],
   "source": [
    "adata_og = sc.read_h5ad(\"../18nov_analysis/adata_solo_18nov_annotation.h5ad\")"
   ]
  },
  {
   "cell_type": "code",
   "execution_count": null,
   "id": "808e1ae7-bae3-4f21-9834-b4c7e14b002c",
   "metadata": {
    "scrolled": true
   },
   "outputs": [],
   "source": [
    "adata_og.obs.sample_id.value_counts()"
   ]
  },
  {
   "cell_type": "code",
   "execution_count": null,
   "id": "6ddc92b4-0160-4817-b4f5-f510654e2c01",
   "metadata": {
    "scrolled": true
   },
   "outputs": [],
   "source": [
    "adata_og.obs.cell_type.value_counts()"
   ]
  },
  {
   "cell_type": "code",
   "execution_count": null,
   "id": "28fa9921-4ab3-48e1-91c0-ce549459b2cb",
   "metadata": {},
   "outputs": [],
   "source": []
  },
  {
   "cell_type": "code",
   "execution_count": null,
   "id": "611ac192-358d-4d0d-8960-eb4591e8761b",
   "metadata": {},
   "outputs": [],
   "source": [
    "adata_til = adata_og[adata_og.obs[\"sample_id\"].isin([\"10mix_ICI2\",\"10mix_ICI1\",\"GF_ICI2_plus\",\"11mix_ICI2\",\"11mix_ICI1\",\"GF_ICI1_plus\",\"GF_ICI1\",\"GF_ICI2\"])]"
   ]
  },
  {
   "cell_type": "code",
   "execution_count": null,
   "id": "51b1a20d-ddc0-4f89-8164-41e390031b4a",
   "metadata": {},
   "outputs": [],
   "source": [
    "adata_colon = adata_og[adata_og.obs[\"sample_id\"].isin([\"11mix2\",\"11mix1\",\"10mix1\",\"10mix2\",\"GF1\",\"GF2\"])]"
   ]
  },
  {
   "cell_type": "code",
   "execution_count": null,
   "id": "f9629fbb-f2bb-4060-9fa7-ebc8e9ec675b",
   "metadata": {},
   "outputs": [],
   "source": [
    "adata_colon = adata_colon[~adata_colon.obs[\"cell_type\"].isin([\"TIL_DYSFUNCTIONAL\",\"TIL_NAIVE_LIKE\",\"TIL_PRE_DYSFUNCTIONAL\"])]"
   ]
  },
  {
   "cell_type": "code",
   "execution_count": null,
   "id": "f4fc6db5-d8c8-4c90-b6d3-405681a36110",
   "metadata": {
    "scrolled": true
   },
   "outputs": [],
   "source": [
    "adata.obs"
   ]
  },
  {
   "cell_type": "code",
   "execution_count": null,
   "id": "0c5c470f-18d0-47cf-8b8d-c37c32db338f",
   "metadata": {
    "scrolled": true
   },
   "outputs": [],
   "source": [
    "adata_til.obs"
   ]
  },
  {
   "cell_type": "code",
   "execution_count": null,
   "id": "9d9808bf-035d-420a-ac37-82647a63c4e3",
   "metadata": {},
   "outputs": [],
   "source": [
    "# Normalize the barcodes in adata_til.obs.index\n",
    "adata_til.obs.index = adata_til.obs.index.str.replace(\"_\", \"-\")\n",
    "\n",
    "# Ensure both indices are clean\n",
    "adata.obs.index = adata.obs.index.str.strip()\n",
    "adata_til.obs.index = adata_til.obs.index.str.strip()\n"
   ]
  },
  {
   "cell_type": "code",
   "execution_count": null,
   "id": "b01de371-acd6-4322-8821-5530f8670f77",
   "metadata": {},
   "outputs": [],
   "source": [
    "functional_cluster = adata.obs['functional.cluster']\n",
    "\n",
    "# Align the functional.cluster with adata_til based on the shared barcodes (index)\n",
    "# Using pandas' reindex method ensures matching and fills NaN for missing barcodes\n",
    "adata_til.obs['functional.cluster'] = functional_cluster.reindex(adata_til.obs.index)\n"
   ]
  },
  {
   "cell_type": "code",
   "execution_count": null,
   "id": "b4d5a6e7-561a-434a-93b9-99785397c360",
   "metadata": {
    "scrolled": true
   },
   "outputs": [],
   "source": [
    "adata_til.obs"
   ]
  },
  {
   "cell_type": "code",
   "execution_count": null,
   "id": "f761b9d5-1e74-4e29-90de-5e6a8f6b82a5",
   "metadata": {},
   "outputs": [],
   "source": [
    "adata_til.obs[\"functional.cluster\"].value_counts()"
   ]
  },
  {
   "cell_type": "code",
   "execution_count": null,
   "id": "144db219-26b7-4f67-b462-3b56da7c9ea6",
   "metadata": {},
   "outputs": [],
   "source": [
    "adata_til = adata_til[~adata_til.obs[\"functional.cluster\"].isin([\"NA\"])]"
   ]
  },
  {
   "cell_type": "code",
   "execution_count": null,
   "id": "69762087-78ab-4632-b50f-96b250dcd0a7",
   "metadata": {},
   "outputs": [],
   "source": [
    "sc.pl.umap(adata_til, color ='functional.cluster', frameon=False)"
   ]
  },
  {
   "cell_type": "code",
   "execution_count": null,
   "id": "e019bd81-4ee4-4afd-9546-646c5a646bdd",
   "metadata": {},
   "outputs": [],
   "source": [
    "sc.pl.umap(adata_til, color ='functional.cluster', frameon=False, groups = [\"CD8_EarlyActiv\"])"
   ]
  },
  {
   "cell_type": "code",
   "execution_count": null,
   "id": "79253c64-eec3-4154-812b-38b02890989e",
   "metadata": {},
   "outputs": [],
   "source": [
    "sc.pl.umap(adata_til, color ='functional.cluster', frameon=False, groups = [\"CD8_Tpex\"])"
   ]
  },
  {
   "cell_type": "code",
   "execution_count": null,
   "id": "389ef469-d8b4-4abd-b7b0-7b0861a2f7f2",
   "metadata": {},
   "outputs": [],
   "source": [
    "sc.pl.umap(adata_til, color=[\"sample_id\",'functional.cluster'],frameon=False)"
   ]
  },
  {
   "cell_type": "code",
   "execution_count": null,
   "id": "5fe2e8cf-6c93-4df3-8ae6-9cde0704a035",
   "metadata": {},
   "outputs": [],
   "source": [
    "marker_list  = [\n",
    "    \"Ccr7\",\n",
    "\"Il7r\",\n",
    "\"Sell\",\n",
    "\"Tcf7\",\n",
    "\"Txk\",\n",
    "\"S1pr1\",\n",
    "\"Lef1\",\n",
    "\"Satb1\",\n",
    "\"Gzma\",\n",
    "\"Gzmk\",\n",
    "\"Nkg7\",\n",
    "\"Cd8a\",\n",
    "\"Cd8b1\",\n",
    "\"Ctsw\",\n",
    "\"Gzmb\",\n",
    "\"Ccl5\",\n",
    "\"Cst7\",\n",
    "\"Prf1\",\n",
    "\"Abi3\",\n",
    "\"Fasl\",\n",
    "\"Itm2c\",\n",
    "\"1500009L16Rik\",\n",
    "\"Eomes\",\n",
    "\"Chst12\",\n",
    "\"Ccr5\",\n",
    "\"Hcst\",\n",
    "\"Aoah\",\n",
    "\"Hopx\",\n",
    "\"Slamf7\",\n",
    "\"Cxcr3\",\n",
    "\"Oasl1\",\n",
    "\"F2r\",\n",
    "\"Cxcr6\",\"Gzmk\",\n",
    "\"Fos\",\n",
    "\"Cd69\",\n",
    "\"Zfp36\",\n",
    "\"Fosb\",\n",
    "\"Ccl5\",\n",
    "\"Gzmm\",\n",
    "\"Dusp2\",\n",
    "\"Lyar\",\n",
    "\"Samd3\",\n",
    "\"Cxcr4\",\n",
    "\"Ctsw\",\n",
    "\"Cd8a\",\n",
    "\"Anxa1\",\n",
    "\"Klrg1\",\n",
    "\"Cd8b1\",\n",
    "\"Aoah\",\n",
    "\"Tagap\",\n",
    "\"Klrd1\",\n",
    "\"Ier2\",\n",
    "\"Gzma\",\n",
    "\"Cst7\",\n",
    "\"Itm2c\",\n",
    "\"Parp8\",\n",
    "\"Btg2\",\"Lag3\",\n",
    "\"Xcl1\",\n",
    "\"Crtam\",\n",
    "\"Ifng\",\n",
    "\"Ccl4\",\n",
    "\"Pdcd1\",\n",
    "\"Dusp4\",\n",
    "\"Cd8a\",\n",
    "\"Zeb2\",\n",
    "\"Nr4a2\",\n",
    "\"Sla\",\n",
    "\"Nkg7\",\n",
    "\"Tigit\",\n",
    "\"Ctsw\",\n",
    "\"Tnfrsf9\",\n",
    "\"Tox\",\n",
    "\"Lyst\",\n",
    "\"Tnfsf4\",\n",
    "\"Ccl3\",\n",
    "\"Gzmb\",\n",
    "\"Rab27a\",\n",
    "\"Prf1\",\n",
    "\"Cd70\",\n",
    "\"Plscr1\",\"Lag3\",\n",
    "\"Prf1\",\n",
    "\"Cd8a\",\n",
    "\"Havcr2\",\n",
    "\"Gzmb\",\n",
    "\"Nkg7\",\n",
    "\"Cd8b1\",\n",
    "\"Ctsd\",\n",
    "\"Klrd1\",\n",
    "\"Id2\",\n",
    "\"Cst7\",\n",
    "\"Pdcd1\",\n",
    "\"Tnfrsf9\",\n",
    "\"Tigit\",\n",
    "\"Ctsw\",\n",
    "\"Ccl4\",\n",
    "\"Ccl3\",\n",
    "\"Ifng\",\n",
    "\"Cxcr6\",\n",
    "\"Fasl\",\n",
    "\"Rbpj\",\n",
    "\"Chst12\",\n",
    "\"Fam3c\",\n",
    "\"Csf1\"] "
   ]
  },
  {
   "cell_type": "code",
   "execution_count": null,
   "id": "a6a17e1a-95fe-43f0-a317-d99720644286",
   "metadata": {},
   "outputs": [],
   "source": [
    "import pandas as pd"
   ]
  },
  {
   "cell_type": "code",
   "execution_count": null,
   "id": "9f12e4fe-c30a-4dc8-bd35-6fcd579b5590",
   "metadata": {},
   "outputs": [],
   "source": [
    "specific_order = [ \"CD8_NaiveLike\", \"CD8_EarlyActiv\", \"CD8_EffectorMemory\", \"CD8_Tpex\",\"CD8_Tex\"]  # Replace with your desired order\n",
    "adata_til.obs['functional.cluster'] = pd.Categorical(adata_til.obs['functional.cluster'], categories=specific_order, ordered=True)"
   ]
  },
  {
   "cell_type": "code",
   "execution_count": null,
   "id": "23e9fc4b-20c6-4d2f-8663-a58adc7990f4",
   "metadata": {},
   "outputs": [],
   "source": [
    "sc.pl.dotplot(adata_til, marker_list, groupby='functional.cluster',gene_symbols=\"gene_name\",dendrogram=False,  standard_scale ='var')#, save =\"new_annotation.png\")"
   ]
  },
  {
   "cell_type": "code",
   "execution_count": null,
   "id": "7fade732-8b1e-4596-8a43-fb06b190e7b2",
   "metadata": {},
   "outputs": [],
   "source": [
    "adata_til.obs[\"functional.cluster\"].value_counts()"
   ]
  },
  {
   "cell_type": "code",
   "execution_count": null,
   "id": "8843e9a8-4511-42b3-9c6a-7822de3228c6",
   "metadata": {},
   "outputs": [],
   "source": [
    "marker_dict  = {\"CD8_NaiveLike\":[\n",
    "    \"Ccr7\",\n",
    "\"Il7r\",\n",
    "\"Sell\",\n",
    "\"Tcf7\",\n",
    "\"Txk\",\n",
    "\"S1pr1\",\n",
    "\"Lef1\",\n",
    "\"Satb1\",\n",
    "],\"CD8_EarlyActiv\":[\"Gzmk\",\n",
    "\"Fos\",\n",
    "\"Cd69\",\n",
    "\"Zfp36\",\n",
    "\"Fosb\",\n",
    "\"Ccl5\",\n",
    "\"Gzmm\",\n",
    "\"Dusp2\",\n",
    "\"Lyar\",\n",
    "\"Samd3\",\n",
    "\"Cxcr4\",\n",
    "\"Ctsw\",\n",
    "\"Cd8a\",\n",
    "\"Anxa1\",\n",
    "\"Klrg1\",\n",
    "\"Cd8b1\",\n",
    "\"Aoah\",\n",
    "\"Tagap\",\n",
    "\"Klrd1\",\n",
    "\"Ier2\",\n",
    "\"Gzma\",\n",
    "\"Cst7\",\n",
    "\"Itm2c\",\n",
    "\"Parp8\",\n",
    "\"Btg2\"], \"CD8_EffectorMemory\":[\"Gzma\",\n",
    "\"Gzmk\",\n",
    "\"Nkg7\",\n",
    "\"Cd8a\",\n",
    "\"Cd8b1\",\n",
    "\"Ctsw\",\n",
    "\"Gzmb\",\n",
    "\"Ccl5\",\n",
    "\"Cst7\",\n",
    "\"Prf1\",\n",
    "\"Abi3\",\n",
    "\"Fasl\",\n",
    "\"Itm2c\",\n",
    "\"1500009L16Rik\",\n",
    "\"Eomes\",\n",
    "\"Chst12\",\n",
    "\"Ccr5\",\n",
    "\"Hcst\",\n",
    "\"Aoah\",\n",
    "\"Hopx\",\n",
    "\"Slamf7\",\n",
    "\"Cxcr3\",\n",
    "\"Oasl1\",\n",
    "\"F2r\",\n",
    "\"Cxcr6\"],\"CD8_Tpex\":[\"Lag3\",\n",
    "\"Xcl1\",\n",
    "\"Crtam\",\n",
    "\"Ifng\",\n",
    "\"Ccl4\",\n",
    "\"Pdcd1\",\n",
    "\"Dusp4\",\n",
    "\"Cd8a\",\n",
    "\"Zeb2\",\n",
    "\"Nr4a2\",\n",
    "\"Sla\",\n",
    "\"Nkg7\",\n",
    "\"Tigit\",\n",
    "\"Ctsw\",\n",
    "\"Tnfrsf9\",\n",
    "\"Tox\",\n",
    "\"Lyst\",\n",
    "\"Tnfsf4\",\n",
    "\"Ccl3\",\n",
    "\"Gzmb\",\n",
    "\"Rab27a\",\n",
    "\"Prf1\",\n",
    "\"Cd70\",\n",
    "\"Plscr1\",],\"CD8_Tex\":[\"Lag3\",\n",
    "\"Prf1\",\n",
    "\"Cd8a\",\n",
    "\"Havcr2\",\n",
    "\"Gzmb\",\n",
    "\"Nkg7\",\n",
    "\"Cd8b1\",\n",
    "\"Ctsd\",\n",
    "\"Klrd1\",\n",
    "\"Id2\",\n",
    "\"Cst7\",\n",
    "\"Pdcd1\",\n",
    "\"Tnfrsf9\",\n",
    "\"Tigit\",\n",
    "\"Ctsw\",\n",
    "\"Ccl4\",\n",
    "\"Ccl3\",\n",
    "\"Ifng\",\n",
    "\"Cxcr6\",\n",
    "\"Fasl\",\n",
    "\"Rbpj\",\n",
    "\"Chst12\",\n",
    "\"Fam3c\",\n",
    "\"Csf1\"] }"
   ]
  },
  {
   "cell_type": "code",
   "execution_count": null,
   "id": "5fee619e-a307-4772-9715-049847e9bcd2",
   "metadata": {},
   "outputs": [],
   "source": [
    "marker_dict_small  = {\"CD8_NaiveLike\":[\n",
    "    \"Ccr7\",\n",
    "\"Il7r\",\n",
    "\"Sell\",\n",
    "\"Tcf7\",\n",
    "\"Txk\",\n",
    "\"S1pr1\",\n",
    "\"Lef1\",\n",
    "\"Satb1\",\n",
    "],\"CD8_EarlyActiv\":[\n",
    "\"Fos\",\n",
    "\"Cd69\",\n",
    "\"Zfp36\",\n",
    "\"Fosb\",\n",
    "\"Gzmm\",\n",
    "\"Dusp2\",\n",
    "], \"CD8_EffectorMemory\":[\"Gzma\",\n",
    "\"Gzmk\",\n",
    "\"Cd8b1\",\n",
    "\"Ctsw\",\n",
    "\"Gzmb\",\n",
    "\"Ccl5\",\n",
    "],\"CD8_Tpex\":[\n",
    "\"Xcl1\",\n",
    "\"Crtam\",\n",
    "\"Ifng\",\n",
    "\"Ccl4\",\n",
    "\"Dusp4\",\n",
    "\"Zeb2\",\n",
    "\"Nr4a2\",\n",
    "\"Sla\",\n",
    "],\"CD8_Tex\":[\"Lag3\",\n",
    "\"Prf1\",\n",
    "\"Havcr2\",\n",
    "\"Nkg7\",\n",
    "\"Cd8b1\",\n",
    "\"Ctsd\",\n",
    "\"Klrd1\",\n",
    "\"Id2\",\n",
    "\"Cst7\",\n",
    "\"Pdcd1\",\n",
    "\"Tnfrsf9\",\n",
    "\"Tigit\"] }"
   ]
  },
  {
   "cell_type": "code",
   "execution_count": null,
   "id": "aa91baaa-df2e-40b3-a093-13d459e0545e",
   "metadata": {},
   "outputs": [],
   "source": [
    "marker_dict_small_colon  = {\"CD8_NaiveLike\":[\n",
    "    \"Ccr7\",\n",
    "\"Il7r\",\n",
    "\"Sell\",\n",
    "\"Tcf7\",\n",
    "\"Txk\",\n",
    "\"S1pr1\",\n",
    "\"Lef1\",\n",
    "\"Satb1\",\n",
    "],\"CD8_EarlyActiv\":[\"Gzmk\",\n",
    "\"Fos\",\n",
    "\"Cd69\",\n",
    "\"Zfp36\",\n",
    "\"Fosb\",\n",
    "\"Ccl5\",\n",
    "\"Gzmm\",\n",
    "\"Dusp2\",\n",
    "],\"CD8_Tex\":[\"Lag3\",\n",
    "\"Prf1\",\n",
    "\"Cd8a\",\n",
    "\"Havcr2\",\n",
    "\"Gzmb\",\n",
    "\"Nkg7\",\n",
    "\"Cd8b1\",\n",
    "\"Ctsd\",\n",
    "\"Klrd1\",\n",
    "\"Id2\",\n",
    "\"Cst7\",\n",
    "\"Pdcd1\",\n",
    "\"Tnfrsf9\",\n",
    "\"Tigit\"] }"
   ]
  },
  {
   "cell_type": "code",
   "execution_count": null,
   "id": "ecf6d808-4446-4473-9a47-283e5c2309bf",
   "metadata": {},
   "outputs": [],
   "source": [
    "sc.pl.dotplot(adata_til, marker_dict, groupby='functional.cluster',gene_symbols=\"gene_name\",dendrogram=False,  standard_scale ='var')#, save =\"mapped_annotation_til.png\")"
   ]
  },
  {
   "cell_type": "code",
   "execution_count": null,
   "id": "de34114b-76e2-4a5b-9baa-2ab1fda63219",
   "metadata": {},
   "outputs": [],
   "source": [
    "sc.pl.dotplot(adata_til, marker_dict, groupby='functional.cluster',gene_symbols=\"gene_name\",dendrogram=False,  standard_scale ='var')#, save =\"mapped_annotation_til.svg\")"
   ]
  },
  {
   "cell_type": "code",
   "execution_count": null,
   "id": "957cb879-3ff1-4230-a662-da3f172ca532",
   "metadata": {},
   "outputs": [],
   "source": [
    "sc.pl.matrixplot(adata_til, marker_dict, groupby='functional.cluster',gene_symbols=\"gene_name\",dendrogram=False,  standard_scale ='var')#, save =\"mapped_annotation_til.pdf\")"
   ]
  },
  {
   "cell_type": "code",
   "execution_count": null,
   "id": "8253e8fd-29f1-4723-a5d0-e02ed9f957df",
   "metadata": {},
   "outputs": [],
   "source": [
    "sc.pl.matrixplot(adata_til, marker_dict_small, groupby='functional.cluster',gene_symbols=\"gene_name\",dendrogram=False,  standard_scale ='var')#, save =\"mapped_annotation_til_small.png\")"
   ]
  },
  {
   "cell_type": "code",
   "execution_count": null,
   "id": "58333f0f-1458-4b97-81e0-7c39c47edf0c",
   "metadata": {},
   "outputs": [],
   "source": [
    "sc.pl.matrixplot(adata_colon, marker_dict_small, groupby='leiden_res0_25',gene_symbols=\"gene_name\",dendrogram=False,  standard_scale ='var') # , save =\"mapped_annotation_til_small.png\")"
   ]
  },
  {
   "cell_type": "code",
   "execution_count": null,
   "id": "f294d748-53ef-4d5e-936d-bccae924c574",
   "metadata": {},
   "outputs": [],
   "source": [
    "sc.pl.matrixplot(adata_colon, marker_dict_small, groupby='cell_type',gene_symbols=\"gene_name\",dendrogram=False,  standard_scale ='var') # , save =\"mapped_annotation_til_small.png\")"
   ]
  },
  {
   "cell_type": "code",
   "execution_count": null,
   "id": "8b3c7fca-49c9-42ba-9da4-b1872b8f2385",
   "metadata": {},
   "outputs": [],
   "source": [
    "sc.pl.matrixplot(adata_colon, marker_dict_small, groupby='leiden_res0_5',gene_symbols=\"gene_name\",dendrogram=False,  standard_scale ='var') # , save =\"mapped_annotation_til_small.png\")"
   ]
  },
  {
   "cell_type": "code",
   "execution_count": null,
   "id": "bad3593f-18f2-408e-a57f-203682b21104",
   "metadata": {},
   "outputs": [],
   "source": [
    "sc.pl.dotplot(adata_colon, marker_dict_small_colon, groupby='leiden_res0_5',gene_symbols=\"gene_name\",dendrogram=False,  standard_scale ='var')"
   ]
  },
  {
   "cell_type": "code",
   "execution_count": null,
   "id": "130af980-bb8c-42e1-9573-9144b9b882f9",
   "metadata": {},
   "outputs": [],
   "source": [
    "adata_colon = adata_colon[adata_colon.obs[\"leiden_res0_5\"].isin([\"3\",\"4\",\"10\"])]"
   ]
  },
  {
   "cell_type": "code",
   "execution_count": null,
   "id": "fca49c08-350f-49af-9e1c-8b5cb6581f00",
   "metadata": {},
   "outputs": [],
   "source": [
    "sc.pl.umap(adata_colon, color=\"leiden_res0_5\")"
   ]
  },
  {
   "cell_type": "code",
   "execution_count": null,
   "id": "b3e1cc0e-e127-4f0e-a228-98054766617e",
   "metadata": {},
   "outputs": [],
   "source": [
    "adata_colon_3 = adata_colon[adata_colon.obs[\"leiden_res0_5\"].isin([\"3\"])]"
   ]
  },
  {
   "cell_type": "code",
   "execution_count": null,
   "id": "361df9ff-a830-401d-ac6f-0a3c002b80e1",
   "metadata": {},
   "outputs": [],
   "source": [
    "sc.pp.neighbors(adata_colon_3, n_neighbors=10)\n",
    "sc.tl.leiden(adata_colon_3, resolution=0.2, flavor=\"igraph\", n_iterations=-1)\n",
    "sc.tl.paga(adata_colon_3)\n",
    "sc.pl.paga(adata_colon_3, plot=False)\n",
    "sc.tl.umap(adata_colon_3, init_pos='paga')\n"
   ]
  },
  {
   "cell_type": "code",
   "execution_count": null,
   "id": "d028c766-1482-4462-b065-63df62245806",
   "metadata": {},
   "outputs": [],
   "source": [
    "sc.pl.umap(adata_colon_3, color=\"leiden\")"
   ]
  },
  {
   "cell_type": "code",
   "execution_count": null,
   "id": "fca22c23-5af5-4f23-bf86-3c7ace74da43",
   "metadata": {},
   "outputs": [],
   "source": [
    "sc.pl.dotplot(adata_colon_3, marker_dict_small, groupby='leiden',gene_symbols=\"gene_name\",dendrogram=False,  standard_scale ='var') # , save =\"mapped_annotation_til_small.png\")"
   ]
  },
  {
   "cell_type": "code",
   "execution_count": null,
   "id": "669b597d-5141-409d-895f-d19f21e86b6e",
   "metadata": {},
   "outputs": [],
   "source": [
    "annotation_dict = {\n",
    "    \"0\": \"CD8_Tex\",\n",
    "    \"1\": \"CD8_EarlyActiv\",\n",
    "    \"2\": \"CD8_Tex\",\n",
    "    \"3\": \"CD8_NaiveLike\",\n",
    "\n",
    "}\n",
    "## Add cell type column based on annotation\n",
    "adata_colon_3.obs[\"cell_type\"] = [\n",
    "    annotation_dict[clust] for clust in adata_colon_3.obs[\"leiden\"]\n",
    "]\n",
    "\n"
   ]
  },
  {
   "cell_type": "code",
   "execution_count": null,
   "id": "38301df1-2351-4afb-a563-918b432b6639",
   "metadata": {},
   "outputs": [],
   "source": [
    "specific_order = [ \"CD8_NaiveLike\", \"CD8_EarlyActiv\", \"CD8_Tex\"]  # Replace with your desired order\n",
    "adata_colon_3.obs['cell_type'] = pd.Categorical(adata_colon_3.obs['cell_type'], categories=specific_order, ordered=True)"
   ]
  },
  {
   "cell_type": "code",
   "execution_count": null,
   "id": "8403510c-3777-4e8a-9fc1-37d3da73e5b3",
   "metadata": {},
   "outputs": [],
   "source": [
    "sc.pl.matrixplot(adata_colon_3, marker_dict_small_colon, groupby='cell_type',gene_symbols=\"gene_name\",dendrogram=False,  standard_scale ='var') # , save =\"mapped_annotation_til_small.png\")"
   ]
  },
  {
   "cell_type": "code",
   "execution_count": null,
   "id": "1942d3e4-9dae-469e-96a3-3959eff07daf",
   "metadata": {},
   "outputs": [],
   "source": [
    "sc.pl.dotplot(adata_colon_3, marker_dict_small_colon, groupby='cell_type',gene_symbols=\"gene_name\",dendrogram=False,  standard_scale ='var') # , save =\"mapped_annotation_til_small.png\")"
   ]
  },
  {
   "cell_type": "code",
   "execution_count": null,
   "id": "a23bd264-270a-4637-bdaf-263519e2b8ec",
   "metadata": {},
   "outputs": [],
   "source": [
    "adata_colon.obs[\"cell_type\"] = adata_colon.obs[\"cell_type\"].astype(\"str\")\n",
    "adata_colon.obs.loc[adata_colon_3.obs.index, \"cell_type\"] = adata_colon_3.obs[\"cell_type\"].astype(\"str\")"
   ]
  },
  {
   "cell_type": "code",
   "execution_count": null,
   "id": "78992d94-1477-4fdf-affa-cc904ed4a440",
   "metadata": {},
   "outputs": [],
   "source": [
    "adata_colon"
   ]
  },
  {
   "cell_type": "code",
   "execution_count": null,
   "id": "140ec1ac-41b7-4e7d-9b0a-2af2d8902ea6",
   "metadata": {},
   "outputs": [],
   "source": [
    "sc.pl.umap(adata_colon, color=\"leiden_res0_5\")"
   ]
  },
  {
   "cell_type": "code",
   "execution_count": null,
   "id": "25c87fbc-2ded-4902-9227-315cad80b7e2",
   "metadata": {},
   "outputs": [],
   "source": [
    "annotation_dict = {\n",
    "    \"COLON_NAIVE_LIKE\": \"CD8_NaiveLike\",\n",
    "    \"CD8_Tex\":\"CD8_Tex\",\n",
    "    \"CD8_EarlyActiv\":\"CD8_EarlyActiv\",\n",
    "    \"COLON_DYSFUNCTIONAL\":\"CD8_NaiveLike\",\n",
    "    \"CD8_NaiveLike\":\"CD8_NaiveLike\"\n",
    "\n",
    "}\n",
    "## Add cell type column based on annotation\n",
    "adata_colon.obs[\"cell_type\"] = [\n",
    "    annotation_dict[clust] for clust in adata_colon.obs[\"cell_type\"]\n",
    "]"
   ]
  },
  {
   "cell_type": "code",
   "execution_count": null,
   "id": "bb978fb6-eb6a-412a-9b1e-ed6818bd1c3b",
   "metadata": {},
   "outputs": [],
   "source": [
    "sc.pl.umap(adata_til, color=\"cell_type\")"
   ]
  },
  {
   "cell_type": "code",
   "execution_count": null,
   "id": "7eba94e7-f108-425c-a702-71a264eaea90",
   "metadata": {},
   "outputs": [],
   "source": [
    "# Normalize the barcodes in adata_til.obs.index\n",
    "adata_til.obs.index = adata_til.obs.index.str.replace(\"-\", \"_\")\n",
    "adata_og.obs.index = adata_og.obs.index.str.replace(\"-\", \"_\")\n",
    "# Ensure both indices are clean\n",
    "adata_og.obs.index = adata_og.obs.index.str.strip()\n",
    "adata_til.obs.index = adata_til.obs.index.str.strip()"
   ]
  },
  {
   "cell_type": "code",
   "execution_count": null,
   "id": "0ae83141-2b9a-4a70-ad09-46916f8728a2",
   "metadata": {},
   "outputs": [],
   "source": [
    "adata_og.obs[\"cell_type\"] = adata_og.obs[\"cell_type\"].astype(\"str\")\n",
    "adata_og.obs.loc[adata_til.obs.index, \"functional.cluster\"] = adata_til.obs[\"functional.cluster\"].astype(\"str\")"
   ]
  },
  {
   "cell_type": "code",
   "execution_count": null,
   "id": "56df061a-0c22-49d5-a664-76b1bf6c14ab",
   "metadata": {},
   "outputs": [],
   "source": [
    "adata_og.obs[\"cell_type\"] = adata_og.obs[\"functional.cluster\"] "
   ]
  },
  {
   "cell_type": "code",
   "execution_count": null,
   "id": "6e4de426-4d03-4611-955f-e46171dc8f10",
   "metadata": {},
   "outputs": [],
   "source": [
    "# Normalize the barcodes in adata_til.obs.index\n",
    "adata_colon.obs.index = adata_colon.obs.index.str.replace(\"-\", \"_\")\n",
    "adata_og.obs.index = adata_og.obs.index.str.replace(\"-\", \"_\")\n",
    "# Ensure both indices are clean\n",
    "adata_og.obs.index = adata_og.obs.index.str.strip()\n",
    "adata_til.obs.index = adata_til.obs.index.str.strip()"
   ]
  },
  {
   "cell_type": "code",
   "execution_count": null,
   "id": "71409e6d-ecc5-4f66-9609-4e2248a3878d",
   "metadata": {},
   "outputs": [],
   "source": [
    "adata_og.obs[\"cell_type\"]= adata_og.obs[\"cell_type\"].astype(\"str\")\n",
    "adata_og.obs.loc[adata_colon.obs.index, \"cell_type\"] = adata_colon.obs[\"cell_type\"].astype(\"str\")"
   ]
  },
  {
   "cell_type": "code",
   "execution_count": null,
   "id": "061948a9-f62c-4c07-900b-ae133e4efad9",
   "metadata": {},
   "outputs": [],
   "source": [
    "sc.pl.umap(adata_og, color=\"functional.cluster\", frameon=False)"
   ]
  },
  {
   "cell_type": "code",
   "execution_count": null,
   "id": "d345230a-0ac5-4860-893c-3030de0526af",
   "metadata": {},
   "outputs": [],
   "source": [
    "sc.pl.umap(adata_og, color=[\"cell_type\"], frameon=False, save =\"umap_cell_annotation_mapped.pdf\")"
   ]
  },
  {
   "cell_type": "code",
   "execution_count": null,
   "id": "022dfae8-f0ed-4782-bfb1-9b77cb1fc88d",
   "metadata": {},
   "outputs": [],
   "source": [
    "#adata_og.write_h5ad(\"mapped_til_colon.h5ad\")"
   ]
  },
  {
   "cell_type": "code",
   "execution_count": null,
   "id": "79127b2d-0e71-4041-8823-3473b6c5fe7d",
   "metadata": {},
   "outputs": [],
   "source": [
    "import scanpy as sc\n",
    "\n",
    "# Ensure that 'Ifng' exists in the data\n",
    "if 'ENSMUSG00000055170' in adata_og.var_names:\n",
    "    # Create a mask for cells with non-zero Ifng expression\n",
    "    ifng_expressing_cells = adata_og[:, 'ENSMUSG00000055170'].X > 0\n",
    "    \n",
    "    # Subset the AnnData object\n",
    "    adata_og = adata_og[ifng_expressing_cells].copy()\n",
    "    \n",
    "    print(f\"Subset created with {adata.n_obs} cells expressing 'Ifng'.\")\n",
    "else:\n",
    "    print(\"'Ifng' is not present in the dataset.\")\n"
   ]
  },
  {
   "cell_type": "code",
   "execution_count": null,
   "id": "b2bfa599-8a45-4117-976b-a8869393b28c",
   "metadata": {},
   "outputs": [],
   "source": [
    "sc.pl.umap(adata_og, color=[\"cell_type\"], frameon=False)"
   ]
  },
  {
   "cell_type": "code",
   "execution_count": null,
   "id": "971bec16-15dc-4268-aab3-bf588d6e8c36",
   "metadata": {},
   "outputs": [],
   "source": [
    "# Visualize\n",
    "sc.pl.umap(\n",
    "    adata_og,\n",
    "    color=[\"Ifng\"],\n",
    "vmax =\"p99\",gene_symbols=\"gene_name\", cmap=\"Reds\",\n",
    "    legend_fontsize=8,frameon=False, save = \"ifng_expressing_cells.png\"\n",
    ")"
   ]
  },
  {
   "cell_type": "code",
   "execution_count": null,
   "id": "a9b873dc-3434-4ce5-ada1-cb261c8b8907",
   "metadata": {},
   "outputs": [],
   "source": []
  }
 ],
 "metadata": {
  "kernelspec": {
   "display_name": "scanpy",
   "language": "python",
   "name": "scanpy"
  },
  "language_info": {
   "codemirror_mode": {
    "name": "ipython",
    "version": 3
   },
   "file_extension": ".py",
   "mimetype": "text/x-python",
   "name": "python",
   "nbconvert_exporter": "python",
   "pygments_lexer": "ipython3",
   "version": "3.12.3"
  }
 },
 "nbformat": 4,
 "nbformat_minor": 5
}
